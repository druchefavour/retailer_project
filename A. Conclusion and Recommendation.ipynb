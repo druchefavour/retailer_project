{
 "cells": [
  {
   "cell_type": "markdown",
   "metadata": {},
   "source": [
    "### 1.0 Conclusion:\n",
    "\n",
    "From this study, the following could be deduced:\n",
    "\n",
    "1. Promos carried out during important holidays such as Thanksgiving, Superbowl, Christmas, Easter and Labor Day have significant positive effect on the bottom line.\n",
    "Retail Departments where this effect is felt the most are clothing and fashion, and kids' items Promo investments should be focused on these departments.\n",
    "\n",
    "2. Retail Departments where this effect is felt the most are clothing and fashion, and kids' items Promo investments should be focused on these departments.\n",
    "\n",
    "3. The larger the size of the store, the bigger the sales. \n",
    "\n",
    "4. More sales are made on weekends than on weekdays.\n",
    "\n",
    "5. While environmental factors such as fuel price and  temperature do not have significant effect on sales, unemployment and consumer price index do affect some of the markdowns\n",
    "\n",
    "### 1.1 Recommendations:\n",
    "\n",
    "Though the more than 90% accuracy has been achieved using different classification methoday, it is reccomended that boosting Algorithms (eg. AdaBoost) should be implemented in order to improve on the strength of the classification.\n",
    "\n",
    "For managers and executives of retail stores they should pay more attention on these items (kids and fashion) during promos\n"
   ]
  },
  {
   "cell_type": "code",
   "execution_count": null,
   "metadata": {
    "collapsed": true
   },
   "outputs": [],
   "source": []
  }
 ],
 "metadata": {
  "kernelspec": {
   "display_name": "Python 3",
   "language": "python",
   "name": "python3"
  },
  "language_info": {
   "codemirror_mode": {
    "name": "ipython",
    "version": 3
   },
   "file_extension": ".py",
   "mimetype": "text/x-python",
   "name": "python",
   "nbconvert_exporter": "python",
   "pygments_lexer": "ipython3",
   "version": "3.6.0"
  }
 },
 "nbformat": 4,
 "nbformat_minor": 2
}
