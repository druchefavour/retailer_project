{
 "cells": [
  {
   "cell_type": "markdown",
   "metadata": {},
   "source": [
    "## 17.0 Introduction\n",
    "We will explore further regression of the predictors selected after calculation of the VIFs and the target variables: \n",
    "* Health-items\n",
    "* Kids-Items\n",
    "* Office-Items\n",
    "* Transport (Auto)-Items\n",
    "* Fashion (Wears)-Items and\n",
    "* Food-Items\n",
    "\n",
    "We will use statsmodel and sklearn for multiple regression. \n",
    "\n",
    "### 17.0.1 Python Libraries\n",
    "In order to start, we will import necessary libraries. "
   ]
  },
  {
   "cell_type": "code",
   "execution_count": 1,
   "metadata": {
    "collapsed": true
   },
   "outputs": [],
   "source": [
    "#import Libraries\n",
    "import pandas as pd\n",
    "import numpy as np\n",
    "import seaborn as sns; sns.set()\n",
    "import matplotlib\n",
    "import matplotlib.pyplot as plt\n",
    "import statsmodels.api as sm\n",
    "from sklearn import linear_model\n",
    "%matplotlib inline  "
   ]
  },
  {
   "cell_type": "markdown",
   "metadata": {
    "collapsed": true
   },
   "source": [
    "## 17.1 LINEAR REGRESSION IMPLEMENTING VIF RESULT"
   ]
  },
  {
   "cell_type": "markdown",
   "metadata": {},
   "source": [
    "### 17.1.0 TARGET - Health-items \n",
    "Objective: Predict Health Items sales performance "
   ]
  },
  {
   "cell_type": "code",
   "execution_count": 2,
   "metadata": {
    "collapsed": false
   },
   "outputs": [],
   "source": [
    "# Read the file 'master_dataset.xlsx' into a DataFrame df using the read_xls() function.\n",
    "df = pd.read_excel('master_dataset.xlsx', sheetname='Sheet1')"
   ]
  },
  {
   "cell_type": "markdown",
   "metadata": {},
   "source": [
    "After importing the master dataset 'master_dataset.xlsx', we create features dataframe using the columns with VIF<5"
   ]
  },
  {
   "cell_type": "code",
   "execution_count": 3,
   "metadata": {
    "collapsed": false
   },
   "outputs": [],
   "source": [
    "# generating the 29 predictor features\n",
    "features = df[['Temperature', 'Fuel_Price', 'MarkDown1', 'MarkDown2', 'MarkDown3', 'MarkDown4', 'MarkDown5', 'CPI', 'Unemployment',\n",
    "               'Size','Jewelry', 'Bathroom', 'Beading', 'Paint', 'Sportswear', 'Music', 'Fruit', 'Laundry', 'Heating_Cooling',\n",
    "               'Gift_cards', 'Baby_Essentials', 'Car_Seats', 'Strollers', 'Photo', 'Air_Quality', 'Light_bulbs', 'Gardening',\n",
    "               'Building_Materials', 'Kids_Room', 'Lighting']]"
   ]
  },
  {
   "cell_type": "markdown",
   "metadata": {},
   "source": [
    "We now create a column for health items using the VIFs as weighting factors:  "
   ]
  },
  {
   "cell_type": "code",
   "execution_count": 4,
   "metadata": {
    "collapsed": false
   },
   "outputs": [],
   "source": [
    "# Target \n",
    "df['Health-items'] = (18.900000*df['Pharmaceutical '] + 9.700000*df['Health_beauty'])/(18.900000 + 9.700000)"
   ]
  },
  {
   "cell_type": "markdown",
   "metadata": {},
   "source": [
    "#### 17.1.1.1 Linear Regression Using Statsmodel\n",
    "We will proceed to run multiple regression using Statsmodel. First, we will fit and summarize the OLS model with zero intercept."
   ]
  },
  {
   "cell_type": "markdown",
   "metadata": {
    "collapsed": true
   },
   "source": [
    "##### 17.1.1.1.1 Linear Regression Using Statsmodel; without intercept"
   ]
  },
  {
   "cell_type": "code",
   "execution_count": 5,
   "metadata": {
    "collapsed": false
   },
   "outputs": [],
   "source": [
    "# Fit and summarize OLS model\n",
    "mod = sm.OLS(df['Health-items'], features)"
   ]
  },
  {
   "cell_type": "code",
   "execution_count": 6,
   "metadata": {
    "collapsed": true
   },
   "outputs": [],
   "source": [
    "res = mod.fit()"
   ]
  },
  {
   "cell_type": "code",
   "execution_count": 7,
   "metadata": {
    "collapsed": false
   },
   "outputs": [
    {
     "name": "stdout",
     "output_type": "stream",
     "text": [
      "                            OLS Regression Results                            \n",
      "==============================================================================\n",
      "Dep. Variable:           Health-items   R-squared:                       0.888\n",
      "Model:                            OLS   Adj. R-squared:                  0.888\n",
      "Method:                 Least Squares   F-statistic:                     2162.\n",
      "Date:                Wed, 13 Dec 2017   Prob (F-statistic):               0.00\n",
      "Time:                        20:44:28   Log-Likelihood:                -83486.\n",
      "No. Observations:                8190   AIC:                         1.670e+05\n",
      "Df Residuals:                    8160   BIC:                         1.672e+05\n",
      "Df Model:                          30                                         \n",
      "Covariance Type:            nonrobust                                         \n",
      "======================================================================================\n",
      "                         coef    std err          t      P>|t|      [0.025      0.975]\n",
      "--------------------------------------------------------------------------------------\n",
      "Temperature            7.6780      4.171      1.841      0.066      -0.497      15.854\n",
      "Fuel_Price          -141.3171    122.674     -1.152      0.249    -381.789      99.155\n",
      "MarkDown1              0.0248      0.013      1.915      0.056      -0.001       0.050\n",
      "MarkDown2             -0.0003      0.009     -0.034      0.973      -0.018       0.018\n",
      "MarkDown3              0.0025      0.010      0.263      0.792      -0.016       0.021\n",
      "MarkDown4          -7.444e-05      0.021     -0.004      0.997      -0.041       0.041\n",
      "MarkDown5              0.0061      0.008      0.805      0.421      -0.009       0.021\n",
      "CPI                   -5.3897      1.908     -2.824      0.005      -9.130      -1.649\n",
      "Unemployment           7.7949     37.445      0.208      0.835     -65.606      81.196\n",
      "Size                  -0.0002      0.001     -0.143      0.886      -0.003       0.003\n",
      "Jewelry                0.2321      0.008     30.675      0.000       0.217       0.247\n",
      "Bathroom               0.2548      0.012     21.125      0.000       0.231       0.278\n",
      "Beading                0.2050      0.008     25.058      0.000       0.189       0.221\n",
      "Paint                  0.7731      0.073     10.629      0.000       0.631       0.916\n",
      "Sportswear             0.4265      0.060      7.155      0.000       0.310       0.543\n",
      "Music                  0.0072      0.004      1.740      0.082      -0.001       0.015\n",
      "Fruit                  0.3610      0.037      9.709      0.000       0.288       0.434\n",
      "Laundry              861.8965    152.775      5.642      0.000     562.419    1161.374\n",
      "Heating_Cooling        1.8869      4.072      0.463      0.643      -6.094       9.868\n",
      "Gift_cards             2.1947      0.181     12.107      0.000       1.839       2.550\n",
      "Baby_Essentials       -0.0427      0.071     -0.602      0.547      -0.182       0.096\n",
      "Car_Seats             -0.4520      0.058     -7.817      0.000      -0.565      -0.339\n",
      "Strollers             19.7035      4.380      4.499      0.000      11.119      28.289\n",
      "Photo                  7.9473      0.689     11.539      0.000       6.597       9.297\n",
      "Air_Quality           -0.0400      0.015     -2.640      0.008      -0.070      -0.010\n",
      "Light_bulbs            0.1147      0.025      4.675      0.000       0.067       0.163\n",
      "Gardening              2.3744      0.051     46.419      0.000       2.274       2.475\n",
      "Building_Materials     0.4368      0.305      1.434      0.152      -0.160       1.034\n",
      "Kids_Room              3.9996      0.222     18.011      0.000       3.564       4.435\n",
      "Lighting              14.1207      9.307      1.517      0.129      -4.123      32.365\n",
      "==============================================================================\n",
      "Omnibus:                     6942.867   Durbin-Watson:                   1.478\n",
      "Prob(Omnibus):                  0.000   Jarque-Bera (JB):           480211.050\n",
      "Skew:                           3.665   Prob(JB):                         0.00\n",
      "Kurtosis:                      39.790   Cond. No.                     3.38e+05\n",
      "==============================================================================\n",
      "\n",
      "Warnings:\n",
      "[1] Standard Errors assume that the covariance matrix of the errors is correctly specified.\n",
      "[2] The condition number is large, 3.38e+05. This might indicate that there are\n",
      "strong multicollinearity or other numerical problems.\n"
     ]
    }
   ],
   "source": [
    "print(res.summary())"
   ]
  },
  {
   "cell_type": "markdown",
   "metadata": {},
   "source": [
    "#### 17.1.1.1.2 Linear Regression Using Statsmodel¶ - with intercept"
   ]
  },
  {
   "cell_type": "code",
   "execution_count": 8,
   "metadata": {
    "collapsed": true
   },
   "outputs": [],
   "source": [
    "# fit a OLS model with intercept on the data set\n",
    "X = sm.add_constant(features)"
   ]
  },
  {
   "cell_type": "code",
   "execution_count": 9,
   "metadata": {
    "collapsed": true
   },
   "outputs": [],
   "source": [
    "# Fit and summarize OLS model\n",
    "mod = sm.OLS(df['Health-items'], X)"
   ]
  },
  {
   "cell_type": "code",
   "execution_count": 10,
   "metadata": {
    "collapsed": true
   },
   "outputs": [],
   "source": [
    "res = mod.fit()"
   ]
  },
  {
   "cell_type": "code",
   "execution_count": 11,
   "metadata": {
    "collapsed": false
   },
   "outputs": [
    {
     "name": "stdout",
     "output_type": "stream",
     "text": [
      "                            OLS Regression Results                            \n",
      "==============================================================================\n",
      "Dep. Variable:           Health-items   R-squared:                       0.754\n",
      "Model:                            OLS   Adj. R-squared:                  0.753\n",
      "Method:                 Least Squares   F-statistic:                     831.9\n",
      "Date:                Wed, 13 Dec 2017   Prob (F-statistic):               0.00\n",
      "Time:                        20:44:28   Log-Likelihood:                -83484.\n",
      "No. Observations:                8190   AIC:                         1.670e+05\n",
      "Df Residuals:                    8159   BIC:                         1.672e+05\n",
      "Df Model:                          30                                         \n",
      "Covariance Type:            nonrobust                                         \n",
      "======================================================================================\n",
      "                         coef    std err          t      P>|t|      [0.025      0.975]\n",
      "--------------------------------------------------------------------------------------\n",
      "const              -2020.6795   1000.505     -2.020      0.043   -3981.925     -59.434\n",
      "Temperature            7.5682      4.170      1.815      0.070      -0.606      15.743\n",
      "Fuel_Price           116.6953    177.097      0.659      0.510    -230.460     463.850\n",
      "MarkDown1              0.0268      0.013      2.064      0.039       0.001       0.052\n",
      "MarkDown2              0.0035      0.009      0.366      0.714      -0.015       0.022\n",
      "MarkDown3              0.0029      0.010      0.306      0.760      -0.016       0.022\n",
      "MarkDown4             -0.0030      0.021     -0.143      0.886      -0.044       0.038\n",
      "MarkDown5              0.0063      0.008      0.838      0.402      -0.008       0.021\n",
      "CPI                   -3.0889      2.222     -1.390      0.165      -7.445       1.267\n",
      "Unemployment          52.4475     43.478      1.206      0.228     -32.781     137.676\n",
      "Size                   0.0002      0.002      0.163      0.870      -0.003       0.003\n",
      "Jewelry                0.2322      0.008     30.693      0.000       0.217       0.247\n",
      "Bathroom               0.2535      0.012     20.982      0.000       0.230       0.277\n",
      "Beading                0.2052      0.008     25.086      0.000       0.189       0.221\n",
      "Paint                  0.7753      0.073     10.660      0.000       0.633       0.918\n",
      "Sportswear             0.4340      0.060      7.267      0.000       0.317       0.551\n",
      "Music                  0.0089      0.004      2.112      0.035       0.001       0.017\n",
      "Fruit                  0.3595      0.037      9.669      0.000       0.287       0.432\n",
      "Laundry              912.6235    154.797      5.896      0.000     609.182    1216.065\n",
      "Heating_Cooling        3.1495      4.119      0.765      0.444      -4.924      11.223\n",
      "Gift_cards             2.1720      0.182     11.961      0.000       1.816       2.528\n",
      "Baby_Essentials       -0.0189      0.072     -0.263      0.792      -0.160       0.122\n",
      "Car_Seats             -0.4239      0.059     -7.128      0.000      -0.540      -0.307\n",
      "Strollers             20.0907      4.383      4.584      0.000      11.499      28.682\n",
      "Photo                  8.0104      0.689     11.621      0.000       6.659       9.362\n",
      "Air_Quality           -0.0396      0.015     -2.620      0.009      -0.069      -0.010\n",
      "Light_bulbs            0.1065      0.025      4.280      0.000       0.058       0.155\n",
      "Gardening              2.3720      0.051     46.369      0.000       2.272       2.472\n",
      "Building_Materials     0.4585      0.305      1.505      0.132      -0.139       1.056\n",
      "Kids_Room              4.0118      0.222     18.063      0.000       3.576       4.447\n",
      "Lighting              16.4995      9.380      1.759      0.079      -1.887      34.886\n",
      "==============================================================================\n",
      "Omnibus:                     6935.790   Durbin-Watson:                   1.479\n",
      "Prob(Omnibus):                  0.000   Jarque-Bera (JB):           478496.835\n",
      "Skew:                           3.660   Prob(JB):                         0.00\n",
      "Kurtosis:                      39.723   Cond. No.                     2.22e+06\n",
      "==============================================================================\n",
      "\n",
      "Warnings:\n",
      "[1] Standard Errors assume that the covariance matrix of the errors is correctly specified.\n",
      "[2] The condition number is large, 2.22e+06. This might indicate that there are\n",
      "strong multicollinearity or other numerical problems.\n"
     ]
    }
   ],
   "source": [
    "print(res.summary())"
   ]
  },
  {
   "cell_type": "markdown",
   "metadata": {},
   "source": [
    "#### 17.1.1.2 Linear Regression Using SKLearn"
   ]
  },
  {
   "cell_type": "markdown",
   "metadata": {},
   "source": [
    "We will run linear regression models in SKLearn."
   ]
  },
  {
   "cell_type": "markdown",
   "metadata": {},
   "source": [
    "Then we’ll create numpy arrays of the features and target, reshape the target and fit a model:"
   ]
  },
  {
   "cell_type": "code",
   "execution_count": 12,
   "metadata": {
    "collapsed": false
   },
   "outputs": [],
   "source": [
    "#create numpy array\n",
    "X = features.values\n",
    "y = df['Health-items'].values"
   ]
  },
  {
   "cell_type": "code",
   "execution_count": 13,
   "metadata": {
    "collapsed": true
   },
   "outputs": [],
   "source": [
    "#Reshape y\n",
    "y = y.reshape(-1,1)"
   ]
  },
  {
   "cell_type": "code",
   "execution_count": 14,
   "metadata": {
    "collapsed": true
   },
   "outputs": [],
   "source": [
    "#fit regression model\n",
    "lm = linear_model.LinearRegression()\n",
    "model = lm.fit(X,y)"
   ]
  },
  {
   "cell_type": "markdown",
   "metadata": {},
   "source": [
    "The lm.fit() function fits a linear model. We want to use the model to make predictions, so we’ll use lm.predict():"
   ]
  },
  {
   "cell_type": "code",
   "execution_count": 15,
   "metadata": {
    "collapsed": true
   },
   "outputs": [],
   "source": [
    "#run prediction \n",
    "predictions = lm.predict(X)"
   ]
  },
  {
   "cell_type": "markdown",
   "metadata": {},
   "source": [
    "The print function would print the first 5 predictions for y (I didn’t print the entire list to “save room”. Removing [0:5] would print the entire list):"
   ]
  },
  {
   "cell_type": "code",
   "execution_count": 16,
   "metadata": {
    "collapsed": false
   },
   "outputs": [
    {
     "name": "stdout",
     "output_type": "stream",
     "text": [
      "[[ 12393.67082356]\n",
      " [ 27902.48731316]\n",
      " [ 20597.71855269]\n",
      " [ 28357.00684406]\n",
      " [ 16121.94106584]]\n"
     ]
    }
   ],
   "source": [
    "print((predictions)[0:5])"
   ]
  },
  {
   "cell_type": "code",
   "execution_count": 17,
   "metadata": {
    "collapsed": false
   },
   "outputs": [
    {
     "data": {
      "text/plain": [
       "0.75362809113826268"
      ]
     },
     "execution_count": 17,
     "metadata": {},
     "output_type": "execute_result"
    }
   ],
   "source": [
    "# generate the score\n",
    "lm.score(X,y)"
   ]
  },
  {
   "cell_type": "code",
   "execution_count": 18,
   "metadata": {
    "collapsed": false
   },
   "outputs": [
    {
     "data": {
      "text/plain": [
       "array([[  7.56816197e+00,   1.16695272e+02,   2.68396122e-02,\n",
       "          3.45733483e-03,   2.94697832e-03,  -2.98601001e-03,\n",
       "          6.32707305e-03,  -3.08886963e+00,   5.24475035e+01,\n",
       "          2.45185444e-04,   2.32175293e-01,   2.53462465e-01,\n",
       "          2.05170776e-01,   7.75290490e-01,   4.33998868e-01,\n",
       "          8.88484136e-03,   3.59485911e-01,   9.12623494e+02,\n",
       "          3.14952902e+00,   2.17203262e+00,  -1.89185057e-02,\n",
       "         -4.23863037e-01,   2.00907055e+01,   8.01038134e+00,\n",
       "         -3.96425476e-02,   1.06481875e-01,   2.37198889e+00,\n",
       "          4.58462350e-01,   4.01177252e+00,   1.64995454e+01]])"
      ]
     },
     "execution_count": 18,
     "metadata": {},
     "output_type": "execute_result"
    }
   ],
   "source": [
    "lm.coef_"
   ]
  },
  {
   "cell_type": "code",
   "execution_count": 19,
   "metadata": {
    "collapsed": false
   },
   "outputs": [
    {
     "data": {
      "text/plain": [
       "array([-2020.67947819])"
      ]
     },
     "execution_count": 19,
     "metadata": {},
     "output_type": "execute_result"
    }
   ],
   "source": [
    "lm.intercept_"
   ]
  },
  {
   "cell_type": "markdown",
   "metadata": {},
   "source": [
    "### 17.2.1 TARGET - Kids-items\n",
    "Objective: Predict Kids Items sales performance"
   ]
  },
  {
   "cell_type": "code",
   "execution_count": 20,
   "metadata": {
    "collapsed": false
   },
   "outputs": [],
   "source": [
    "df['Kids-items'] = (19.600000*df['Toy '] + 48.6*df['School_Uniforms'] + 26.9*df['Baby_Toddlers_Clothing'] + \n",
    "                    16.6*df['Baby_Kids_Shoes'] + 6.7*df['Cribs'] + 11.4*df['Bikes'] + 31.9*df['Teen_Room']\n",
    "                   )/(19.600000 + 48.6 + 26.9 + 11.4 + 31.9)"
   ]
  },
  {
   "cell_type": "markdown",
   "metadata": {},
   "source": [
    "#### 17.2.1.1 Linear Regression Using Statsmodel¶ - without intercept"
   ]
  },
  {
   "cell_type": "code",
   "execution_count": 21,
   "metadata": {
    "collapsed": false
   },
   "outputs": [],
   "source": [
    "# Fit and summarize OLS model\n",
    "mod = sm.OLS(df['Kids-items'], features)"
   ]
  },
  {
   "cell_type": "code",
   "execution_count": 22,
   "metadata": {
    "collapsed": true
   },
   "outputs": [],
   "source": [
    "res = mod.fit()"
   ]
  },
  {
   "cell_type": "code",
   "execution_count": 23,
   "metadata": {
    "collapsed": false
   },
   "outputs": [
    {
     "name": "stdout",
     "output_type": "stream",
     "text": [
      "                            OLS Regression Results                            \n",
      "==============================================================================\n",
      "Dep. Variable:             Kids-items   R-squared:                       0.943\n",
      "Model:                            OLS   Adj. R-squared:                  0.943\n",
      "Method:                 Least Squares   F-statistic:                     4525.\n",
      "Date:                Wed, 13 Dec 2017   Prob (F-statistic):               0.00\n",
      "Time:                        20:44:29   Log-Likelihood:                -80980.\n",
      "No. Observations:                8190   AIC:                         1.620e+05\n",
      "Df Residuals:                    8160   BIC:                         1.622e+05\n",
      "Df Model:                          30                                         \n",
      "Covariance Type:            nonrobust                                         \n",
      "======================================================================================\n",
      "                         coef    std err          t      P>|t|      [0.025      0.975]\n",
      "--------------------------------------------------------------------------------------\n",
      "Temperature            7.4543      3.071      2.427      0.015       1.434      13.475\n",
      "Fuel_Price           532.2801     90.339      5.892      0.000     355.193     709.367\n",
      "MarkDown1             -0.0130      0.010     -1.362      0.173      -0.032       0.006\n",
      "MarkDown2             -0.0288      0.007     -4.226      0.000      -0.042      -0.015\n",
      "MarkDown3              0.0079      0.007      1.120      0.263      -0.006       0.022\n",
      "MarkDown4              0.0615      0.015      4.008      0.000       0.031       0.092\n",
      "MarkDown5              0.0067      0.006      1.196      0.232      -0.004       0.018\n",
      "CPI                  -11.0184      1.405     -7.841      0.000     -13.773      -8.264\n",
      "Unemployment         122.6505     27.575      4.448      0.000      68.597     176.704\n",
      "Size                  -0.0024      0.001     -2.198      0.028      -0.005      -0.000\n",
      "Jewelry                0.1744      0.006     31.302      0.000       0.163       0.185\n",
      "Bathroom               0.4536      0.009     51.061      0.000       0.436       0.471\n",
      "Beading                0.0881      0.006     14.624      0.000       0.076       0.100\n",
      "Paint                  0.8187      0.054     15.285      0.000       0.714       0.924\n",
      "Sportswear             1.2906      0.044     29.398      0.000       1.205       1.377\n",
      "Music                 -0.0177      0.003     -5.823      0.000      -0.024      -0.012\n",
      "Fruit                  0.9070      0.027     33.126      0.000       0.853       0.961\n",
      "Laundry             1155.6984    112.505     10.272      0.000     935.159    1376.238\n",
      "Heating_Cooling       20.6480      2.998      6.886      0.000      14.770      26.526\n",
      "Gift_cards             2.5030      0.134     18.749      0.000       2.241       2.765\n",
      "Baby_Essentials       -0.4644      0.052     -8.891      0.000      -0.567      -0.362\n",
      "Car_Seats             -0.0642      0.043     -1.507      0.132      -0.148       0.019\n",
      "Strollers            -16.6755      3.225     -5.170      0.000     -22.998     -10.353\n",
      "Photo                  6.4753      0.507     12.767      0.000       5.481       7.470\n",
      "Air_Quality           -0.0067      0.011     -0.604      0.546      -0.029       0.015\n",
      "Light_bulbs            0.0247      0.018      1.367      0.172      -0.011       0.060\n",
      "Gardening              1.2919      0.038     34.296      0.000       1.218       1.366\n",
      "Building_Materials    -1.8083      0.224     -8.062      0.000      -2.248      -1.369\n",
      "Kids_Room              0.9514      0.164      5.818      0.000       0.631       1.272\n",
      "Lighting              13.2971      6.854      1.940      0.052      -0.138      26.732\n",
      "==============================================================================\n",
      "Omnibus:                     1055.509   Durbin-Watson:                   0.958\n",
      "Prob(Omnibus):                  0.000   Jarque-Bera (JB):            10958.799\n",
      "Skew:                           0.219   Prob(JB):                         0.00\n",
      "Kurtosis:                       8.650   Cond. No.                     3.38e+05\n",
      "==============================================================================\n",
      "\n",
      "Warnings:\n",
      "[1] Standard Errors assume that the covariance matrix of the errors is correctly specified.\n",
      "[2] The condition number is large, 3.38e+05. This might indicate that there are\n",
      "strong multicollinearity or other numerical problems.\n"
     ]
    }
   ],
   "source": [
    "print(res.summary())"
   ]
  },
  {
   "cell_type": "markdown",
   "metadata": {},
   "source": [
    "#### 17.2.1.2 Linear Regression Using Statsmodel¶ - with intercept"
   ]
  },
  {
   "cell_type": "code",
   "execution_count": 24,
   "metadata": {
    "collapsed": true
   },
   "outputs": [],
   "source": [
    "## fit a OLS model with intercept on the data set\n",
    "X = sm.add_constant(features)"
   ]
  },
  {
   "cell_type": "code",
   "execution_count": 25,
   "metadata": {
    "collapsed": false
   },
   "outputs": [],
   "source": [
    "# Fit and summarize OLS model\n",
    "mod = sm.OLS(df['Kids-items'], X)"
   ]
  },
  {
   "cell_type": "code",
   "execution_count": 26,
   "metadata": {
    "collapsed": true
   },
   "outputs": [],
   "source": [
    "res = mod.fit()"
   ]
  },
  {
   "cell_type": "code",
   "execution_count": 27,
   "metadata": {
    "collapsed": false
   },
   "outputs": [
    {
     "name": "stdout",
     "output_type": "stream",
     "text": [
      "                            OLS Regression Results                            \n",
      "==============================================================================\n",
      "Dep. Variable:             Kids-items   R-squared:                       0.829\n",
      "Model:                            OLS   Adj. R-squared:                  0.828\n",
      "Method:                 Least Squares   F-statistic:                     1316.\n",
      "Date:                Wed, 13 Dec 2017   Prob (F-statistic):               0.00\n",
      "Time:                        20:44:29   Log-Likelihood:                -80975.\n",
      "No. Observations:                8190   AIC:                         1.620e+05\n",
      "Df Residuals:                    8159   BIC:                         1.622e+05\n",
      "Df Model:                          30                                         \n",
      "Covariance Type:            nonrobust                                         \n",
      "======================================================================================\n",
      "                         coef    std err          t      P>|t|      [0.025      0.975]\n",
      "--------------------------------------------------------------------------------------\n",
      "const               2421.7677    736.482      3.288      0.001     978.075    3865.461\n",
      "Temperature            7.5860      3.070      2.471      0.013       1.569      13.603\n",
      "Fuel_Price           223.0545    130.363      1.711      0.087     -32.490     478.599\n",
      "MarkDown1             -0.0154      0.010     -1.611      0.107      -0.034       0.003\n",
      "MarkDown2             -0.0334      0.007     -4.795      0.000      -0.047      -0.020\n",
      "MarkDown3              0.0075      0.007      1.051      0.293      -0.006       0.021\n",
      "MarkDown4              0.0650      0.015      4.228      0.000       0.035       0.095\n",
      "MarkDown5              0.0064      0.006      1.143      0.253      -0.005       0.017\n",
      "CPI                  -13.7759      1.636     -8.422      0.000     -16.982     -10.570\n",
      "Unemployment          69.1347     32.005      2.160      0.031       6.397     131.872\n",
      "Size                  -0.0030      0.001     -2.671      0.008      -0.005      -0.001\n",
      "Jewelry                0.1743      0.006     31.299      0.000       0.163       0.185\n",
      "Bathroom               0.4552      0.009     51.195      0.000       0.438       0.473\n",
      "Beading                0.0878      0.006     14.590      0.000       0.076       0.100\n",
      "Paint                  0.8160      0.054     15.243      0.000       0.711       0.921\n",
      "Sportswear             1.2817      0.044     29.156      0.000       1.196       1.368\n",
      "Music                 -0.0197      0.003     -6.370      0.000      -0.026      -0.014\n",
      "Fruit                  0.9088      0.027     33.205      0.000       0.855       0.962\n",
      "Laundry             1094.9025    113.948      9.609      0.000     871.536    1318.269\n",
      "Heating_Cooling       19.1348      3.032      6.312      0.000      13.192      25.078\n",
      "Gift_cards             2.5302      0.134     18.928      0.000       2.268       2.792\n",
      "Baby_Essentials       -0.4929      0.053     -9.315      0.000      -0.597      -0.389\n",
      "Car_Seats             -0.0979      0.044     -2.237      0.025      -0.184      -0.012\n",
      "Strollers            -17.1395      3.226     -5.312      0.000     -23.464     -10.815\n",
      "Photo                  6.3997      0.507     12.612      0.000       5.405       7.394\n",
      "Air_Quality           -0.0071      0.011     -0.638      0.523      -0.029       0.015\n",
      "Light_bulbs            0.0346      0.018      1.890      0.059      -0.001       0.070\n",
      "Gardening              1.2947      0.038     34.383      0.000       1.221       1.369\n",
      "Building_Materials    -1.8343      0.224     -8.178      0.000      -2.274      -1.395\n",
      "Kids_Room              0.9369      0.163      5.730      0.000       0.616       1.257\n",
      "Lighting              10.4461      6.904      1.513      0.130      -3.088      23.980\n",
      "==============================================================================\n",
      "Omnibus:                     1064.662   Durbin-Watson:                   0.960\n",
      "Prob(Omnibus):                  0.000   Jarque-Bera (JB):            11223.875\n",
      "Skew:                           0.220   Prob(JB):                         0.00\n",
      "Kurtosis:                       8.718   Cond. No.                     2.22e+06\n",
      "==============================================================================\n",
      "\n",
      "Warnings:\n",
      "[1] Standard Errors assume that the covariance matrix of the errors is correctly specified.\n",
      "[2] The condition number is large, 2.22e+06. This might indicate that there are\n",
      "strong multicollinearity or other numerical problems.\n"
     ]
    }
   ],
   "source": [
    "print(res.summary())"
   ]
  },
  {
   "cell_type": "markdown",
   "metadata": {},
   "source": [
    "#### 17.2.2 Linear Regression Using SKLearn"
   ]
  },
  {
   "cell_type": "code",
   "execution_count": 28,
   "metadata": {
    "collapsed": true
   },
   "outputs": [],
   "source": [
    "#create numpy array\n",
    "X = features.values\n",
    "y = df['Kids-items'].values"
   ]
  },
  {
   "cell_type": "code",
   "execution_count": 29,
   "metadata": {
    "collapsed": true
   },
   "outputs": [],
   "source": [
    "#Reshape y\n",
    "y = y.reshape(-1,1)"
   ]
  },
  {
   "cell_type": "code",
   "execution_count": 30,
   "metadata": {
    "collapsed": true
   },
   "outputs": [],
   "source": [
    "#fit regression model\n",
    "lm = linear_model.LinearRegression()\n",
    "model = lm.fit(X,y)"
   ]
  },
  {
   "cell_type": "code",
   "execution_count": 31,
   "metadata": {
    "collapsed": true
   },
   "outputs": [],
   "source": [
    "#run prediction \n",
    "predictions = lm.predict(X)"
   ]
  },
  {
   "cell_type": "code",
   "execution_count": 32,
   "metadata": {
    "collapsed": false
   },
   "outputs": [
    {
     "name": "stdout",
     "output_type": "stream",
     "text": [
      "[[ 10602.32849381]\n",
      " [ 23489.86200449]\n",
      " [ 18639.41378362]\n",
      " [ 21395.04983033]\n",
      " [ 15715.64316725]]\n"
     ]
    }
   ],
   "source": [
    "print((predictions)[0:5])"
   ]
  },
  {
   "cell_type": "code",
   "execution_count": 33,
   "metadata": {
    "collapsed": false
   },
   "outputs": [
    {
     "data": {
      "text/plain": [
       "0.82871181096273983"
      ]
     },
     "execution_count": 33,
     "metadata": {},
     "output_type": "execute_result"
    }
   ],
   "source": [
    "# generate the score\n",
    "lm.score(X,y)"
   ]
  },
  {
   "cell_type": "code",
   "execution_count": 34,
   "metadata": {
    "collapsed": false
   },
   "outputs": [
    {
     "data": {
      "text/plain": [
       "array([[  7.58596378e+00,   2.23054462e+02,  -1.54184052e-02,\n",
       "         -3.33576308e-02,   7.45956551e-03,   6.49702069e-02,\n",
       "          6.35291447e-03,  -1.37759187e+01,   6.91346635e+01,\n",
       "         -2.95057534e-03,   1.74280001e-01,   4.55231841e-01,\n",
       "          8.78361468e-02,   8.16047189e-01,   1.28167983e+00,\n",
       "         -1.97235477e-02,   9.08791405e-01,   1.09490251e+03,\n",
       "          1.91347695e+01,   2.53022058e+00,  -4.92909342e-01,\n",
       "         -9.79278772e-02,  -1.71394925e+01,   6.39967873e+00,\n",
       "         -7.10702631e-03,   3.46024188e-02,   1.29470977e+00,\n",
       "         -1.83425481e+00,   9.36868594e-01,   1.04460773e+01]])"
      ]
     },
     "execution_count": 34,
     "metadata": {},
     "output_type": "execute_result"
    }
   ],
   "source": [
    "lm.coef_"
   ]
  },
  {
   "cell_type": "code",
   "execution_count": 35,
   "metadata": {
    "collapsed": false
   },
   "outputs": [
    {
     "data": {
      "text/plain": [
       "array([ 2421.76774539])"
      ]
     },
     "execution_count": 35,
     "metadata": {},
     "output_type": "execute_result"
    }
   ],
   "source": [
    "lm.intercept_"
   ]
  },
  {
   "cell_type": "markdown",
   "metadata": {
    "collapsed": true
   },
   "source": [
    "### 17.3.1 TARGET - Office-items\n",
    "Objective: Predict Office Items sales performance"
   ]
  },
  {
   "cell_type": "code",
   "execution_count": 36,
   "metadata": {
    "collapsed": false
   },
   "outputs": [],
   "source": [
    "df['Office-items'] = (10.800000*df['Office_supplies '] + 88.600000*df['School_Supplies'] + 44.600000*df['Home_Office'] +\n",
    "                     11.000000*df['Craft_general'] + 134.3*df['Books'])/(10.800000 + 88.600000 + 44.600000 + 11.000000 + 134.3)"
   ]
  },
  {
   "cell_type": "markdown",
   "metadata": {},
   "source": [
    "#### 17.3.1.1 Linear Regression Using Statsmodel¶ - without intercept"
   ]
  },
  {
   "cell_type": "code",
   "execution_count": 37,
   "metadata": {
    "collapsed": true
   },
   "outputs": [],
   "source": [
    "# Fit and summarize OLS model\n",
    "mod = sm.OLS(df['Office-items'], features)"
   ]
  },
  {
   "cell_type": "code",
   "execution_count": 38,
   "metadata": {
    "collapsed": true
   },
   "outputs": [],
   "source": [
    "res = mod.fit()"
   ]
  },
  {
   "cell_type": "code",
   "execution_count": 39,
   "metadata": {
    "collapsed": false
   },
   "outputs": [
    {
     "name": "stdout",
     "output_type": "stream",
     "text": [
      "                            OLS Regression Results                            \n",
      "==============================================================================\n",
      "Dep. Variable:           Office-items   R-squared:                       0.886\n",
      "Model:                            OLS   Adj. R-squared:                  0.886\n",
      "Method:                 Least Squares   F-statistic:                     2121.\n",
      "Date:                Wed, 13 Dec 2017   Prob (F-statistic):               0.00\n",
      "Time:                        20:44:29   Log-Likelihood:                -88546.\n",
      "No. Observations:                8190   AIC:                         1.772e+05\n",
      "Df Residuals:                    8160   BIC:                         1.774e+05\n",
      "Df Model:                          30                                         \n",
      "Covariance Type:            nonrobust                                         \n",
      "======================================================================================\n",
      "                         coef    std err          t      P>|t|      [0.025      0.975]\n",
      "--------------------------------------------------------------------------------------\n",
      "Temperature           35.3048      7.736      4.564      0.000      20.140      50.470\n",
      "Fuel_Price           140.5629    227.552      0.618      0.537    -305.496     586.622\n",
      "MarkDown1             -0.0619      0.024     -2.572      0.010      -0.109      -0.015\n",
      "MarkDown2             -0.0587      0.017     -3.417      0.001      -0.092      -0.025\n",
      "MarkDown3             -0.0230      0.018     -1.286      0.198      -0.058       0.012\n",
      "MarkDown4             -0.0555      0.039     -1.438      0.151      -0.131       0.020\n",
      "MarkDown5              0.0134      0.014      0.959      0.338      -0.014       0.041\n",
      "CPI                   48.8614      3.540     13.804      0.000      41.923      55.800\n",
      "Unemployment         185.2242     69.457      2.667      0.008      49.071     321.378\n",
      "Size                   0.0133      0.003      4.826      0.000       0.008       0.019\n",
      "Jewelry                0.4622      0.014     32.936      0.000       0.435       0.490\n",
      "Bathroom               0.5096      0.022     22.773      0.000       0.466       0.553\n",
      "Beading               -0.0784      0.015     -5.164      0.000      -0.108      -0.049\n",
      "Paint                 -1.9675      0.135    -14.583      0.000      -2.232      -1.703\n",
      "Sportswear             0.1053      0.111      0.952      0.341      -0.111       0.322\n",
      "Music                  0.0699      0.008      9.143      0.000       0.055       0.085\n",
      "Fruit                 -0.2108      0.069     -3.056      0.002      -0.346      -0.076\n",
      "Laundry            -2522.4517    283.387     -8.901      0.000   -3077.962   -1966.941\n",
      "Heating_Cooling      -13.6681      7.553     -1.810      0.070     -28.473       1.137\n",
      "Gift_cards            -3.3493      0.336     -9.960      0.000      -4.009      -2.690\n",
      "Baby_Essentials       -0.9969      0.132     -7.576      0.000      -1.255      -0.739\n",
      "Car_Seats             -1.4524      0.107    -13.541      0.000      -1.663      -1.242\n",
      "Strollers            -17.4575      8.124     -2.149      0.032     -33.382      -1.533\n",
      "Photo                 -7.0251      1.278     -5.499      0.000      -9.530      -4.521\n",
      "Air_Quality            0.1589      0.028      5.660      0.000       0.104       0.214\n",
      "Light_bulbs            1.5593      0.046     34.250      0.000       1.470       1.649\n",
      "Gardening             -0.0749      0.095     -0.790      0.430      -0.261       0.111\n",
      "Building_Materials    14.7320      0.565     26.076      0.000      13.625      15.840\n",
      "Kids_Room             -2.2854      0.412     -5.548      0.000      -3.093      -1.478\n",
      "Lighting             159.4841     17.264      9.238      0.000     125.642     193.326\n",
      "==============================================================================\n",
      "Omnibus:                      396.095   Durbin-Watson:                   0.413\n",
      "Prob(Omnibus):                  0.000   Jarque-Bera (JB):              815.335\n",
      "Skew:                           0.339   Prob(JB):                    8.96e-178\n",
      "Kurtosis:                       4.389   Cond. No.                     3.38e+05\n",
      "==============================================================================\n",
      "\n",
      "Warnings:\n",
      "[1] Standard Errors assume that the covariance matrix of the errors is correctly specified.\n",
      "[2] The condition number is large, 3.38e+05. This might indicate that there are\n",
      "strong multicollinearity or other numerical problems.\n"
     ]
    }
   ],
   "source": [
    "print(res.summary())"
   ]
  },
  {
   "cell_type": "markdown",
   "metadata": {},
   "source": [
    "#### 17.3.1.2 Linear Regression Using Statsmodel¶ - with intercept"
   ]
  },
  {
   "cell_type": "code",
   "execution_count": 40,
   "metadata": {
    "collapsed": true
   },
   "outputs": [],
   "source": [
    "# fit a OLS model with intercept on the data set\n",
    "X = sm.add_constant(features)"
   ]
  },
  {
   "cell_type": "code",
   "execution_count": 41,
   "metadata": {
    "collapsed": true
   },
   "outputs": [],
   "source": [
    "# Fit and summarize OLS model\n",
    "mod = sm.OLS(df['Office-items'], X)"
   ]
  },
  {
   "cell_type": "code",
   "execution_count": 42,
   "metadata": {
    "collapsed": true
   },
   "outputs": [],
   "source": [
    "res = mod.fit()"
   ]
  },
  {
   "cell_type": "code",
   "execution_count": 43,
   "metadata": {
    "collapsed": false
   },
   "outputs": [
    {
     "name": "stdout",
     "output_type": "stream",
     "text": [
      "                            OLS Regression Results                            \n",
      "==============================================================================\n",
      "Dep. Variable:           Office-items   R-squared:                       0.554\n",
      "Model:                            OLS   Adj. R-squared:                  0.553\n",
      "Method:                 Least Squares   F-statistic:                     338.2\n",
      "Date:                Wed, 13 Dec 2017   Prob (F-statistic):               0.00\n",
      "Time:                        20:44:29   Log-Likelihood:                -88546.\n",
      "No. Observations:                8190   AIC:                         1.772e+05\n",
      "Df Residuals:                    8159   BIC:                         1.774e+05\n",
      "Df Model:                          30                                         \n",
      "Covariance Type:            nonrobust                                         \n",
      "======================================================================================\n",
      "                         coef    std err          t      P>|t|      [0.025      0.975]\n",
      "--------------------------------------------------------------------------------------\n",
      "const               -165.0207   1856.334     -0.089      0.929   -3803.908    3473.867\n",
      "Temperature           35.2958      7.737      4.562      0.000      20.129      50.463\n",
      "Fuel_Price           161.6337    328.585      0.492      0.623    -482.477     805.744\n",
      "MarkDown1             -0.0617      0.024     -2.558      0.011      -0.109      -0.014\n",
      "MarkDown2             -0.0584      0.018     -3.332      0.001      -0.093      -0.024\n",
      "MarkDown3             -0.0230      0.018     -1.284      0.199      -0.058       0.012\n",
      "MarkDown4             -0.0558      0.039     -1.440      0.150      -0.132       0.020\n",
      "MarkDown5              0.0135      0.014      0.960      0.337      -0.014       0.041\n",
      "CPI                   49.0493      4.123     11.897      0.000      40.967      57.131\n",
      "Unemployment         188.8708     80.670      2.341      0.019      30.738     347.004\n",
      "Size                   0.0133      0.003      4.783      0.000       0.008       0.019\n",
      "Jewelry                0.4622      0.014     32.934      0.000       0.435       0.490\n",
      "Bathroom               0.5095      0.022     22.731      0.000       0.466       0.553\n",
      "Beading               -0.0783      0.015     -5.162      0.000      -0.108      -0.049\n",
      "Paint                 -1.9673      0.135    -14.579      0.000      -2.232      -1.703\n",
      "Sportswear             0.1059      0.111      0.956      0.339      -0.111       0.323\n",
      "Music                  0.0700      0.008      8.972      0.000       0.055       0.085\n",
      "Fruit                 -0.2109      0.069     -3.057      0.002      -0.346      -0.076\n",
      "Laundry            -2518.3090    287.210     -8.768      0.000   -3081.314   -1955.304\n",
      "Heating_Cooling      -13.5650      7.642     -1.775      0.076     -28.544       1.414\n",
      "Gift_cards            -3.3512      0.337     -9.946      0.000      -4.012      -2.691\n",
      "Baby_Essentials       -0.9949      0.133     -7.459      0.000      -1.256      -0.733\n",
      "Car_Seats             -1.4501      0.110    -13.142      0.000      -1.666      -1.234\n",
      "Strollers            -17.4259      8.132     -2.143      0.032     -33.367      -1.485\n",
      "Photo                 -7.0200      1.279     -5.489      0.000      -9.527      -4.513\n",
      "Air_Quality            0.1589      0.028      5.661      0.000       0.104       0.214\n",
      "Light_bulbs            1.5586      0.046     33.767      0.000       1.468       1.649\n",
      "Gardening             -0.0751      0.095     -0.791      0.429      -0.261       0.111\n",
      "Building_Materials    14.7338      0.565     26.061      0.000      13.626      15.842\n",
      "Kids_Room             -2.2844      0.412     -5.543      0.000      -3.092      -1.477\n",
      "Lighting             159.6784     17.403      9.175      0.000     125.565     193.792\n",
      "==============================================================================\n",
      "Omnibus:                      396.035   Durbin-Watson:                   0.413\n",
      "Prob(Omnibus):                  0.000   Jarque-Bera (JB):              815.787\n",
      "Skew:                           0.339   Prob(JB):                    7.15e-178\n",
      "Kurtosis:                       4.390   Cond. No.                     2.22e+06\n",
      "==============================================================================\n",
      "\n",
      "Warnings:\n",
      "[1] Standard Errors assume that the covariance matrix of the errors is correctly specified.\n",
      "[2] The condition number is large, 2.22e+06. This might indicate that there are\n",
      "strong multicollinearity or other numerical problems.\n"
     ]
    }
   ],
   "source": [
    "print(res.summary())"
   ]
  },
  {
   "cell_type": "markdown",
   "metadata": {},
   "source": [
    "#### 17.3.1.2 Linear Regression Using SKLearn"
   ]
  },
  {
   "cell_type": "code",
   "execution_count": 44,
   "metadata": {
    "collapsed": true
   },
   "outputs": [],
   "source": [
    "#create numpy array\n",
    "X = features.values\n",
    "y = df['Office-items'].values"
   ]
  },
  {
   "cell_type": "code",
   "execution_count": 45,
   "metadata": {
    "collapsed": true
   },
   "outputs": [],
   "source": [
    "#Reshape y\n",
    "y = y.reshape(-1,1)"
   ]
  },
  {
   "cell_type": "code",
   "execution_count": 46,
   "metadata": {
    "collapsed": true
   },
   "outputs": [],
   "source": [
    "#fit regression model\n",
    "lm = linear_model.LinearRegression()\n",
    "model = lm.fit(X,y)"
   ]
  },
  {
   "cell_type": "code",
   "execution_count": 47,
   "metadata": {
    "collapsed": true
   },
   "outputs": [],
   "source": [
    "#run prediction \n",
    "predictions = lm.predict(X)"
   ]
  },
  {
   "cell_type": "code",
   "execution_count": 48,
   "metadata": {
    "collapsed": false
   },
   "outputs": [
    {
     "name": "stdout",
     "output_type": "stream",
     "text": [
      "[[ 46364.4178115 ]\n",
      " [ 74605.77633882]\n",
      " [ 58046.54415954]\n",
      " [ 55294.03057185]\n",
      " [ 46644.73452003]]\n"
     ]
    }
   ],
   "source": [
    "print((predictions)[0:5])"
   ]
  },
  {
   "cell_type": "code",
   "execution_count": 49,
   "metadata": {
    "collapsed": false
   },
   "outputs": [
    {
     "data": {
      "text/plain": [
       "0.55425128162889259"
      ]
     },
     "execution_count": 49,
     "metadata": {},
     "output_type": "execute_result"
    }
   ],
   "source": [
    "# generate the score\n",
    "lm.score(X,y)"
   ]
  },
  {
   "cell_type": "code",
   "execution_count": 50,
   "metadata": {
    "collapsed": false
   },
   "outputs": [
    {
     "data": {
      "text/plain": [
       "array([[  3.52957899e+01,   1.61633726e+02,  -6.17108951e-02,\n",
       "         -5.84126002e-02,  -2.29651559e-02,  -5.57845001e-02,\n",
       "          1.34500202e-02,   4.90492874e+01,   1.88870803e+02,\n",
       "          1.33169709e-02,   4.62225912e-01,   5.09467483e-01,\n",
       "         -7.83371455e-02,  -1.96734223e+00,   1.05896019e-01,\n",
       "          7.00194684e-02,  -2.10903142e-01,  -2.51830902e+03,\n",
       "         -1.35649863e+01,  -3.35119844e+00,  -9.94915824e-01,\n",
       "         -1.45006722e+00,  -1.74258833e+01,  -7.01998667e+00,\n",
       "          1.58918567e-01,   1.55860659e+00,  -7.51032902e-02,\n",
       "          1.47337817e+01,  -2.28436340e+00,   1.59678354e+02]])"
      ]
     },
     "execution_count": 50,
     "metadata": {},
     "output_type": "execute_result"
    }
   ],
   "source": [
    "lm.coef_"
   ]
  },
  {
   "cell_type": "code",
   "execution_count": 51,
   "metadata": {
    "collapsed": false
   },
   "outputs": [
    {
     "data": {
      "text/plain": [
       "array([-165.02066664])"
      ]
     },
     "execution_count": 51,
     "metadata": {},
     "output_type": "execute_result"
    }
   ],
   "source": [
    "lm.intercept_"
   ]
  },
  {
   "cell_type": "code",
   "execution_count": null,
   "metadata": {
    "collapsed": true
   },
   "outputs": [],
   "source": []
  }
 ],
 "metadata": {
  "kernelspec": {
   "display_name": "Python 3",
   "language": "python",
   "name": "python3"
  },
  "language_info": {
   "codemirror_mode": {
    "name": "ipython",
    "version": 3
   },
   "file_extension": ".py",
   "mimetype": "text/x-python",
   "name": "python",
   "nbconvert_exporter": "python",
   "pygments_lexer": "ipython3",
   "version": "3.6.0"
  }
 },
 "nbformat": 4,
 "nbformat_minor": 2
}
