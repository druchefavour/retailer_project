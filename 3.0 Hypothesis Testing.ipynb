{
 "cells": [
  {
   "cell_type": "markdown",
   "metadata": {},
   "source": [
    "## 3.0 Statistical Test for Correlation\n",
    "\n",
    "### Creating composite function for Markdown success. \n",
    "We will define a function which returns different states for markdown success. High markdown success is denoted: \"1\" and \"0\" for low Markdown success.  The mean of the Markdown sales = 4719.567115. Markdown success is take to be any sale above the mean while failure is sale less than the mean. We will then use df.apply to apply the function to each row. "
   ]
  },
  {
   "cell_type": "code",
   "execution_count": 1,
   "metadata": {
    "collapsed": true
   },
   "outputs": [],
   "source": [
    "# import the python required libraries\n",
    "import pandas as pd\n",
    "import numpy as np\n",
    "import matplotlib.pyplot as plt"
   ]
  },
  {
   "cell_type": "code",
   "execution_count": 2,
   "metadata": {
    "collapsed": false
   },
   "outputs": [
    {
     "name": "stdout",
     "output_type": "stream",
     "text": [
      "   Store                 Date  Temperature  Fuel_Price  MarkDown1  MarkDown2  \\\n",
      "0      1  2010-05-02 00:00:00        42.31       2.572    10382.9    6115.67   \n",
      "1      1  2010-12-02 00:00:00        38.51       2.548    10382.9    6115.67   \n",
      "2      1  2010-02-19 00:00:00        39.93       2.514    10382.9    6115.67   \n",
      "3      1  2010-02-26 00:00:00        46.63       2.561    10382.9    6115.67   \n",
      "4      1  2010-05-03 00:00:00        46.50       2.625    10382.9    6115.67   \n",
      "\n",
      "   MarkDown3  MarkDown4  MarkDown5         CPI     ...          Books  \\\n",
      "0     215.07    2406.62    6551.42  211.096358     ...       73315.81   \n",
      "1     215.07    2406.62    6551.42  211.242170     ...       77280.42   \n",
      "2     215.07    2406.62    6551.42  211.289143     ...       78602.71   \n",
      "3     215.07    2406.62    6551.42  211.319643     ...       76091.36   \n",
      "4     215.07    2406.62    6551.42  211.350143     ...       71718.48   \n",
      "\n",
      "  Musical_Instruments  Star_Wars  Movies_TV  Video_Games  Portable_Audios  \\\n",
      "0            57022.45  118966.90   58034.24     56157.83        113009.41   \n",
      "1            57845.36  126907.41   63245.00     66172.11        111466.37   \n",
      "2            59462.22  122267.65   69962.56     62795.87        124821.44   \n",
      "3            63011.44  135066.75   62581.64     72212.32        107952.07   \n",
      "4            57335.17  125048.08   57630.02     55501.07        103652.58   \n",
      "\n",
      "   Cameras_Camcoders  Auto_Electronics  Wearable_Tech  Smart_homes  \n",
      "0           27930.71          32954.82       10344.16         0.01  \n",
      "1            5265.09          30149.20       14740.14         0.01  \n",
      "2            5265.09          33726.13       10139.42         0.01  \n",
      "3           28420.73          31585.78       12087.95        20.00  \n",
      "4           28420.73          28457.31       10871.74        20.00  \n",
      "\n",
      "[5 rows x 95 columns]\n"
     ]
    }
   ],
   "source": [
    "# load the master_dataset.xls\n",
    "df_master = pd.read_excel('master_dataset.xlsx', sheetname='Sheet1')\n",
    "print (df_master.head())"
   ]
  },
  {
   "cell_type": "markdown",
   "metadata": {},
   "source": [
    "Assign a new column Ave_MK to the dataframe which constitutes the mean of the markdown sales"
   ]
  },
  {
   "cell_type": "code",
   "execution_count": 3,
   "metadata": {
    "collapsed": true
   },
   "outputs": [],
   "source": [
    "# create new column containing the average of the markdown sales\n",
    "df_master['Ave_MK'] = (df_master['MarkDown1'] + df_master['MarkDown2']+ df_master['MarkDown3']+ df_master['MarkDown4']+ df_master['MarkDown5'])/5"
   ]
  },
  {
   "cell_type": "code",
   "execution_count": 4,
   "metadata": {
    "collapsed": false
   },
   "outputs": [],
   "source": [
    "import pandas as pd\n",
    "\n",
    "def Markdown_Success(c):\n",
    "    if c['Ave_MK'] <= 4719.567115:\n",
    "        return 0\n",
    "    else:\n",
    "        return 1\n"
   ]
  },
  {
   "cell_type": "code",
   "execution_count": 5,
   "metadata": {
    "collapsed": false
   },
   "outputs": [
    {
     "name": "stdout",
     "output_type": "stream",
     "text": [
      "0    1\n",
      "1    1\n",
      "2    1\n",
      "3    1\n",
      "4    1\n",
      "Name: Markdown_Success, dtype: int64\n"
     ]
    }
   ],
   "source": [
    "df_master['Markdown_Success'] = df_master.apply(Markdown_Success, axis=1)\n",
    "print (df_master['Markdown_Success'].head()) "
   ]
  },
  {
   "cell_type": "markdown",
   "metadata": {},
   "source": [
    "### 3.0.1 One-Sample T-Test (Measuring the impact of size on Markdown Success)\n",
    "\n",
    "A one-sample t-test checks whether a sample mean differs from the population mean. Since store size has the highest correlation with our dependent variable - Markdown Success, let's test to see whether the average size of the stores that have high Markdown success differs from the those that have low success.\n",
    "\n",
    "Hypothesis Testing: Is there significant difference in the means of size of the stores who had high Markdown success and those who had low markdown success?\n",
    "\n",
    "Null Hypothesis: (H0: pSS = pMS) The null hypothesis would be that there is no difference in store size between stores who had high Markdown success and those who had low markdown success.\n",
    "\n",
    "Alternate Hypothesis: (HA: pSS != pMS) The alternative hypothesis would be that there is a difference in store size between stores who had high Markdown success and those who had low markdown success.\n"
   ]
  },
  {
   "cell_type": "code",
   "execution_count": 6,
   "metadata": {
    "collapsed": false
   },
   "outputs": [
    {
     "name": "stdout",
     "output_type": "stream",
     "text": [
      "The mean store size for the population is: 130287.6\n",
      "The mean store size for stores that had high sales success during the markdowns is: 167629.0945351759\n"
     ]
    }
   ],
   "source": [
    "# Let's compare the means of our store sizes for high markdown success against the store markdown population\n",
    "Markdown_population = df_master['Size'].mean()\n",
    "Markdown_success_sizes = df_master[df_master['Markdown_Success']==1]['Size'].mean()\n",
    "\n",
    "print( 'The mean store size for the population is: ' + str(Markdown_population))\n",
    "print( 'The mean store size for stores that had high sales success during the markdowns is: ' + str(Markdown_success_sizes))"
   ]
  },
  {
   "cell_type": "markdown",
   "metadata": {},
   "source": [
    "### Conducting the T-Test\n",
    "\n",
    "Let's conduct a t-test at 95% confidence level and see if it correctly rejects the null hypothesis that the sample comes from the same distribution as the store population. To conduct a one sample t-test, we can use the stats.ttest_1samp() function:"
   ]
  },
  {
   "cell_type": "code",
   "execution_count": 7,
   "metadata": {
    "collapsed": false
   },
   "outputs": [
    {
     "data": {
      "text/plain": [
       "Ttest_1sampResult(statistic=45.538955586982418, pvalue=0.0)"
      ]
     },
     "execution_count": 7,
     "metadata": {},
     "output_type": "execute_result"
    }
   ],
   "source": [
    "import scipy.stats as stats\n",
    "stats.ttest_1samp(a=  df_master[df_master['Markdown_Success']==1]['Size'], # Sample of store size for stores that had high sales success during the markdowns\n",
    "                  popmean = Markdown_population)  # Mean of store size for stores that had low sales success during the markdowns"
   ]
  },
  {
   "cell_type": "markdown",
   "metadata": {},
   "source": [
    "### T-Test Result\n",
    "\n",
    "The test result shows the test statistic \"t\" is equal to 45.54. This test statistic tells us how much the sample mean deviates from the null hypothesis. If the t-statistic lies outside the quantiles of the t-distribution corresponding to our confidence level and degrees of freedom, we reject the null hypothesis. We can check the quantiles with stats.t.ppf():"
   ]
  },
  {
   "cell_type": "markdown",
   "metadata": {},
   "source": [
    "### T-Test Quantile\n",
    "\n",
    "If the t-statistic value we calculated above (45.54) is outside the quantiles, then we can reject the null hypothesis"
   ]
  },
  {
   "cell_type": "code",
   "execution_count": 8,
   "metadata": {
    "collapsed": false
   },
   "outputs": [
    {
     "name": "stdout",
     "output_type": "stream",
     "text": [
      "The t-distribution left quartile range is: -1.96070932309\n",
      "The t-distribution right quartile range is: 1.96070932309\n"
     ]
    }
   ],
   "source": [
    "degree_freedom = len(df_master[df_master['Markdown_Success']==1])\n",
    "\n",
    "LQ = stats.t.ppf(0.025,degree_freedom)  # Left Quartile\n",
    "\n",
    "RQ = stats.t.ppf(0.975,degree_freedom)  # Right Quartile\n",
    "\n",
    "print ('The t-distribution left quartile range is: ' + str(LQ))\n",
    "print ('The t-distribution right quartile range is: ' + str(RQ))"
   ]
  },
  {
   "cell_type": "markdown",
   "metadata": {},
   "source": [
    "### One-Sample T-Test Summary\n",
    "\n",
    "T-Test = 45.54 | P-Value = 0.0 | Reject Null Hypothesis\n",
    "\n",
    "Reject the null hypothesis because:\n",
    "\n",
    "* T-Test score is outside the quantiles\n",
    "* P-value is lower than confidence level of 5%\n",
    "\n",
    "Based on the statistical analysis of a one sample t-test, there seems to be some significant difference between the mean mean store size for stores that had high sales success during the markdowns and the entire store population. The super low P-value of 0 at a 5% confidence level is a good indicator to reject the null hypothesis.\n",
    "\n",
    "But this does not neccessarily mean that there is practical significance. We would have to conduct more experiments or maybe collect more data about the stores in order to come up with a more accurate finding."
   ]
  },
  {
   "cell_type": "markdown",
   "metadata": {
    "collapsed": true
   },
   "source": [
    "### 3.0.2 Another Hypothesis test (Impact of the missing values)\n",
    "Hypothesis Testing: Is there significant difference in the means of the filled missing values and those of the general population?\n",
    "* Null Hypothesis: (H0: pMV = pGP) The null hypothesis would be that there is no difference in the result by filling the missing values with numbers using the back fill method.\n",
    "* Alternate Hypothesis: (HA: pMV != pGP) The alternative hypothesis would be that there is a difference in the result by filling the missing values with numbers using the back fill method."
   ]
  },
  {
   "cell_type": "code",
   "execution_count": 9,
   "metadata": {
    "collapsed": false
   },
   "outputs": [
    {
     "name": "stdout",
     "output_type": "stream",
     "text": [
      "   Store        Date  Temperature  Fuel_Price  MarkDown1  MarkDown2  \\\n",
      "0      1  05/02/2010        42.31       2.572        NaN        NaN   \n",
      "1      1  12/02/2010        38.51       2.548        NaN        NaN   \n",
      "2      1  19/02/2010        39.93       2.514        NaN        NaN   \n",
      "3      1  26/02/2010        46.63       2.561        NaN        NaN   \n",
      "4      1  05/03/2010        46.50       2.625        NaN        NaN   \n",
      "\n",
      "   MarkDown3  MarkDown4  MarkDown5         CPI  ...         90        91  \\\n",
      "0        NaN        NaN        NaN  211.096358  ...   73315.81  57022.45   \n",
      "1        NaN        NaN        NaN  211.242170  ...   77280.42  57845.36   \n",
      "2        NaN        NaN        NaN  211.289143  ...   78602.71  59462.22   \n",
      "3        NaN        NaN        NaN  211.319643  ...   76091.36  63011.44   \n",
      "4        NaN        NaN        NaN  211.350143  ...   71718.48  57335.17   \n",
      "\n",
      "          92        93        94         95        96        97        98  \\\n",
      "0  118966.90  58034.24  56157.83  113009.41  27930.71  32954.82  10344.16   \n",
      "1  126907.41  63245.00  66172.11  111466.37       NaN  30149.20  14740.14   \n",
      "2  122267.65  69962.56  62795.87  124821.44   5265.09  33726.13  10139.42   \n",
      "3  135066.75  62581.64  72212.32  107952.07       NaN  31585.78  12087.95   \n",
      "4  125048.08  57630.02  55501.07  103652.58       NaN  28457.31  10871.74   \n",
      "\n",
      "     99  \n",
      "0   NaN  \n",
      "1   NaN  \n",
      "2  0.01  \n",
      "3   NaN  \n",
      "4   NaN  \n",
      "\n",
      "[5 rows x 97 columns]\n"
     ]
    }
   ],
   "source": [
    "# Let us load the dataframe with missing values\n",
    "df_master_MV = pd.read_excel('output_final.xlsx', sheetname='Sheet1')\n",
    "print (df_master_MV.head())"
   ]
  },
  {
   "cell_type": "markdown",
   "metadata": {},
   "source": [
    "Assign a new column Ave_MK_MV to the dataframe which constitutes the mean of the markdown sales"
   ]
  },
  {
   "cell_type": "code",
   "execution_count": 10,
   "metadata": {
    "collapsed": true
   },
   "outputs": [],
   "source": [
    "# create new column containing the average of the markdown sales\n",
    "df_master_MV['Ave_MK_MV'] = (df_master_MV['MarkDown1'] + df_master_MV['MarkDown2']+ df_master_MV['MarkDown3']+ \n",
    "                             df_master_MV['MarkDown4']+ df_master_MV['MarkDown5'])/5"
   ]
  },
  {
   "cell_type": "code",
   "execution_count": 11,
   "metadata": {
    "collapsed": false
   },
   "outputs": [
    {
     "name": "stdout",
     "output_type": "stream",
     "text": [
      "The mean markdown with missing values filled is: 4719.567115262533\n",
      "The mean markdown with missing values is: 4730.684346031739\n"
     ]
    }
   ],
   "source": [
    "# Let's compare the means of our markdown with missing values and markdown with missing values filled\n",
    "Markdown_with_missing_values_filled = df_master['Ave_MK'].mean()\n",
    "Markdown_with_missing_values = df_master_MV['Ave_MK_MV'].mean()\n",
    "\n",
    "print( 'The mean markdown with missing values filled is: ' + str(Markdown_with_missing_values_filled))\n",
    "print( 'The mean markdown with missing values is: ' + str(Markdown_with_missing_values))"
   ]
  },
  {
   "cell_type": "markdown",
   "metadata": {},
   "source": [
    "### Conducting the T-Test\n",
    "Let's conduct a t-test at 95% confidence level and see if it correctly rejects the null hypothesis that the sample does not come from the same distribution as the store population. To conduct a one sample t-test, we can use the stats.ttest_1samp() function:"
   ]
  },
  {
   "cell_type": "code",
   "execution_count": 12,
   "metadata": {
    "collapsed": false
   },
   "outputs": [
    {
     "data": {
      "text/plain": [
       "Ttest_1sampResult(statistic=-0.2261203126066092, pvalue=0.8211134898579352)"
      ]
     },
     "execution_count": 12,
     "metadata": {},
     "output_type": "execute_result"
    }
   ],
   "source": [
    "import scipy.stats as stats\n",
    "stats.ttest_1samp(a=  df_master['Ave_MK'], # Sample of markdowns with missing values filled\n",
    "                  popmean = Markdown_with_missing_values)  # Mean of markdowns with missing values"
   ]
  },
  {
   "cell_type": "markdown",
   "metadata": {},
   "source": [
    "### T-Test Result\n",
    "The test result shows the test statistic \"t\" is equal to 0.23. This test statistic tells us how much the sample mean deviates from the null hypothesis. If the t-statistic lies inside the quantiles of the t-distribution corresponding to our confidence level and degrees of freedom, we accept the null hypothesis. We can check the quantiles with stats.t.ppf():\n",
    "\n",
    "### T-Test Quantile\n",
    "If the t-statistic value we calculated above (0.23) is inside the quantiles, then we can reject the null hypothesis"
   ]
  },
  {
   "cell_type": "code",
   "execution_count": 13,
   "metadata": {
    "collapsed": false
   },
   "outputs": [
    {
     "name": "stdout",
     "output_type": "stream",
     "text": [
      "The t-distribution left quartile range is: -1.96070932309\n",
      "The t-distribution right quartile range is: 1.96070932309\n"
     ]
    }
   ],
   "source": [
    "degree_freedom = len(df_master[df_master['Markdown_Success']==1])\n",
    "\n",
    "LQ = stats.t.ppf(0.025,degree_freedom)  # Left Quartile\n",
    "\n",
    "RQ = stats.t.ppf(0.975,degree_freedom)  # Right Quartile\n",
    "\n",
    "print ('The t-distribution left quartile range is: ' + str(LQ))\n",
    "print ('The t-distribution right quartile range is: ' + str(RQ))"
   ]
  },
  {
   "cell_type": "markdown",
   "metadata": {},
   "source": [
    "### One-Sample T-Test Summary\n",
    "* T-Test =-0.23 | P-Value = 0.82 | Accept Null Hypothesis\n",
    "* Accept the null hypothesis because:\n",
    "* T-Test score is inside the quantiles\n",
    "* P-value is higher than confidence level of 5%\n",
    "* Based on the statistical analysis of a one sample t-test, there seems to be no significant difference between the mean of the markdowns when the missing values are left as nan and the markdowns when they are backfilled. The P-value of 0.82 at a 5% confidence level is a good indicator to accept the null hypothesis.\n",
    "\n",
    "But as mentioned in the previous test this does not neccessarily mean that there is no practical significance. We would have to conduct more experiments or maybe collect more data about the stores in order to come up with a more accurate finding. For the purpose of this analysis we shall go ahead with the missing values filled since there is no suggestion that the final result will be affected by the missing values"
   ]
  },
  {
   "cell_type": "code",
   "execution_count": null,
   "metadata": {
    "collapsed": true
   },
   "outputs": [],
   "source": []
  }
 ],
 "metadata": {
  "kernelspec": {
   "display_name": "Python 3",
   "language": "python",
   "name": "python3"
  },
  "language_info": {
   "codemirror_mode": {
    "name": "ipython",
    "version": 3
   },
   "file_extension": ".py",
   "mimetype": "text/x-python",
   "name": "python",
   "nbconvert_exporter": "python",
   "pygments_lexer": "ipython3",
   "version": "3.6.0"
  }
 },
 "nbformat": 4,
 "nbformat_minor": 2
}
