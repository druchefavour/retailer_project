{
 "cells": [
  {
   "cell_type": "code",
   "execution_count": 1,
   "metadata": {
    "collapsed": true
   },
   "outputs": [],
   "source": [
    "#Import numpy and pandas as their standard aliases. Also import other important variables\n",
    "import numpy as np\n",
    "import pandas as pd\n",
    "from sklearn import datasets\n",
    "import matplotlib.pyplot as plt\n",
    "plt.style.use('ggplot')"
   ]
  },
  {
   "cell_type": "code",
   "execution_count": 2,
   "metadata": {
    "collapsed": false
   },
   "outputs": [],
   "source": [
    "# Read the file 'master_dataset.xlsx' into a DataFrame df using the read_xls() function.\n",
    "df = pd.read_excel('feature_data_class.xlsx', sheetname='Sheet1')"
   ]
  },
  {
   "cell_type": "code",
   "execution_count": 3,
   "metadata": {
    "collapsed": true
   },
   "outputs": [],
   "source": [
    "# Select the features and call the new dataframe 'feature_df'\n",
    "feature_df = df.iloc[:,1:91]"
   ]
  },
  {
   "cell_type": "code",
   "execution_count": 4,
   "metadata": {
    "collapsed": false
   },
   "outputs": [
    {
     "data": {
      "text/html": [
       "<div>\n",
       "<table border=\"1\" class=\"dataframe\">\n",
       "  <thead>\n",
       "    <tr style=\"text-align: right;\">\n",
       "      <th></th>\n",
       "      <th>Temperature</th>\n",
       "      <th>Fuel_Price</th>\n",
       "      <th>MarkDown1</th>\n",
       "      <th>MarkDown2</th>\n",
       "      <th>MarkDown3</th>\n",
       "      <th>MarkDown4</th>\n",
       "      <th>MarkDown5</th>\n",
       "      <th>CPI</th>\n",
       "      <th>Unemployment</th>\n",
       "      <th>Jewelry</th>\n",
       "      <th>...</th>\n",
       "      <th>Books</th>\n",
       "      <th>Musical_Instruments</th>\n",
       "      <th>Star_Wars</th>\n",
       "      <th>Movies_TV</th>\n",
       "      <th>Video_Games</th>\n",
       "      <th>Portable_Audios</th>\n",
       "      <th>Cameras_Camcoders</th>\n",
       "      <th>Auto_Electronics</th>\n",
       "      <th>Wearable_Tech</th>\n",
       "      <th>Smart_homes</th>\n",
       "    </tr>\n",
       "  </thead>\n",
       "  <tbody>\n",
       "    <tr>\n",
       "      <th>0</th>\n",
       "      <td>42.31</td>\n",
       "      <td>2.572</td>\n",
       "      <td>10382.9</td>\n",
       "      <td>6115.67</td>\n",
       "      <td>215.07</td>\n",
       "      <td>2406.62</td>\n",
       "      <td>6551.42</td>\n",
       "      <td>211.096358</td>\n",
       "      <td>8.106</td>\n",
       "      <td>20094.19</td>\n",
       "      <td>...</td>\n",
       "      <td>73315.81</td>\n",
       "      <td>57022.45</td>\n",
       "      <td>118966.90</td>\n",
       "      <td>58034.24</td>\n",
       "      <td>56157.83</td>\n",
       "      <td>113009.41</td>\n",
       "      <td>27930.71</td>\n",
       "      <td>32954.82</td>\n",
       "      <td>10344.16</td>\n",
       "      <td>0.01</td>\n",
       "    </tr>\n",
       "    <tr>\n",
       "      <th>1</th>\n",
       "      <td>38.51</td>\n",
       "      <td>2.548</td>\n",
       "      <td>10382.9</td>\n",
       "      <td>6115.67</td>\n",
       "      <td>215.07</td>\n",
       "      <td>2406.62</td>\n",
       "      <td>6551.42</td>\n",
       "      <td>211.242170</td>\n",
       "      <td>8.106</td>\n",
       "      <td>57258.43</td>\n",
       "      <td>...</td>\n",
       "      <td>77280.42</td>\n",
       "      <td>57845.36</td>\n",
       "      <td>126907.41</td>\n",
       "      <td>63245.00</td>\n",
       "      <td>66172.11</td>\n",
       "      <td>111466.37</td>\n",
       "      <td>5265.09</td>\n",
       "      <td>30149.20</td>\n",
       "      <td>14740.14</td>\n",
       "      <td>0.01</td>\n",
       "    </tr>\n",
       "    <tr>\n",
       "      <th>2</th>\n",
       "      <td>39.93</td>\n",
       "      <td>2.514</td>\n",
       "      <td>10382.9</td>\n",
       "      <td>6115.67</td>\n",
       "      <td>215.07</td>\n",
       "      <td>2406.62</td>\n",
       "      <td>6551.42</td>\n",
       "      <td>211.289143</td>\n",
       "      <td>8.106</td>\n",
       "      <td>16333.14</td>\n",
       "      <td>...</td>\n",
       "      <td>78602.71</td>\n",
       "      <td>59462.22</td>\n",
       "      <td>122267.65</td>\n",
       "      <td>69962.56</td>\n",
       "      <td>62795.87</td>\n",
       "      <td>124821.44</td>\n",
       "      <td>5265.09</td>\n",
       "      <td>33726.13</td>\n",
       "      <td>10139.42</td>\n",
       "      <td>0.01</td>\n",
       "    </tr>\n",
       "    <tr>\n",
       "      <th>3</th>\n",
       "      <td>46.63</td>\n",
       "      <td>2.561</td>\n",
       "      <td>10382.9</td>\n",
       "      <td>6115.67</td>\n",
       "      <td>215.07</td>\n",
       "      <td>2406.62</td>\n",
       "      <td>6551.42</td>\n",
       "      <td>211.319643</td>\n",
       "      <td>8.106</td>\n",
       "      <td>41595.55</td>\n",
       "      <td>...</td>\n",
       "      <td>76091.36</td>\n",
       "      <td>63011.44</td>\n",
       "      <td>135066.75</td>\n",
       "      <td>62581.64</td>\n",
       "      <td>72212.32</td>\n",
       "      <td>107952.07</td>\n",
       "      <td>28420.73</td>\n",
       "      <td>31585.78</td>\n",
       "      <td>12087.95</td>\n",
       "      <td>20.00</td>\n",
       "    </tr>\n",
       "    <tr>\n",
       "      <th>4</th>\n",
       "      <td>46.50</td>\n",
       "      <td>2.625</td>\n",
       "      <td>10382.9</td>\n",
       "      <td>6115.67</td>\n",
       "      <td>215.07</td>\n",
       "      <td>2406.62</td>\n",
       "      <td>6551.42</td>\n",
       "      <td>211.350143</td>\n",
       "      <td>8.106</td>\n",
       "      <td>19403.54</td>\n",
       "      <td>...</td>\n",
       "      <td>71718.48</td>\n",
       "      <td>57335.17</td>\n",
       "      <td>125048.08</td>\n",
       "      <td>57630.02</td>\n",
       "      <td>55501.07</td>\n",
       "      <td>103652.58</td>\n",
       "      <td>28420.73</td>\n",
       "      <td>28457.31</td>\n",
       "      <td>10871.74</td>\n",
       "      <td>20.00</td>\n",
       "    </tr>\n",
       "  </tbody>\n",
       "</table>\n",
       "<p>5 rows × 90 columns</p>\n",
       "</div>"
      ],
      "text/plain": [
       "   Temperature  Fuel_Price  MarkDown1  MarkDown2  MarkDown3  MarkDown4  \\\n",
       "0        42.31       2.572    10382.9    6115.67     215.07    2406.62   \n",
       "1        38.51       2.548    10382.9    6115.67     215.07    2406.62   \n",
       "2        39.93       2.514    10382.9    6115.67     215.07    2406.62   \n",
       "3        46.63       2.561    10382.9    6115.67     215.07    2406.62   \n",
       "4        46.50       2.625    10382.9    6115.67     215.07    2406.62   \n",
       "\n",
       "   MarkDown5         CPI  Unemployment   Jewelry     ...          Books  \\\n",
       "0    6551.42  211.096358         8.106  20094.19     ...       73315.81   \n",
       "1    6551.42  211.242170         8.106  57258.43     ...       77280.42   \n",
       "2    6551.42  211.289143         8.106  16333.14     ...       78602.71   \n",
       "3    6551.42  211.319643         8.106  41595.55     ...       76091.36   \n",
       "4    6551.42  211.350143         8.106  19403.54     ...       71718.48   \n",
       "\n",
       "   Musical_Instruments  Star_Wars  Movies_TV  Video_Games  Portable_Audios  \\\n",
       "0             57022.45  118966.90   58034.24     56157.83        113009.41   \n",
       "1             57845.36  126907.41   63245.00     66172.11        111466.37   \n",
       "2             59462.22  122267.65   69962.56     62795.87        124821.44   \n",
       "3             63011.44  135066.75   62581.64     72212.32        107952.07   \n",
       "4             57335.17  125048.08   57630.02     55501.07        103652.58   \n",
       "\n",
       "   Cameras_Camcoders  Auto_Electronics  Wearable_Tech  Smart_homes  \n",
       "0           27930.71          32954.82       10344.16         0.01  \n",
       "1            5265.09          30149.20       14740.14         0.01  \n",
       "2            5265.09          33726.13       10139.42         0.01  \n",
       "3           28420.73          31585.78       12087.95        20.00  \n",
       "4           28420.73          28457.31       10871.74        20.00  \n",
       "\n",
       "[5 rows x 90 columns]"
      ]
     },
     "execution_count": 4,
     "metadata": {},
     "output_type": "execute_result"
    }
   ],
   "source": [
    "feature_df.head()"
   ]
  },
  {
   "cell_type": "code",
   "execution_count": 5,
   "metadata": {
    "collapsed": false
   },
   "outputs": [
    {
     "data": {
      "text/plain": [
       "array([[  4.23100000e+01,   2.57200000e+00,   1.03829000e+04, ...,\n",
       "          3.29548200e+04,   1.03441600e+04,   1.00000000e-02],\n",
       "       [  3.85100000e+01,   2.54800000e+00,   1.03829000e+04, ...,\n",
       "          3.01492000e+04,   1.47401400e+04,   1.00000000e-02],\n",
       "       [  3.99300000e+01,   2.51400000e+00,   1.03829000e+04, ...,\n",
       "          3.37261300e+04,   1.01394200e+04,   1.00000000e-02],\n",
       "       ..., \n",
       "       [  7.93700000e+01,   3.61400000e+00,   3.78994000e+03, ...,\n",
       "          6.46332000e+03,   1.06102000e+03,   7.00000000e+00],\n",
       "       [  8.28400000e+01,   3.73700000e+00,   2.96149000e+03, ...,\n",
       "          6.46332000e+03,   1.06102000e+03,   7.00000000e+00],\n",
       "       [  7.60600000e+01,   3.80400000e+00,   2.12020000e+02, ...,\n",
       "          6.46332000e+03,   1.06102000e+03,   7.00000000e+00]])"
      ]
     },
     "execution_count": 5,
     "metadata": {},
     "output_type": "execute_result"
    }
   ],
   "source": [
    "# convert df_sales to numpy array\n",
    "feature_df.values"
   ]
  },
  {
   "cell_type": "code",
   "execution_count": 6,
   "metadata": {
    "collapsed": false
   },
   "outputs": [
    {
     "data": {
      "text/plain": [
       "(8190, 90)"
      ]
     },
     "execution_count": 6,
     "metadata": {},
     "output_type": "execute_result"
    }
   ],
   "source": [
    "# calculate the shape of the numpy array (feature_df.values.shape)\n",
    "feature_df.values.shape"
   ]
  },
  {
   "cell_type": "code",
   "execution_count": 7,
   "metadata": {
    "collapsed": false
   },
   "outputs": [
    {
     "data": {
      "text/plain": [
       "array(['A', 'A', 'A', ..., 'B', 'B', 'B'], dtype=object)"
      ]
     },
     "execution_count": 7,
     "metadata": {},
     "output_type": "execute_result"
    }
   ],
   "source": [
    "# convert df['Type'] - the target to numpy array\n",
    "df['Type'].values"
   ]
  },
  {
   "cell_type": "code",
   "execution_count": 8,
   "metadata": {
    "collapsed": false
   },
   "outputs": [
    {
     "data": {
      "text/plain": [
       "(8190,)"
      ]
     },
     "execution_count": 8,
     "metadata": {},
     "output_type": "execute_result"
    }
   ],
   "source": [
    "# calculate the shape of the numpy array (df['Type'].values)\n",
    "df['Type'].values.shape"
   ]
  },
  {
   "cell_type": "code",
   "execution_count": 9,
   "metadata": {
    "collapsed": false
   },
   "outputs": [
    {
     "data": {
      "text/plain": [
       "(numpy.ndarray, numpy.ndarray)"
      ]
     },
     "execution_count": 9,
     "metadata": {},
     "output_type": "execute_result"
    }
   ],
   "source": [
    "# Confirm that both df_sales.values and df_targetIsHol.values are numpy arrays\n",
    "type(feature_df.values), type (df['Type'].values)"
   ]
  },
  {
   "cell_type": "code",
   "execution_count": 10,
   "metadata": {
    "collapsed": false
   },
   "outputs": [],
   "source": [
    "# Extracting features names\n",
    "feature_names = list(feature_df.columns.values)"
   ]
  },
  {
   "cell_type": "code",
   "execution_count": 11,
   "metadata": {
    "collapsed": false,
    "scrolled": true
   },
   "outputs": [
    {
     "data": {
      "text/plain": [
       "['Temperature',\n",
       " 'Fuel_Price',\n",
       " 'MarkDown1',\n",
       " 'MarkDown2',\n",
       " 'MarkDown3',\n",
       " 'MarkDown4',\n",
       " 'MarkDown5',\n",
       " 'CPI',\n",
       " 'Unemployment',\n",
       " 'Jewelry',\n",
       " 'Pets',\n",
       " 'TV_Video',\n",
       " 'Cell_Phones',\n",
       " 'Pharmaceutical ',\n",
       " 'Health_beauty',\n",
       " 'Toy ',\n",
       " 'Home_others',\n",
       " 'Kitchen',\n",
       " 'Bedding',\n",
       " 'Bathroom',\n",
       " 'Office_supplies ',\n",
       " 'School_Supplies',\n",
       " 'Home_Office',\n",
       " 'Craft_general',\n",
       " 'Floral',\n",
       " 'Beading',\n",
       " 'Paint',\n",
       " 'Framing',\n",
       " 'outdoor',\n",
       " 'Auto',\n",
       " 'School_Uniforms',\n",
       " 'Baby_Toddlers_Clothing',\n",
       " 'Baby_Kids_Shoes',\n",
       " 'Clearance_Clothings',\n",
       " 'Boys_Clothing',\n",
       " 'Girls_Clothing',\n",
       " 'Women_Clothing',\n",
       " 'Intimates_Sleepwears',\n",
       " 'Men_Clothings',\n",
       " 'Precious_Metals',\n",
       " 'Active_Wear',\n",
       " 'Adult_Shoes',\n",
       " 'Bags_Accessories',\n",
       " 'Sportswear',\n",
       " 'Computer',\n",
       " 'Music',\n",
       " 'Luggage',\n",
       " 'Food',\n",
       " 'Fruit',\n",
       " 'Grocery',\n",
       " 'Laundry',\n",
       " 'IPad_Tablets',\n",
       " 'Heating_Cooling',\n",
       " 'Swim_Shop',\n",
       " 'Gift_cards',\n",
       " 'Baby_Essentials',\n",
       " 'Cribs',\n",
       " 'Car_Seats',\n",
       " 'Strollers',\n",
       " 'Bikes',\n",
       " 'Photo',\n",
       " 'Household_Essentials',\n",
       " 'Air_Quality',\n",
       " 'Light_bulbs',\n",
       " 'Gardening',\n",
       " 'Building_Materials',\n",
       " 'Hardware',\n",
       " 'Electrical',\n",
       " 'Home_Safety',\n",
       " 'Tools',\n",
       " 'Teen_Room',\n",
       " 'Kids_Room',\n",
       " 'Lighting',\n",
       " 'Home_Decor',\n",
       " 'Mattresses',\n",
       " 'Furniture',\n",
       " 'Storage',\n",
       " 'Appliances',\n",
       " 'Pioneer_Woman',\n",
       " 'Computer_Software',\n",
       " 'Books',\n",
       " 'Musical_Instruments',\n",
       " 'Star_Wars',\n",
       " 'Movies_TV',\n",
       " 'Video_Games',\n",
       " 'Portable_Audios',\n",
       " 'Cameras_Camcoders',\n",
       " 'Auto_Electronics',\n",
       " 'Wearable_Tech',\n",
       " 'Smart_homes']"
      ]
     },
     "execution_count": 11,
     "metadata": {},
     "output_type": "execute_result"
    }
   ],
   "source": [
    "feature_names"
   ]
  },
  {
   "cell_type": "code",
   "execution_count": 12,
   "metadata": {
    "collapsed": false
   },
   "outputs": [],
   "source": [
    "# Extracting features names\n",
    "target_names = ['A', 'B', 'C']"
   ]
  },
  {
   "cell_type": "code",
   "execution_count": 13,
   "metadata": {
    "collapsed": true
   },
   "outputs": [],
   "source": [
    "# Assign X and y to the features and target data respectively\n",
    "X = feature_df.values\n",
    "y = df['Type'].values"
   ]
  },
  {
   "cell_type": "code",
   "execution_count": 14,
   "metadata": {
    "collapsed": true
   },
   "outputs": [],
   "source": [
    "from sklearn.model_selection import train_test_split\n",
    "X_train, X_test, y_train, y_test = train_test_split(X, y)"
   ]
  },
  {
   "cell_type": "code",
   "execution_count": 15,
   "metadata": {
    "collapsed": false
   },
   "outputs": [
    {
     "data": {
      "text/plain": [
       "StandardScaler(copy=True, with_mean=True, with_std=True)"
      ]
     },
     "execution_count": 15,
     "metadata": {},
     "output_type": "execute_result"
    }
   ],
   "source": [
    "from sklearn.preprocessing import StandardScaler\n",
    "scaler = StandardScaler()\n",
    "# Fit only to the training data\n",
    "scaler.fit(X_train)"
   ]
  },
  {
   "cell_type": "code",
   "execution_count": 16,
   "metadata": {
    "collapsed": true
   },
   "outputs": [],
   "source": [
    "# Now apply the transformations to the data:\n",
    "X_train = scaler.transform(X_train)\n",
    "X_test = scaler.transform(X_test)"
   ]
  },
  {
   "cell_type": "code",
   "execution_count": 17,
   "metadata": {
    "collapsed": true
   },
   "outputs": [],
   "source": [
    "from sklearn.neural_network import MLPClassifier"
   ]
  },
  {
   "cell_type": "code",
   "execution_count": 18,
   "metadata": {
    "collapsed": true
   },
   "outputs": [],
   "source": [
    "mlp = MLPClassifier(hidden_layer_sizes=(30,30,30))"
   ]
  },
  {
   "cell_type": "code",
   "execution_count": 19,
   "metadata": {
    "collapsed": false
   },
   "outputs": [],
   "source": [
    "clf = MLPClassifier(solver='lbfgs', alpha=1e-5,\n",
    "                    hidden_layer_sizes=(15,), random_state=1)"
   ]
  },
  {
   "cell_type": "code",
   "execution_count": 20,
   "metadata": {
    "collapsed": false
   },
   "outputs": [
    {
     "data": {
      "text/plain": [
       "MLPClassifier(activation='relu', alpha=1e-05, batch_size='auto', beta_1=0.9,\n",
       "       beta_2=0.999, early_stopping=False, epsilon=1e-08,\n",
       "       hidden_layer_sizes=(15,), learning_rate='constant',\n",
       "       learning_rate_init=0.001, max_iter=200, momentum=0.9,\n",
       "       nesterovs_momentum=True, power_t=0.5, random_state=1, shuffle=True,\n",
       "       solver='lbfgs', tol=0.0001, validation_fraction=0.1, verbose=False,\n",
       "       warm_start=False)"
      ]
     },
     "execution_count": 20,
     "metadata": {},
     "output_type": "execute_result"
    }
   ],
   "source": [
    "#fit the classifier to the X_train and y_train\n",
    "clf.fit(X_train, y_train)"
   ]
  },
  {
   "cell_type": "code",
   "execution_count": 21,
   "metadata": {
    "collapsed": false
   },
   "outputs": [
    {
     "data": {
      "text/plain": [
       "MLPClassifier(activation='relu', alpha=0.0001, batch_size='auto', beta_1=0.9,\n",
       "       beta_2=0.999, early_stopping=False, epsilon=1e-08,\n",
       "       hidden_layer_sizes=(30, 30, 30), learning_rate='constant',\n",
       "       learning_rate_init=0.001, max_iter=200, momentum=0.9,\n",
       "       nesterovs_momentum=True, power_t=0.5, random_state=None,\n",
       "       shuffle=True, solver='adam', tol=0.0001, validation_fraction=0.1,\n",
       "       verbose=False, warm_start=False)"
      ]
     },
     "execution_count": 21,
     "metadata": {},
     "output_type": "execute_result"
    }
   ],
   "source": [
    "mlp.fit(X_train,y_train)"
   ]
  },
  {
   "cell_type": "code",
   "execution_count": 22,
   "metadata": {
    "collapsed": true
   },
   "outputs": [],
   "source": [
    "predictions = mlp.predict(X_test)"
   ]
  },
  {
   "cell_type": "code",
   "execution_count": 23,
   "metadata": {
    "collapsed": false
   },
   "outputs": [
    {
     "name": "stdout",
     "output_type": "stream",
     "text": [
      "[[971  14  17]\n",
      " [ 17 741   6]\n",
      " [ 25   0 257]]\n"
     ]
    }
   ],
   "source": [
    "from sklearn.metrics import classification_report,confusion_matrix\n",
    "print(confusion_matrix(y_test,predictions))"
   ]
  },
  {
   "cell_type": "code",
   "execution_count": 24,
   "metadata": {
    "collapsed": false
   },
   "outputs": [
    {
     "name": "stdout",
     "output_type": "stream",
     "text": [
      "             precision    recall  f1-score   support\n",
      "\n",
      "          A       0.96      0.97      0.96      1002\n",
      "          B       0.98      0.97      0.98       764\n",
      "          C       0.92      0.91      0.91       282\n",
      "\n",
      "avg / total       0.96      0.96      0.96      2048\n",
      "\n"
     ]
    }
   ],
   "source": [
    "print(classification_report(y_test,predictions))"
   ]
  },
  {
   "cell_type": "code",
   "execution_count": 25,
   "metadata": {
    "collapsed": false
   },
   "outputs": [
    {
     "data": {
      "text/plain": [
       "4"
      ]
     },
     "execution_count": 25,
     "metadata": {},
     "output_type": "execute_result"
    }
   ],
   "source": [
    "len(mlp.coefs_)"
   ]
  },
  {
   "cell_type": "code",
   "execution_count": 26,
   "metadata": {
    "collapsed": false
   },
   "outputs": [
    {
     "data": {
      "text/plain": [
       "90"
      ]
     },
     "execution_count": 26,
     "metadata": {},
     "output_type": "execute_result"
    }
   ],
   "source": [
    "\n",
    "len(mlp.coefs_[0])"
   ]
  },
  {
   "cell_type": "code",
   "execution_count": 27,
   "metadata": {
    "collapsed": false
   },
   "outputs": [
    {
     "data": {
      "text/plain": [
       "30"
      ]
     },
     "execution_count": 27,
     "metadata": {},
     "output_type": "execute_result"
    }
   ],
   "source": [
    "len(mlp.intercepts_[0])"
   ]
  },
  {
   "cell_type": "markdown",
   "metadata": {},
   "source": [
    "### Visualization of MLP weights on RETAIL DATASET\n",
    "Sometimes looking at the learned coefficients of a neural network can provide insight into the learning behavior. For example if weights look unstructured, maybe some were not used at all, or if very large coefficients exist, maybe regularization was too low or the learning rate too high.\n",
    "\n",
    "This example shows how to plot some of the first layer weights in a MLPClassifier trained on the Retail dataset.\n",
    "\n",
    "The input data consists of data set of dimension 8190 x 90 (90 features in the dataset). Therefore the first layer weight matrix have the shape (90, hidden_layer_sizes[0]). We can therefore visualize a single column of the weight matrix as a 9 x 10 spatial appearance."
   ]
  },
  {
   "cell_type": "code",
   "execution_count": 56,
   "metadata": {
    "collapsed": true
   },
   "outputs": [],
   "source": [
    "fig, axes = plt.subplots(4, 4)\n",
    "# use global min / max to ensure all weights are shown on the same scale\n",
    "vmin, vmax = mlp.coefs_[0].min(), mlp.coefs_[0].max()"
   ]
  },
  {
   "cell_type": "code",
   "execution_count": 57,
   "metadata": {
    "collapsed": false
   },
   "outputs": [],
   "source": [
    "for coef, ax in zip(mlp.coefs_[0].T, axes.ravel()):\n",
    "    ax.matshow(coef.reshape(9,10), cmap=plt.cm.gray, vmin=.5 * vmin,\n",
    "               vmax=.5 * vmax)"
   ]
  },
  {
   "cell_type": "code",
   "execution_count": 58,
   "metadata": {
    "collapsed": false
   },
   "outputs": [
    {
     "data": {
      "image/png": "[encoded data removed]",
      "text/plain": [
       "<matplotlib.figure.Figure at 0xc295d68>"
      ]
     },
     "metadata": {},
     "output_type": "display_data"
    }
   ],
   "source": [
    "ax.set_xticks(())\n",
    "ax.set_yticks(())\n",
    "plt.show()"
   ]
  },
  {
   "cell_type": "markdown",
   "metadata": {},
   "source": [
    "###### Create a new column called df.target where the value is 0 if target is A, 1 if target is B and 2 if target is C\n",
    "target_df[target_df['Type'] == 'A']  = 0\n",
    "target_df[target_df['Type'] == 'B']  = 1\n",
    "target_df[target_df['Type'] == 'C']  = 2\n"
   ]
  },
  {
   "cell_type": "code",
   "execution_count": null,
   "metadata": {
    "collapsed": true
   },
   "outputs": [],
   "source": []
  },
  {
   "cell_type": "code",
   "execution_count": null,
   "metadata": {
    "collapsed": true
   },
   "outputs": [],
   "source": []
  }
 ],
 "metadata": {
  "kernelspec": {
   "display_name": "Python 3",
   "language": "python",
   "name": "python3"
  },
  "language_info": {
   "codemirror_mode": {
    "name": "ipython",
    "version": 3
   },
   "file_extension": ".py",
   "mimetype": "text/x-python",
   "name": "python",
   "nbconvert_exporter": "python",
   "pygments_lexer": "ipython3",
   "version": "3.6.0"
  }
 },
 "nbformat": 4,
 "nbformat_minor": 2
}
