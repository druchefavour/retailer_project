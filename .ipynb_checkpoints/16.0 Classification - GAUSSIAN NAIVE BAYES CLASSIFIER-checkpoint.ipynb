{
 "cells": [
  {
   "cell_type": "markdown",
   "metadata": {},
   "source": [
    "### 14.0.0 Problem Statement\n",
    "Decision tree learning uses a decision tree (as a predictive model) to go from observations about an item (represented in the branches) to conclusions about the item's target value (represented in the leaves). In these tree structures, leaves represent class labels and branches represent conjunctions of features that lead to those class labels. Decision trees where the target variable can take continuous values (typically real numbers) are called regression trees.\n",
    "\n",
    "Once we completed modeling the Decision Tree classifier, we will use the trained model to predict whether the more sales are carried out during holidays or during ordinary days. \n",
    "\n",
    "\n",
    "### 14.0.1 Assumptions we make while using Decision tree\n",
    "* In the beginning, the whole training set is considered at the root.\n",
    "* Feature values are preferred to be categorical. If values are continuous then they are discretized prior to building the model.\n",
    "* Records are distributed recursively on the basis of attribute values.\n",
    "* Order to placing attributes as root or internal node of the tree is done by using some statistical approach."
   ]
  },
  {
   "cell_type": "markdown",
   "metadata": {},
   "source": [
    "### 14.0.2 Decision Tree Algorithm Pseudocode\n",
    "* Place the best attribute of our dataset at the root of the tree.\n",
    "* Split the training set into subsets. Subsets should be made in such a way that each subset contains data with the same value for an attribute.\n",
    "* Repeat step 1 and step 2 on each subset until you find leaf nodes in all the branches of the tree.\n",
    "\n",
    "In the process of building our decision tree classifier, we can improve its accuracy by tuning it with different parameters. This will be done carefully since by doing this our algorithm can overfit on our training data and ultimately it will build bad generalization model"
   ]
  },
  {
   "cell_type": "markdown",
   "metadata": {},
   "source": [
    "### 14.0.3 Importing Python Machine Learning Libraries\n",
    "This section involves importing all the libraries we are going to use. We are importing numpy and sklearn train_test_split, DecisionTreeClassifier & accuracy_score modules.\n",
    "\n",
    "Numpy arrays and pandas dataframes will help us in manipulating data. As discussed above, sklearn is a machine learning library. The cross_validation’s train_test_split() method will help us by splitting data into train & test set.\n",
    "\n",
    "The tree module will be used to build a Decision Tree Classifier. Accutacy_score module will be used to calculate accuracy metrics from the predicted class variables."
   ]
  },
  {
   "cell_type": "code",
   "execution_count": 1,
   "metadata": {
    "collapsed": false
   },
   "outputs": [
    {
     "name": "stderr",
     "output_type": "stream",
     "text": [
      "C:\\Users\\Angus\\Anaconda3\\lib\\site-packages\\sklearn\\cross_validation.py:41: DeprecationWarning: This module was deprecated in version 0.18 in favor of the model_selection module into which all the refactored classes and functions are moved. Also note that the interface of the new CV iterators are different from that of this module. This module will be removed in 0.20.\n",
      "  \"This module will be removed in 0.20.\", DeprecationWarning)\n"
     ]
    }
   ],
   "source": [
    "#Import numpy and pandas as their standard aliases. Also import other important variables\n",
    "import numpy as np\n",
    "import pandas as pd\n",
    "from sklearn import datasets\n",
    "import matplotlib.pyplot as plt\n",
    "from sklearn.cross_validation import train_test_split\n",
    "from sklearn.tree import DecisionTreeClassifier\n",
    "from sklearn.metrics import accuracy_score\n",
    "from sklearn import tree\n",
    "plt.style.use('ggplot')\n",
    "%matplotlib inline"
   ]
  },
  {
   "cell_type": "markdown",
   "metadata": {},
   "source": [
    "### Data Importing\n",
    "For importing the data and manipulating it, we are going to use pandas dataframes. First of all, we will download the dataset. "
   ]
  },
  {
   "cell_type": "code",
   "execution_count": 2,
   "metadata": {
    "collapsed": true
   },
   "outputs": [],
   "source": [
    "# Read the file 'master_dataset.xlsx' into a DataFrame df using the read_xls() function.\n",
    "df = pd.read_excel('master_dataset.xlsx', sheetname='Sheet1')"
   ]
  },
  {
   "cell_type": "markdown",
   "metadata": {},
   "source": [
    "We are saving our data into “df” dataframe. For checking the length & dimensions of our dataframe, we can use len() method & “.shape” and fpr checking the features names and information about the data set, we use .keys and .info"
   ]
  },
  {
   "cell_type": "code",
   "execution_count": 3,
   "metadata": {
    "collapsed": false
   },
   "outputs": [
    {
     "name": "stdout",
     "output_type": "stream",
     "text": [
      "Index(['Store', 'Date', 'Temperature', 'Fuel_Price', 'MarkDown1', 'MarkDown2',\n",
      "       'MarkDown3', 'MarkDown4', 'MarkDown5', 'CPI', 'Unemployment',\n",
      "       'IsHoliday', 'Type', 'Size', 'Jewelry', 'Pets', 'TV_Video',\n",
      "       'Cell_Phones', 'Pharmaceutical ', 'Health_beauty', 'Toy ',\n",
      "       'Home_others', 'Kitchen', 'Bedding', 'Bathroom', 'Office_supplies ',\n",
      "       'School_Supplies', 'Home_Office', 'Craft_general', 'Floral', 'Beading',\n",
      "       'Paint', 'Framing', 'outdoor', 'Auto', 'School_Uniforms',\n",
      "       'Baby_Toddlers_Clothing', 'Baby_Kids_Shoes', 'Clearance_Clothings',\n",
      "       'Boys_Clothing', 'Girls_Clothing', 'Women_Clothing',\n",
      "       'Intimates_Sleepwears', 'Men_Clothings', 'Precious_Metals',\n",
      "       'Active_Wear', 'Adult_Shoes', 'Bags_Accessories', 'Sportswear',\n",
      "       'Computer', 'Music', 'Luggage', 'Food', 'Fruit', 'Grocery', 'Laundry',\n",
      "       'IPad_Tablets', 'Heating_Cooling', 'Swim_Shop', 'Gift_cards',\n",
      "       'Baby_Essentials', 'Cribs', 'Car_Seats', 'Strollers', 'Bikes', 'Photo',\n",
      "       'Household_Essentials', 'Air_Quality', 'Light_bulbs', 'Gardening',\n",
      "       'Building_Materials', 'Hardware', 'Electrical', 'Home_Safety', 'Tools',\n",
      "       'Teen_Room', 'Kids_Room', 'Lighting', 'Home_Decor', 'Mattresses',\n",
      "       'Furniture', 'Storage', 'Appliances', 'Pioneer_Woman',\n",
      "       'Computer_Software', 'Books', 'Musical_Instruments', 'Star_Wars',\n",
      "       'Movies_TV', 'Video_Games', 'Portable_Audios', 'Cameras_Camcoders',\n",
      "       'Auto_Electronics', 'Wearable_Tech', 'Smart_homes'],\n",
      "      dtype='object')\n"
     ]
    }
   ],
   "source": [
    "# Use keys() method to return a list of all the available keys in the dataframe.\n",
    "print(df.keys())"
   ]
  },
  {
   "cell_type": "code",
   "execution_count": 4,
   "metadata": {
    "collapsed": false
   },
   "outputs": [
    {
     "name": "stdout",
     "output_type": "stream",
     "text": [
      "<class 'pandas.core.frame.DataFrame'>\n",
      "Int64Index: 8190 entries, 0 to 8189\n",
      "Data columns (total 95 columns):\n",
      "Store                     8190 non-null int64\n",
      "Date                      8190 non-null datetime64[ns]\n",
      "Temperature               8190 non-null float64\n",
      "Fuel_Price                8190 non-null float64\n",
      "MarkDown1                 8190 non-null float64\n",
      "MarkDown2                 8190 non-null float64\n",
      "MarkDown3                 8190 non-null float64\n",
      "MarkDown4                 8190 non-null float64\n",
      "MarkDown5                 8190 non-null float64\n",
      "CPI                       8190 non-null float64\n",
      "Unemployment              8190 non-null float64\n",
      "IsHoliday                 8190 non-null bool\n",
      "Type                      8190 non-null object\n",
      "Size                      8190 non-null int64\n",
      "Jewelry                   8190 non-null float64\n",
      "Pets                      8190 non-null float64\n",
      "TV_Video                  8190 non-null float64\n",
      "Cell_Phones               8190 non-null float64\n",
      "Pharmaceutical            8190 non-null float64\n",
      "Health_beauty             8190 non-null float64\n",
      "Toy                       8190 non-null float64\n",
      "Home_others               8190 non-null float64\n",
      "Kitchen                   8190 non-null float64\n",
      "Bedding                   8190 non-null float64\n",
      "Bathroom                  8190 non-null float64\n",
      "Office_supplies           8190 non-null float64\n",
      "School_Supplies           8190 non-null float64\n",
      "Home_Office               8190 non-null float64\n",
      "Craft_general             8190 non-null float64\n",
      "Floral                    8190 non-null float64\n",
      "Beading                   8190 non-null float64\n",
      "Paint                     8190 non-null float64\n",
      "Framing                   8190 non-null float64\n",
      "outdoor                   8190 non-null float64\n",
      "Auto                      8190 non-null float64\n",
      "School_Uniforms           8190 non-null float64\n",
      "Baby_Toddlers_Clothing    8190 non-null float64\n",
      "Baby_Kids_Shoes           8190 non-null float64\n",
      "Clearance_Clothings       8190 non-null float64\n",
      "Boys_Clothing             8190 non-null float64\n",
      "Girls_Clothing            8190 non-null float64\n",
      "Women_Clothing            8190 non-null float64\n",
      "Intimates_Sleepwears      8190 non-null float64\n",
      "Men_Clothings             8190 non-null float64\n",
      "Precious_Metals           8190 non-null float64\n",
      "Active_Wear               8190 non-null float64\n",
      "Adult_Shoes               8190 non-null float64\n",
      "Bags_Accessories          8190 non-null float64\n",
      "Sportswear                8190 non-null float64\n",
      "Computer                  8190 non-null float64\n",
      "Music                     8190 non-null float64\n",
      "Luggage                   8190 non-null float64\n",
      "Food                      8190 non-null float64\n",
      "Fruit                     8190 non-null float64\n",
      "Grocery                   8190 non-null float64\n",
      "Laundry                   8190 non-null float64\n",
      "IPad_Tablets              8190 non-null float64\n",
      "Heating_Cooling           8190 non-null float64\n",
      "Swim_Shop                 8190 non-null float64\n",
      "Gift_cards                8190 non-null float64\n",
      "Baby_Essentials           8190 non-null float64\n",
      "Cribs                     8190 non-null float64\n",
      "Car_Seats                 8190 non-null float64\n",
      "Strollers                 8190 non-null float64\n",
      "Bikes                     8190 non-null float64\n",
      "Photo                     8190 non-null float64\n",
      "Household_Essentials      8190 non-null float64\n",
      "Air_Quality               8190 non-null float64\n",
      "Light_bulbs               8190 non-null float64\n",
      "Gardening                 8190 non-null float64\n",
      "Building_Materials        8190 non-null float64\n",
      "Hardware                  8190 non-null float64\n",
      "Electrical                8190 non-null float64\n",
      "Home_Safety               8190 non-null float64\n",
      "Tools                     8190 non-null float64\n",
      "Teen_Room                 8190 non-null float64\n",
      "Kids_Room                 8190 non-null float64\n",
      "Lighting                  8190 non-null float64\n",
      "Home_Decor                8190 non-null float64\n",
      "Mattresses                8190 non-null float64\n",
      "Furniture                 8190 non-null float64\n",
      "Storage                   8190 non-null float64\n",
      "Appliances                8190 non-null float64\n",
      "Pioneer_Woman             8190 non-null float64\n",
      "Computer_Software         8190 non-null float64\n",
      "Books                     8190 non-null float64\n",
      "Musical_Instruments       8190 non-null float64\n",
      "Star_Wars                 8190 non-null float64\n",
      "Movies_TV                 8190 non-null float64\n",
      "Video_Games               8190 non-null float64\n",
      "Portable_Audios           8190 non-null float64\n",
      "Cameras_Camcoders         8190 non-null float64\n",
      "Auto_Electronics          8190 non-null float64\n",
      "Wearable_Tech             8190 non-null float64\n",
      "Smart_homes               8190 non-null float64\n",
      "dtypes: bool(1), datetime64[ns](1), float64(90), int64(2), object(1)\n",
      "memory usage: 5.9+ MB\n"
     ]
    }
   ],
   "source": [
    "# Use the info() method to display all informations of my data frame\n",
    "df.info()"
   ]
  },
  {
   "cell_type": "code",
   "execution_count": 5,
   "metadata": {
    "collapsed": false
   },
   "outputs": [
    {
     "name": "stdout",
     "output_type": "stream",
     "text": [
      "Dataset Lenght::  8190\n",
      "Dataset Shape::  (8190, 95)\n"
     ]
    }
   ],
   "source": [
    "#Data set shape\n",
    "print (\"Dataset Lenght:: \", len(df))\n",
    "print (\"Dataset Shape:: \", df.shape)"
   ]
  },
  {
   "cell_type": "markdown",
   "metadata": {},
   "source": [
    "We will now select the features that we will use for thid particular analysis."
   ]
  },
  {
   "cell_type": "code",
   "execution_count": 6,
   "metadata": {
    "collapsed": true
   },
   "outputs": [],
   "source": [
    "# Select the Sales features and call the new dataframe 'df_sales'\n",
    "df_sales = df.iloc[:,14:95]"
   ]
  },
  {
   "cell_type": "markdown",
   "metadata": {},
   "source": [
    "We can print head i.e, top 5 lines of our the sales-dataframe using head() method."
   ]
  },
  {
   "cell_type": "code",
   "execution_count": 7,
   "metadata": {
    "collapsed": false
   },
   "outputs": [
    {
     "name": "stdout",
     "output_type": "stream",
     "text": [
      "Dataset::      Jewelry      Pets  TV_Video  Cell_Phones  Pharmaceutical   Health_beauty  \\\n",
      "0  20094.19  45829.02   9775.17     34912.45         23381.38        2876.19   \n",
      "1  57258.43  47450.50  11157.08     37809.49         29967.92        4132.61   \n",
      "2  16333.14  47077.72   7857.88     39773.71         18887.71        4541.91   \n",
      "3  41595.55  47928.89  11523.47     36826.95         26468.27        6060.26   \n",
      "4  19403.54  44292.87  11135.17     34660.16         24101.89        5244.56   \n",
      "\n",
      "       Toy   Home_others   Kitchen   Bedding     ...          Books  \\\n",
      "0  16481.79     34658.25  44977.91  29764.24     ...       73315.81   \n",
      "1  22427.62     38151.58  25435.02  31794.04     ...       77280.42   \n",
      "2  22589.00     35580.01  21032.55  29779.96     ...       78602.71   \n",
      "3  19985.20     38717.60  15880.85  29634.13     ...       76091.36   \n",
      "4  17224.22     35318.20  15175.52  27921.96     ...       71718.48   \n",
      "\n",
      "   Musical_Instruments  Star_Wars  Movies_TV  Video_Games  Portable_Audios  \\\n",
      "0             57022.45  118966.90   58034.24     56157.83        113009.41   \n",
      "1             57845.36  126907.41   63245.00     66172.11        111466.37   \n",
      "2             59462.22  122267.65   69962.56     62795.87        124821.44   \n",
      "3             63011.44  135066.75   62581.64     72212.32        107952.07   \n",
      "4             57335.17  125048.08   57630.02     55501.07        103652.58   \n",
      "\n",
      "   Cameras_Camcoders  Auto_Electronics  Wearable_Tech  Smart_homes  \n",
      "0           27930.71          32954.82       10344.16         0.01  \n",
      "1            5265.09          30149.20       14740.14         0.01  \n",
      "2            5265.09          33726.13       10139.42         0.01  \n",
      "3           28420.73          31585.78       12087.95        20.00  \n",
      "4           28420.73          28457.31       10871.74        20.00  \n",
      "\n",
      "[5 rows x 81 columns]\n"
     ]
    }
   ],
   "source": [
    "#Dataset top observations\n",
    "print (\"Dataset:: \", df_sales.head())"
   ]
  },
  {
   "cell_type": "code",
   "execution_count": 8,
   "metadata": {
    "collapsed": true
   },
   "outputs": [],
   "source": [
    "# Select 'IsHoliday' column as the target and call the new data frame 'df_targetIsHol'\n",
    "df_targetIsHol = df['IsHoliday']"
   ]
  },
  {
   "cell_type": "code",
   "execution_count": 9,
   "metadata": {
    "collapsed": false
   },
   "outputs": [
    {
     "data": {
      "text/plain": [
       "0    False\n",
       "1     True\n",
       "2    False\n",
       "3    False\n",
       "4    False\n",
       "Name: IsHoliday, dtype: bool"
      ]
     },
     "execution_count": 9,
     "metadata": {},
     "output_type": "execute_result"
    }
   ],
   "source": [
    "df_targetIsHol.head()"
   ]
  },
  {
   "cell_type": "code",
   "execution_count": 10,
   "metadata": {
    "collapsed": false
   },
   "outputs": [
    {
     "data": {
      "text/plain": [
       "array([[  2.00941900e+04,   4.58290200e+04,   9.77517000e+03, ...,\n",
       "          3.29548200e+04,   1.03441600e+04,   1.00000000e-02],\n",
       "       [  5.72584300e+04,   4.74505000e+04,   1.11570800e+04, ...,\n",
       "          3.01492000e+04,   1.47401400e+04,   1.00000000e-02],\n",
       "       [  1.63331400e+04,   4.70777200e+04,   7.85788000e+03, ...,\n",
       "          3.37261300e+04,   1.01394200e+04,   1.00000000e-02],\n",
       "       ..., \n",
       "       [  1.61091500e+04,   3.36341200e+04,   6.88010000e+03, ...,\n",
       "          6.46332000e+03,   1.06102000e+03,   7.00000000e+00],\n",
       "       [  1.61091500e+04,   3.36341200e+04,   6.88010000e+03, ...,\n",
       "          6.46332000e+03,   1.06102000e+03,   7.00000000e+00],\n",
       "       [  1.61091500e+04,   3.36341200e+04,   6.88010000e+03, ...,\n",
       "          6.46332000e+03,   1.06102000e+03,   7.00000000e+00]])"
      ]
     },
     "execution_count": 10,
     "metadata": {},
     "output_type": "execute_result"
    }
   ],
   "source": [
    "# convert df_sales to numpy array\n",
    "df_sales.values"
   ]
  },
  {
   "cell_type": "code",
   "execution_count": 11,
   "metadata": {
    "collapsed": false
   },
   "outputs": [
    {
     "data": {
      "text/plain": [
       "(8190, 81)"
      ]
     },
     "execution_count": 11,
     "metadata": {},
     "output_type": "execute_result"
    }
   ],
   "source": [
    "# calculate the shape of the numpy array (df_sales.values)\n",
    "df_sales.values.shape"
   ]
  },
  {
   "cell_type": "code",
   "execution_count": 12,
   "metadata": {
    "collapsed": false
   },
   "outputs": [
    {
     "data": {
      "text/plain": [
       "array([False,  True, False, ..., False, False, False], dtype=bool)"
      ]
     },
     "execution_count": 12,
     "metadata": {},
     "output_type": "execute_result"
    }
   ],
   "source": [
    "# convert df_targetIsHol to numpy array\n",
    "df_targetIsHol.values"
   ]
  },
  {
   "cell_type": "code",
   "execution_count": 13,
   "metadata": {
    "collapsed": false
   },
   "outputs": [
    {
     "data": {
      "text/plain": [
       "(8190,)"
      ]
     },
     "execution_count": 13,
     "metadata": {},
     "output_type": "execute_result"
    }
   ],
   "source": [
    "# calculate the shape of the numpy array (df_targetIsHol.values)\n",
    "df_targetIsHol.values.shape"
   ]
  },
  {
   "cell_type": "code",
   "execution_count": 14,
   "metadata": {
    "collapsed": false
   },
   "outputs": [
    {
     "data": {
      "text/plain": [
       "(numpy.ndarray, numpy.ndarray)"
      ]
     },
     "execution_count": 14,
     "metadata": {},
     "output_type": "execute_result"
    }
   ],
   "source": [
    "# Confirm that both df_sales.values and df_targetIsHol.values are numpy arrays\n",
    "type(df_sales.values), type (df_targetIsHol.values)"
   ]
  },
  {
   "cell_type": "markdown",
   "metadata": {},
   "source": [
    "Thus we have 8190 samples and 81 features"
   ]
  },
  {
   "cell_type": "markdown",
   "metadata": {},
   "source": [
    "### 14.0.4 Data Slicing\n",
    "\n",
    "Data slicing is a step to split data into train and test set. Training data set can be used specifically for our model building. We separate the Test dataset from the Training data set."
   ]
  },
  {
   "cell_type": "code",
   "execution_count": 15,
   "metadata": {
    "collapsed": true
   },
   "outputs": [],
   "source": [
    "# Assign X and y to the features and target data respectively\n",
    "X = df_sales.values\n",
    "y = df_targetIsHol.values\n"
   ]
  },
  {
   "cell_type": "code",
   "execution_count": 16,
   "metadata": {
    "collapsed": false
   },
   "outputs": [],
   "source": [
    "# Build the data frame of the feature data\n",
    "df_feature = pd.DataFrame(X, columns=df_sales.columns.values)"
   ]
  },
  {
   "cell_type": "markdown",
   "metadata": {},
   "source": [
    "### 14.0.5 Measuring the Model's Performance\n",
    "The above snippet divides data into feature set & target set. The “X ” set consists of predictor variables. It consists of data from 4th column to 95th column. The “Y” set consists of the outcome variable. It consists of data in the 1st column. We are using “.values” of numpy converting our dataframes into numpy arrays.\n",
    "\n",
    "Let’s split our data into training and test set. We will use sklearn’s train_test_split() method to split the data into:\n",
    "\n",
    "* a training set\n",
    "* a test set\n",
    "\n",
    "We will fit/train the classifier on the training set, then we will make predictions on the test set. And then we will compare the prediction with the known labels by computing the accuracy of the model.\n"
   ]
  },
  {
   "cell_type": "code",
   "execution_count": 17,
   "metadata": {
    "collapsed": true
   },
   "outputs": [],
   "source": [
    "# randomly split the data so that the test_size will be 1/3 of the initial sample size\n",
    "X_train, X_test, y_train, y_test = train_test_split(X, y, test_size=0.3, \n",
    "                                                    random_state=21, stratify=y)"
   ]
  },
  {
   "cell_type": "markdown",
   "metadata": {},
   "source": [
    "The above snippet will split data into training and test set. X_train, y_train are training data &  X_test, y_test belongs to the test dataset.\n",
    "\n",
    "The parameter test_size is given value 0.3; it means test sets will be 30% of whole dataset  & training dataset’s size will be 70% of the entire dataset. random_state variable is a pseudo-random number generator state used for random sampling. "
   ]
  },
  {
   "cell_type": "markdown",
   "metadata": {},
   "source": [
    "### 14.0.6 Decision Tree Training\n",
    "Now we fit Decision tree algorithm on training data, predicting labels for validation dataset and printing the accuracy of the model using various parameters.\n",
    "\n",
    "#### DecisionTreeClassifier(): \n",
    "This is the classifier function for DecisionTree. It is the main function for implementing the algorithms. Some important parameters are:\n",
    "\n",
    "#### criterion: \n",
    "It defines the function to measure the quality of a split. Sklearn supports “gini” criteria for Gini Index & “entropy” for Information Gain. By default, it takes “gini” value.\n",
    "\n",
    "#### splitter: \n",
    "It defines the strategy to choose the split at each node. Supports “best” value to choose the best split & “random” to choose the best random split. By default, it takes “best” value.\n",
    "\n",
    "#### max_features: \n",
    "It defines the no. of features to consider when looking for the best split. We can input integer, float, string & None value.\n",
    "* If an integer is inputted then it considers that value as max features at each split.\n",
    "* If float value is taken then it shows the percentage of features at each split.\n",
    "* If “auto” or “sqrt” is taken then max_features=sqrt(n_features).\n",
    "* If “log2” is taken then max_features= log2(n_features).\n",
    "* If None, then max_features=n_features. By default, it takes “None” value.\n",
    "\n",
    "#### max_depth: \n",
    "The max_depth parameter denotes maximum depth of the tree. It can take any integer value or None. If None, then nodes are expanded until all leaves are pure or until all leaves contain less than min_samples_split samples. By default, it takes “None” value.\n",
    "\n",
    "#### min_samples_split: \n",
    "This tells above the minimum no. of samples reqd. to split an internal node. If an integer value is taken then consider min_samples_split as the minimum no. If float, then it shows percentage. By default, it takes “2” value.\n",
    "\n",
    "#### min_samples_leaf: \n",
    "The minimum number of samples required to be at a leaf node. If an integer value is taken then consider min_samples_leaf as the minimum no. If float, then it shows percentage. By default, it takes “1” value.\n",
    "\n",
    "#### max_leaf_nodes:\n",
    "It defines the maximum number of possible leaf nodes. If None then it takes an unlimited number of leaf nodes. By default, it takes “None” value.\n",
    "\n",
    "#### min_impurity_split: \n",
    "It defines the threshold for early stopping tree growth. A node will split if its impurity is above the threshold otherwise it is a leaf.\n",
    "\n",
    "We will now build classifiers using criterion as gini index and information gain. We need to fit our classifier using fit(). We will plot our decision tree classifier’s visualization too."
   ]
  },
  {
   "cell_type": "markdown",
   "metadata": {},
   "source": [
    "### 14.0.7 Decision Tree Classifier with criterion gini index"
   ]
  },
  {
   "cell_type": "code",
   "execution_count": 18,
   "metadata": {
    "collapsed": true
   },
   "outputs": [],
   "source": [
    "clf_gini = DecisionTreeClassifier(criterion = \"gini\", random_state = 100,\n",
    "                               max_depth=3, min_samples_leaf=5)"
   ]
  },
  {
   "cell_type": "code",
   "execution_count": 19,
   "metadata": {
    "collapsed": false
   },
   "outputs": [
    {
     "data": {
      "text/plain": [
       "DecisionTreeClassifier(class_weight=None, criterion='gini', max_depth=3,\n",
       "            max_features=None, max_leaf_nodes=None,\n",
       "            min_impurity_decrease=0.0, min_impurity_split=None,\n",
       "            min_samples_leaf=5, min_samples_split=2,\n",
       "            min_weight_fraction_leaf=0.0, presort=False, random_state=100,\n",
       "            splitter='best')"
      ]
     },
     "execution_count": 19,
     "metadata": {},
     "output_type": "execute_result"
    }
   ],
   "source": [
    "clf_gini.fit(X_train, y_train)"
   ]
  },
  {
   "cell_type": "markdown",
   "metadata": {},
   "source": [
    "### 14.0.8 Decision Tree Classifier with criterion information gain"
   ]
  },
  {
   "cell_type": "code",
   "execution_count": 20,
   "metadata": {
    "collapsed": false
   },
   "outputs": [
    {
     "data": {
      "text/plain": [
       "DecisionTreeClassifier(class_weight=None, criterion='entropy', max_depth=3,\n",
       "            max_features=None, max_leaf_nodes=None,\n",
       "            min_impurity_decrease=0.0, min_impurity_split=None,\n",
       "            min_samples_leaf=5, min_samples_split=2,\n",
       "            min_weight_fraction_leaf=0.0, presort=False, random_state=100,\n",
       "            splitter='best')"
      ]
     },
     "execution_count": 20,
     "metadata": {},
     "output_type": "execute_result"
    }
   ],
   "source": [
    "clf_entropy = DecisionTreeClassifier(criterion = \"entropy\", random_state = 100,\n",
    " max_depth=3, min_samples_leaf=5)\n",
    "clf_entropy.fit(X_train, y_train)"
   ]
  },
  {
   "cell_type": "code",
   "execution_count": 21,
   "metadata": {
    "collapsed": false
   },
   "outputs": [
    {
     "data": {
      "text/plain": [
       "DecisionTreeClassifier(class_weight=None, criterion='entropy', max_depth=3,\n",
       "            max_features=None, max_leaf_nodes=None,\n",
       "            min_impurity_decrease=0.0, min_impurity_split=None,\n",
       "            min_samples_leaf=5, min_samples_split=2,\n",
       "            min_weight_fraction_leaf=0.0, presort=False, random_state=100,\n",
       "            splitter='best')"
      ]
     },
     "execution_count": 21,
     "metadata": {},
     "output_type": "execute_result"
    }
   ],
   "source": [
    "DecisionTreeClassifier(class_weight=None, criterion='entropy', max_depth=3,\n",
    "            max_features=None, max_leaf_nodes=None, min_samples_leaf=5,\n",
    "            min_samples_split=2, min_weight_fraction_leaf=0.0,\n",
    "            presort=False, random_state=100, splitter='best')"
   ]
  },
  {
   "cell_type": "markdown",
   "metadata": {},
   "source": [
    "### 14.0.9 Prediction\n",
    "Now, we have modeled 2 classifiers. One classifier with gini index and another one with information gain as the criterion. We are ready to predict classes for our test set. We can use predict() method."
   ]
  },
  {
   "cell_type": "markdown",
   "metadata": {},
   "source": [
    "### 14.0.9.0 Prediction for Decision Tree classifier with criterion as gini index"
   ]
  },
  {
   "cell_type": "code",
   "execution_count": 22,
   "metadata": {
    "collapsed": false
   },
   "outputs": [
    {
     "data": {
      "text/plain": [
       "array([False, False, False, ..., False, False, False], dtype=bool)"
      ]
     },
     "execution_count": 22,
     "metadata": {},
     "output_type": "execute_result"
    }
   ],
   "source": [
    "y_pred = clf_gini.predict(X_test)\n",
    "y_pred"
   ]
  },
  {
   "cell_type": "markdown",
   "metadata": {},
   "source": [
    "### 14.0.10.0 Prediction for Decision Tree classifier with criterion as information gain"
   ]
  },
  {
   "cell_type": "code",
   "execution_count": 23,
   "metadata": {
    "collapsed": false
   },
   "outputs": [
    {
     "data": {
      "text/plain": [
       "array([False, False, False, ..., False, False, False], dtype=bool)"
      ]
     },
     "execution_count": 23,
     "metadata": {},
     "output_type": "execute_result"
    }
   ],
   "source": [
    "y_pred_en = clf_entropy.predict(X_test)\n",
    "y_pred_en"
   ]
  },
  {
   "cell_type": "markdown",
   "metadata": {},
   "source": [
    "### 14.0.5 Model Accuracy\n",
    "The function accuracy_score() will be used to print accuracy of Decision Tree algorithm. By accuracy, we mean the ratio of the correctly predicted data points to all the predicted data points. Accuracy as a metric helps to understand the effectiveness of our algorithm. It takes 4 parameters.\n",
    "\n",
    "y_true,\n",
    "y_pred,\n",
    "normalize,\n",
    "sample_weight.\n",
    "Out of these 4, normalize & sample_weight are optional parameters. The parameter y_true  accepts an array of correct labels and y_pred takes an array of predicted labels that are returned by the classifier. It returns accuracy as a float value."
   ]
  },
  {
   "cell_type": "markdown",
   "metadata": {},
   "source": [
    "### 14.0.11 Accuracy for Decision Tree classifier with criterion as gini index"
   ]
  },
  {
   "cell_type": "code",
   "execution_count": 24,
   "metadata": {
    "collapsed": false
   },
   "outputs": [
    {
     "name": "stdout",
     "output_type": "stream",
     "text": [
      "Accuracy is  92.6332926333\n"
     ]
    }
   ],
   "source": [
    "print (\"Accuracy is \", accuracy_score(y_test,y_pred)*100)"
   ]
  },
  {
   "cell_type": "markdown",
   "metadata": {},
   "source": [
    "### 14.0.12 Accuracy for Decision Tree classifier with criterion as information gain"
   ]
  },
  {
   "cell_type": "code",
   "execution_count": 25,
   "metadata": {
    "collapsed": false
   },
   "outputs": [
    {
     "name": "stdout",
     "output_type": "stream",
     "text": [
      "Accuracy is  92.673992674\n"
     ]
    }
   ],
   "source": [
    "print (\"Accuracy is \", accuracy_score(y_test,y_pred_en)*100)"
   ]
  },
  {
   "cell_type": "markdown",
   "metadata": {},
   "source": [
    "### 14.0.13 Decision Boundary Plot"
   ]
  },
  {
   "cell_type": "code",
   "execution_count": 26,
   "metadata": {
    "collapsed": false
   },
   "outputs": [
    {
     "data": {
      "text/plain": [
       "<matplotlib.text.Text at 0xbf8ea90>"
      ]
     },
     "execution_count": 26,
     "metadata": {},
     "output_type": "execute_result"
    },
    {
     "data": {
      "image/png": "[encoded data removed]",
      "text/plain": [
       "<matplotlib.figure.Figure at 0xa3032e8>"
      ]
     },
     "metadata": {},
     "output_type": "display_data"
    }
   ],
   "source": [
    "# Plot the decision boundary. For that, we will assign a color to each\n",
    "plt.scatter(X[:, 0], X[:, 1], c=y, cmap=plt.cm.Paired, edgecolors='k')\n",
    "plt.title('3-Class classification using Decision Tree Classifier with custom'\n",
    "          ' kernel')"
   ]
  },
  {
   "cell_type": "code",
   "execution_count": 27,
   "metadata": {
    "collapsed": false
   },
   "outputs": [
    {
     "data": {
      "text/plain": [
       "<matplotlib.text.Text at 0xc8d9c50>"
      ]
     },
     "execution_count": 27,
     "metadata": {},
     "output_type": "execute_result"
    },
    {
     "data": {
      "image/png": "[encoded data removed]",
      "text/plain": [
       "<matplotlib.figure.Figure at 0xc74cba8>"
      ]
     },
     "metadata": {},
     "output_type": "display_data"
    }
   ],
   "source": [
    "# Plot the decision boundary. For that, we will assign a color to each\n",
    "plt.scatter(X[:, 0], X[:, 2], c=y, cmap=plt.cm.Paired, edgecolors='k')\n",
    "plt.title('3-Class classification using Decision Tree Classifier with custom'\n",
    "          ' kernel')"
   ]
  },
  {
   "cell_type": "markdown",
   "metadata": {
    "collapsed": false,
    "scrolled": true
   },
   "source": [
    "### 14.0.13 Conclusion\n",
    "In this section, we have modeled the decision tree for the retail store data set. In the process, we split the data into train and test dataset and we modeled decision tree classifier using the information gain, and gini index split criteria. In the end, we calucalte the accuracy of these two decision tree models."
   ]
  },
  {
   "cell_type": "code",
   "execution_count": null,
   "metadata": {
    "collapsed": true
   },
   "outputs": [],
   "source": []
  },
  {
   "cell_type": "code",
   "execution_count": null,
   "metadata": {
    "collapsed": true
   },
   "outputs": [],
   "source": []
  }
 ],
 "metadata": {
  "kernelspec": {
   "display_name": "Python 3",
   "language": "python",
   "name": "python3"
  },
  "language_info": {
   "codemirror_mode": {
    "name": "ipython",
    "version": 3
   },
   "file_extension": ".py",
   "mimetype": "text/x-python",
   "name": "python",
   "nbconvert_exporter": "python",
   "pygments_lexer": "ipython3",
   "version": "3.6.0"
  }
 },
 "nbformat": 4,
 "nbformat_minor": 2
}
