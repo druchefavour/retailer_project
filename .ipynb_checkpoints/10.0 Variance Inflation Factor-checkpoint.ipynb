{
 "cells": [
  {
   "cell_type": "markdown",
   "metadata": {},
   "source": [
    "### 10.0 Importing data for supervised learning\n",
    "In this section, we will work with the retail dataset which have been consolidated into one .xls file. Specifically, our goal will be to use this data to predict the sales expectancy in a given MarkDown based on features such as the region's Temperature, CP!, Unemployment Rate, Fuel Price and sales for different items.\n",
    "\n",
    "The target variable here, the Sales during the MarkDowns, is quantitative, therefore this is a regression problem. \n",
    "\n",
    "We will begin by fit a linear regression with just one feature: 'Temperature', which is the average temperature recorded on the day of sales. We will check its impact on the five MarkDowns. \n",
    "\n",
    "Later, we will use all the features to build regression models.\n",
    "\n",
    "Before that, however, we will need to import the data and get it into the form needed by scikit-learn. This involves creating feature and target variable arrays. Furthermore, since we are going to use only one feature to begin with, we need to do some reshaping using NumPy's .reshape() method. "
   ]
  },
  {
   "cell_type": "code",
   "execution_count": 1,
   "metadata": {
    "collapsed": true
   },
   "outputs": [],
   "source": [
    "#Import numpy and pandas as their standard aliases.\n",
    "import numpy as np\n",
    "import pandas as pd"
   ]
  },
  {
   "cell_type": "code",
   "execution_count": 2,
   "metadata": {
    "collapsed": true
   },
   "outputs": [],
   "source": [
    "# Read the file 'master_dataset.xlsx' into a DataFrame df using the read_xls() function.\n",
    "df = pd.read_excel('master_dataset.xlsx', sheetname='Sheet1')"
   ]
  },
  {
   "cell_type": "code",
   "execution_count": 3,
   "metadata": {
    "collapsed": true
   },
   "outputs": [],
   "source": [
    "df_filter = df[['Temperature', 'MarkDown1', 'MarkDown2', 'MarkDown3', 'MarkDown4', 'MarkDown5']]"
   ]
  },
  {
   "cell_type": "code",
   "execution_count": 4,
   "metadata": {
    "collapsed": true
   },
   "outputs": [],
   "source": [
    "# Create arrays for features and target variable\n",
    "y1 = df['MarkDown1'].values\n",
    "X1 = df['Temperature'].values"
   ]
  },
  {
   "cell_type": "code",
   "execution_count": 5,
   "metadata": {
    "collapsed": false
   },
   "outputs": [
    {
     "name": "stdout",
     "output_type": "stream",
     "text": [
      "Dimensions of y1 before reshaping: (8190,)\n",
      "Dimensions of X1 before reshaping: (8190,)\n"
     ]
    }
   ],
   "source": [
    "# Print the dimensions of X and y before reshaping\n",
    "print(\"Dimensions of y1 before reshaping: {}\".format(y1.shape))\n",
    "print(\"Dimensions of X1 before reshaping: {}\".format(X1.shape))"
   ]
  },
  {
   "cell_type": "code",
   "execution_count": 6,
   "metadata": {
    "collapsed": true
   },
   "outputs": [],
   "source": [
    "# Reshape X1 and y1\n",
    "y1 = y1.reshape(-1, 1)\n",
    "X1 = X1.reshape(-1, 1)"
   ]
  },
  {
   "cell_type": "code",
   "execution_count": 7,
   "metadata": {
    "collapsed": false
   },
   "outputs": [
    {
     "name": "stdout",
     "output_type": "stream",
     "text": [
      "Dimensions of y after reshaping: (8190, 1)\n",
      "Dimensions of X after reshaping: (8190, 1)\n"
     ]
    }
   ],
   "source": [
    "# Print the dimensions of X and y after reshaping\n",
    "print(\"Dimensions of y after reshaping: {}\".format(y1.shape))\n",
    "print(\"Dimensions of X after reshaping: {}\".format(X1.shape))"
   ]
  },
  {
   "cell_type": "markdown",
   "metadata": {},
   "source": [
    "### 10.1 Exploring the Retail data\n",
    "As always, it is important to explore our data before building models. \n",
    "\n",
    "Let us explore the DataFrame using pandas methods such as .info(), .describe(), .head()."
   ]
  },
  {
   "cell_type": "code",
   "execution_count": 8,
   "metadata": {
    "collapsed": false
   },
   "outputs": [
    {
     "name": "stdout",
     "output_type": "stream",
     "text": [
      "<class 'pandas.core.frame.DataFrame'>\n",
      "Int64Index: 8190 entries, 0 to 8189\n",
      "Data columns (total 95 columns):\n",
      "Store                     8190 non-null int64\n",
      "Date                      8190 non-null datetime64[ns]\n",
      "Temperature               8190 non-null float64\n",
      "Fuel_Price                8190 non-null float64\n",
      "MarkDown1                 8190 non-null float64\n",
      "MarkDown2                 8190 non-null float64\n",
      "MarkDown3                 8190 non-null float64\n",
      "MarkDown4                 8190 non-null float64\n",
      "MarkDown5                 8190 non-null float64\n",
      "CPI                       8190 non-null float64\n",
      "Unemployment              8190 non-null float64\n",
      "IsHoliday                 8190 non-null bool\n",
      "Type                      8190 non-null object\n",
      "Size                      8190 non-null int64\n",
      "Jewelry                   8190 non-null float64\n",
      "Pets                      8190 non-null float64\n",
      "TV_Video                  8190 non-null float64\n",
      "Cell_Phones               8190 non-null float64\n",
      "Pharmaceutical            8190 non-null float64\n",
      "Health_beauty             8190 non-null float64\n",
      "Toy                       8190 non-null float64\n",
      "Home_others               8190 non-null float64\n",
      "Kitchen                   8190 non-null float64\n",
      "Bedding                   8190 non-null float64\n",
      "Bathroom                  8190 non-null float64\n",
      "Office_supplies           8190 non-null float64\n",
      "School_Supplies           8190 non-null float64\n",
      "Home_Office               8190 non-null float64\n",
      "Craft_general             8190 non-null float64\n",
      "Floral                    8190 non-null float64\n",
      "Beading                   8190 non-null float64\n",
      "Paint                     8190 non-null float64\n",
      "Framing                   8190 non-null float64\n",
      "outdoor                   8190 non-null float64\n",
      "Auto                      8190 non-null float64\n",
      "School_Uniforms           8190 non-null float64\n",
      "Baby_Toddlers_Clothing    8190 non-null float64\n",
      "Baby_Kids_Shoes           8190 non-null float64\n",
      "Clearance_Clothings       8190 non-null float64\n",
      "Boys_Clothing             8190 non-null float64\n",
      "Girls_Clothing            8190 non-null float64\n",
      "Women_Clothing            8190 non-null float64\n",
      "Intimates_Sleepwears      8190 non-null float64\n",
      "Men_Clothings             8190 non-null float64\n",
      "Precious_Metals           8190 non-null float64\n",
      "Active_Wear               8190 non-null float64\n",
      "Adult_Shoes               8190 non-null float64\n",
      "Bags_Accessories          8190 non-null float64\n",
      "Sportswear                8190 non-null float64\n",
      "Computer                  8190 non-null float64\n",
      "Music                     8190 non-null float64\n",
      "Luggage                   8190 non-null float64\n",
      "Food                      8190 non-null float64\n",
      "Fruit                     8190 non-null float64\n",
      "Grocery                   8190 non-null float64\n",
      "Laundry                   8190 non-null float64\n",
      "IPad_Tablets              8190 non-null float64\n",
      "Heating_Cooling           8190 non-null float64\n",
      "Swim_Shop                 8190 non-null float64\n",
      "Gift_cards                8190 non-null float64\n",
      "Baby_Essentials           8190 non-null float64\n",
      "Cribs                     8190 non-null float64\n",
      "Car_Seats                 8190 non-null float64\n",
      "Strollers                 8190 non-null float64\n",
      "Bikes                     8190 non-null float64\n",
      "Photo                     8190 non-null float64\n",
      "Household_Essentials      8190 non-null float64\n",
      "Air_Quality               8190 non-null float64\n",
      "Light_bulbs               8190 non-null float64\n",
      "Gardening                 8190 non-null float64\n",
      "Building_Materials        8190 non-null float64\n",
      "Hardware                  8190 non-null float64\n",
      "Electrical                8190 non-null float64\n",
      "Home_Safety               8190 non-null float64\n",
      "Tools                     8190 non-null float64\n",
      "Teen_Room                 8190 non-null float64\n",
      "Kids_Room                 8190 non-null float64\n",
      "Lighting                  8190 non-null float64\n",
      "Home_Decor                8190 non-null float64\n",
      "Mattresses                8190 non-null float64\n",
      "Furniture                 8190 non-null float64\n",
      "Storage                   8190 non-null float64\n",
      "Appliances                8190 non-null float64\n",
      "Pioneer_Woman             8190 non-null float64\n",
      "Computer_Software         8190 non-null float64\n",
      "Books                     8190 non-null float64\n",
      "Musical_Instruments       8190 non-null float64\n",
      "Star_Wars                 8190 non-null float64\n",
      "Movies_TV                 8190 non-null float64\n",
      "Video_Games               8190 non-null float64\n",
      "Portable_Audios           8190 non-null float64\n",
      "Cameras_Camcoders         8190 non-null float64\n",
      "Auto_Electronics          8190 non-null float64\n",
      "Wearable_Tech             8190 non-null float64\n",
      "Smart_homes               8190 non-null float64\n",
      "dtypes: bool(1), datetime64[ns](1), float64(90), int64(2), object(1)\n",
      "memory usage: 5.9+ MB\n"
     ]
    }
   ],
   "source": [
    "df.info()"
   ]
  },
  {
   "cell_type": "code",
   "execution_count": 9,
   "metadata": {
    "collapsed": false
   },
   "outputs": [
    {
     "name": "stdout",
     "output_type": "stream",
     "text": [
      "             Store  Temperature   Fuel_Price      MarkDown1      MarkDown2  \\\n",
      "count  8190.000000  8190.000000  8190.000000    8190.000000    8190.000000   \n",
      "mean     23.000000    59.356198     3.405992    8887.617797    6107.224317   \n",
      "std      12.987966    18.678607     0.431337    9180.062712    8960.310896   \n",
      "min       1.000000    -7.290000     2.472000   -2781.450000    -265.760000   \n",
      "25%      12.000000    45.902500     3.041000    2475.847500     197.840000   \n",
      "50%      23.000000    60.710000     3.513000    7174.090000    2006.620000   \n",
      "75%      34.000000    73.880000     3.743000   11435.142500    8716.860000   \n",
      "max      45.000000   101.950000     4.468000  103184.980000  104519.540000   \n",
      "\n",
      "           MarkDown3     MarkDown4      MarkDown5          CPI  Unemployment  \\\n",
      "count    8190.000000   8190.000000    8190.000000  8190.000000   8190.000000   \n",
      "mean      928.785220   3130.176556    4544.031686   172.095168      7.883791   \n",
      "std      7528.138611   5183.784963    9679.725089    39.632074      1.880595   \n",
      "min      -179.260000      0.220000    -185.170000   126.064000      3.684000   \n",
      "25%        14.540000    263.087500    1882.345000   132.039262      6.745000   \n",
      "50%       117.920000   1772.815000    3508.880000   182.598306      7.856000   \n",
      "75%       327.840000   3834.440000    5588.330000   213.171551      8.622000   \n",
      "max    149483.310000  67474.850000  771448.100000   228.976456     14.313000   \n",
      "\n",
      "           ...               Books  Musical_Instruments      Star_Wars  \\\n",
      "count      ...         8190.000000          8190.000000    8190.000000   \n",
      "mean       ...        40608.198526         30233.275596   70309.680418   \n",
      "std        ...        30105.625202         24187.780786   44791.769940   \n",
      "min        ...          461.700000            13.680000    4411.430000   \n",
      "25%        ...        22330.317500         12647.982500   43421.572500   \n",
      "50%        ...        25668.560000         17566.280000   52360.650000   \n",
      "75%        ...        61216.857500         47061.867500   95923.192500   \n",
      "max        ...       166263.810000        162497.780000  293966.050000   \n",
      "\n",
      "           Movies_TV    Video_Games  Portable_Audios  Cameras_Camcoders  \\\n",
      "count    8190.000000    8190.000000      8190.000000        8190.000000   \n",
      "mean    21743.891364   24108.858239     65433.783134        9197.947469   \n",
      "std     22535.371389   25399.035233     34888.871192       11479.832284   \n",
      "min       -18.660000    -173.840000     11158.060000         -63.800000   \n",
      "25%      2644.240000    2453.697500     45569.452500           2.940000   \n",
      "50%     16290.365000    6035.330000     49334.770000        2794.480000   \n",
      "75%     36235.072500   43586.610000     82297.935000       17166.265000   \n",
      "max    103827.720000  103929.390000    213042.660000       63978.780000   \n",
      "\n",
      "       Auto_Electronics  Wearable_Tech   Smart_homes  \n",
      "count       8190.000000    8190.000000   8190.000000  \n",
      "mean       12365.575781    5107.066786    118.620133  \n",
      "std        10121.109271    5487.287985    517.734768  \n",
      "min           -9.920000     -30.000000   -147.000000  \n",
      "25%         5562.392500     552.940000      7.000000  \n",
      "50%         6463.320000    1454.160000     15.000000  \n",
      "75%        18593.497500    9075.010000     50.000000  \n",
      "max        49034.160000   33759.900000  12550.000000  \n",
      "\n",
      "[8 rows x 92 columns]\n"
     ]
    }
   ],
   "source": [
    "print(df.describe())"
   ]
  },
  {
   "cell_type": "code",
   "execution_count": 10,
   "metadata": {
    "collapsed": false
   },
   "outputs": [
    {
     "name": "stdout",
     "output_type": "stream",
     "text": [
      "   Store       Date  Temperature  Fuel_Price  MarkDown1  MarkDown2  MarkDown3  \\\n",
      "0      1 2010-05-02        42.31       2.572    10382.9    6115.67     215.07   \n",
      "1      1 2010-12-02        38.51       2.548    10382.9    6115.67     215.07   \n",
      "2      1 2010-02-19        39.93       2.514    10382.9    6115.67     215.07   \n",
      "3      1 2010-02-26        46.63       2.561    10382.9    6115.67     215.07   \n",
      "4      1 2010-05-03        46.50       2.625    10382.9    6115.67     215.07   \n",
      "\n",
      "   MarkDown4  MarkDown5         CPI     ...          Books  \\\n",
      "0    2406.62    6551.42  211.096358     ...       73315.81   \n",
      "1    2406.62    6551.42  211.242170     ...       77280.42   \n",
      "2    2406.62    6551.42  211.289143     ...       78602.71   \n",
      "3    2406.62    6551.42  211.319643     ...       76091.36   \n",
      "4    2406.62    6551.42  211.350143     ...       71718.48   \n",
      "\n",
      "  Musical_Instruments  Star_Wars  Movies_TV  Video_Games  Portable_Audios  \\\n",
      "0            57022.45  118966.90   58034.24     56157.83        113009.41   \n",
      "1            57845.36  126907.41   63245.00     66172.11        111466.37   \n",
      "2            59462.22  122267.65   69962.56     62795.87        124821.44   \n",
      "3            63011.44  135066.75   62581.64     72212.32        107952.07   \n",
      "4            57335.17  125048.08   57630.02     55501.07        103652.58   \n",
      "\n",
      "   Cameras_Camcoders  Auto_Electronics  Wearable_Tech  Smart_homes  \n",
      "0           27930.71          32954.82       10344.16         0.01  \n",
      "1            5265.09          30149.20       14740.14         0.01  \n",
      "2            5265.09          33726.13       10139.42         0.01  \n",
      "3           28420.73          31585.78       12087.95        20.00  \n",
      "4           28420.73          28457.31       10871.74        20.00  \n",
      "\n",
      "[5 rows x 95 columns]\n"
     ]
    }
   ],
   "source": [
    "print(df.head())"
   ]
  },
  {
   "cell_type": "code",
   "execution_count": 11,
   "metadata": {
    "collapsed": true
   },
   "outputs": [],
   "source": [
    "import matplotlib\n",
    "import numpy as np\n",
    "import matplotlib.pyplot as plt\n",
    "%matplotlib inline  "
   ]
  },
  {
   "cell_type": "code",
   "execution_count": 12,
   "metadata": {
    "collapsed": false
   },
   "outputs": [],
   "source": [
    "# Plot a heatmap for a numpy array:\n",
    "import seaborn as sns; sns.set()\n",
    "import matplotlib\n",
    "import matplotlib.pyplot as plt\n",
    "%matplotlib inline  "
   ]
  },
  {
   "cell_type": "code",
   "execution_count": 13,
   "metadata": {
    "collapsed": true
   },
   "outputs": [],
   "source": [
    "#Drop none-float columns and the MarkDowns that would be used for prediction\n",
    "df.drop(['Store', 'Date', 'IsHoliday', 'Type', 'MarkDown1', 'MarkDown2', 'MarkDown3', 'MarkDown4', 'MarkDown5'], axis=1, inplace=True)"
   ]
  },
  {
   "cell_type": "code",
   "execution_count": 14,
   "metadata": {
    "collapsed": false
   },
   "outputs": [
    {
     "name": "stdout",
     "output_type": "stream",
     "text": [
      "                        Temperature  Fuel_Price       CPI  Unemployment  \\\n",
      "Temperature                1.000000    0.101354  0.147588      0.169233   \n",
      "Fuel_Price                 0.101354    1.000000 -0.183152     -0.016409   \n",
      "CPI                        0.147588   -0.183152  1.000000     -0.309903   \n",
      "Unemployment               0.169233   -0.016409 -0.309903      1.000000   \n",
      "Size                      -0.093345    0.015080 -0.011319     -0.064129   \n",
      "Jewelry                    0.038877   -0.015743  0.163785     -0.117270   \n",
      "Pets                       0.058645   -0.037847  0.252327     -0.148993   \n",
      "TV_Video                   0.015591   -0.036873  0.147781     -0.091807   \n",
      "Cell_Phones                0.083850   -0.074288  0.348461     -0.163260   \n",
      "Pharmaceutical             0.047375   -0.017654  0.192679     -0.125831   \n",
      "Health_beauty              0.036759   -0.026885  0.167899     -0.097850   \n",
      "Toy                        0.057754   -0.006731  0.164787     -0.081071   \n",
      "Home_others                0.066366   -0.052297  0.324703     -0.192749   \n",
      "Kitchen                    0.043019   -0.057966  0.207928     -0.171379   \n",
      "Bedding                    0.037698   -0.083544  0.333213     -0.233318   \n",
      "Bathroom                   0.049335   -0.045999  0.271380     -0.121935   \n",
      "Office_supplies            0.064143   -0.105451  0.369110     -0.199659   \n",
      "School_Supplies            0.082809   -0.050027  0.303959     -0.139196   \n",
      "Home_Office                0.058398   -0.016614  0.204644     -0.078524   \n",
      "Craft_general              0.015597   -0.050169  0.191766     -0.107906   \n",
      "Floral                     0.047225    0.011998  0.185667     -0.065000   \n",
      "Beading                    0.034320   -0.002514  0.100274     -0.050442   \n",
      "Paint                      0.105694   -0.035260  0.124130     -0.077198   \n",
      "Framing                    0.052225   -0.015071  0.206426     -0.083035   \n",
      "outdoor                    0.034269   -0.060225  0.316526     -0.185232   \n",
      "Auto                       0.069935   -0.014248  0.201373     -0.061173   \n",
      "School_Uniforms            0.042128   -0.014094  0.169714     -0.104567   \n",
      "Baby_Toddlers_Clothing     0.070287   -0.014230  0.155432     -0.071728   \n",
      "Baby_Kids_Shoes            0.031214   -0.013976  0.169247     -0.107523   \n",
      "Clearance_Clothings        0.079114   -0.015153  0.191084     -0.082513   \n",
      "...                             ...         ...       ...           ...   \n",
      "Photo                     -0.010953   -0.003779  0.097581     -0.085834   \n",
      "Household_Essentials       0.029596   -0.019518  0.173493     -0.117492   \n",
      "Air_Quality                0.006259   -0.023953  0.082316     -0.050706   \n",
      "Light_bulbs                0.059410   -0.039700  0.168619     -0.065299   \n",
      "Gardening                  0.021483   -0.000789  0.081922     -0.050316   \n",
      "Building_Materials         0.004504    0.008536 -0.022971     -0.026997   \n",
      "Hardware                  -0.113934   -0.023099  0.088906     -0.270221   \n",
      "Electrical                 0.016809   -0.019841  0.184750     -0.130960   \n",
      "Home_Safety                0.028659    0.016383  0.135882     -0.058485   \n",
      "Tools                      0.036594   -0.029789  0.195440     -0.091626   \n",
      "Teen_Room                  0.051190   -0.018324  0.205116     -0.097201   \n",
      "Kids_Room                 -0.018990   -0.024828  0.156906     -0.253379   \n",
      "Lighting                   0.013400    0.008329 -0.036259     -0.083862   \n",
      "Home_Decor                 0.082311   -0.015913  0.188521     -0.104639   \n",
      "Mattresses                 0.021162    0.011837  0.131265     -0.055036   \n",
      "Furniture                  0.092508   -0.013766  0.220164     -0.054534   \n",
      "Storage                    0.054424   -0.028420  0.207764     -0.120395   \n",
      "Appliances                 0.060463   -0.000524  0.146350     -0.047416   \n",
      "Pioneer_Woman             -0.003964   -0.012852  0.097108     -0.079817   \n",
      "Computer_Software         -0.001773   -0.064590  0.267843     -0.164519   \n",
      "Books                      0.077012   -0.011897  0.194731     -0.058817   \n",
      "Musical_Instruments        0.071151   -0.013858  0.224819     -0.095984   \n",
      "Star_Wars                  0.077855   -0.013801  0.229721     -0.076669   \n",
      "Movies_TV                  0.082758   -0.041230  0.215548     -0.123079   \n",
      "Video_Games                0.058067   -0.012839  0.163871     -0.025803   \n",
      "Portable_Audios            0.074381   -0.035946  0.266541     -0.114819   \n",
      "Cameras_Camcoders          0.061201   -0.004190  0.108431     -0.052870   \n",
      "Auto_Electronics           0.075690   -0.035343  0.232806     -0.076422   \n",
      "Wearable_Tech              0.051726   -0.001983  0.174837     -0.063707   \n",
      "Smart_homes                0.039890    0.029424  0.067127     -0.039440   \n",
      "\n",
      "                            Size   Jewelry      Pets  TV_Video  Cell_Phones  \\\n",
      "Temperature            -0.093345  0.038877  0.058645  0.015591     0.083850   \n",
      "Fuel_Price              0.015080 -0.015743 -0.037847 -0.036873    -0.074288   \n",
      "CPI                    -0.011319  0.163785  0.252327  0.147781     0.348461   \n",
      "Unemployment           -0.064129 -0.117270 -0.148993 -0.091807    -0.163260   \n",
      "Size                    1.000000  0.036684  0.065522  0.100640     0.031755   \n",
      "Jewelry                 0.036684  1.000000  0.611895  0.257916     0.578817   \n",
      "Pets                    0.065522  0.611895  1.000000  0.594550     0.891456   \n",
      "TV_Video                0.100640  0.257916  0.594550  1.000000     0.515019   \n",
      "Cell_Phones             0.031755  0.578817  0.891456  0.515019     1.000000   \n",
      "Pharmaceutical          0.058888  0.693360  0.674002  0.343738     0.598387   \n",
      "Health_beauty           0.110151  0.509820  0.588347  0.332135     0.501237   \n",
      "Toy                     0.045014  0.647293  0.628896  0.304406     0.567656   \n",
      "Home_others            -0.088617  0.567095  0.799726  0.398970     0.848865   \n",
      "Kitchen                 0.079445  0.477541  0.700331  0.471069     0.629499   \n",
      "Bedding                 0.048288  0.551472  0.796641  0.491717     0.767383   \n",
      "Bathroom                0.042324  0.428819  0.708923  0.412355     0.661519   \n",
      "Office_supplies         0.046150  0.407402  0.617528  0.421507     0.652742   \n",
      "School_Supplies         0.033468  0.546093  0.955645  0.545152     0.941604   \n",
      "Home_Office             0.089028  0.643253  0.822787  0.492718     0.703051   \n",
      "Craft_general           0.126104  0.184855  0.457262  0.221044     0.471850   \n",
      "Floral                  0.043257  0.619811  0.819564  0.518757     0.723256   \n",
      "Beading                -0.001841  0.543854  0.316970  0.131675     0.298245   \n",
      "Paint                  -0.046888  0.326150  0.406995  0.241383     0.311446   \n",
      "Framing                 0.125396  0.478982  0.864523  0.562408     0.724555   \n",
      "outdoor                 0.062510  0.707981  0.800277  0.455916     0.829725   \n",
      "Auto                    0.072675  0.591578  0.826405  0.531396     0.713662   \n",
      "School_Uniforms        -0.030992  0.586180  0.829670  0.472406     0.666844   \n",
      "Baby_Toddlers_Clothing -0.073043  0.517120  0.699823  0.602113     0.588590   \n",
      "Baby_Kids_Shoes         0.012693  0.573368  0.839503  0.468441     0.678922   \n",
      "Clearance_Clothings    -0.105287  0.597338  0.759781  0.345706     0.670234   \n",
      "...                          ...       ...       ...       ...          ...   \n",
      "Photo                   0.046769  0.243508  0.323503  0.183205     0.230115   \n",
      "Household_Essentials    0.106719  0.629655  0.608312  0.308255     0.539330   \n",
      "Air_Quality             0.074224  0.165955  0.200363  0.001016     0.208451   \n",
      "Light_bulbs             0.162824  0.240724  0.337660  0.221139     0.392676   \n",
      "Gardening               0.024488  0.430518  0.309904  0.141996     0.257394   \n",
      "Building_Materials     -0.029050  0.262846  0.221194  0.117160     0.258736   \n",
      "Hardware                0.224350  0.222205  0.375540  0.286861     0.250890   \n",
      "Electrical              0.070535  0.663066  0.696322  0.315494     0.681877   \n",
      "Home_Safety             0.111340  0.482713  0.798891  0.541017     0.619153   \n",
      "Tools                   0.091492  0.517576  0.666575  0.390396     0.596883   \n",
      "Teen_Room               0.120851  0.522127  0.880621  0.630313     0.747957   \n",
      "Kids_Room               0.091864  0.251408  0.320710  0.218575     0.252247   \n",
      "Lighting                0.049009  0.041121  0.061646  0.033952     0.062405   \n",
      "Home_Decor              0.075715  0.526426  0.864555  0.463492     0.808157   \n",
      "Mattresses              0.151448  0.278727  0.348829  0.151570     0.548913   \n",
      "Furniture               0.068967  0.409162  0.546003  0.249689     0.786591   \n",
      "Storage                 0.037674  0.696551  0.731958  0.421967     0.724049   \n",
      "Appliances              0.148993  0.309072  0.451511  0.186294     0.607402   \n",
      "Pioneer_Woman           0.120633  0.549833  0.571890  0.417732     0.499056   \n",
      "Computer_Software       0.043665  0.426603  0.539134  0.354727     0.588872   \n",
      "Books                   0.126594  0.412975  0.487985  0.242321     0.705305   \n",
      "Musical_Instruments     0.095266  0.405951  0.525424  0.255206     0.736283   \n",
      "Star_Wars               0.095902  0.484397  0.588948  0.291792     0.804454   \n",
      "Movies_TV               0.160325  0.242405  0.324302  0.148935     0.506659   \n",
      "Video_Games             0.164831  0.274799  0.364828  0.166136     0.565810   \n",
      "Portable_Audios         0.084998  0.476394  0.708422  0.383643     0.876417   \n",
      "Cameras_Camcoders       0.103470  0.127426  0.242282  0.102397     0.359125   \n",
      "Auto_Electronics        0.097215  0.343730  0.477016  0.237655     0.691333   \n",
      "Wearable_Tech           0.112805  0.376518  0.409792  0.166958     0.606433   \n",
      "Smart_homes             0.027837  0.185510  0.189551  0.116075     0.232247   \n",
      "\n",
      "                        Pharmaceutical      ...          Books  \\\n",
      "Temperature                    0.047375     ...       0.077012   \n",
      "Fuel_Price                    -0.017654     ...      -0.011897   \n",
      "CPI                            0.192679     ...       0.194731   \n",
      "Unemployment                  -0.125831     ...      -0.058817   \n",
      "Size                           0.058888     ...       0.126594   \n",
      "Jewelry                        0.693360     ...       0.412975   \n",
      "Pets                           0.674002     ...       0.487985   \n",
      "TV_Video                       0.343738     ...       0.242321   \n",
      "Cell_Phones                    0.598387     ...       0.705305   \n",
      "Pharmaceutical                 1.000000     ...       0.363839   \n",
      "Health_beauty                  0.836239     ...       0.266372   \n",
      "Toy                            0.871215     ...       0.346318   \n",
      "Home_others                    0.591258     ...       0.407559   \n",
      "Kitchen                        0.556706     ...       0.274345   \n",
      "Bedding                        0.635309     ...       0.445331   \n",
      "Bathroom                       0.560787     ...       0.248255   \n",
      "Office_supplies                0.451767     ...       0.285460   \n",
      "School_Supplies                0.584027     ...       0.561426   \n",
      "Home_Office                    0.875918     ...       0.355459   \n",
      "Craft_general                  0.174099     ...       0.297073   \n",
      "Floral                         0.739204     ...       0.282327   \n",
      "Beading                        0.617148     ...       0.169412   \n",
      "Paint                          0.355031     ...       0.104252   \n",
      "Framing                        0.610708     ...       0.301336   \n",
      "outdoor                        0.761864     ...       0.577089   \n",
      "Auto                           0.776128     ...       0.294867   \n",
      "School_Uniforms                0.741166     ...       0.168189   \n",
      "Baby_Toddlers_Clothing         0.642712     ...       0.121793   \n",
      "Baby_Kids_Shoes                0.670522     ...       0.250798   \n",
      "Clearance_Clothings            0.683722     ...       0.203924   \n",
      "...                                 ...     ...            ...   \n",
      "Photo                          0.327868     ...       0.110656   \n",
      "Household_Essentials           0.924578     ...       0.366552   \n",
      "Air_Quality                    0.097945     ...       0.150038   \n",
      "Light_bulbs                    0.275043     ...       0.451683   \n",
      "Gardening                      0.637166     ...       0.168906   \n",
      "Building_Materials             0.226406     ...       0.387709   \n",
      "Hardware                       0.313737     ...       0.158922   \n",
      "Electrical                     0.648306     ...       0.467780   \n",
      "Home_Safety                    0.626715     ...       0.293772   \n",
      "Tools                          0.862345     ...       0.297879   \n",
      "Teen_Room                      0.656856     ...       0.328388   \n",
      "Kids_Room                      0.342577     ...       0.086090   \n",
      "Lighting                       0.025981     ...       0.203639   \n",
      "Home_Decor                     0.596041     ...       0.642868   \n",
      "Mattresses                     0.240895     ...       0.889075   \n",
      "Furniture                      0.336985     ...       0.915482   \n",
      "Storage                        0.799806     ...       0.565228   \n",
      "Appliances                     0.276594     ...       0.852138   \n",
      "Pioneer_Woman                  0.614368     ...       0.309492   \n",
      "Computer_Software              0.486465     ...       0.389589   \n",
      "Books                          0.363839     ...       1.000000   \n",
      "Musical_Instruments            0.353392     ...       0.971083   \n",
      "Star_Wars                      0.445607     ...       0.969733   \n",
      "Movies_TV                      0.240538     ...       0.823366   \n",
      "Video_Games                    0.221641     ...       0.933617   \n",
      "Portable_Audios                0.445099     ...       0.915085   \n",
      "Cameras_Camcoders              0.150900     ...       0.585170   \n",
      "Auto_Electronics               0.305643     ...       0.921125   \n",
      "Wearable_Tech                  0.365351     ...       0.919757   \n",
      "Smart_homes                    0.310623     ...       0.291759   \n",
      "\n",
      "                        Musical_Instruments  Star_Wars  Movies_TV  \\\n",
      "Temperature                        0.071151   0.077855   0.082758   \n",
      "Fuel_Price                        -0.013858  -0.013801  -0.041230   \n",
      "CPI                                0.224819   0.229721   0.215548   \n",
      "Unemployment                      -0.095984  -0.076669  -0.123079   \n",
      "Size                               0.095266   0.095902   0.160325   \n",
      "Jewelry                            0.405951   0.484397   0.242405   \n",
      "Pets                               0.525424   0.588948   0.324302   \n",
      "TV_Video                           0.255206   0.291792   0.148935   \n",
      "Cell_Phones                        0.736283   0.804454   0.506659   \n",
      "Pharmaceutical                     0.353392   0.445607   0.240538   \n",
      "Health_beauty                      0.252897   0.333149   0.183559   \n",
      "Toy                                0.322997   0.423517   0.225096   \n",
      "Home_others                        0.469874   0.561968   0.216766   \n",
      "Kitchen                            0.298138   0.369894   0.198730   \n",
      "Bedding                            0.493420   0.555258   0.398100   \n",
      "Bathroom                           0.294699   0.365857   0.166894   \n",
      "Office_supplies                    0.331768   0.388316   0.219615   \n",
      "School_Supplies                    0.608957   0.662545   0.397399   \n",
      "Home_Office                        0.359954   0.465070   0.211313   \n",
      "Craft_general                      0.345222   0.326772   0.305321   \n",
      "Floral                             0.324747   0.434511   0.064073   \n",
      "Beading                            0.141339   0.230121   0.064057   \n",
      "Paint                              0.083718   0.155211   0.013994   \n",
      "Framing                            0.351804   0.405823   0.173913   \n",
      "outdoor                            0.614299   0.680495   0.410984   \n",
      "Auto                               0.328378   0.428120   0.133916   \n",
      "School_Uniforms                    0.208810   0.312362   0.044864   \n",
      "Baby_Toddlers_Clothing             0.149953   0.254002  -0.037149   \n",
      "Baby_Kids_Shoes                    0.302041   0.371590   0.138099   \n",
      "Clearance_Clothings                0.237663   0.347359   0.017998   \n",
      "...                                     ...        ...        ...   \n",
      "Photo                              0.142034   0.126793   0.100083   \n",
      "Household_Essentials               0.348229   0.434482   0.285674   \n",
      "Air_Quality                        0.174442   0.174032   0.120049   \n",
      "Light_bulbs                        0.477315   0.468491   0.538470   \n",
      "Gardening                          0.141308   0.199134   0.122381   \n",
      "Building_Materials                 0.380361   0.357467   0.333231   \n",
      "Hardware                           0.199001   0.178917   0.322846   \n",
      "Electrical                         0.498080   0.556555   0.291763   \n",
      "Home_Safety                        0.334879   0.371870   0.150641   \n",
      "Tools                              0.303786   0.397800   0.196286   \n",
      "Teen_Room                          0.368331   0.435519   0.153713   \n",
      "Kids_Room                          0.110177   0.119383   0.163495   \n",
      "Lighting                           0.188023   0.160444   0.173033   \n",
      "Home_Decor                         0.653639   0.676898   0.519077   \n",
      "Mattresses                         0.868318   0.851349   0.815965   \n",
      "Furniture                          0.914057   0.944768   0.699766   \n",
      "Storage                            0.543355   0.636083   0.391427   \n",
      "Appliances                         0.853617   0.827067   0.836067   \n",
      "Pioneer_Woman                      0.303776   0.385329   0.188586   \n",
      "Computer_Software                  0.431069   0.493028   0.346710   \n",
      "Books                              0.971083   0.969733   0.823366   \n",
      "Musical_Instruments                1.000000   0.965181   0.815513   \n",
      "Star_Wars                          0.965181   1.000000   0.782347   \n",
      "Movies_TV                          0.815513   0.782347   1.000000   \n",
      "Video_Games                        0.897169   0.863929   0.863670   \n",
      "Portable_Audios                    0.934391   0.946248   0.756937   \n",
      "Cameras_Camcoders                  0.565016   0.527097   0.691260   \n",
      "Auto_Electronics                   0.930627   0.907591   0.852302   \n",
      "Wearable_Tech                      0.889517   0.885423   0.848962   \n",
      "Smart_homes                        0.253471   0.305639   0.246189   \n",
      "\n",
      "                        Video_Games  Portable_Audios  Cameras_Camcoders  \\\n",
      "Temperature                0.058067         0.074381           0.061201   \n",
      "Fuel_Price                -0.012839        -0.035946          -0.004190   \n",
      "CPI                        0.163871         0.266541           0.108431   \n",
      "Unemployment              -0.025803        -0.114819          -0.052870   \n",
      "Size                       0.164831         0.084998           0.103470   \n",
      "Jewelry                    0.274799         0.476394           0.127426   \n",
      "Pets                       0.364828         0.708422           0.242282   \n",
      "TV_Video                   0.166136         0.383643           0.102397   \n",
      "Cell_Phones                0.565810         0.876417           0.359125   \n",
      "Pharmaceutical             0.221641         0.445099           0.150900   \n",
      "Health_beauty              0.176972         0.373616           0.136633   \n",
      "Toy                        0.214477         0.427482           0.126209   \n",
      "Home_others                0.244823         0.640729           0.129521   \n",
      "Kitchen                    0.200480         0.495677           0.203760   \n",
      "Bedding                    0.362168         0.662064           0.326717   \n",
      "Bathroom                   0.143992         0.493037           0.131171   \n",
      "Office_supplies            0.189456         0.529864           0.129186   \n",
      "School_Supplies            0.441319         0.775897           0.292148   \n",
      "Home_Office                0.216001         0.496796           0.186396   \n",
      "Craft_general              0.345534         0.494994           0.245910   \n",
      "Floral                     0.093424         0.478106          -0.024643   \n",
      "Beading                    0.033274         0.157018           0.002480   \n",
      "Paint                      0.004927         0.206662           0.039263   \n",
      "Framing                    0.204185         0.523662           0.151554   \n",
      "outdoor                    0.444889         0.737215           0.298687   \n",
      "Auto                       0.140431         0.477625           0.101287   \n",
      "School_Uniforms            0.019995         0.411528           0.032175   \n",
      "Baby_Toddlers_Clothing    -0.052544         0.322064          -0.071454   \n",
      "Baby_Kids_Shoes            0.119093         0.494040           0.069532   \n",
      "Clearance_Clothings        0.015990         0.406865          -0.045103   \n",
      "...                             ...              ...                ...   \n",
      "Photo                      0.121748         0.207448           0.109117   \n",
      "Household_Essentials       0.245169         0.418289           0.178886   \n",
      "Air_Quality                0.176721         0.238436           0.050016   \n",
      "Light_bulbs                0.429573         0.488182           0.375912   \n",
      "Gardening                  0.092077         0.171390           0.090939   \n",
      "Building_Materials         0.341798         0.353681           0.216500   \n",
      "Hardware                   0.185648         0.256998           0.199222   \n",
      "Electrical                 0.363240         0.599131           0.148985   \n",
      "Home_Safety                0.188626         0.449031           0.130164   \n",
      "Tools                      0.173243         0.413566           0.131786   \n",
      "Teen_Room                  0.201478         0.525056           0.116485   \n",
      "Kids_Room                  0.068770         0.179120           0.091550   \n",
      "Lighting                   0.232379         0.173842           0.246883   \n",
      "Home_Decor                 0.556418         0.767313           0.410724   \n",
      "Mattresses                 0.898035         0.808349           0.532735   \n",
      "Furniture                  0.805220         0.926632           0.430336   \n",
      "Storage                    0.409485         0.642048           0.260410   \n",
      "Appliances                 0.851071         0.800035           0.595907   \n",
      "Pioneer_Woman              0.189937         0.428509           0.064603   \n",
      "Computer_Software          0.304768         0.540473           0.262221   \n",
      "Books                      0.933617         0.915085           0.585170   \n",
      "Musical_Instruments        0.897169         0.934391           0.565016   \n",
      "Star_Wars                  0.863929         0.946248           0.527097   \n",
      "Movies_TV                  0.863670         0.756937           0.691260   \n",
      "Video_Games                1.000000         0.838842           0.687197   \n",
      "Portable_Audios            0.838842         1.000000           0.544477   \n",
      "Cameras_Camcoders          0.687197         0.544477           1.000000   \n",
      "Auto_Electronics           0.897197         0.910181           0.729800   \n",
      "Wearable_Tech              0.919161         0.842110           0.592955   \n",
      "Smart_homes                0.229071         0.246703           0.134211   \n",
      "\n",
      "                        Auto_Electronics  Wearable_Tech  Smart_homes  \n",
      "Temperature                     0.075690       0.051726     0.039890  \n",
      "Fuel_Price                     -0.035343      -0.001983     0.029424  \n",
      "CPI                             0.232806       0.174837     0.067127  \n",
      "Unemployment                   -0.076422      -0.063707    -0.039440  \n",
      "Size                            0.097215       0.112805     0.027837  \n",
      "Jewelry                         0.343730       0.376518     0.185510  \n",
      "Pets                            0.477016       0.409792     0.189551  \n",
      "TV_Video                        0.237655       0.166958     0.116075  \n",
      "Cell_Phones                     0.691333       0.606433     0.232247  \n",
      "Pharmaceutical                  0.305643       0.365351     0.310623  \n",
      "Health_beauty                   0.229597       0.294170     0.224360  \n",
      "Toy                             0.280291       0.348569     0.321943  \n",
      "Home_others                     0.414068       0.353840     0.158404  \n",
      "Kitchen                         0.304487       0.246331     0.144137  \n",
      "Bedding                         0.494282       0.423486     0.201665  \n",
      "Bathroom                        0.301557       0.210639     0.138607  \n",
      "Office_supplies                 0.387927       0.243741     0.089373  \n",
      "School_Supplies                 0.564788       0.479094     0.173827  \n",
      "Home_Office                     0.307716       0.320457     0.282277  \n",
      "Craft_general                   0.352056       0.307443     0.030883  \n",
      "Floral                          0.207528       0.211275     0.188294  \n",
      "Beading                         0.100680       0.176054     0.247670  \n",
      "Paint                           0.151514       0.022370     0.038241  \n",
      "Framing                         0.274406       0.242537     0.132750  \n",
      "outdoor                         0.561671       0.559168     0.265850  \n",
      "Auto                            0.253129       0.241540     0.210052  \n",
      "School_Uniforms                 0.166844       0.136019     0.168016  \n",
      "Baby_Toddlers_Clothing          0.103540       0.049059     0.142989  \n",
      "Baby_Kids_Shoes                 0.258533       0.229658     0.153327  \n",
      "Clearance_Clothings             0.184090       0.136083     0.143751  \n",
      "...                                  ...            ...          ...  \n",
      "Photo                           0.121971       0.171122     0.003925  \n",
      "Household_Essentials            0.302904       0.387769     0.332654  \n",
      "Air_Quality                     0.162551       0.157093     0.008354  \n",
      "Light_bulbs                     0.524027       0.443223     0.136455  \n",
      "Gardening                       0.135728       0.199493     0.134058  \n",
      "Building_Materials              0.378400       0.358287     0.140214  \n",
      "Hardware                        0.198198       0.227253     0.100530  \n",
      "Electrical                      0.400890       0.451939     0.226013  \n",
      "Home_Safety                     0.230627       0.247723     0.173479  \n",
      "Tools                           0.253757       0.306831     0.269265  \n",
      "Teen_Room                       0.274692       0.248100     0.161652  \n",
      "Kids_Room                       0.111179       0.092678     0.085731  \n",
      "Lighting                        0.200046       0.219172     0.057587  \n",
      "Home_Decor                      0.638813       0.580907     0.190748  \n",
      "Mattresses                      0.801228       0.927825     0.257688  \n",
      "Furniture                       0.853850       0.813720     0.222985  \n",
      "Storage                         0.504701       0.523044     0.347892  \n",
      "Appliances                      0.819762       0.831325     0.204484  \n",
      "Pioneer_Woman                   0.268945       0.295649     0.217158  \n",
      "Computer_Software               0.430718       0.391365     0.180366  \n",
      "Books                           0.921125       0.919757     0.291759  \n",
      "Musical_Instruments             0.930627       0.889517     0.253471  \n",
      "Star_Wars                       0.907591       0.885423     0.305639  \n",
      "Movies_TV                       0.852302       0.848962     0.246189  \n",
      "Video_Games                     0.897197       0.919161     0.229071  \n",
      "Portable_Audios                 0.910181       0.842110     0.246703  \n",
      "Cameras_Camcoders               0.729800       0.592955     0.134211  \n",
      "Auto_Electronics                1.000000       0.859358     0.224395  \n",
      "Wearable_Tech                   0.859358       1.000000     0.311541  \n",
      "Smart_homes                     0.224395       0.311541     1.000000  \n",
      "\n",
      "[86 rows x 86 columns]\n"
     ]
    }
   ],
   "source": [
    "# Generate Correlation Coefficient and print the values\n",
    "print(df.corr())"
   ]
  },
  {
   "cell_type": "code",
   "execution_count": null,
   "metadata": {
    "collapsed": true
   },
   "outputs": [],
   "source": []
  },
  {
   "cell_type": "raw",
   "metadata": {},
   "source": [
    "Below, we have constructed a heatmap showing the correlation between the different features of the retail dataset, which has been pre-loaded into a DataFrame as df and is available for exploration. Cells that are in green show positive correlation, while cells that are in red show negative correlation. Some of the variables are strongly positively correlated (for instance the sales for musical instruments are storngly correlated to book sales) while some have litte or no correlation with each other (For instance Jewelry sales has little or no correlation with fuel price). None of the parameters is strongly negatively correlated. "
   ]
  },
  {
   "cell_type": "code",
   "execution_count": 15,
   "metadata": {
    "collapsed": false
   },
   "outputs": [
    {
     "data": {
      "text/plain": [
       "<matplotlib.axes._subplots.AxesSubplot at 0x8af5a90>"
      ]
     },
     "execution_count": 15,
     "metadata": {},
     "output_type": "execute_result"
    },
    {
     "data": {
      "image/png": "[encoded data removed]",
      "text/plain": [
       "<matplotlib.figure.Figure at 0x8ad5e48>"
      ]
     },
     "metadata": {},
     "output_type": "display_data"
    }
   ],
   "source": [
    "sns.heatmap(df.corr(), square=True, cmap='RdYlGn')"
   ]
  },
  {
   "cell_type": "markdown",
   "metadata": {},
   "source": [
    "### 10.2.1 Temperature and the MarkDowns\n",
    "Let us consider the following the correlation between temperature and the markdowns for instance. "
   ]
  },
  {
   "cell_type": "code",
   "execution_count": 16,
   "metadata": {
    "collapsed": false
   },
   "outputs": [
    {
     "name": "stdout",
     "output_type": "stream",
     "text": [
      "             Temperature  MarkDown1  MarkDown2  MarkDown3  MarkDown4  \\\n",
      "Temperature     1.000000  -0.100008  -0.167981  -0.063182  -0.061043   \n",
      "MarkDown1      -0.100008   1.000000   0.327428  -0.063912   0.729078   \n",
      "MarkDown2      -0.167981   0.327428   1.000000  -0.027558   0.142922   \n",
      "MarkDown3      -0.063182  -0.063912  -0.027558   1.000000  -0.042753   \n",
      "MarkDown4      -0.061043   0.729078   0.142922  -0.042753   1.000000   \n",
      "MarkDown5       0.037315   0.102978   0.046526  -0.015503   0.083343   \n",
      "\n",
      "             MarkDown5  \n",
      "Temperature   0.037315  \n",
      "MarkDown1     0.102978  \n",
      "MarkDown2     0.046526  \n",
      "MarkDown3    -0.015503  \n",
      "MarkDown4     0.083343  \n",
      "MarkDown5     1.000000  \n"
     ]
    }
   ],
   "source": [
    "# Extract the temperature column and the markdowns and generate the correlation coefficient\n",
    "print(df_filter.corr())\n"
   ]
  },
  {
   "cell_type": "code",
   "execution_count": 17,
   "metadata": {
    "collapsed": false
   },
   "outputs": [
    {
     "data": {
      "text/plain": [
       "<matplotlib.axes._subplots.AxesSubplot at 0x918dcc0>"
      ]
     },
     "execution_count": 17,
     "metadata": {},
     "output_type": "execute_result"
    },
    {
     "data": {
      "image/png": "[encoded data removed]",
      "text/plain": [
       "<matplotlib.figure.Figure at 0x8c8e630>"
      ]
     },
     "metadata": {},
     "output_type": "display_data"
    }
   ],
   "source": [
    "# Plot the heatmap\n",
    "sns.heatmap(df_filter.corr(), square=True, cmap='RdYlGn')"
   ]
  },
  {
   "cell_type": "code",
   "execution_count": null,
   "metadata": {
    "collapsed": true
   },
   "outputs": [],
   "source": []
  }
 ],
 "metadata": {
  "kernelspec": {
   "display_name": "Python 3",
   "language": "python",
   "name": "python3"
  },
  "language_info": {
   "codemirror_mode": {
    "name": "ipython",
    "version": 3
   },
   "file_extension": ".py",
   "mimetype": "text/x-python",
   "name": "python",
   "nbconvert_exporter": "python",
   "pygments_lexer": "ipython3",
   "version": "3.6.0"
  }
 },
 "nbformat": 4,
 "nbformat_minor": 2
}
