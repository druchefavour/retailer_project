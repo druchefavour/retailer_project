{
 "cells": [
  {
   "cell_type": "markdown",
   "metadata": {},
   "source": [
    "### 11.0.0 Problem Statement\n",
    "In this classification problem we will be attempting to predict the behavior of customers who visit our retail store:\n",
    "\n",
    "1. During Holidays\n",
    "2. Based on the size of the store\n",
    "3. Based on the type of store\n",
    "\n",
    "### 11.0.1 Dataset\n",
    "Let us firstly load our data set."
   ]
  },
  {
   "cell_type": "code",
   "execution_count": 1,
   "metadata": {
    "collapsed": true
   },
   "outputs": [],
   "source": [
    "#Import numpy and pandas as their standard aliases. Also import other important variables\n",
    "import numpy as np\n",
    "import pandas as pd\n",
    "from sklearn import datasets\n",
    "import matplotlib.pyplot as plt\n",
    "plt.style.use('ggplot')"
   ]
  },
  {
   "cell_type": "code",
   "execution_count": 2,
   "metadata": {
    "collapsed": true
   },
   "outputs": [],
   "source": [
    "# Read the file 'master_dataset.xlsx' into a DataFrame df using the read_xls() function.\n",
    "df = pd.read_excel('master_dataset.xlsx', sheetname='Sheet1')"
   ]
  },
  {
   "cell_type": "code",
   "execution_count": 3,
   "metadata": {
    "collapsed": false
   },
   "outputs": [
    {
     "data": {
      "text/plain": [
       "pandas.core.frame.DataFrame"
      ]
     },
     "execution_count": 3,
     "metadata": {},
     "output_type": "execute_result"
    }
   ],
   "source": [
    "# Check the dataset type\n",
    "type(df)"
   ]
  },
  {
   "cell_type": "markdown",
   "metadata": {},
   "source": [
    "### 11.0.2 EDA\n",
    "Printing out the indices of the data set we will see the features of the dataset. The features include :\n",
    "1. The identity elements\n",
    "* Store Type (Store)\n",
    "* Date (Date of Sale)\n",
    "\n",
    "2. Regional Features\n",
    "* Temperature\n",
    "* Fuel Price\n",
    "* CPI\n",
    "* Unemployment Rate (Unemployment)\n",
    "\n",
    "3. Promotional Features\n",
    "* MarkDown 1 (Sales Promotion announced during Labor Day Holiday)\n",
    "* MarkDown 2 (Sales Promotion annouced during Independence Day Holiday)\n",
    "* MarkDown 3 (Sales Promotion announced during Thanksgiving)\n",
    "* MarkDown 4 (Sales Promotion announced during Christmas)\n",
    "* MarkDown 5 (Sales Promotion announced in the Summer)\n",
    "\n",
    "4. Sales Features\n",
    "* Weekly sales for different types of items: Jewelry - Smart Home Items [Index[14 - Index[95] ~ 81 features in total.\n",
    "\n",
    "5. Target Features\n",
    "* IsHoliday\n",
    "* Type (Store Type: A - SuperStores, B - NeighboorhoodStores, C- WholeSaleStores)\n",
    "* Size (Store Size)"
   ]
  },
  {
   "cell_type": "code",
   "execution_count": 4,
   "metadata": {
    "collapsed": false
   },
   "outputs": [
    {
     "name": "stdout",
     "output_type": "stream",
     "text": [
      "Index(['Store', 'Temperature', 'Fuel_Price', 'MarkDown1', 'MarkDown2',\n",
      "       'MarkDown3', 'MarkDown4', 'MarkDown5', 'CPI', 'Unemployment',\n",
      "       'IsHoliday', 'Type', 'Size', 'Jewelry', 'Pets', 'TV_Video',\n",
      "       'Cell_Phones', 'Pharmaceutical ', 'Health_beauty', 'Toy ',\n",
      "       'Home_others', 'Kitchen', 'Bedding', 'Bathroom', 'Office_supplies ',\n",
      "       'School_Supplies', 'Home_Office', 'Craft_general', 'Floral', 'Beading',\n",
      "       'Paint', 'Framing', 'outdoor', 'Auto', 'School_Uniforms',\n",
      "       'Baby_Toddlers_Clothing', 'Baby_Kids_Shoes', 'Clearance_Clothings',\n",
      "       'Boys_Clothing', 'Girls_Clothing', 'Women_Clothing',\n",
      "       'Intimates_Sleepwears', 'Men_Clothings', 'Precious_Metals',\n",
      "       'Active_Wear', 'Adult_Shoes', 'Bags_Accessories', 'Sportswear',\n",
      "       'Computer', 'Music', 'Luggage', 'Food', 'Fruit', 'Grocery', 'Laundry',\n",
      "       'IPad_Tablets', 'Heating_Cooling', 'Swim_Shop', 'Gift_cards',\n",
      "       'Baby_Essentials', 'Cribs', 'Car_Seats', 'Strollers', 'Bikes', 'Photo',\n",
      "       'Household_Essentials', 'Air_Quality', 'Light_bulbs', 'Gardening',\n",
      "       'Building_Materials', 'Hardware', 'Electrical', 'Home_Safety', 'Tools',\n",
      "       'Teen_Room', 'Kids_Room', 'Lighting', 'Home_Decor', 'Mattresses',\n",
      "       'Furniture', 'Storage', 'Appliances', 'Pioneer_Woman',\n",
      "       'Computer_Software', 'Books', 'Musical_Instruments', 'Star_Wars',\n",
      "       'Movies_TV', 'Video_Games', 'Portable_Audios', 'Cameras_Camcoders',\n",
      "       'Auto_Electronics', 'Wearable_Tech', 'Smart_homes'],\n",
      "      dtype='object')\n"
     ]
    }
   ],
   "source": [
    "print(df.keys())"
   ]
  },
  {
   "cell_type": "code",
   "execution_count": 5,
   "metadata": {
    "collapsed": false
   },
   "outputs": [
    {
     "name": "stdout",
     "output_type": "stream",
     "text": [
      "<class 'pandas.core.frame.DataFrame'>\n",
      "Int64Index: 8190 entries, 0 to 8189\n",
      "Data columns (total 94 columns):\n",
      "Store                     8190 non-null int64\n",
      "Temperature               8190 non-null float64\n",
      "Fuel_Price                8190 non-null float64\n",
      "MarkDown1                 8190 non-null float64\n",
      "MarkDown2                 8190 non-null float64\n",
      "MarkDown3                 8190 non-null float64\n",
      "MarkDown4                 8190 non-null float64\n",
      "MarkDown5                 8190 non-null float64\n",
      "CPI                       8190 non-null float64\n",
      "Unemployment              8190 non-null float64\n",
      "IsHoliday                 8190 non-null bool\n",
      "Type                      8190 non-null object\n",
      "Size                      8190 non-null int64\n",
      "Jewelry                   8190 non-null float64\n",
      "Pets                      8190 non-null float64\n",
      "TV_Video                  8190 non-null float64\n",
      "Cell_Phones               8190 non-null float64\n",
      "Pharmaceutical            8190 non-null float64\n",
      "Health_beauty             8190 non-null float64\n",
      "Toy                       8190 non-null float64\n",
      "Home_others               8190 non-null float64\n",
      "Kitchen                   8190 non-null float64\n",
      "Bedding                   8190 non-null float64\n",
      "Bathroom                  8190 non-null float64\n",
      "Office_supplies           8190 non-null float64\n",
      "School_Supplies           8190 non-null float64\n",
      "Home_Office               8190 non-null float64\n",
      "Craft_general             8190 non-null float64\n",
      "Floral                    8190 non-null float64\n",
      "Beading                   8190 non-null float64\n",
      "Paint                     8190 non-null float64\n",
      "Framing                   8190 non-null float64\n",
      "outdoor                   8190 non-null float64\n",
      "Auto                      8190 non-null float64\n",
      "School_Uniforms           8190 non-null float64\n",
      "Baby_Toddlers_Clothing    8190 non-null float64\n",
      "Baby_Kids_Shoes           8190 non-null float64\n",
      "Clearance_Clothings       8190 non-null float64\n",
      "Boys_Clothing             8190 non-null float64\n",
      "Girls_Clothing            8190 non-null float64\n",
      "Women_Clothing            8190 non-null float64\n",
      "Intimates_Sleepwears      8190 non-null float64\n",
      "Men_Clothings             8190 non-null float64\n",
      "Precious_Metals           8190 non-null float64\n",
      "Active_Wear               8190 non-null float64\n",
      "Adult_Shoes               8190 non-null float64\n",
      "Bags_Accessories          8190 non-null float64\n",
      "Sportswear                8190 non-null float64\n",
      "Computer                  8190 non-null float64\n",
      "Music                     8190 non-null float64\n",
      "Luggage                   8190 non-null float64\n",
      "Food                      8190 non-null float64\n",
      "Fruit                     8190 non-null float64\n",
      "Grocery                   8190 non-null float64\n",
      "Laundry                   8190 non-null float64\n",
      "IPad_Tablets              8190 non-null float64\n",
      "Heating_Cooling           8190 non-null float64\n",
      "Swim_Shop                 8190 non-null float64\n",
      "Gift_cards                8190 non-null float64\n",
      "Baby_Essentials           8190 non-null float64\n",
      "Cribs                     8190 non-null float64\n",
      "Car_Seats                 8190 non-null float64\n",
      "Strollers                 8190 non-null float64\n",
      "Bikes                     8190 non-null float64\n",
      "Photo                     8190 non-null float64\n",
      "Household_Essentials      8190 non-null float64\n",
      "Air_Quality               8190 non-null float64\n",
      "Light_bulbs               8190 non-null float64\n",
      "Gardening                 8190 non-null float64\n",
      "Building_Materials        8190 non-null float64\n",
      "Hardware                  8190 non-null float64\n",
      "Electrical                8190 non-null float64\n",
      "Home_Safety               8190 non-null float64\n",
      "Tools                     8190 non-null float64\n",
      "Teen_Room                 8190 non-null float64\n",
      "Kids_Room                 8190 non-null float64\n",
      "Lighting                  8190 non-null float64\n",
      "Home_Decor                8190 non-null float64\n",
      "Mattresses                8190 non-null float64\n",
      "Furniture                 8190 non-null float64\n",
      "Storage                   8190 non-null float64\n",
      "Appliances                8190 non-null float64\n",
      "Pioneer_Woman             8190 non-null float64\n",
      "Computer_Software         8190 non-null float64\n",
      "Books                     8190 non-null float64\n",
      "Musical_Instruments       8190 non-null float64\n",
      "Star_Wars                 8190 non-null float64\n",
      "Movies_TV                 8190 non-null float64\n",
      "Video_Games               8190 non-null float64\n",
      "Portable_Audios           8190 non-null float64\n",
      "Cameras_Camcoders         8190 non-null float64\n",
      "Auto_Electronics          8190 non-null float64\n",
      "Wearable_Tech             8190 non-null float64\n",
      "Smart_homes               8190 non-null float64\n",
      "dtypes: bool(1), float64(90), int64(2), object(1)\n",
      "memory usage: 5.9+ MB\n"
     ]
    }
   ],
   "source": [
    "df.info()"
   ]
  },
  {
   "cell_type": "markdown",
   "metadata": {},
   "source": [
    "#### 11.0.3.1 IsHoliday as Target Variable\n",
    "\n",
    "Target Variable: IsHoliday\n",
    "* True\n",
    "* False\n",
    "\n",
    "In this section, we will predict sales of different items based on whether the the period of sales is a holiday or not. Therefore we will use the Sales features listed in  11.0.2 as the features and the target features as the target.\n",
    "\n",
    "Let us convert the both the features and the target to numpy array.\n"
   ]
  },
  {
   "cell_type": "code",
   "execution_count": 6,
   "metadata": {
    "collapsed": true
   },
   "outputs": [],
   "source": [
    "# Select the Sales features and call the new dataframe 'df_sales'\n",
    "df_sales = df.iloc[:,14:95]"
   ]
  },
  {
   "cell_type": "code",
   "execution_count": 7,
   "metadata": {
    "collapsed": false
   },
   "outputs": [
    {
     "data": {
      "text/html": [
       "<div>\n",
       "<table border=\"1\" class=\"dataframe\">\n",
       "  <thead>\n",
       "    <tr style=\"text-align: right;\">\n",
       "      <th></th>\n",
       "      <th>Pets</th>\n",
       "      <th>TV_Video</th>\n",
       "      <th>Cell_Phones</th>\n",
       "      <th>Pharmaceutical</th>\n",
       "      <th>Health_beauty</th>\n",
       "      <th>Toy</th>\n",
       "      <th>Home_others</th>\n",
       "      <th>Kitchen</th>\n",
       "      <th>Bedding</th>\n",
       "      <th>Bathroom</th>\n",
       "      <th>...</th>\n",
       "      <th>Books</th>\n",
       "      <th>Musical_Instruments</th>\n",
       "      <th>Star_Wars</th>\n",
       "      <th>Movies_TV</th>\n",
       "      <th>Video_Games</th>\n",
       "      <th>Portable_Audios</th>\n",
       "      <th>Cameras_Camcoders</th>\n",
       "      <th>Auto_Electronics</th>\n",
       "      <th>Wearable_Tech</th>\n",
       "      <th>Smart_homes</th>\n",
       "    </tr>\n",
       "  </thead>\n",
       "  <tbody>\n",
       "    <tr>\n",
       "      <th>0</th>\n",
       "      <td>45829.02</td>\n",
       "      <td>9775.17</td>\n",
       "      <td>34912.45</td>\n",
       "      <td>23381.38</td>\n",
       "      <td>2876.19</td>\n",
       "      <td>16481.79</td>\n",
       "      <td>34658.25</td>\n",
       "      <td>44977.91</td>\n",
       "      <td>29764.24</td>\n",
       "      <td>16227.08</td>\n",
       "      <td>...</td>\n",
       "      <td>73315.81</td>\n",
       "      <td>57022.45</td>\n",
       "      <td>118966.90</td>\n",
       "      <td>58034.24</td>\n",
       "      <td>56157.83</td>\n",
       "      <td>113009.41</td>\n",
       "      <td>27930.71</td>\n",
       "      <td>32954.82</td>\n",
       "      <td>10344.16</td>\n",
       "      <td>0.01</td>\n",
       "    </tr>\n",
       "    <tr>\n",
       "      <th>1</th>\n",
       "      <td>47450.50</td>\n",
       "      <td>11157.08</td>\n",
       "      <td>37809.49</td>\n",
       "      <td>29967.92</td>\n",
       "      <td>4132.61</td>\n",
       "      <td>22427.62</td>\n",
       "      <td>38151.58</td>\n",
       "      <td>25435.02</td>\n",
       "      <td>31794.04</td>\n",
       "      <td>21762.46</td>\n",
       "      <td>...</td>\n",
       "      <td>77280.42</td>\n",
       "      <td>57845.36</td>\n",
       "      <td>126907.41</td>\n",
       "      <td>63245.00</td>\n",
       "      <td>66172.11</td>\n",
       "      <td>111466.37</td>\n",
       "      <td>5265.09</td>\n",
       "      <td>30149.20</td>\n",
       "      <td>14740.14</td>\n",
       "      <td>0.01</td>\n",
       "    </tr>\n",
       "    <tr>\n",
       "      <th>2</th>\n",
       "      <td>47077.72</td>\n",
       "      <td>7857.88</td>\n",
       "      <td>39773.71</td>\n",
       "      <td>18887.71</td>\n",
       "      <td>4541.91</td>\n",
       "      <td>22589.00</td>\n",
       "      <td>35580.01</td>\n",
       "      <td>21032.55</td>\n",
       "      <td>29779.96</td>\n",
       "      <td>26880.74</td>\n",
       "      <td>...</td>\n",
       "      <td>78602.71</td>\n",
       "      <td>59462.22</td>\n",
       "      <td>122267.65</td>\n",
       "      <td>69962.56</td>\n",
       "      <td>62795.87</td>\n",
       "      <td>124821.44</td>\n",
       "      <td>5265.09</td>\n",
       "      <td>33726.13</td>\n",
       "      <td>10139.42</td>\n",
       "      <td>0.01</td>\n",
       "    </tr>\n",
       "    <tr>\n",
       "      <th>3</th>\n",
       "      <td>47928.89</td>\n",
       "      <td>11523.47</td>\n",
       "      <td>36826.95</td>\n",
       "      <td>26468.27</td>\n",
       "      <td>6060.26</td>\n",
       "      <td>19985.20</td>\n",
       "      <td>38717.60</td>\n",
       "      <td>15880.85</td>\n",
       "      <td>29634.13</td>\n",
       "      <td>18706.21</td>\n",
       "      <td>...</td>\n",
       "      <td>76091.36</td>\n",
       "      <td>63011.44</td>\n",
       "      <td>135066.75</td>\n",
       "      <td>62581.64</td>\n",
       "      <td>72212.32</td>\n",
       "      <td>107952.07</td>\n",
       "      <td>28420.73</td>\n",
       "      <td>31585.78</td>\n",
       "      <td>12087.95</td>\n",
       "      <td>20.00</td>\n",
       "    </tr>\n",
       "    <tr>\n",
       "      <th>4</th>\n",
       "      <td>44292.87</td>\n",
       "      <td>11135.17</td>\n",
       "      <td>34660.16</td>\n",
       "      <td>24101.89</td>\n",
       "      <td>5244.56</td>\n",
       "      <td>17224.22</td>\n",
       "      <td>35318.20</td>\n",
       "      <td>15175.52</td>\n",
       "      <td>27921.96</td>\n",
       "      <td>17306.61</td>\n",
       "      <td>...</td>\n",
       "      <td>71718.48</td>\n",
       "      <td>57335.17</td>\n",
       "      <td>125048.08</td>\n",
       "      <td>57630.02</td>\n",
       "      <td>55501.07</td>\n",
       "      <td>103652.58</td>\n",
       "      <td>28420.73</td>\n",
       "      <td>28457.31</td>\n",
       "      <td>10871.74</td>\n",
       "      <td>20.00</td>\n",
       "    </tr>\n",
       "  </tbody>\n",
       "</table>\n",
       "<p>5 rows × 80 columns</p>\n",
       "</div>"
      ],
      "text/plain": [
       "       Pets  TV_Video  Cell_Phones  Pharmaceutical   Health_beauty      Toy   \\\n",
       "0  45829.02   9775.17     34912.45         23381.38        2876.19  16481.79   \n",
       "1  47450.50  11157.08     37809.49         29967.92        4132.61  22427.62   \n",
       "2  47077.72   7857.88     39773.71         18887.71        4541.91  22589.00   \n",
       "3  47928.89  11523.47     36826.95         26468.27        6060.26  19985.20   \n",
       "4  44292.87  11135.17     34660.16         24101.89        5244.56  17224.22   \n",
       "\n",
       "   Home_others   Kitchen   Bedding  Bathroom     ...          Books  \\\n",
       "0     34658.25  44977.91  29764.24  16227.08     ...       73315.81   \n",
       "1     38151.58  25435.02  31794.04  21762.46     ...       77280.42   \n",
       "2     35580.01  21032.55  29779.96  26880.74     ...       78602.71   \n",
       "3     38717.60  15880.85  29634.13  18706.21     ...       76091.36   \n",
       "4     35318.20  15175.52  27921.96  17306.61     ...       71718.48   \n",
       "\n",
       "   Musical_Instruments  Star_Wars  Movies_TV  Video_Games  Portable_Audios  \\\n",
       "0             57022.45  118966.90   58034.24     56157.83        113009.41   \n",
       "1             57845.36  126907.41   63245.00     66172.11        111466.37   \n",
       "2             59462.22  122267.65   69962.56     62795.87        124821.44   \n",
       "3             63011.44  135066.75   62581.64     72212.32        107952.07   \n",
       "4             57335.17  125048.08   57630.02     55501.07        103652.58   \n",
       "\n",
       "   Cameras_Camcoders  Auto_Electronics  Wearable_Tech  Smart_homes  \n",
       "0           27930.71          32954.82       10344.16         0.01  \n",
       "1            5265.09          30149.20       14740.14         0.01  \n",
       "2            5265.09          33726.13       10139.42         0.01  \n",
       "3           28420.73          31585.78       12087.95        20.00  \n",
       "4           28420.73          28457.31       10871.74        20.00  \n",
       "\n",
       "[5 rows x 80 columns]"
      ]
     },
     "execution_count": 7,
     "metadata": {},
     "output_type": "execute_result"
    }
   ],
   "source": [
    "df_sales.head()"
   ]
  },
  {
   "cell_type": "code",
   "execution_count": 8,
   "metadata": {
    "collapsed": true
   },
   "outputs": [],
   "source": [
    "# Select 'IsHoliday' column as the target and call the new data frame 'df_targetIsHol'\n",
    "df_targetIsHol = df['IsHoliday']"
   ]
  },
  {
   "cell_type": "code",
   "execution_count": 9,
   "metadata": {
    "collapsed": false
   },
   "outputs": [
    {
     "data": {
      "text/plain": [
       "0    False\n",
       "1     True\n",
       "2    False\n",
       "3    False\n",
       "4    False\n",
       "Name: IsHoliday, dtype: bool"
      ]
     },
     "execution_count": 9,
     "metadata": {},
     "output_type": "execute_result"
    }
   ],
   "source": [
    "df_targetIsHol.head()"
   ]
  },
  {
   "cell_type": "code",
   "execution_count": 10,
   "metadata": {
    "collapsed": false
   },
   "outputs": [
    {
     "data": {
      "text/plain": [
       "array([[  4.58290200e+04,   9.77517000e+03,   3.49124500e+04, ...,\n",
       "          3.29548200e+04,   1.03441600e+04,   1.00000000e-02],\n",
       "       [  4.74505000e+04,   1.11570800e+04,   3.78094900e+04, ...,\n",
       "          3.01492000e+04,   1.47401400e+04,   1.00000000e-02],\n",
       "       [  4.70777200e+04,   7.85788000e+03,   3.97737100e+04, ...,\n",
       "          3.37261300e+04,   1.01394200e+04,   1.00000000e-02],\n",
       "       ..., \n",
       "       [  3.36341200e+04,   6.88010000e+03,   2.36150400e+04, ...,\n",
       "          6.46332000e+03,   1.06102000e+03,   7.00000000e+00],\n",
       "       [  3.36341200e+04,   6.88010000e+03,   2.36150400e+04, ...,\n",
       "          6.46332000e+03,   1.06102000e+03,   7.00000000e+00],\n",
       "       [  3.36341200e+04,   6.88010000e+03,   2.36150400e+04, ...,\n",
       "          6.46332000e+03,   1.06102000e+03,   7.00000000e+00]])"
      ]
     },
     "execution_count": 10,
     "metadata": {},
     "output_type": "execute_result"
    }
   ],
   "source": [
    "# convert df_sales to numpy array\n",
    "df_sales.values"
   ]
  },
  {
   "cell_type": "code",
   "execution_count": 11,
   "metadata": {
    "collapsed": false
   },
   "outputs": [
    {
     "data": {
      "text/plain": [
       "(8190, 80)"
      ]
     },
     "execution_count": 11,
     "metadata": {},
     "output_type": "execute_result"
    }
   ],
   "source": [
    "# calculate the shape of the numpy array (df_sales.values)\n",
    "df_sales.values.shape"
   ]
  },
  {
   "cell_type": "code",
   "execution_count": 12,
   "metadata": {
    "collapsed": false
   },
   "outputs": [
    {
     "data": {
      "text/plain": [
       "array([False,  True, False, ..., False, False, False], dtype=bool)"
      ]
     },
     "execution_count": 12,
     "metadata": {},
     "output_type": "execute_result"
    }
   ],
   "source": [
    "# convert df_targetIsHol to numpy array\n",
    "df_targetIsHol.values"
   ]
  },
  {
   "cell_type": "code",
   "execution_count": 13,
   "metadata": {
    "collapsed": false
   },
   "outputs": [
    {
     "data": {
      "text/plain": [
       "(8190,)"
      ]
     },
     "execution_count": 13,
     "metadata": {},
     "output_type": "execute_result"
    }
   ],
   "source": [
    "# calculate the shape of the numpy array (df_targetIsHol.values)\n",
    "df_targetIsHol.values.shape"
   ]
  },
  {
   "cell_type": "code",
   "execution_count": 14,
   "metadata": {
    "collapsed": false
   },
   "outputs": [
    {
     "data": {
      "text/plain": [
       "(numpy.ndarray, numpy.ndarray)"
      ]
     },
     "execution_count": 14,
     "metadata": {},
     "output_type": "execute_result"
    }
   ],
   "source": [
    "# Confirm that both df_sales.values and df_targetIsHol.values are numpy arrays\n",
    "type(df_sales.values), type (df_targetIsHol.values)"
   ]
  },
  {
   "cell_type": "markdown",
   "metadata": {},
   "source": [
    "Thus we have 8190 samples and 81 features"
   ]
  },
  {
   "cell_type": "code",
   "execution_count": 15,
   "metadata": {
    "collapsed": true
   },
   "outputs": [],
   "source": [
    "# Assign X and y to the features and target data respectively\n",
    "X = df_sales.values\n",
    "y = df_targetIsHol.values\n"
   ]
  },
  {
   "cell_type": "code",
   "execution_count": 16,
   "metadata": {
    "collapsed": false
   },
   "outputs": [],
   "source": [
    "# Build the data frame of the feature data\n",
    "df_feature = pd.DataFrame(X, columns=df_sales.columns.values)"
   ]
  },
  {
   "cell_type": "code",
   "execution_count": 17,
   "metadata": {
    "collapsed": false
   },
   "outputs": [
    {
     "name": "stdout",
     "output_type": "stream",
     "text": [
      "       Pets  TV_Video  Cell_Phones  Pharmaceutical   Health_beauty      Toy   \\\n",
      "0  45829.02   9775.17     34912.45         23381.38        2876.19  16481.79   \n",
      "1  47450.50  11157.08     37809.49         29967.92        4132.61  22427.62   \n",
      "2  47077.72   7857.88     39773.71         18887.71        4541.91  22589.00   \n",
      "3  47928.89  11523.47     36826.95         26468.27        6060.26  19985.20   \n",
      "4  44292.87  11135.17     34660.16         24101.89        5244.56  17224.22   \n",
      "\n",
      "   Home_others   Kitchen   Bedding  Bathroom     ...          Books  \\\n",
      "0     34658.25  44977.91  29764.24  16227.08     ...       73315.81   \n",
      "1     38151.58  25435.02  31794.04  21762.46     ...       77280.42   \n",
      "2     35580.01  21032.55  29779.96  26880.74     ...       78602.71   \n",
      "3     38717.60  15880.85  29634.13  18706.21     ...       76091.36   \n",
      "4     35318.20  15175.52  27921.96  17306.61     ...       71718.48   \n",
      "\n",
      "   Musical_Instruments  Star_Wars  Movies_TV  Video_Games  Portable_Audios  \\\n",
      "0             57022.45  118966.90   58034.24     56157.83        113009.41   \n",
      "1             57845.36  126907.41   63245.00     66172.11        111466.37   \n",
      "2             59462.22  122267.65   69962.56     62795.87        124821.44   \n",
      "3             63011.44  135066.75   62581.64     72212.32        107952.07   \n",
      "4             57335.17  125048.08   57630.02     55501.07        103652.58   \n",
      "\n",
      "   Cameras_Camcoders  Auto_Electronics  Wearable_Tech  Smart_homes  \n",
      "0           27930.71          32954.82       10344.16         0.01  \n",
      "1            5265.09          30149.20       14740.14         0.01  \n",
      "2            5265.09          33726.13       10139.42         0.01  \n",
      "3           28420.73          31585.78       12087.95        20.00  \n",
      "4           28420.73          28457.31       10871.74        20.00  \n",
      "\n",
      "[5 rows x 80 columns]\n"
     ]
    }
   ],
   "source": [
    "print(df_feature.head())"
   ]
  },
  {
   "cell_type": "markdown",
   "metadata": {},
   "source": [
    "#### 11.0.3.2 Visual EDA\n",
    "Generate scattter plot for df_features. We will extract the first five features for visualization \n"
   ]
  },
  {
   "cell_type": "code",
   "execution_count": 18,
   "metadata": {
    "collapsed": true
   },
   "outputs": [],
   "source": [
    "#Extract the first five features for visualization \n",
    "df_5feature = df_feature.iloc[:,0:4]"
   ]
  },
  {
   "cell_type": "code",
   "execution_count": 19,
   "metadata": {
    "collapsed": false,
    "scrolled": false
   },
   "outputs": [
    {
     "data": {
      "text/plain": [
       "array([[<matplotlib.axes._subplots.AxesSubplot object at 0x000000000A1BD9E8>,\n",
       "        <matplotlib.axes._subplots.AxesSubplot object at 0x000000000A1C2D68>,\n",
       "        <matplotlib.axes._subplots.AxesSubplot object at 0x000000000A1937B8>,\n",
       "        <matplotlib.axes._subplots.AxesSubplot object at 0x000000000E303080>],\n",
       "       [<matplotlib.axes._subplots.AxesSubplot object at 0x000000000C6C7668>,\n",
       "        <matplotlib.axes._subplots.AxesSubplot object at 0x000000000C6C76A0>,\n",
       "        <matplotlib.axes._subplots.AxesSubplot object at 0x000000000CCC73C8>,\n",
       "        <matplotlib.axes._subplots.AxesSubplot object at 0x000000000CD18C88>],\n",
       "       [<matplotlib.axes._subplots.AxesSubplot object at 0x000000000E460EB8>,\n",
       "        <matplotlib.axes._subplots.AxesSubplot object at 0x000000000E4B9C88>,\n",
       "        <matplotlib.axes._subplots.AxesSubplot object at 0x000000000E51FF98>,\n",
       "        <matplotlib.axes._subplots.AxesSubplot object at 0x000000000E579C88>],\n",
       "       [<matplotlib.axes._subplots.AxesSubplot object at 0x000000000E5E72B0>,\n",
       "        <matplotlib.axes._subplots.AxesSubplot object at 0x000000000E597358>,\n",
       "        <matplotlib.axes._subplots.AxesSubplot object at 0x000000000A1DD9B0>,\n",
       "        <matplotlib.axes._subplots.AxesSubplot object at 0x000000000BCA3978>]], dtype=object)"
      ]
     },
     "execution_count": 19,
     "metadata": {},
     "output_type": "execute_result"
    },
    {
     "data": {
      "image/png": "[encoded data removed]",
      "text/plain": [
       "<matplotlib.figure.Figure at 0xa160438>"
      ]
     },
     "metadata": {},
     "output_type": "display_data"
    }
   ],
   "source": [
    "from pandas.tools.plotting import scatter_matrix\n",
    "%matplotlib inline\n",
    "pd.scatter_matrix(df_5feature, c=y, figsize = [8, 8], s=150, marker = 'D')\n"
   ]
  },
  {
   "cell_type": "markdown",
   "metadata": {
    "collapsed": true
   },
   "source": [
    "#### 11.0.1.4 k-Nearest Neighbors\n",
    "The basic idea in this analysis is to predict the label of a data point by \n",
    "* Looking at the 'k' closest labeled data points\n",
    "* Taking a majority vote\n",
    "\n",
    "##### 11.0.1.4.1 Fitting a Classifier \n",
    "Firstly, we will import necessary libraries. Then we will create an instance of a k-NN classifier with 6 neighbors (by specifying the n_neighbors parameter) and then fit it to the data. "
   ]
  },
  {
   "cell_type": "code",
   "execution_count": 21,
   "metadata": {
    "collapsed": true
   },
   "outputs": [],
   "source": [
    "# import classifier\n",
    "from sklearn.neighbors import KNeighborsClassifier"
   ]
  },
  {
   "cell_type": "code",
   "execution_count": 22,
   "metadata": {
    "collapsed": true
   },
   "outputs": [],
   "source": [
    "# Set n_neighbors = 6 and assign it to knn\n",
    "knn = KNeighborsClassifier(n_neighbors=6)"
   ]
  },
  {
   "cell_type": "code",
   "execution_count": 23,
   "metadata": {
    "collapsed": false
   },
   "outputs": [
    {
     "data": {
      "text/plain": [
       "KNeighborsClassifier(algorithm='auto', leaf_size=30, metric='minkowski',\n",
       "           metric_params=None, n_jobs=1, n_neighbors=6, p=2,\n",
       "           weights='uniform')"
      ]
     },
     "execution_count": 23,
     "metadata": {},
     "output_type": "execute_result"
    }
   ],
   "source": [
    "# fit the classifier to the training set\n",
    "knn.fit(df_sales.values, df_targetIsHol.values)"
   ]
  },
  {
   "cell_type": "code",
   "execution_count": 24,
   "metadata": {
    "collapsed": false
   },
   "outputs": [
    {
     "data": {
      "text/plain": [
       "(8190, 80)"
      ]
     },
     "execution_count": 24,
     "metadata": {},
     "output_type": "execute_result"
    }
   ],
   "source": [
    "df_sales.values.shape"
   ]
  },
  {
   "cell_type": "code",
   "execution_count": 25,
   "metadata": {
    "collapsed": false
   },
   "outputs": [
    {
     "data": {
      "text/plain": [
       "(8190,)"
      ]
     },
     "execution_count": 25,
     "metadata": {},
     "output_type": "execute_result"
    }
   ],
   "source": [
    "df_targetIsHol.values.shape"
   ]
  },
  {
   "cell_type": "markdown",
   "metadata": {},
   "source": [
    "##### 11.0.1.4.3 Measuring the Model's Performance\n",
    "We are going to use accuracy as our metric for measuring the model's performance. Accuracy is the fraction of correct predictions. Here we are concerned on how well our model performs on new data. In order to achieve this, we will split the data into two: \n",
    "\n",
    "* a training set\n",
    "* a test set\n",
    "\n",
    "We will fit/train the classifier on the training set, then we will make predictions on the test set. And then we will compare the prediction with the known labels by computing the accuracy of the model.\n",
    "\n",
    "###### 11.0.1.4.4 Splitting the data\n",
    "import the required libraries"
   ]
  },
  {
   "cell_type": "code",
   "execution_count": 26,
   "metadata": {
    "collapsed": true
   },
   "outputs": [],
   "source": [
    "#import libraries\n",
    "from sklearn.model_selection import train_test_split"
   ]
  },
  {
   "cell_type": "code",
   "execution_count": 27,
   "metadata": {
    "collapsed": true
   },
   "outputs": [],
   "source": [
    "# randomly split the data so that the test_size will be 1/3 of the initial sample size\n",
    "X_train, X_test, y_train, y_test = train_test_split(X, y, test_size=0.3, \n",
    "                                                    random_state=21, stratify=y)"
   ]
  },
  {
   "cell_type": "code",
   "execution_count": 28,
   "metadata": {
    "collapsed": false
   },
   "outputs": [],
   "source": [
    "#define the classifier\n",
    "knn = KNeighborsClassifier(n_neighbors=8)"
   ]
  },
  {
   "cell_type": "code",
   "execution_count": 29,
   "metadata": {
    "collapsed": false
   },
   "outputs": [
    {
     "data": {
      "text/plain": [
       "KNeighborsClassifier(algorithm='auto', leaf_size=30, metric='minkowski',\n",
       "           metric_params=None, n_jobs=1, n_neighbors=8, p=2,\n",
       "           weights='uniform')"
      ]
     },
     "execution_count": 29,
     "metadata": {},
     "output_type": "execute_result"
    }
   ],
   "source": [
    "#fit the classifier to the X_train and y_train\n",
    "knn.fit(X_train, y_train)"
   ]
  },
  {
   "cell_type": "markdown",
   "metadata": {},
   "source": [
    "##### 11.0.1.4.5 Prediction \n",
    "We will run prediction on the X_test and store the result as y_pred"
   ]
  },
  {
   "cell_type": "code",
   "execution_count": 30,
   "metadata": {
    "collapsed": true
   },
   "outputs": [],
   "source": [
    "y_pred = knn.predict(X_test)"
   ]
  },
  {
   "cell_type": "code",
   "execution_count": 31,
   "metadata": {
    "collapsed": false
   },
   "outputs": [
    {
     "name": "stdout",
     "output_type": "stream",
     "text": [
      "Test set predictions: \n",
      " [False False False ..., False False False]\n"
     ]
    }
   ],
   "source": [
    "# print the test set\n",
    "print(\"Test set predictions: \\n {}\".format(y_pred))"
   ]
  },
  {
   "cell_type": "markdown",
   "metadata": {},
   "source": [
    "##### 11.0.1.4.6 Model Accuracy\n",
    "To compute the accuracy of the model we use score:"
   ]
  },
  {
   "cell_type": "code",
   "execution_count": 32,
   "metadata": {
    "collapsed": false
   },
   "outputs": [
    {
     "data": {
      "text/plain": [
       "0.92836792836792836"
      ]
     },
     "execution_count": 32,
     "metadata": {},
     "output_type": "execute_result"
    }
   ],
   "source": [
    "knn.score(X_test, y_test)"
   ]
  },
  {
   "cell_type": "markdown",
   "metadata": {},
   "source": [
    "#### 11.0.1.4.7 Accuracy Testing (Overfitting & Underfitting)"
   ]
  },
  {
   "cell_type": "code",
   "execution_count": 33,
   "metadata": {
    "collapsed": true
   },
   "outputs": [],
   "source": [
    "# Setup arrays to store train and test accuracies\n",
    "neighbors = np.arange(1, 9)"
   ]
  },
  {
   "cell_type": "code",
   "execution_count": 34,
   "metadata": {
    "collapsed": true
   },
   "outputs": [],
   "source": [
    "#train_accuracy = np.empty(len(neighbors))"
   ]
  },
  {
   "cell_type": "code",
   "execution_count": 35,
   "metadata": {
    "collapsed": true
   },
   "outputs": [],
   "source": [
    "#test_accuracy = np.empty(len(neighbors))"
   ]
  },
  {
   "cell_type": "code",
   "execution_count": 36,
   "metadata": {
    "collapsed": false
   },
   "outputs": [],
   "source": [
    "# Loop over different values of k\n",
    "for i, k in enumerate(neighbors):\n",
    "    # Setup a k-NN Classifier with k neighbors: knn\n",
    "    knn = KNeighborsClassifier(n_neighbors = 1)"
   ]
  },
  {
   "cell_type": "code",
   "execution_count": 37,
   "metadata": {
    "collapsed": false
   },
   "outputs": [
    {
     "data": {
      "text/plain": [
       "KNeighborsClassifier(algorithm='auto', leaf_size=30, metric='minkowski',\n",
       "           metric_params=None, n_jobs=1, n_neighbors=1, p=2,\n",
       "           weights='uniform')"
      ]
     },
     "execution_count": 37,
     "metadata": {},
     "output_type": "execute_result"
    }
   ],
   "source": [
    " # Fit the classifier to the training data\n",
    "knn.fit(X_train, y_train)"
   ]
  },
  {
   "cell_type": "code",
   "execution_count": 38,
   "metadata": {
    "collapsed": false
   },
   "outputs": [
    {
     "data": {
      "text/plain": [
       "0.9846502703645561"
      ]
     },
     "execution_count": 38,
     "metadata": {},
     "output_type": "execute_result"
    }
   ],
   "source": [
    "#Compute accuracy on the training set\n",
    "train_accuracy_1 = knn.score(X_train, y_train)\n",
    "train_accuracy_1"
   ]
  },
  {
   "cell_type": "code",
   "execution_count": 39,
   "metadata": {
    "collapsed": false
   },
   "outputs": [
    {
     "data": {
      "text/plain": [
       "0.8880748880748881"
      ]
     },
     "execution_count": 39,
     "metadata": {},
     "output_type": "execute_result"
    }
   ],
   "source": [
    "#Compute accuracy on the testing set\n",
    "test_accuracy_1 = knn.score(X_test, y_test)\n",
    "test_accuracy_1"
   ]
  },
  {
   "cell_type": "code",
   "execution_count": 39,
   "metadata": {
    "collapsed": true
   },
   "outputs": [],
   "source": [
    " knn = KNeighborsClassifier(n_neighbors = 2)"
   ]
  },
  {
   "cell_type": "code",
   "execution_count": 40,
   "metadata": {
    "collapsed": false
   },
   "outputs": [
    {
     "data": {
      "text/plain": [
       "KNeighborsClassifier(algorithm='auto', leaf_size=30, metric='minkowski',\n",
       "           metric_params=None, n_jobs=1, n_neighbors=2, p=2,\n",
       "           weights='uniform')"
      ]
     },
     "execution_count": 40,
     "metadata": {},
     "output_type": "execute_result"
    }
   ],
   "source": [
    " # Fit the classifier to the training data\n",
    "knn.fit(X_train, y_train)"
   ]
  },
  {
   "cell_type": "code",
   "execution_count": 41,
   "metadata": {
    "collapsed": false
   },
   "outputs": [
    {
     "data": {
      "text/plain": [
       "0.93232164660736094"
      ]
     },
     "execution_count": 41,
     "metadata": {},
     "output_type": "execute_result"
    }
   ],
   "source": [
    "#Compute accuracy on the training set\n",
    "train_accuracy_2 = knn.score(X_train, y_train)\n",
    "train_accuracy_2"
   ]
  },
  {
   "cell_type": "code",
   "execution_count": 42,
   "metadata": {
    "collapsed": false
   },
   "outputs": [
    {
     "data": {
      "text/plain": [
       "0.92551892551892556"
      ]
     },
     "execution_count": 42,
     "metadata": {},
     "output_type": "execute_result"
    }
   ],
   "source": [
    "#Compute accuracy on the testing set\n",
    "test_accuracy_2 = knn.score(X_test, y_test)\n",
    "test_accuracy_2"
   ]
  },
  {
   "cell_type": "code",
   "execution_count": 43,
   "metadata": {
    "collapsed": true
   },
   "outputs": [],
   "source": [
    "# For n_neighbors = 3\n",
    "knn = KNeighborsClassifier(n_neighbors = 3)\n",
    "knn.fit(X_train, y_train)\n",
    "train_accuracy_3 = knn.score(X_train, y_train)\n",
    "test_accuracy_3 = knn.score(X_test, y_test)"
   ]
  },
  {
   "cell_type": "code",
   "execution_count": 44,
   "metadata": {
    "collapsed": true
   },
   "outputs": [],
   "source": [
    "# For n_neighbors = 4\n",
    "knn = KNeighborsClassifier(n_neighbors = 4)\n",
    "knn.fit(X_train, y_train)\n",
    "train_accuracy_4 = knn.score(X_train, y_train)\n",
    "test_accuracy_4 = knn.score(X_test, y_test)"
   ]
  },
  {
   "cell_type": "code",
   "execution_count": 45,
   "metadata": {
    "collapsed": true
   },
   "outputs": [],
   "source": [
    "# For n_neighbors = 5\n",
    "knn = KNeighborsClassifier(n_neighbors = 5)\n",
    "knn.fit(X_train, y_train)\n",
    "train_accuracy_5 = knn.score(X_train, y_train)\n",
    "test_accuracy_5 = knn.score(X_test, y_test)"
   ]
  },
  {
   "cell_type": "code",
   "execution_count": 46,
   "metadata": {
    "collapsed": true
   },
   "outputs": [],
   "source": [
    "# For n_neighbors = 6\n",
    "knn = KNeighborsClassifier(n_neighbors = 6)\n",
    "knn.fit(X_train, y_train)\n",
    "train_accuracy_6 = knn.score(X_train, y_train)\n",
    "test_accuracy_6 = knn.score(X_test, y_test)"
   ]
  },
  {
   "cell_type": "code",
   "execution_count": 47,
   "metadata": {
    "collapsed": true
   },
   "outputs": [],
   "source": [
    "# For n_neighbors = 7\n",
    "knn = KNeighborsClassifier(n_neighbors = 7)\n",
    "knn.fit(X_train, y_train)\n",
    "train_accuracy_7 = knn.score(X_train, y_train)\n",
    "test_accuracy_7 = knn.score(X_test, y_test)"
   ]
  },
  {
   "cell_type": "code",
   "execution_count": 48,
   "metadata": {
    "collapsed": true
   },
   "outputs": [],
   "source": [
    "# For n_neighbors = 8\n",
    "knn = KNeighborsClassifier(n_neighbors = 8)\n",
    "knn.fit(X_train, y_train)\n",
    "train_accuracy_8 = knn.score(X_train, y_train)\n",
    "test_accuracy_8 = knn.score(X_test, y_test)"
   ]
  },
  {
   "cell_type": "code",
   "execution_count": 49,
   "metadata": {
    "collapsed": false
   },
   "outputs": [],
   "source": [
    "test_accuracy = [test_accuracy_1, test_accuracy_2, test_accuracy_3, test_accuracy_4, test_accuracy_5, test_accuracy_6, \n",
    "                 test_accuracy_7, test_accuracy_8]"
   ]
  },
  {
   "cell_type": "code",
   "execution_count": 50,
   "metadata": {
    "collapsed": false
   },
   "outputs": [],
   "source": [
    "train_accuracy = [train_accuracy_1, train_accuracy_2, train_accuracy_3, train_accuracy_4,  train_accuracy_5, train_accuracy_6, \n",
    "                  train_accuracy_7, train_accuracy_8]"
   ]
  },
  {
   "cell_type": "code",
   "execution_count": 51,
   "metadata": {
    "collapsed": false,
    "scrolled": true
   },
   "outputs": [
    {
     "data": {
      "image/png": "[encoded data removed]",
      "text/plain": [
       "<matplotlib.figure.Figure at 0xb6f8438>"
      ]
     },
     "metadata": {},
     "output_type": "display_data"
    }
   ],
   "source": [
    "# Generate plot\n",
    "plt.title('k-NN: Varying Number of Neighbors')\n",
    "plt.plot(neighbors, test_accuracy, label = 'Testing Accuracy')\n",
    "plt.plot(neighbors, train_accuracy, label = 'Training Accuracy')\n",
    "plt.legend()\n",
    "plt.xlabel('Number of Neighbors')\n",
    "plt.ylabel('Accuracy')\n",
    "plt.show()"
   ]
  },
  {
   "cell_type": "markdown",
   "metadata": {},
   "source": [
    "### 11.0.3 Comparison of different Classifiers"
   ]
  },
  {
   "cell_type": "code",
   "execution_count": 40,
   "metadata": {
    "collapsed": true
   },
   "outputs": [],
   "source": [
    "import numpy as np\n",
    "import matplotlib.pyplot as plt\n",
    "from matplotlib.colors import ListedColormap\n",
    "%matplotlib inline\n",
    "from sklearn.model_selection import train_test_split\n",
    "from sklearn.preprocessing import StandardScaler\n",
    "from sklearn.datasets import make_moons, make_circles, make_classification\n",
    "from sklearn.neural_network import MLPClassifier\n",
    "from sklearn.neighbors import KNeighborsClassifier\n",
    "from sklearn.svm import SVC\n",
    "from sklearn.gaussian_process import GaussianProcessClassifier\n",
    "from sklearn.gaussian_process.kernels import RBF\n",
    "from sklearn.tree import DecisionTreeClassifier\n",
    "from sklearn.ensemble import RandomForestClassifier, AdaBoostClassifier\n",
    "from sklearn.naive_bayes import GaussianNB\n",
    "from sklearn.discriminant_analysis import QuadraticDiscriminantAnalysis"
   ]
  },
  {
   "cell_type": "code",
   "execution_count": 41,
   "metadata": {
    "collapsed": true
   },
   "outputs": [],
   "source": [
    "# Different classifiers\n",
    "names = [\"Nearest Neighbors\", \"Linear SVM\", \"RBF SVM\", \"Gaussian Process\",\n",
    "         \"Decision Tree\", \"Random Forest\", \"Neural Net\", \"AdaBoost\",\n",
    "         \"Naive Bayes\", \"QDA\"]"
   ]
  },
  {
   "cell_type": "code",
   "execution_count": 42,
   "metadata": {
    "collapsed": true
   },
   "outputs": [],
   "source": [
    "# Compute the classifiers\n",
    "classifiers = [\n",
    "    KNeighborsClassifier(3),\n",
    "    SVC(kernel=\"linear\", C=0.025),\n",
    "    SVC(gamma=2, C=1),\n",
    "    GaussianProcessClassifier(1.0 * RBF(1.0)),\n",
    "    DecisionTreeClassifier(max_depth=5),\n",
    "    RandomForestClassifier(max_depth=5, n_estimators=10, max_features=1),\n",
    "    MLPClassifier(alpha=1),\n",
    "    AdaBoostClassifier(),\n",
    "    GaussianNB(),\n",
    "    QuadraticDiscriminantAnalysis()]"
   ]
  },
  {
   "cell_type": "code",
   "execution_count": 43,
   "metadata": {
    "collapsed": false
   },
   "outputs": [
    {
     "data": {
      "text/plain": [
       "<matplotlib.figure.Figure at 0xa55a518>"
      ]
     },
     "metadata": {},
     "output_type": "display_data"
    }
   ],
   "source": [
    "figure = plt.figure(figsize=(27, 9))\n",
    "i = 1"
   ]
  },
  {
   "cell_type": "code",
   "execution_count": 44,
   "metadata": {
    "collapsed": false
   },
   "outputs": [
    {
     "data": {
      "image/png": "[encoded data removed]",
      "text/plain": [
       "<matplotlib.figure.Figure at 0xbde2550>"
      ]
     },
     "metadata": {},
     "output_type": "display_data"
    }
   ],
   "source": [
    " ax = plt.subplot(len(df_sales.values), len(classifiers) + 1, i)"
   ]
  },
  {
   "cell_type": "code",
   "execution_count": 45,
   "metadata": {
    "collapsed": false
   },
   "outputs": [],
   "source": [
    " # just plot the dataset first\n",
    "cm = plt.cm.RdBu\n",
    "cm_bright = ListedColormap(['#FF0000', '#0000FF'])"
   ]
  },
  {
   "cell_type": "code",
   "execution_count": 46,
   "metadata": {
    "collapsed": false
   },
   "outputs": [
    {
     "data": {
      "text/plain": [
       "<matplotlib.collections.PathCollection at 0xa4d7f98>"
      ]
     },
     "execution_count": 46,
     "metadata": {},
     "output_type": "execute_result"
    }
   ],
   "source": [
    "# Plot the training points\n",
    "%matplotlib inline\n",
    "ax.scatter(X_train[:, 0], X_train[:, 1], c=y_train, cmap=cm_bright,\n",
    "           edgecolors='k')\n"
   ]
  },
  {
   "cell_type": "code",
   "execution_count": 47,
   "metadata": {
    "collapsed": false
   },
   "outputs": [
    {
     "data": {
      "text/plain": [
       "<matplotlib.collections.PathCollection at 0xbf14048>"
      ]
     },
     "execution_count": 47,
     "metadata": {},
     "output_type": "execute_result"
    }
   ],
   "source": [
    "# and testing points\n",
    "ax.scatter(X_test[:, 0], X_test[:, 1], c=y_test, cmap=cm_bright, alpha=0.6,\n",
    "               edgecolors='k')"
   ]
  },
  {
   "cell_type": "code",
   "execution_count": null,
   "metadata": {
    "collapsed": false
   },
   "outputs": [],
   "source": [
    "# iterate over classifiers\n",
    "for name, clf in zip(names, classifiers):\n",
    "    ax = plt.subplot(len(df_sales.values), len(classifiers) + 1, i)\n",
    "    clf.fit(X_train, y_train)\n",
    "    score = clf.score(X_test, y_test)"
   ]
  },
  {
   "cell_type": "code",
   "execution_count": null,
   "metadata": {
    "collapsed": true
   },
   "outputs": [],
   "source": [
    "# Plot the decision boundary. For that, we will assign a color to each\n",
    "        # point in the mesh [x_min, x_max]x[y_min, y_max].\n",
    "        if hasattr(clf, \"decision_function\"):\n",
    "            Z = clf.decision_function(np.c_[x.ravel(), y.ravel()])\n",
    "        else:\n",
    "            Z = clf.predict_proba(np.c_[x.ravel(), y.ravel()])[:, 1]"
   ]
  },
  {
   "cell_type": "code",
   "execution_count": null,
   "metadata": {
    "collapsed": true
   },
   "outputs": [],
   "source": []
  }
 ],
 "metadata": {
  "kernelspec": {
   "display_name": "Python 3",
   "language": "python",
   "name": "python3"
  },
  "language_info": {
   "codemirror_mode": {
    "name": "ipython",
    "version": 3
   },
   "file_extension": ".py",
   "mimetype": "text/x-python",
   "name": "python",
   "nbconvert_exporter": "python",
   "pygments_lexer": "ipython3",
   "version": "3.6.0"
  }
 },
 "nbformat": 4,
 "nbformat_minor": 2
}
