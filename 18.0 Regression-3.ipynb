{
 "cells": [
  {
   "cell_type": "markdown",
   "metadata": {},
   "source": [
    "## 18.0 Introduction\n",
    "We will explore further regression of the predictors selected after calculation of the VIFs and the target variables: \n",
    "* Transport (Auto)-Items\n",
    "* Fashion (Wears)-Items and\n",
    "* Food-Items\n",
    "\n",
    "We will use statsmodel and sklearn for multiple regression. \n",
    "\n",
    "### 18.0.1 Python Libraries\n",
    "In order to start, we will import necessary libraries. "
   ]
  },
  {
   "cell_type": "code",
   "execution_count": 1,
   "metadata": {
    "collapsed": true
   },
   "outputs": [],
   "source": [
    "#import Libraries\n",
    "import pandas as pd\n",
    "import numpy as np\n",
    "import seaborn as sns; sns.set()\n",
    "import matplotlib\n",
    "import matplotlib.pyplot as plt\n",
    "import statsmodels.api as sm\n",
    "from sklearn import linear_model\n",
    "%matplotlib inline  "
   ]
  },
  {
   "cell_type": "markdown",
   "metadata": {
    "collapsed": true
   },
   "source": [
    "## 18.1 LINEAR REGRESSION IMPLEMENTING VIF RESULT"
   ]
  },
  {
   "cell_type": "markdown",
   "metadata": {},
   "source": [
    "### 18.1.0 TARGET - Health-items \n",
    "Objective: Predict Health Items sales performance "
   ]
  },
  {
   "cell_type": "code",
   "execution_count": 2,
   "metadata": {
    "collapsed": false
   },
   "outputs": [],
   "source": [
    "# Read the file 'master_dataset.xlsx' into a DataFrame df using the read_xls() function.\n",
    "df = pd.read_excel('master_dataset.xlsx', sheetname='Sheet1')"
   ]
  },
  {
   "cell_type": "markdown",
   "metadata": {},
   "source": [
    "After importing the master dataset 'master_dataset.xlsx', we create features dataframe using the columns with VIF<5"
   ]
  },
  {
   "cell_type": "code",
   "execution_count": 3,
   "metadata": {
    "collapsed": false
   },
   "outputs": [],
   "source": [
    "# generating the 29 predictor features\n",
    "features = df[['Temperature', 'Fuel_Price', 'MarkDown1', 'MarkDown2', 'MarkDown3', 'MarkDown4', 'MarkDown5', 'CPI', 'Unemployment',\n",
    "               'Size','Jewelry', 'Bathroom', 'Beading', 'Paint', 'Sportswear', 'Music', 'Fruit', 'Laundry', 'Heating_Cooling',\n",
    "               'Gift_cards', 'Baby_Essentials', 'Car_Seats', 'Strollers', 'Photo', 'Air_Quality', 'Light_bulbs', 'Gardening',\n",
    "               'Building_Materials', 'Kids_Room', 'Lighting']]"
   ]
  },
  {
   "cell_type": "markdown",
   "metadata": {},
   "source": [
    "We now create a column for health items using the VIFs as weighting factors:  "
   ]
  },
  {
   "cell_type": "code",
   "execution_count": 4,
   "metadata": {
    "collapsed": false
   },
   "outputs": [],
   "source": [
    "# Target \n",
    "df['Auto-items'] = (29.4*df['Auto'] + 14.0*df['Precious_Metals'] + 7.3*df['Hardware'] + 73 + \n",
    "                    11.4*df['Tools'])/(29.4 + 14.0 + 7.3 + 11.4)"
   ]
  },
  {
   "cell_type": "markdown",
   "metadata": {},
   "source": [
    "#### 18.1.1.1 Linear Regression Using Statsmodel\n",
    "We will proceed to run multiple regression using Statsmodel. First, we will fit and summarize the OLS model with zero intercept."
   ]
  },
  {
   "cell_type": "markdown",
   "metadata": {
    "collapsed": true
   },
   "source": [
    "##### 18.1.1.1.1 Linear Regression Using Statsmodel; without intercept"
   ]
  },
  {
   "cell_type": "code",
   "execution_count": 5,
   "metadata": {
    "collapsed": false
   },
   "outputs": [],
   "source": [
    "# Fit and summarize OLS model\n",
    "mod = sm.OLS(df['Auto-items'], features)"
   ]
  },
  {
   "cell_type": "code",
   "execution_count": 6,
   "metadata": {
    "collapsed": true
   },
   "outputs": [],
   "source": [
    "res = mod.fit()"
   ]
  },
  {
   "cell_type": "code",
   "execution_count": 7,
   "metadata": {
    "collapsed": false
   },
   "outputs": [
    {
     "name": "stdout",
     "output_type": "stream",
     "text": [
      "                            OLS Regression Results                            \n",
      "==============================================================================\n",
      "Dep. Variable:             Auto-items   R-squared:                       0.916\n",
      "Model:                            OLS   Adj. R-squared:                  0.916\n",
      "Method:                 Least Squares   F-statistic:                     2981.\n",
      "Date:                Wed, 13 Dec 2017   Prob (F-statistic):               0.00\n",
      "Time:                        20:49:39   Log-Likelihood:                -83515.\n",
      "No. Observations:                8190   AIC:                         1.671e+05\n",
      "Df Residuals:                    8160   BIC:                         1.673e+05\n",
      "Df Model:                          30                                         \n",
      "Covariance Type:            nonrobust                                         \n",
      "======================================================================================\n",
      "                         coef    std err          t      P>|t|      [0.025      0.975]\n",
      "--------------------------------------------------------------------------------------\n",
      "Temperature            6.9854      4.186      1.669      0.095      -1.219      15.190\n",
      "Fuel_Price           425.0723    123.114      3.453      0.001     183.737     666.407\n",
      "MarkDown1              0.0026      0.013      0.196      0.844      -0.023       0.028\n",
      "MarkDown2             -0.0207      0.009     -2.224      0.026      -0.039      -0.002\n",
      "MarkDown3              0.0240      0.010      2.486      0.013       0.005       0.043\n",
      "MarkDown4              0.0793      0.021      3.795      0.000       0.038       0.120\n",
      "MarkDown5              0.0070      0.008      0.923      0.356      -0.008       0.022\n",
      "CPI                    1.1860      1.915      0.619      0.536      -2.568       4.940\n",
      "Unemployment         272.4378     37.579      7.250      0.000     198.774     346.102\n",
      "Size                   0.0054      0.001      3.630      0.000       0.002       0.008\n",
      "Jewelry                0.1275      0.008     16.788      0.000       0.113       0.142\n",
      "Bathroom               0.3658      0.012     30.214      0.000       0.342       0.390\n",
      "Beading                0.1388      0.008     16.907      0.000       0.123       0.155\n",
      "Paint                  0.6875      0.073      9.419      0.000       0.544       0.831\n",
      "Sportswear             0.4461      0.060      7.456      0.000       0.329       0.563\n",
      "Music                  0.0180      0.004      4.358      0.000       0.010       0.026\n",
      "Fruit                  0.8296      0.037     22.233      0.000       0.756       0.903\n",
      "Laundry             1722.8156    153.323     11.236      0.000    1422.263    2023.368\n",
      "Heating_Cooling        0.7545      4.086      0.185      0.854      -7.256       8.765\n",
      "Gift_cards             1.8131      0.182      9.965      0.000       1.456       2.170\n",
      "Baby_Essentials       -0.6945      0.071     -9.756      0.000      -0.834      -0.555\n",
      "Car_Seats             -0.0294      0.058     -0.506      0.613      -0.143       0.084\n",
      "Strollers             17.4766      4.395      3.976      0.000       8.861      26.092\n",
      "Photo                  9.0844      0.691     13.142      0.000       7.729      10.439\n",
      "Air_Quality           -0.0821      0.015     -5.403      0.000      -0.112      -0.052\n",
      "Light_bulbs            0.0974      0.025      3.955      0.000       0.049       0.146\n",
      "Gardening              1.0155      0.051     19.783      0.000       0.915       1.116\n",
      "Building_Materials    -3.6459      0.306    -11.928      0.000      -4.245      -3.047\n",
      "Kids_Room              2.4723      0.223     11.093      0.000       2.035       2.909\n",
      "Lighting              39.7777      9.340      4.259      0.000      21.468      58.087\n",
      "==============================================================================\n",
      "Omnibus:                     7806.981   Durbin-Watson:                   1.408\n",
      "Prob(Omnibus):                  0.000   Jarque-Bera (JB):           826076.463\n",
      "Skew:                           4.300   Prob(JB):                         0.00\n",
      "Kurtosis:                      51.444   Cond. No.                     3.38e+05\n",
      "==============================================================================\n",
      "\n",
      "Warnings:\n",
      "[1] Standard Errors assume that the covariance matrix of the errors is correctly specified.\n",
      "[2] The condition number is large, 3.38e+05. This might indicate that there are\n",
      "strong multicollinearity or other numerical problems.\n"
     ]
    }
   ],
   "source": [
    "print(res.summary())"
   ]
  },
  {
   "cell_type": "markdown",
   "metadata": {},
   "source": [
    "#### 18.1.1.1.2 Linear Regression Using Statsmodel¶ - with intercept"
   ]
  },
  {
   "cell_type": "code",
   "execution_count": 8,
   "metadata": {
    "collapsed": true
   },
   "outputs": [],
   "source": [
    "# fit a OLS model with intercept on the data set\n",
    "X = sm.add_constant(features)"
   ]
  },
  {
   "cell_type": "code",
   "execution_count": 9,
   "metadata": {
    "collapsed": true
   },
   "outputs": [],
   "source": [
    "# Fit and summarize OLS model\n",
    "mod = sm.OLS(df['Auto-items'], X)"
   ]
  },
  {
   "cell_type": "code",
   "execution_count": 10,
   "metadata": {
    "collapsed": true
   },
   "outputs": [],
   "source": [
    "res = mod.fit()"
   ]
  },
  {
   "cell_type": "code",
   "execution_count": 11,
   "metadata": {
    "collapsed": false
   },
   "outputs": [
    {
     "name": "stdout",
     "output_type": "stream",
     "text": [
      "                            OLS Regression Results                            \n",
      "==============================================================================\n",
      "Dep. Variable:             Auto-items   R-squared:                       0.664\n",
      "Model:                            OLS   Adj. R-squared:                  0.663\n",
      "Method:                 Least Squares   F-statistic:                     537.0\n",
      "Date:                Wed, 13 Dec 2017   Prob (F-statistic):               0.00\n",
      "Time:                        20:50:22   Log-Likelihood:                -83508.\n",
      "No. Observations:                8190   AIC:                         1.671e+05\n",
      "Df Residuals:                    8159   BIC:                         1.673e+05\n",
      "Df Model:                          30                                         \n",
      "Covariance Type:            nonrobust                                         \n",
      "======================================================================================\n",
      "                         coef    std err          t      P>|t|      [0.025      0.975]\n",
      "--------------------------------------------------------------------------------------\n",
      "const               3885.2340   1003.427      3.872      0.000    1918.262    5852.206\n",
      "Temperature            7.1966      4.182      1.721      0.085      -1.002      15.395\n",
      "Fuel_Price           -71.0174    177.614     -0.400      0.689    -419.186     277.151\n",
      "MarkDown1             -0.0013      0.013     -0.101      0.920      -0.027       0.024\n",
      "MarkDown2             -0.0279      0.009     -2.948      0.003      -0.047      -0.009\n",
      "MarkDown3              0.0233      0.010      2.406      0.016       0.004       0.042\n",
      "MarkDown4              0.0849      0.021      4.057      0.000       0.044       0.126\n",
      "MarkDown5              0.0065      0.008      0.861      0.389      -0.008       0.021\n",
      "CPI                   -3.2378      2.229     -1.453      0.146      -7.606       1.131\n",
      "Unemployment         186.5826     43.605      4.279      0.000     101.105     272.060\n",
      "Size                   0.0045      0.002      3.007      0.003       0.002       0.007\n",
      "Jewelry                0.1273      0.008     16.777      0.000       0.112       0.142\n",
      "Bathroom               0.3684      0.012     30.409      0.000       0.345       0.392\n",
      "Beading                0.1384      0.008     16.870      0.000       0.122       0.154\n",
      "Paint                  0.6833      0.073      9.368      0.000       0.540       0.826\n",
      "Sportswear             0.4317      0.060      7.208      0.000       0.314       0.549\n",
      "Music                  0.0147      0.004      3.490      0.000       0.006       0.023\n",
      "Fruit                  0.8325      0.037     22.325      0.000       0.759       0.906\n",
      "Laundry             1625.2809    155.249     10.469      0.000    1320.953    1929.609\n",
      "Heating_Cooling       -1.6732      4.131     -0.405      0.685      -9.770       6.424\n",
      "Gift_cards             1.8567      0.182     10.194      0.000       1.500       2.214\n",
      "Baby_Essentials       -0.7402      0.072    -10.267      0.000      -0.882      -0.599\n",
      "Car_Seats             -0.0835      0.060     -1.400      0.162      -0.200       0.033\n",
      "Strollers             16.7321      4.396      3.806      0.000       8.115      25.349\n",
      "Photo                  8.9631      0.691     12.965      0.000       7.608      10.318\n",
      "Air_Quality           -0.0827      0.015     -5.447      0.000      -0.112      -0.053\n",
      "Light_bulbs            0.1133      0.025      4.541      0.000       0.064       0.162\n",
      "Gardening              1.0201      0.051     19.883      0.000       0.920       1.121\n",
      "Building_Materials    -3.6875      0.306    -12.067      0.000      -4.287      -3.088\n",
      "Kids_Room              2.4490      0.223     10.994      0.000       2.012       2.886\n",
      "Lighting              35.2037      9.407      3.742      0.000      16.764      53.644\n",
      "==============================================================================\n",
      "Omnibus:                     7845.623   Durbin-Watson:                   1.410\n",
      "Prob(Omnibus):                  0.000   Jarque-Bera (JB):           839710.763\n",
      "Skew:                           4.333   Prob(JB):                         0.00\n",
      "Kurtosis:                      51.843   Cond. No.                     2.22e+06\n",
      "==============================================================================\n",
      "\n",
      "Warnings:\n",
      "[1] Standard Errors assume that the covariance matrix of the errors is correctly specified.\n",
      "[2] The condition number is large, 2.22e+06. This might indicate that there are\n",
      "strong multicollinearity or other numerical problems.\n"
     ]
    }
   ],
   "source": [
    "print(res.summary())"
   ]
  },
  {
   "cell_type": "markdown",
   "metadata": {},
   "source": [
    "#### 18.1.1.2 Linear Regression Using SKLearn"
   ]
  },
  {
   "cell_type": "markdown",
   "metadata": {},
   "source": [
    "We will run linear regression models in SKLearn."
   ]
  },
  {
   "cell_type": "markdown",
   "metadata": {},
   "source": [
    "Then we’ll create numpy arrays of the features and target, reshape the target and fit a model:"
   ]
  },
  {
   "cell_type": "code",
   "execution_count": 12,
   "metadata": {
    "collapsed": false
   },
   "outputs": [],
   "source": [
    "#create numpy array\n",
    "X = features.values\n",
    "y = df['Auto-items'].values"
   ]
  },
  {
   "cell_type": "code",
   "execution_count": 13,
   "metadata": {
    "collapsed": true
   },
   "outputs": [],
   "source": [
    "#Reshape y\n",
    "y = y.reshape(-1,1)"
   ]
  },
  {
   "cell_type": "code",
   "execution_count": 14,
   "metadata": {
    "collapsed": true
   },
   "outputs": [],
   "source": [
    "#fit regression model\n",
    "lm = linear_model.LinearRegression()\n",
    "model = lm.fit(X,y)"
   ]
  },
  {
   "cell_type": "markdown",
   "metadata": {},
   "source": [
    "The lm.fit() function fits a linear model. We want to use the model to make predictions, so we’ll use lm.predict():"
   ]
  },
  {
   "cell_type": "code",
   "execution_count": 15,
   "metadata": {
    "collapsed": true
   },
   "outputs": [],
   "source": [
    "#run prediction \n",
    "predictions = lm.predict(X)"
   ]
  },
  {
   "cell_type": "markdown",
   "metadata": {},
   "source": [
    "The print function would print the first 5 predictions for y (I didn’t print the entire list to “save room”. Removing [0:5] would print the entire list):"
   ]
  },
  {
   "cell_type": "code",
   "execution_count": 16,
   "metadata": {
    "collapsed": false
   },
   "outputs": [
    {
     "name": "stdout",
     "output_type": "stream",
     "text": [
      "[[ 16751.57615155]\n",
      " [ 26312.91041307]\n",
      " [ 23880.26436963]\n",
      " [ 28823.90757628]\n",
      " [ 19912.86796577]]\n"
     ]
    }
   ],
   "source": [
    "print((predictions)[0:5])"
   ]
  },
  {
   "cell_type": "code",
   "execution_count": 17,
   "metadata": {
    "collapsed": false
   },
   "outputs": [
    {
     "data": {
      "text/plain": [
       "0.6638054762066663"
      ]
     },
     "execution_count": 17,
     "metadata": {},
     "output_type": "execute_result"
    }
   ],
   "source": [
    "# generate the score\n",
    "lm.score(X,y)"
   ]
  },
  {
   "cell_type": "code",
   "execution_count": 18,
   "metadata": {
    "collapsed": false
   },
   "outputs": [
    {
     "data": {
      "text/plain": [
       "array([[  7.19661999e+00,  -7.10174001e+01,  -1.31491736e-03,\n",
       "         -2.79359384e-02,   2.32647632e-02,   8.49310876e-02,\n",
       "          6.51977549e-03,  -3.23784846e+00,   1.86582578e+02,\n",
       "          4.52467900e-03,   1.27279374e-01,   3.68407255e-01,\n",
       "          1.38375589e-01,   6.83289172e-01,   4.31712574e-01,\n",
       "          1.47206523e-02,   8.32498722e-01,   1.62528086e+03,\n",
       "         -1.67316147e+00,   1.85668491e+00,  -7.40211906e-01,\n",
       "         -8.34910017e-02,   1.67321443e+01,   8.96308552e+00,\n",
       "         -8.26558314e-02,   1.13306768e-01,   1.02010242e+00,\n",
       "         -3.68752370e+00,   2.44895760e+00,   3.52037440e+01]])"
      ]
     },
     "execution_count": 18,
     "metadata": {},
     "output_type": "execute_result"
    }
   ],
   "source": [
    "lm.coef_"
   ]
  },
  {
   "cell_type": "code",
   "execution_count": 19,
   "metadata": {
    "collapsed": false
   },
   "outputs": [
    {
     "data": {
      "text/plain": [
       "array([ 3885.23398773])"
      ]
     },
     "execution_count": 19,
     "metadata": {},
     "output_type": "execute_result"
    }
   ],
   "source": [
    "lm.intercept_"
   ]
  },
  {
   "cell_type": "markdown",
   "metadata": {},
   "source": [
    "### 18.2.1 TARGET - Fashion-items\n",
    "Objective: Predict Fashion Items sales performance"
   ]
  },
  {
   "cell_type": "code",
   "execution_count": 22,
   "metadata": {
    "collapsed": false
   },
   "outputs": [],
   "source": [
    "df['Wears-items'] = (23.0*df['Clearance_Clothings'] + 18.7*df['Boys_Clothing'] + 9.1*df['Girls_Clothing'] + \n",
    "                        21.4*df['Women_Clothing'] + 13.9* df['Intimates_Sleepwears'] + 11.3*df['Men_Clothings'] + \n",
    "                     34.5*df['Active_Wear'] + 18.7*df['Adult_Shoes'] + 8.4*df['Bags_Accessories'] + 6.7*df['Luggage'] + \n",
    "                     44.2*df['Swim_Shop'] + 5.7*df['Pioneer_Woman']\n",
    "                       )/(23.0 + 18.7 + 9.1 + 13.9 + 18.7 + 8.4 + 44.2 + 5.7)"
   ]
  },
  {
   "cell_type": "markdown",
   "metadata": {},
   "source": [
    "#### 18.2.1.1 Linear Regression Using Statsmodel¶ - without intercept"
   ]
  },
  {
   "cell_type": "code",
   "execution_count": 23,
   "metadata": {
    "collapsed": false
   },
   "outputs": [],
   "source": [
    "# Fit and summarize OLS model\n",
    "mod = sm.OLS(df['Wears-items'], features)"
   ]
  },
  {
   "cell_type": "code",
   "execution_count": 24,
   "metadata": {
    "collapsed": true
   },
   "outputs": [],
   "source": [
    "res = mod.fit()"
   ]
  },
  {
   "cell_type": "code",
   "execution_count": 25,
   "metadata": {
    "collapsed": false
   },
   "outputs": [
    {
     "name": "stdout",
     "output_type": "stream",
     "text": [
      "                            OLS Regression Results                            \n",
      "==============================================================================\n",
      "Dep. Variable:            Wears-items   R-squared:                       0.943\n",
      "Model:                            OLS   Adj. R-squared:                  0.942\n",
      "Method:                 Least Squares   F-statistic:                     4471.\n",
      "Date:                Wed, 13 Dec 2017   Prob (F-statistic):               0.00\n",
      "Time:                        20:54:17   Log-Likelihood:                -77936.\n",
      "No. Observations:                8190   AIC:                         1.559e+05\n",
      "Df Residuals:                    8160   BIC:                         1.561e+05\n",
      "Df Model:                          30                                         \n",
      "Covariance Type:            nonrobust                                         \n",
      "======================================================================================\n",
      "                         coef    std err          t      P>|t|      [0.025      0.975]\n",
      "--------------------------------------------------------------------------------------\n",
      "Temperature            9.4944      2.118      4.483      0.000       5.343      13.646\n",
      "Fuel_Price           192.9183     62.295      3.097      0.002      70.803     315.033\n",
      "MarkDown1             -0.0088      0.007     -1.330      0.183      -0.022       0.004\n",
      "MarkDown2             -0.0047      0.005     -0.990      0.322      -0.014       0.005\n",
      "MarkDown3              0.0065      0.005      1.336      0.182      -0.003       0.016\n",
      "MarkDown4              0.0257      0.011      2.429      0.015       0.005       0.046\n",
      "MarkDown5              0.0025      0.004      0.657      0.511      -0.005       0.010\n",
      "CPI                   -1.7559      0.969     -1.812      0.070      -3.655       0.144\n",
      "Unemployment           2.9340     19.015      0.154      0.877     -34.340      40.208\n",
      "Size                   0.0016      0.001      2.129      0.033       0.000       0.003\n",
      "Jewelry                0.1416      0.004     36.846      0.000       0.134       0.149\n",
      "Bathroom               0.2767      0.006     45.174      0.000       0.265       0.289\n",
      "Beading               -0.0111      0.004     -2.676      0.007      -0.019      -0.003\n",
      "Paint                  0.9044      0.037     24.486      0.000       0.832       0.977\n",
      "Sportswear             0.7498      0.030     24.767      0.000       0.690       0.809\n",
      "Music                 -0.0021      0.002     -0.986      0.324      -0.006       0.002\n",
      "Fruit                  0.5368      0.019     28.431      0.000       0.500       0.574\n",
      "Laundry              171.7740     77.581      2.214      0.027      19.695     323.853\n",
      "Heating_Cooling       10.3971      2.068      5.029      0.000       6.344      14.450\n",
      "Gift_cards             0.8570      0.092      9.309      0.000       0.677       1.037\n",
      "Baby_Essentials       -0.4303      0.036    -11.945      0.000      -0.501      -0.360\n",
      "Car_Seats              0.0762      0.029      2.595      0.009       0.019       0.134\n",
      "Strollers            -12.3641      2.224     -5.559      0.000     -16.724      -8.005\n",
      "Photo                  4.8291      0.350     13.807      0.000       4.143       5.515\n",
      "Air_Quality            0.0310      0.008      4.039      0.000       0.016       0.046\n",
      "Light_bulbs            0.0101      0.012      0.813      0.416      -0.014       0.035\n",
      "Gardening              0.4033      0.026     15.525      0.000       0.352       0.454\n",
      "Building_Materials     0.2581      0.155      1.669      0.095      -0.045       0.561\n",
      "Kids_Room              0.3366      0.113      2.985      0.003       0.116       0.558\n",
      "Lighting              14.4275      4.726      3.053      0.002       5.163      23.692\n",
      "==============================================================================\n",
      "Omnibus:                      730.993   Durbin-Watson:                   0.714\n",
      "Prob(Omnibus):                  0.000   Jarque-Bera (JB):             4816.938\n",
      "Skew:                           0.113   Prob(JB):                         0.00\n",
      "Kurtosis:                       6.750   Cond. No.                     3.38e+05\n",
      "==============================================================================\n",
      "\n",
      "Warnings:\n",
      "[1] Standard Errors assume that the covariance matrix of the errors is correctly specified.\n",
      "[2] The condition number is large, 3.38e+05. This might indicate that there are\n",
      "strong multicollinearity or other numerical problems.\n"
     ]
    }
   ],
   "source": [
    "print(res.summary())"
   ]
  },
  {
   "cell_type": "markdown",
   "metadata": {},
   "source": [
    "#### 18.2.1.2 Linear Regression Using Statsmodel¶ - with intercept"
   ]
  },
  {
   "cell_type": "code",
   "execution_count": 26,
   "metadata": {
    "collapsed": true
   },
   "outputs": [],
   "source": [
    "## fit a OLS model with intercept on the data set\n",
    "X = sm.add_constant(features)"
   ]
  },
  {
   "cell_type": "code",
   "execution_count": 27,
   "metadata": {
    "collapsed": false
   },
   "outputs": [],
   "source": [
    "# Fit and summarize OLS model\n",
    "mod = sm.OLS(df['Wears-items'], X)"
   ]
  },
  {
   "cell_type": "code",
   "execution_count": 28,
   "metadata": {
    "collapsed": true
   },
   "outputs": [],
   "source": [
    "res = mod.fit()"
   ]
  },
  {
   "cell_type": "code",
   "execution_count": 29,
   "metadata": {
    "collapsed": false
   },
   "outputs": [
    {
     "name": "stdout",
     "output_type": "stream",
     "text": [
      "                            OLS Regression Results                            \n",
      "==============================================================================\n",
      "Dep. Variable:            Wears-items   R-squared:                       0.785\n",
      "Model:                            OLS   Adj. R-squared:                  0.784\n",
      "Method:                 Least Squares   F-statistic:                     990.8\n",
      "Date:                Wed, 13 Dec 2017   Prob (F-statistic):               0.00\n",
      "Time:                        20:54:49   Log-Likelihood:                -77927.\n",
      "No. Observations:                8190   AIC:                         1.559e+05\n",
      "Df Residuals:                    8159   BIC:                         1.561e+05\n",
      "Df Model:                          30                                         \n",
      "Covariance Type:            nonrobust                                         \n",
      "======================================================================================\n",
      "                         coef    std err          t      P>|t|      [0.025      0.975]\n",
      "--------------------------------------------------------------------------------------\n",
      "const               2127.3615    507.652      4.191      0.000    1132.235    3122.488\n",
      "Temperature            9.6100      2.116      4.542      0.000       5.462      13.758\n",
      "Fuel_Price           -78.7158     89.858     -0.876      0.381    -254.861      97.429\n",
      "MarkDown1             -0.0109      0.007     -1.649      0.099      -0.024       0.002\n",
      "MarkDown2             -0.0086      0.005     -1.800      0.072      -0.018       0.001\n",
      "MarkDown3              0.0061      0.005      1.249      0.212      -0.003       0.016\n",
      "MarkDown4              0.0288      0.011      2.715      0.007       0.008       0.050\n",
      "MarkDown5              0.0023      0.004      0.590      0.555      -0.005       0.010\n",
      "CPI                   -4.1781      1.127     -3.706      0.000      -6.388      -1.968\n",
      "Unemployment         -44.0761     22.061     -1.998      0.046     -87.321      -0.831\n",
      "Size                   0.0011      0.001      1.474      0.141      -0.000       0.003\n",
      "Jewelry                0.1415      0.004     36.856      0.000       0.134       0.149\n",
      "Bathroom               0.2782      0.006     45.383      0.000       0.266       0.290\n",
      "Beading               -0.0113      0.004     -2.733      0.006      -0.019      -0.003\n",
      "Paint                  0.9021      0.037     24.446      0.000       0.830       0.974\n",
      "Sportswear             0.7419      0.030     24.485      0.000       0.683       0.801\n",
      "Music                 -0.0039      0.002     -1.813      0.070      -0.008       0.000\n",
      "Fruit                  0.5384      0.019     28.538      0.000       0.501       0.575\n",
      "Laundry              118.3688     78.543      1.507      0.132     -35.596     272.334\n",
      "Heating_Cooling        9.0678      2.090      4.339      0.000       4.971      13.164\n",
      "Gift_cards             0.8809      0.092      9.560      0.000       0.700       1.062\n",
      "Baby_Essentials       -0.4553      0.036    -12.482      0.000      -0.527      -0.384\n",
      "Car_Seats              0.0466      0.030      1.543      0.123      -0.013       0.106\n",
      "Strollers            -12.7718      2.224     -5.743      0.000     -17.131      -8.412\n",
      "Photo                  4.7627      0.350     13.617      0.000       4.077       5.448\n",
      "Air_Quality            0.0307      0.008      4.000      0.000       0.016       0.046\n",
      "Light_bulbs            0.0188      0.013      1.492      0.136      -0.006       0.044\n",
      "Gardening              0.4058      0.026     15.633      0.000       0.355       0.457\n",
      "Building_Materials     0.2353      0.155      1.522      0.128      -0.068       0.538\n",
      "Kids_Room              0.3239      0.113      2.874      0.004       0.103       0.545\n",
      "Lighting              11.9231      4.759      2.505      0.012       2.594      21.252\n",
      "==============================================================================\n",
      "Omnibus:                      743.315   Durbin-Watson:                   0.716\n",
      "Prob(Omnibus):                  0.000   Jarque-Bera (JB):             4949.662\n",
      "Skew:                           0.126   Prob(JB):                         0.00\n",
      "Kurtosis:                       6.800   Cond. No.                     2.22e+06\n",
      "==============================================================================\n",
      "\n",
      "Warnings:\n",
      "[1] Standard Errors assume that the covariance matrix of the errors is correctly specified.\n",
      "[2] The condition number is large, 2.22e+06. This might indicate that there are\n",
      "strong multicollinearity or other numerical problems.\n"
     ]
    }
   ],
   "source": [
    "print(res.summary())"
   ]
  },
  {
   "cell_type": "markdown",
   "metadata": {},
   "source": [
    "#### 18.2.2 Linear Regression Using SKLearn"
   ]
  },
  {
   "cell_type": "code",
   "execution_count": 30,
   "metadata": {
    "collapsed": true
   },
   "outputs": [],
   "source": [
    "#create numpy array\n",
    "X = features.values\n",
    "y = df['Wears-items'].values"
   ]
  },
  {
   "cell_type": "code",
   "execution_count": 31,
   "metadata": {
    "collapsed": true
   },
   "outputs": [],
   "source": [
    "#Reshape y\n",
    "y = y.reshape(-1,1)"
   ]
  },
  {
   "cell_type": "code",
   "execution_count": 32,
   "metadata": {
    "collapsed": true
   },
   "outputs": [],
   "source": [
    "#fit regression model\n",
    "lm = linear_model.LinearRegression()\n",
    "model = lm.fit(X,y)"
   ]
  },
  {
   "cell_type": "code",
   "execution_count": 33,
   "metadata": {
    "collapsed": true
   },
   "outputs": [],
   "source": [
    "#run prediction \n",
    "predictions = lm.predict(X)"
   ]
  },
  {
   "cell_type": "code",
   "execution_count": 34,
   "metadata": {
    "collapsed": false
   },
   "outputs": [
    {
     "name": "stdout",
     "output_type": "stream",
     "text": [
      "[[ 11061.508697  ]\n",
      " [ 19659.40487071]\n",
      " [ 15040.27919271]\n",
      " [ 17474.41428156]\n",
      " [ 13389.42792125]]\n"
     ]
    }
   ],
   "source": [
    "print((predictions)[0:5])"
   ]
  },
  {
   "cell_type": "code",
   "execution_count": 35,
   "metadata": {
    "collapsed": false
   },
   "outputs": [
    {
     "data": {
      "text/plain": [
       "0.78462742270889585"
      ]
     },
     "execution_count": 35,
     "metadata": {},
     "output_type": "execute_result"
    }
   ],
   "source": [
    "# generate the score\n",
    "lm.score(X,y)"
   ]
  },
  {
   "cell_type": "code",
   "execution_count": 36,
   "metadata": {
    "collapsed": false
   },
   "outputs": [
    {
     "data": {
      "text/plain": [
       "array([[  9.61003305e+00,  -7.87158267e+01,  -1.08792092e-02,\n",
       "         -8.63172503e-03,   6.10842243e-03,   2.87603593e-02,\n",
       "          2.25984280e-03,  -4.17814759e+00,  -4.40761240e+01,\n",
       "          1.12197448e-03,   1.41459291e-01,   2.78163312e-01,\n",
       "         -1.13398271e-02,   9.02091900e-01,   7.41929394e-01,\n",
       "         -3.86825051e-03,   5.38385944e-01,   1.18368817e+02,\n",
       "          9.06782311e+00,   8.80891500e-01,  -4.55285820e-01,\n",
       "          4.65539770e-02,  -1.27717651e+01,   4.76266947e+00,\n",
       "          3.07136541e-02,   1.88269675e-02,   4.05767647e-01,\n",
       "          2.35321634e-01,   3.23859873e-01,   1.19230971e+01]])"
      ]
     },
     "execution_count": 36,
     "metadata": {},
     "output_type": "execute_result"
    }
   ],
   "source": [
    "lm.coef_"
   ]
  },
  {
   "cell_type": "code",
   "execution_count": 37,
   "metadata": {
    "collapsed": false
   },
   "outputs": [
    {
     "data": {
      "text/plain": [
       "array([ 2127.36148067])"
      ]
     },
     "execution_count": 37,
     "metadata": {},
     "output_type": "execute_result"
    }
   ],
   "source": [
    "lm.intercept_"
   ]
  },
  {
   "cell_type": "markdown",
   "metadata": {
    "collapsed": true
   },
   "source": [
    "### 18.3.1 TARGET - Food-items\n",
    "Objective: Predict Food Items sales performance"
   ]
  },
  {
   "cell_type": "code",
   "execution_count": 38,
   "metadata": {
    "collapsed": false
   },
   "outputs": [],
   "source": [
    "df['Food-items'] = (10.800000*df['Office_supplies '] + 88.600000*df['School_Supplies'] + 44.600000*df['Home_Office'] +\n",
    "                     11.000000*df['Craft_general'] + 134.3*df['Books'])/(10.800000 + 88.600000 + 44.600000 + 11.000000 + 134.3)"
   ]
  },
  {
   "cell_type": "markdown",
   "metadata": {},
   "source": [
    "#### 18.3.1.1 Linear Regression Using Statsmodel¶ - without intercept"
   ]
  },
  {
   "cell_type": "code",
   "execution_count": 39,
   "metadata": {
    "collapsed": true
   },
   "outputs": [],
   "source": [
    "# Fit and summarize OLS model\n",
    "mod = sm.OLS(df['Food-items'], features)"
   ]
  },
  {
   "cell_type": "code",
   "execution_count": 40,
   "metadata": {
    "collapsed": true
   },
   "outputs": [],
   "source": [
    "res = mod.fit()"
   ]
  },
  {
   "cell_type": "code",
   "execution_count": 41,
   "metadata": {
    "collapsed": false
   },
   "outputs": [
    {
     "name": "stdout",
     "output_type": "stream",
     "text": [
      "                            OLS Regression Results                            \n",
      "==============================================================================\n",
      "Dep. Variable:             Food-items   R-squared:                       0.886\n",
      "Model:                            OLS   Adj. R-squared:                  0.886\n",
      "Method:                 Least Squares   F-statistic:                     2121.\n",
      "Date:                Wed, 13 Dec 2017   Prob (F-statistic):               0.00\n",
      "Time:                        20:57:03   Log-Likelihood:                -88546.\n",
      "No. Observations:                8190   AIC:                         1.772e+05\n",
      "Df Residuals:                    8160   BIC:                         1.774e+05\n",
      "Df Model:                          30                                         \n",
      "Covariance Type:            nonrobust                                         \n",
      "======================================================================================\n",
      "                         coef    std err          t      P>|t|      [0.025      0.975]\n",
      "--------------------------------------------------------------------------------------\n",
      "Temperature           35.3048      7.736      4.564      0.000      20.140      50.470\n",
      "Fuel_Price           140.5629    227.552      0.618      0.537    -305.496     586.622\n",
      "MarkDown1             -0.0619      0.024     -2.572      0.010      -0.109      -0.015\n",
      "MarkDown2             -0.0587      0.017     -3.417      0.001      -0.092      -0.025\n",
      "MarkDown3             -0.0230      0.018     -1.286      0.198      -0.058       0.012\n",
      "MarkDown4             -0.0555      0.039     -1.438      0.151      -0.131       0.020\n",
      "MarkDown5              0.0134      0.014      0.959      0.338      -0.014       0.041\n",
      "CPI                   48.8614      3.540     13.804      0.000      41.923      55.800\n",
      "Unemployment         185.2242     69.457      2.667      0.008      49.071     321.378\n",
      "Size                   0.0133      0.003      4.826      0.000       0.008       0.019\n",
      "Jewelry                0.4622      0.014     32.936      0.000       0.435       0.490\n",
      "Bathroom               0.5096      0.022     22.773      0.000       0.466       0.553\n",
      "Beading               -0.0784      0.015     -5.164      0.000      -0.108      -0.049\n",
      "Paint                 -1.9675      0.135    -14.583      0.000      -2.232      -1.703\n",
      "Sportswear             0.1053      0.111      0.952      0.341      -0.111       0.322\n",
      "Music                  0.0699      0.008      9.143      0.000       0.055       0.085\n",
      "Fruit                 -0.2108      0.069     -3.056      0.002      -0.346      -0.076\n",
      "Laundry            -2522.4517    283.387     -8.901      0.000   -3077.962   -1966.941\n",
      "Heating_Cooling      -13.6681      7.553     -1.810      0.070     -28.473       1.137\n",
      "Gift_cards            -3.3493      0.336     -9.960      0.000      -4.009      -2.690\n",
      "Baby_Essentials       -0.9969      0.132     -7.576      0.000      -1.255      -0.739\n",
      "Car_Seats             -1.4524      0.107    -13.541      0.000      -1.663      -1.242\n",
      "Strollers            -17.4575      8.124     -2.149      0.032     -33.382      -1.533\n",
      "Photo                 -7.0251      1.278     -5.499      0.000      -9.530      -4.521\n",
      "Air_Quality            0.1589      0.028      5.660      0.000       0.104       0.214\n",
      "Light_bulbs            1.5593      0.046     34.250      0.000       1.470       1.649\n",
      "Gardening             -0.0749      0.095     -0.790      0.430      -0.261       0.111\n",
      "Building_Materials    14.7320      0.565     26.076      0.000      13.625      15.840\n",
      "Kids_Room             -2.2854      0.412     -5.548      0.000      -3.093      -1.478\n",
      "Lighting             159.4841     17.264      9.238      0.000     125.642     193.326\n",
      "==============================================================================\n",
      "Omnibus:                      396.095   Durbin-Watson:                   0.413\n",
      "Prob(Omnibus):                  0.000   Jarque-Bera (JB):              815.335\n",
      "Skew:                           0.339   Prob(JB):                    8.96e-178\n",
      "Kurtosis:                       4.389   Cond. No.                     3.38e+05\n",
      "==============================================================================\n",
      "\n",
      "Warnings:\n",
      "[1] Standard Errors assume that the covariance matrix of the errors is correctly specified.\n",
      "[2] The condition number is large, 3.38e+05. This might indicate that there are\n",
      "strong multicollinearity or other numerical problems.\n"
     ]
    }
   ],
   "source": [
    "print(res.summary())"
   ]
  },
  {
   "cell_type": "markdown",
   "metadata": {},
   "source": [
    "#### 18.3.1.2 Linear Regression Using Statsmodel¶ - with intercept"
   ]
  },
  {
   "cell_type": "code",
   "execution_count": 42,
   "metadata": {
    "collapsed": true
   },
   "outputs": [],
   "source": [
    "# fit a OLS model with intercept on the data set\n",
    "X = sm.add_constant(features)"
   ]
  },
  {
   "cell_type": "code",
   "execution_count": 44,
   "metadata": {
    "collapsed": false
   },
   "outputs": [],
   "source": [
    "# Fit and summarize OLS model\n",
    "mod = sm.OLS(df['Food-items'], X)"
   ]
  },
  {
   "cell_type": "code",
   "execution_count": 45,
   "metadata": {
    "collapsed": true
   },
   "outputs": [],
   "source": [
    "res = mod.fit()"
   ]
  },
  {
   "cell_type": "code",
   "execution_count": 46,
   "metadata": {
    "collapsed": false
   },
   "outputs": [
    {
     "name": "stdout",
     "output_type": "stream",
     "text": [
      "                            OLS Regression Results                            \n",
      "==============================================================================\n",
      "Dep. Variable:             Food-items   R-squared:                       0.554\n",
      "Model:                            OLS   Adj. R-squared:                  0.553\n",
      "Method:                 Least Squares   F-statistic:                     338.2\n",
      "Date:                Wed, 13 Dec 2017   Prob (F-statistic):               0.00\n",
      "Time:                        20:57:44   Log-Likelihood:                -88546.\n",
      "No. Observations:                8190   AIC:                         1.772e+05\n",
      "Df Residuals:                    8159   BIC:                         1.774e+05\n",
      "Df Model:                          30                                         \n",
      "Covariance Type:            nonrobust                                         \n",
      "======================================================================================\n",
      "                         coef    std err          t      P>|t|      [0.025      0.975]\n",
      "--------------------------------------------------------------------------------------\n",
      "const               -165.0207   1856.334     -0.089      0.929   -3803.908    3473.867\n",
      "Temperature           35.2958      7.737      4.562      0.000      20.129      50.463\n",
      "Fuel_Price           161.6337    328.585      0.492      0.623    -482.477     805.744\n",
      "MarkDown1             -0.0617      0.024     -2.558      0.011      -0.109      -0.014\n",
      "MarkDown2             -0.0584      0.018     -3.332      0.001      -0.093      -0.024\n",
      "MarkDown3             -0.0230      0.018     -1.284      0.199      -0.058       0.012\n",
      "MarkDown4             -0.0558      0.039     -1.440      0.150      -0.132       0.020\n",
      "MarkDown5              0.0135      0.014      0.960      0.337      -0.014       0.041\n",
      "CPI                   49.0493      4.123     11.897      0.000      40.967      57.131\n",
      "Unemployment         188.8708     80.670      2.341      0.019      30.738     347.004\n",
      "Size                   0.0133      0.003      4.783      0.000       0.008       0.019\n",
      "Jewelry                0.4622      0.014     32.934      0.000       0.435       0.490\n",
      "Bathroom               0.5095      0.022     22.731      0.000       0.466       0.553\n",
      "Beading               -0.0783      0.015     -5.162      0.000      -0.108      -0.049\n",
      "Paint                 -1.9673      0.135    -14.579      0.000      -2.232      -1.703\n",
      "Sportswear             0.1059      0.111      0.956      0.339      -0.111       0.323\n",
      "Music                  0.0700      0.008      8.972      0.000       0.055       0.085\n",
      "Fruit                 -0.2109      0.069     -3.057      0.002      -0.346      -0.076\n",
      "Laundry            -2518.3090    287.210     -8.768      0.000   -3081.314   -1955.304\n",
      "Heating_Cooling      -13.5650      7.642     -1.775      0.076     -28.544       1.414\n",
      "Gift_cards            -3.3512      0.337     -9.946      0.000      -4.012      -2.691\n",
      "Baby_Essentials       -0.9949      0.133     -7.459      0.000      -1.256      -0.733\n",
      "Car_Seats             -1.4501      0.110    -13.142      0.000      -1.666      -1.234\n",
      "Strollers            -17.4259      8.132     -2.143      0.032     -33.367      -1.485\n",
      "Photo                 -7.0200      1.279     -5.489      0.000      -9.527      -4.513\n",
      "Air_Quality            0.1589      0.028      5.661      0.000       0.104       0.214\n",
      "Light_bulbs            1.5586      0.046     33.767      0.000       1.468       1.649\n",
      "Gardening             -0.0751      0.095     -0.791      0.429      -0.261       0.111\n",
      "Building_Materials    14.7338      0.565     26.061      0.000      13.626      15.842\n",
      "Kids_Room             -2.2844      0.412     -5.543      0.000      -3.092      -1.477\n",
      "Lighting             159.6784     17.403      9.175      0.000     125.565     193.792\n",
      "==============================================================================\n",
      "Omnibus:                      396.035   Durbin-Watson:                   0.413\n",
      "Prob(Omnibus):                  0.000   Jarque-Bera (JB):              815.787\n",
      "Skew:                           0.339   Prob(JB):                    7.15e-178\n",
      "Kurtosis:                       4.390   Cond. No.                     2.22e+06\n",
      "==============================================================================\n",
      "\n",
      "Warnings:\n",
      "[1] Standard Errors assume that the covariance matrix of the errors is correctly specified.\n",
      "[2] The condition number is large, 2.22e+06. This might indicate that there are\n",
      "strong multicollinearity or other numerical problems.\n"
     ]
    }
   ],
   "source": [
    "print(res.summary())"
   ]
  },
  {
   "cell_type": "markdown",
   "metadata": {},
   "source": [
    "#### 18.3.1.2 Linear Regression Using SKLearn"
   ]
  },
  {
   "cell_type": "code",
   "execution_count": 47,
   "metadata": {
    "collapsed": true
   },
   "outputs": [],
   "source": [
    "#create numpy array\n",
    "X = features.values\n",
    "y = df['Food-items'].values"
   ]
  },
  {
   "cell_type": "code",
   "execution_count": 48,
   "metadata": {
    "collapsed": true
   },
   "outputs": [],
   "source": [
    "#Reshape y\n",
    "y = y.reshape(-1,1)"
   ]
  },
  {
   "cell_type": "code",
   "execution_count": 49,
   "metadata": {
    "collapsed": true
   },
   "outputs": [],
   "source": [
    "#fit regression model\n",
    "lm = linear_model.LinearRegression()\n",
    "model = lm.fit(X,y)"
   ]
  },
  {
   "cell_type": "code",
   "execution_count": 50,
   "metadata": {
    "collapsed": true
   },
   "outputs": [],
   "source": [
    "#run prediction \n",
    "predictions = lm.predict(X)"
   ]
  },
  {
   "cell_type": "code",
   "execution_count": 51,
   "metadata": {
    "collapsed": false
   },
   "outputs": [
    {
     "name": "stdout",
     "output_type": "stream",
     "text": [
      "[[ 46364.4178115 ]\n",
      " [ 74605.77633882]\n",
      " [ 58046.54415954]\n",
      " [ 55294.03057185]\n",
      " [ 46644.73452003]]\n"
     ]
    }
   ],
   "source": [
    "print((predictions)[0:5])"
   ]
  },
  {
   "cell_type": "code",
   "execution_count": 52,
   "metadata": {
    "collapsed": false
   },
   "outputs": [
    {
     "data": {
      "text/plain": [
       "0.55425128162889259"
      ]
     },
     "execution_count": 52,
     "metadata": {},
     "output_type": "execute_result"
    }
   ],
   "source": [
    "# generate the score\n",
    "lm.score(X,y)"
   ]
  },
  {
   "cell_type": "code",
   "execution_count": 53,
   "metadata": {
    "collapsed": false
   },
   "outputs": [
    {
     "data": {
      "text/plain": [
       "array([[  3.52957899e+01,   1.61633726e+02,  -6.17108951e-02,\n",
       "         -5.84126002e-02,  -2.29651559e-02,  -5.57845001e-02,\n",
       "          1.34500202e-02,   4.90492874e+01,   1.88870803e+02,\n",
       "          1.33169709e-02,   4.62225912e-01,   5.09467483e-01,\n",
       "         -7.83371455e-02,  -1.96734223e+00,   1.05896019e-01,\n",
       "          7.00194684e-02,  -2.10903142e-01,  -2.51830902e+03,\n",
       "         -1.35649863e+01,  -3.35119844e+00,  -9.94915824e-01,\n",
       "         -1.45006722e+00,  -1.74258833e+01,  -7.01998667e+00,\n",
       "          1.58918567e-01,   1.55860659e+00,  -7.51032902e-02,\n",
       "          1.47337817e+01,  -2.28436340e+00,   1.59678354e+02]])"
      ]
     },
     "execution_count": 53,
     "metadata": {},
     "output_type": "execute_result"
    }
   ],
   "source": [
    "lm.coef_"
   ]
  },
  {
   "cell_type": "code",
   "execution_count": 54,
   "metadata": {
    "collapsed": false
   },
   "outputs": [
    {
     "data": {
      "text/plain": [
       "array([-165.02066664])"
      ]
     },
     "execution_count": 54,
     "metadata": {},
     "output_type": "execute_result"
    }
   ],
   "source": [
    "lm.intercept_"
   ]
  },
  {
   "cell_type": "code",
   "execution_count": null,
   "metadata": {
    "collapsed": true
   },
   "outputs": [],
   "source": []
  },
  {
   "cell_type": "code",
   "execution_count": null,
   "metadata": {
    "collapsed": true
   },
   "outputs": [],
   "source": []
  }
 ],
 "metadata": {
  "kernelspec": {
   "display_name": "Python 3",
   "language": "python",
   "name": "python3"
  },
  "language_info": {
   "codemirror_mode": {
    "name": "ipython",
    "version": 3
   },
   "file_extension": ".py",
   "mimetype": "text/x-python",
   "name": "python",
   "nbconvert_exporter": "python",
   "pygments_lexer": "ipython3",
   "version": "3.6.0"
  }
 },
 "nbformat": 4,
 "nbformat_minor": 2
}
