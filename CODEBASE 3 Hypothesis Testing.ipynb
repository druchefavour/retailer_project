{
 "cells": [
  {
   "cell_type": "markdown",
   "metadata": {},
   "source": [
    "## 3.0 Statistical Test for Correlation\n",
    "\n",
    "We are going to test 6 hypotheses in this section. The hypotheses are as follows:\n",
    "\n",
    "1. Store size has impact on Markdown Success\n",
    "2. Missing values significantly affect result of tests\n",
    "3. The difference between sales recorded on holidays and those recorded on non-holiday weeks is statitically significant\n",
    "4. The difference between markdown sales on holidays and those recorded on non-holiday weeks is statistically significant\n",
    "5. The difference in Markdowns for each Store Type is statistically significant\n",
    "6. The difference in Sales of gift items for each store Type is statistically significant\n",
    "7. The difference in Store Size for each Store Type is statistically significant\n",
    "8. Store size has impact on Sales of Gift Items\n",
    "\n",
    "### 3.0.1 Creating composite function for Markdown success. \n",
    "We will define a function which returns different states for markdown success. High markdown success is denoted: \"1\" and \"0\" for low Markdown success.  The mean of the Markdown sales = 4719.567115. Markdown success is take to be any sale above the mean while failure is sale less than the mean. We will then use df.apply to apply the function to each row. "
   ]
  },
  {
   "cell_type": "code",
   "execution_count": 1,
   "metadata": {
    "collapsed": true
   },
   "outputs": [],
   "source": [
    "# import the python required libraries\n",
    "import pandas as pd\n",
    "import numpy as np\n",
    "import matplotlib.pyplot as plt"
   ]
  },
  {
   "cell_type": "code",
   "execution_count": 2,
   "metadata": {
    "collapsed": false
   },
   "outputs": [
    {
     "name": "stdout",
     "output_type": "stream",
     "text": [
      "   Store  Temperature  Fuel_Price  MarkDown1  MarkDown2  MarkDown3  MarkDown4  \\\n",
      "0      1        42.31       2.572    10382.9    6115.67     215.07    2406.62   \n",
      "1      1        38.51       2.548    10382.9    6115.67     215.07    2406.62   \n",
      "2      1        39.93       2.514    10382.9    6115.67     215.07    2406.62   \n",
      "3      1        46.63       2.561    10382.9    6115.67     215.07    2406.62   \n",
      "4      1        46.50       2.625    10382.9    6115.67     215.07    2406.62   \n",
      "\n",
      "   MarkDown5         CPI  Unemployment     ...          Books  \\\n",
      "0    6551.42  211.096358         8.106     ...       73315.81   \n",
      "1    6551.42  211.242170         8.106     ...       77280.42   \n",
      "2    6551.42  211.289143         8.106     ...       78602.71   \n",
      "3    6551.42  211.319643         8.106     ...       76091.36   \n",
      "4    6551.42  211.350143         8.106     ...       71718.48   \n",
      "\n",
      "  Musical_Instruments  Star_Wars  Movies_TV  Video_Games  Portable_Audios  \\\n",
      "0            57022.45  118966.90   58034.24     56157.83        113009.41   \n",
      "1            57845.36  126907.41   63245.00     66172.11        111466.37   \n",
      "2            59462.22  122267.65   69962.56     62795.87        124821.44   \n",
      "3            63011.44  135066.75   62581.64     72212.32        107952.07   \n",
      "4            57335.17  125048.08   57630.02     55501.07        103652.58   \n",
      "\n",
      "   Cameras_Camcoders  Auto_Electronics  Wearable_Tech  Smart_homes  \n",
      "0           27930.71          32954.82       10344.16         0.01  \n",
      "1            5265.09          30149.20       14740.14         0.01  \n",
      "2            5265.09          33726.13       10139.42         0.01  \n",
      "3           28420.73          31585.78       12087.95        20.00  \n",
      "4           28420.73          28457.31       10871.74        20.00  \n",
      "\n",
      "[5 rows x 94 columns]\n"
     ]
    }
   ],
   "source": [
    "# load the master_dataset.xls\n",
    "df_master = pd.read_excel('master_dataset.xlsx', sheetname='Sheet1')\n",
    "print (df_master.head())"
   ]
  },
  {
   "cell_type": "markdown",
   "metadata": {},
   "source": [
    "Assign a new column Ave_MK to the dataframe which constitutes the mean of the markdown sales"
   ]
  },
  {
   "cell_type": "code",
   "execution_count": 3,
   "metadata": {
    "collapsed": true
   },
   "outputs": [],
   "source": [
    "# create new column containing the average of the markdown sales\n",
    "df_master['Ave_MK'] = (df_master['MarkDown1'] + df_master['MarkDown2']+ df_master['MarkDown3']+ df_master['MarkDown4']+ df_master['MarkDown5'])/5"
   ]
  },
  {
   "cell_type": "code",
   "execution_count": 4,
   "metadata": {
    "collapsed": false
   },
   "outputs": [],
   "source": [
    "import pandas as pd\n",
    "\n",
    "def Markdown_Success(c):\n",
    "    if c['Ave_MK'] <= 4719.567115:\n",
    "        return 0\n",
    "    else:\n",
    "        return 1\n"
   ]
  },
  {
   "cell_type": "code",
   "execution_count": 5,
   "metadata": {
    "collapsed": false
   },
   "outputs": [
    {
     "name": "stdout",
     "output_type": "stream",
     "text": [
      "0    1\n",
      "1    1\n",
      "2    1\n",
      "3    1\n",
      "4    1\n",
      "Name: Markdown_Success, dtype: int64\n"
     ]
    }
   ],
   "source": [
    "df_master['Markdown_Success'] = df_master.apply(Markdown_Success, axis=1)\n",
    "print (df_master['Markdown_Success'].head()) "
   ]
  },
  {
   "cell_type": "markdown",
   "metadata": {},
   "source": [
    "### 3.0.2 One-Sample T-Test (Measuring the impact of size on Markdown Success)\n",
    "\n",
    "A one-sample t-test checks whether a sample mean differs from the population mean. Since store size has the highest correlation with our dependent variable - Markdown Success, let's test to see whether the average size of the stores that have high Markdown success differs from the those that have low success.\n",
    "\n",
    "Hypothesis Testing: Is there significant difference in the means of size of the stores who had high Markdown success and those who had low markdown success?\n",
    "\n",
    "Null Hypothesis: (H0: pSS = pMS) The null hypothesis would be that there is no difference in store size between stores who had high Markdown success and those who had low markdown success.\n",
    "\n",
    "Alternate Hypothesis: (HA: pSS != pMS) The alternative hypothesis would be that there is a difference in store size between stores who had high Markdown success and those who had low markdown success.\n"
   ]
  },
  {
   "cell_type": "code",
   "execution_count": 6,
   "metadata": {
    "collapsed": false
   },
   "outputs": [
    {
     "name": "stdout",
     "output_type": "stream",
     "text": [
      "The mean store size for the population is: 130287.6\n",
      "The mean store size for stores that had high sales success during the markdowns is: 167629.0945351759\n"
     ]
    }
   ],
   "source": [
    "# Let's compare the means of our store sizes for high markdown success against the store markdown population\n",
    "Markdown_population = df_master['Size'].mean()\n",
    "Markdown_success_sizes = df_master[df_master['Markdown_Success']==1]['Size'].mean()\n",
    "\n",
    "print( 'The mean store size for the population is: ' + str(Markdown_population))\n",
    "print( 'The mean store size for stores that had high sales success during the markdowns is: ' + str(Markdown_success_sizes))"
   ]
  },
  {
   "cell_type": "markdown",
   "metadata": {},
   "source": [
    "### 3.0.3 Conducting the T-Test\n",
    "\n",
    "Let's conduct a t-test at 95% confidence level and see if it correctly rejects the null hypothesis that the sample comes from the same distribution as the store population. To conduct a one sample t-test, we can use the stats.ttest_1samp() function:"
   ]
  },
  {
   "cell_type": "code",
   "execution_count": 7,
   "metadata": {
    "collapsed": false
   },
   "outputs": [
    {
     "data": {
      "text/plain": [
       "Ttest_1sampResult(statistic=45.538955586982418, pvalue=0.0)"
      ]
     },
     "execution_count": 7,
     "metadata": {},
     "output_type": "execute_result"
    }
   ],
   "source": [
    "import scipy.stats as stats\n",
    "stats.ttest_1samp(a=  df_master[df_master['Markdown_Success']==1]['Size'], # Sample of store size for stores that had high sales success during the markdowns\n",
    "                  popmean = Markdown_population)  # Mean of store size for stores that had low sales success during the markdowns"
   ]
  },
  {
   "cell_type": "markdown",
   "metadata": {},
   "source": [
    "### 3.0.4 T-Test Result\n",
    "\n",
    "The test result shows the test statistic \"t\" is equal to 45.54. This test statistic tells us how much the sample mean deviates from the null hypothesis. If the t-statistic lies outside the quantiles of the t-distribution corresponding to our confidence level and degrees of freedom, we reject the null hypothesis. We can check the quantiles with stats.t.ppf():"
   ]
  },
  {
   "cell_type": "markdown",
   "metadata": {},
   "source": [
    "### 3.0.5 T-Test Quantile\n",
    "\n",
    "If the t-statistic value we calculated above (45.54) is outside the quantiles, then we can reject the null hypothesis"
   ]
  },
  {
   "cell_type": "code",
   "execution_count": 8,
   "metadata": {
    "collapsed": false
   },
   "outputs": [
    {
     "name": "stdout",
     "output_type": "stream",
     "text": [
      "The t-distribution left quartile range is: -1.96070932309\n",
      "The t-distribution right quartile range is: 1.96070932309\n"
     ]
    }
   ],
   "source": [
    "degree_freedom = len(df_master[df_master['Markdown_Success']==1])\n",
    "\n",
    "LQ = stats.t.ppf(0.025,degree_freedom)  # Left Quartile\n",
    "\n",
    "RQ = stats.t.ppf(0.975,degree_freedom)  # Right Quartile\n",
    "\n",
    "print ('The t-distribution left quartile range is: ' + str(LQ))\n",
    "print ('The t-distribution right quartile range is: ' + str(RQ))"
   ]
  },
  {
   "cell_type": "markdown",
   "metadata": {},
   "source": [
    "### 3.0.6 One-Sample T-Test Summary\n",
    "\n",
    "T-Test = 45.54 | P-Value = 0.0 | Reject Null Hypothesis\n",
    "\n",
    "Reject the null hypothesis because:\n",
    "\n",
    "* T-Test score is outside the quantiles\n",
    "* P-value is lower than confidence level of 5%\n",
    "\n",
    "Based on the statistical analysis of a one sample t-test, there seems to be some significant difference between the mean mean store size for stores that had high sales success during the markdowns and the entire store population. The super low P-value of 0 at a 5% confidence level is a good indicator to reject the null hypothesis.\n",
    "\n",
    "But this does not neccessarily mean that there is practical significance. We would have to conduct more experiments or maybe collect more data about the stores in order to come up with a more accurate finding."
   ]
  },
  {
   "cell_type": "markdown",
   "metadata": {
    "collapsed": true
   },
   "source": [
    "### 3.1 Another Hypothesis test (Impact of the missing values)\n",
    "Hypothesis Testing: Is there significant difference in the means of the filled missing values and those of the general population?\n",
    "* Null Hypothesis: (H0: pMV = pGP) The null hypothesis would be that there is no difference in the result by filling the missing values with numbers using the back fill method.\n",
    "* Alternate Hypothesis: (HA: pMV != pGP) The alternative hypothesis would be that there is a difference in the result by filling the missing values with numbers using the back fill method."
   ]
  },
  {
   "cell_type": "code",
   "execution_count": 9,
   "metadata": {
    "collapsed": false
   },
   "outputs": [
    {
     "name": "stdout",
     "output_type": "stream",
     "text": [
      "   Store        Date  Temperature  Fuel_Price  MarkDown1  MarkDown2  \\\n",
      "0      1  05/02/2010        42.31       2.572        NaN        NaN   \n",
      "1      1  12/02/2010        38.51       2.548        NaN        NaN   \n",
      "2      1  19/02/2010        39.93       2.514        NaN        NaN   \n",
      "3      1  26/02/2010        46.63       2.561        NaN        NaN   \n",
      "4      1  05/03/2010        46.50       2.625        NaN        NaN   \n",
      "\n",
      "   MarkDown3  MarkDown4  MarkDown5         CPI  ...         90        91  \\\n",
      "0        NaN        NaN        NaN  211.096358  ...   73315.81  57022.45   \n",
      "1        NaN        NaN        NaN  211.242170  ...   77280.42  57845.36   \n",
      "2        NaN        NaN        NaN  211.289143  ...   78602.71  59462.22   \n",
      "3        NaN        NaN        NaN  211.319643  ...   76091.36  63011.44   \n",
      "4        NaN        NaN        NaN  211.350143  ...   71718.48  57335.17   \n",
      "\n",
      "          92        93        94         95        96        97        98  \\\n",
      "0  118966.90  58034.24  56157.83  113009.41  27930.71  32954.82  10344.16   \n",
      "1  126907.41  63245.00  66172.11  111466.37       NaN  30149.20  14740.14   \n",
      "2  122267.65  69962.56  62795.87  124821.44   5265.09  33726.13  10139.42   \n",
      "3  135066.75  62581.64  72212.32  107952.07       NaN  31585.78  12087.95   \n",
      "4  125048.08  57630.02  55501.07  103652.58       NaN  28457.31  10871.74   \n",
      "\n",
      "     99  \n",
      "0   NaN  \n",
      "1   NaN  \n",
      "2  0.01  \n",
      "3   NaN  \n",
      "4   NaN  \n",
      "\n",
      "[5 rows x 97 columns]\n"
     ]
    }
   ],
   "source": [
    "# Let us load the dataframe with missing values\n",
    "df_master_MV = pd.read_excel('output_final.xlsx', sheetname='Sheet1')\n",
    "print (df_master_MV.head())"
   ]
  },
  {
   "cell_type": "markdown",
   "metadata": {},
   "source": [
    "Assign a new column Ave_MK_MV to the dataframe which constitutes the mean of the markdown sales"
   ]
  },
  {
   "cell_type": "code",
   "execution_count": 10,
   "metadata": {
    "collapsed": true
   },
   "outputs": [],
   "source": [
    "# create new column containing the average of the markdown sales\n",
    "df_master_MV['Ave_MK_MV'] = (df_master_MV['MarkDown1'] + df_master_MV['MarkDown2']+ df_master_MV['MarkDown3']+ \n",
    "                             df_master_MV['MarkDown4']+ df_master_MV['MarkDown5'])/5"
   ]
  },
  {
   "cell_type": "code",
   "execution_count": 11,
   "metadata": {
    "collapsed": false
   },
   "outputs": [
    {
     "name": "stdout",
     "output_type": "stream",
     "text": [
      "The mean markdown with missing values filled is: 4719.567115262533\n",
      "The mean markdown with missing values is: 4730.684346031739\n"
     ]
    }
   ],
   "source": [
    "# Let's compare the means of our markdown with missing values and markdown with missing values filled\n",
    "Markdown_with_missing_values_filled = df_master['Ave_MK'].mean()\n",
    "Markdown_with_missing_values = df_master_MV['Ave_MK_MV'].mean()\n",
    "\n",
    "print( 'The mean markdown with missing values filled is: ' + str(Markdown_with_missing_values_filled))\n",
    "print( 'The mean markdown with missing values is: ' + str(Markdown_with_missing_values))"
   ]
  },
  {
   "cell_type": "markdown",
   "metadata": {},
   "source": [
    "### 3.1.1 Conducting the T-Test\n",
    "Let's conduct a t-test at 95% confidence level and see if it correctly rejects the null hypothesis that the sample does not come from the same distribution as the store population. To conduct a one sample t-test, we can use the stats.ttest_1samp() function:"
   ]
  },
  {
   "cell_type": "code",
   "execution_count": 12,
   "metadata": {
    "collapsed": false
   },
   "outputs": [
    {
     "data": {
      "text/plain": [
       "Ttest_1sampResult(statistic=-0.2261203126066092, pvalue=0.8211134898579352)"
      ]
     },
     "execution_count": 12,
     "metadata": {},
     "output_type": "execute_result"
    }
   ],
   "source": [
    "import scipy.stats as stats\n",
    "stats.ttest_1samp(a=  df_master['Ave_MK'], # Sample of markdowns with missing values filled\n",
    "                  popmean = Markdown_with_missing_values)  # Mean of markdowns with missing values"
   ]
  },
  {
   "cell_type": "markdown",
   "metadata": {},
   "source": [
    "### 3.1.2 T-Test Result\n",
    "The test result shows the test statistic \"t\" is equal to 0.23. This test statistic tells us how much the sample mean deviates from the null hypothesis. If the t-statistic lies inside the quantiles of the t-distribution corresponding to our confidence level and degrees of freedom, we accept the null hypothesis. We can check the quantiles with stats.t.ppf():\n",
    "\n",
    "### 3.1.3 T-Test Quantile\n",
    "If the t-statistic value we calculated above (0.23) is inside the quantiles, then we can reject the null hypothesis"
   ]
  },
  {
   "cell_type": "code",
   "execution_count": 13,
   "metadata": {
    "collapsed": false
   },
   "outputs": [
    {
     "name": "stdout",
     "output_type": "stream",
     "text": [
      "The t-distribution left quantile range is: -1.96070932309\n",
      "The t-distribution right quantile range is: 1.96070932309\n"
     ]
    }
   ],
   "source": [
    "degree_freedom = len(df_master[df_master['Markdown_Success']==1])\n",
    "\n",
    "LQ = stats.t.ppf(0.025,degree_freedom)  # Left Quartile\n",
    "\n",
    "RQ = stats.t.ppf(0.975,degree_freedom)  # Right Quartile\n",
    "\n",
    "print ('The t-distribution left quantile range is: ' + str(LQ))\n",
    "print ('The t-distribution right quantile range is: ' + str(RQ))"
   ]
  },
  {
   "cell_type": "markdown",
   "metadata": {},
   "source": [
    "### 3.1.4 One-Sample T-Test Summary\n",
    "* T-Test =-0.23 | P-Value = 0.82 | Accept Null Hypothesis\n",
    "* Accept the null hypothesis because:\n",
    "* T-Test score is inside the quantiles\n",
    "* P-value is higher than confidence level of 5%\n",
    "* Based on the statistical analysis of a one sample t-test, there seems to be no significant difference between the mean of the markdowns when the missing values are left as nan and the markdowns when they are backfilled. The P-value of 0.82 at a 5% confidence level is a good indicator to accept the null hypothesis.\n",
    "\n",
    "But as mentioned in the previous test this does not neccessarily mean that there is no practical significance. We would have to conduct more experiments or maybe collect more data about the stores in order to come up with a more accurate finding. For the purpose of this analysis we shall go ahead with the missing values filled since there is no suggestion that the final result will be affected by the missing values"
   ]
  },
  {
   "cell_type": "markdown",
   "metadata": {
    "collapsed": true
   },
   "source": [
    "## 3.2 Test Hypothesis that the difference between sales recorded on holidays and those recorded on non-holiday weeks is statistically significant\n",
    "\n",
    "### 3.2.1 Jewelry Sales\n",
    "\n",
    "Hypothesis Testing: Is there significant difference in the means of the Jewelry sales on holiday period and those of the general population?\n",
    "\n",
    "Null Hypothesis: (H0: pMV = pGP) The null hypothesis would be that there is no difference in the jewelry sales recorded during holiday from the general population.\n",
    "\n",
    "Alternate Hypothesis: (HA: pMV != pGP) The alternative hypothesis would be that there is a difference.\n",
    "\n",
    "#### 3.2.1.1 Mean Estimation - Jewelry Sales\n",
    "Let us estimate the means of Jewelry Sales for holiday period and the means for the entire population"
   ]
  },
  {
   "cell_type": "code",
   "execution_count": 14,
   "metadata": {
    "collapsed": false
   },
   "outputs": [],
   "source": [
    "import pandas as pd\n",
    "\n",
    "def Jewelry_Sales (c):\n",
    "    if c['IsHoliday'] == 'FALSE':\n",
    "        return 0\n",
    "    else:\n",
    "        return 1"
   ]
  },
  {
   "cell_type": "code",
   "execution_count": 15,
   "metadata": {
    "collapsed": false
   },
   "outputs": [
    {
     "name": "stdout",
     "output_type": "stream",
     "text": [
      "The mean Jewelry Sales during holiday period is: 18020.531145299243\n",
      "The mean Jewelry Sales for the entire population is: 18548.270426130683\n"
     ]
    }
   ],
   "source": [
    "# Let's compare the means of Jewelry Sales for holiday period and the means for the entire population\n",
    "Jewelry_Sales_for_holiday_period = df_master[df_master['IsHoliday']==1]['Jewelry'].mean()\n",
    "Jewelry_Sales_for_population = df_master['Jewelry'].mean()\n",
    "\n",
    "print('The mean Jewelry Sales during holiday period is: ' + str(Jewelry_Sales_for_holiday_period))\n",
    "print('The mean Jewelry Sales for the entire population is: ' + str(Jewelry_Sales_for_population))"
   ]
  },
  {
   "cell_type": "markdown",
   "metadata": {},
   "source": [
    "#### 3.2.1.2 T-Test - Jewelry Sales\n",
    "Let's conduct a t-test at 95% confidence level and see if it correctly rejects the null hypothesis that the sample does not come from the same distribution as the store population. To conduct a one sample t-test, we can use the stats.ttest_1samp() function:"
   ]
  },
  {
   "cell_type": "code",
   "execution_count": 16,
   "metadata": {
    "collapsed": false
   },
   "outputs": [
    {
     "data": {
      "text/plain": [
       "Ttest_1sampResult(statistic=3.5516777740792578, pvalue=0.00038493451926068325)"
      ]
     },
     "execution_count": 16,
     "metadata": {},
     "output_type": "execute_result"
    }
   ],
   "source": [
    "import scipy.stats as stats\n",
    "stats.ttest_1samp(a=  df_master['Jewelry'], # Sample of jewelry sales \n",
    "                  popmean = Jewelry_Sales_for_holiday_period)  # means of Jewelry Sales for holiday period"
   ]
  },
  {
   "cell_type": "markdown",
   "metadata": {},
   "source": [
    "#### 3.2.1.3 T-Test Result - Jewelry Sales\n",
    "The test result shows the test statistic \"t\" is equal to 3.55. This test statistic tells us how much the sample mean deviates from the null hypothesis. If the t-statistic lies inside the quantiles of the t-distribution corresponding to our confidence level and degrees of freedom, we accept the null hypothesis. We can check the quantiles with stats.t.ppf():"
   ]
  },
  {
   "cell_type": "markdown",
   "metadata": {},
   "source": [
    "##### 3.2.1.4 T-Test Quantile - Jewelry Sales\n",
    "If the t-statistic value we calculated above (3.55) is outside the quantiles, then we can reject the null hypothesis"
   ]
  },
  {
   "cell_type": "code",
   "execution_count": 17,
   "metadata": {
    "collapsed": false
   },
   "outputs": [
    {
     "name": "stdout",
     "output_type": "stream",
     "text": [
      "The t-distribution left quartile range is: -1.96402740931\n",
      "The t-distribution right quartile range is: 1.96402740931\n"
     ]
    }
   ],
   "source": [
    "degree_freedom = len(df_master[df_master['IsHoliday']==1])\n",
    "\n",
    "LQ = stats.t.ppf(0.025,degree_freedom)  # Left Quartile\n",
    "\n",
    "RQ = stats.t.ppf(0.975,degree_freedom)  # Right Quartile\n",
    "\n",
    "print ('The t-distribution left quartile range is: ' + str(LQ))\n",
    "print ('The t-distribution right quartile range is: ' + str(RQ))"
   ]
  },
  {
   "cell_type": "markdown",
   "metadata": {},
   "source": [
    "#### 3.2.1.5 One-Sample T-Test Summary - Jewelry Sales\n",
    "T-Test = 3.55 | P-Value = 0.00038 | Reject Null Hypothesis\n",
    "Reject the null hypothesis because:\n",
    "\n",
    "T-Test score is outside the quantiles\n",
    "P-value is less than confidence level of 5%\n",
    "\n",
    "If the P-value is less than (or equal to) α, reject the null hypothesis in favor of the alternative hypothesis\n",
    "\n",
    "Based on the statistical analysis of a one sample t-test, there seems to be significant difference between the mean of the IsHoliday Jewelry Sales. The P-value of 0.003 at a 5% confidence level is a good indicator to reject the null hypothesis.\n"
   ]
  },
  {
   "cell_type": "markdown",
   "metadata": {},
   "source": [
    "### 3.2.2 Cell Phone Sales\n",
    "Hypothesis Testing: Is there significant difference in the means of the Cell Phone sales on holiday period and those of the general population?\n",
    "\n",
    "Null Hypothesis: (H0: pMV = pGP) The null hypothesis would be that there is no difference in the Cell Phone sales recorded during holiday from the general population.\n",
    "\n",
    "Alternate Hypothesis: (HA: pMV != pGP) The alternative hypothesis would be that there is a difference.\n",
    "\n",
    "### 3.2.2.1 Mean Estimation - Cell Phone Sales\n",
    "Let us estimate the means of Cell Phone Sales for holiday period and the means for the entire population"
   ]
  },
  {
   "cell_type": "code",
   "execution_count": 18,
   "metadata": {
    "collapsed": false
   },
   "outputs": [
    {
     "name": "stdout",
     "output_type": "stream",
     "text": [
      "The mean Cell Phone Sales during holiday period is: 25530.830683760512\n",
      "The mean Cell Phone Sales for the entire population is: 25469.003758239905\n"
     ]
    }
   ],
   "source": [
    "# Let's compare the means of Cell phone Sales for holiday period and the means for the entire population\n",
    "Cell_Phone_Sales_for_holiday_period = df_master[df_master['IsHoliday']==1]['Cell_Phones'].mean()\n",
    "Cell_Phone_Sales_for_population = df_master['Cell_Phones'].mean()\n",
    "\n",
    "print('The mean Cell Phone Sales during holiday period is: ' + str(Cell_Phone_Sales_for_holiday_period))\n",
    "print('The mean Cell Phone Sales for the entire population is: ' + str(Cell_Phone_Sales_for_population))"
   ]
  },
  {
   "cell_type": "markdown",
   "metadata": {},
   "source": [
    "#### 3.2.2.2 T-Test - Cell Phone Sales\n",
    "Let's conduct a t-test at 95% confidence level and see if it correctly rejects the null hypothesis that the sample does not come from the same distribution as the store population. To conduct a one sample t-test, we can use the stats.ttest_1samp() function:"
   ]
  },
  {
   "cell_type": "code",
   "execution_count": 19,
   "metadata": {
    "collapsed": false
   },
   "outputs": [
    {
     "data": {
      "text/plain": [
       "Ttest_1sampResult(statistic=-0.47440054855753117, pvalue=0.63522695141238594)"
      ]
     },
     "execution_count": 19,
     "metadata": {},
     "output_type": "execute_result"
    }
   ],
   "source": [
    "import scipy.stats as stats\n",
    "stats.ttest_1samp(a=  df_master['Cell_Phones'], # Sample of Cell Phone sales \n",
    "                  popmean = Cell_Phone_Sales_for_holiday_period)  # means of Cell Phone Sales for holiday period"
   ]
  },
  {
   "cell_type": "markdown",
   "metadata": {},
   "source": [
    "#### 3.2.2.3 T-Test Result - Cell Phone Sales\n",
    "The test result shows the test statistic \"t\" is equal to -0.47. This test statistic tells us how much the sample mean deviates from the null hypothesis. If the t-statistic lies inside the quantiles of the t-distribution corresponding to our confidence level and degrees of freedom, we accept the null hypothesis. We can check the quantiles with stats.t.ppf():\n",
    "\n",
    "#### 3.2.2.4 T-Test Quantile - Cell Phone Sales\n",
    "If the t-statistic value we calculated above (-0.47) is outside the quantiles, then we can reject the null hypothesis"
   ]
  },
  {
   "cell_type": "code",
   "execution_count": 20,
   "metadata": {
    "collapsed": false
   },
   "outputs": [
    {
     "name": "stdout",
     "output_type": "stream",
     "text": [
      "The t-distribution left quartile range is: -1.96402740931\n",
      "The t-distribution right quartile range is: 1.96402740931\n"
     ]
    }
   ],
   "source": [
    "degree_freedom = len(df_master[df_master['IsHoliday']==1])\n",
    "\n",
    "LQ = stats.t.ppf(0.025,degree_freedom)  # Left Quartile\n",
    "\n",
    "RQ = stats.t.ppf(0.975,degree_freedom)  # Right Quartile\n",
    "\n",
    "print ('The t-distribution left quartile range is: ' + str(LQ))\n",
    "print ('The t-distribution right quartile range is: ' + str(RQ))"
   ]
  },
  {
   "cell_type": "markdown",
   "metadata": {},
   "source": [
    "#### 3.2.2.5 One-Sample T-Test Summary - Cell Phone Sales\n",
    "T-Test = -0.47 | P-Value = 0.64| Accept Null Hypothesis; Accept the null hypothesis because:\n",
    "\n",
    "T-Test score is inside the quantiles and P-value is more than confidence level of 5%\n",
    "\n",
    "If the P-value is less than (or equal to) α, reject the null hypothesis in favor of the alternative hypothesis\n",
    "\n",
    "Based on the statistical analysis of a one sample t-test, there seems to be no significant difference between the mean of the IsHoliday Cell Phone Sales and the population mean. The P-value of 0.6 at a 5% confidence level is a good indicator to accept the null hypothesis."
   ]
  },
  {
   "cell_type": "markdown",
   "metadata": {},
   "source": [
    "### 3.2.3 Floral Sales\n",
    "Hypothesis Testing: Is there significant difference in the means of the Floral sales on holiday period and those of the general population?\n",
    "\n",
    "Null Hypothesis: (H0: pMV = pGP) The null hypothesis would be that there is no difference in the Floral sales recorded during holiday from the general population.\n",
    "\n",
    "Alternate Hypothesis: (HA: pMV != pGP) The alternative hypothesis would be that there is a difference.\n",
    "\n",
    "### 3.2.3.1 Mean Estimation - Cell Phone Sales\n",
    "Let us estimate the means of Floral Sales for holiday period and the means for the entire population"
   ]
  },
  {
   "cell_type": "code",
   "execution_count": 21,
   "metadata": {
    "collapsed": false
   },
   "outputs": [
    {
     "name": "stdout",
     "output_type": "stream",
     "text": [
      "The mean Floral Sales during holiday period is: 10335.280273504366\n",
      "The mean Floral Sales for the entire population is: 10297.530998779794\n"
     ]
    }
   ],
   "source": [
    "# Let's compare the means of Floral Sales for holiday period and the means for the entire population\n",
    "Floral_Sales_for_holiday_period = df_master[df_master['IsHoliday']==1]['Floral'].mean()\n",
    "Floral_Sales_for_population = df_master['Floral'].mean()\n",
    "\n",
    "print('The mean Floral Sales during holiday period is: ' + str(Floral_Sales_for_holiday_period))\n",
    "print('The mean Floral Sales for the entire population is: ' + str(Floral_Sales_for_population))"
   ]
  },
  {
   "cell_type": "markdown",
   "metadata": {},
   "source": [
    "#### 3.2.3.2 T-Test - Floral Sales\n",
    "Let's conduct a t-test at 95% confidence level and see if it correctly rejects the null hypothesis that the sample does not come from the same distribution as the store population. To conduct a one sample t-test, we can use the stats.ttest_1samp() function:"
   ]
  },
  {
   "cell_type": "code",
   "execution_count": 22,
   "metadata": {
    "collapsed": false
   },
   "outputs": [
    {
     "data": {
      "text/plain": [
       "Ttest_1sampResult(statistic=-0.51779191783310874, pvalue=0.60461744521598559)"
      ]
     },
     "execution_count": 22,
     "metadata": {},
     "output_type": "execute_result"
    }
   ],
   "source": [
    "import scipy.stats as stats\n",
    "stats.ttest_1samp(a=  df_master['Floral'], # Sample of Floral sales \n",
    "                  popmean = Floral_Sales_for_holiday_period)  # means of Floral Sales for holiday period"
   ]
  },
  {
   "cell_type": "markdown",
   "metadata": {},
   "source": [
    "#### 3.2.3.3 T-Test Result - Floral Sales\n",
    "The test result shows the test statistic \"t\" is equal to -0.52. This test statistic tells us how much the sample mean deviates from the null hypothesis. If the t-statistic lies inside the quantiles of the t-distribution corresponding to our confidence level and degrees of freedom, we accept the null hypothesis. We can check the quantiles with stats.t.ppf():\n",
    "\n",
    "##### 3.2.3.4 T-Test Quantile - Floral Sales\n",
    "If the t-statistic value we calculated above (-0.52) is outside the quantiles, then we can reject the null hypothesis"
   ]
  },
  {
   "cell_type": "code",
   "execution_count": 23,
   "metadata": {
    "collapsed": false
   },
   "outputs": [
    {
     "name": "stdout",
     "output_type": "stream",
     "text": [
      "The t-distribution left quartile range is: -1.96402740931\n",
      "The t-distribution right quartile range is: 1.96402740931\n"
     ]
    }
   ],
   "source": [
    "degree_freedom = len(df_master[df_master['IsHoliday']==1])\n",
    "\n",
    "LQ = stats.t.ppf(0.025,degree_freedom)  # Left Quartile\n",
    "\n",
    "RQ = stats.t.ppf(0.975,degree_freedom)  # Right Quartile\n",
    "\n",
    "print ('The t-distribution left quartile range is: ' + str(LQ))\n",
    "print ('The t-distribution right quartile range is: ' + str(RQ))"
   ]
  },
  {
   "cell_type": "markdown",
   "metadata": {},
   "source": [
    "#### 3.2.3.5 One-Sample T-Test Summary - Floral Sales\n",
    "T-Test = -0.52 | P-Value = 0.60 | Accept Null Hypothesis; Accept the null hypothesis because:\n",
    "\n",
    "T-Test score is inside the quantiles and P-value is higher than confidence level of 5%\n",
    "\n",
    "If the P-value is higher than (or equal to) α, accept the null hypothesis. Based on the statistical analysis of a one sample t-test, there seems to be no significant difference between the mean of the IsHoliday Floral Sales and the population mean. The P-value of 0.60 at a 5% confidence level is a good indicator to accept the null hypothesis."
   ]
  },
  {
   "cell_type": "markdown",
   "metadata": {},
   "source": [
    "### 3.2.4 Clearance Clothing Sales\n",
    "Hypothesis Testing: Is there significant difference in the means of the Clearance Clothing sales on holiday period and those of the general population?\n",
    "\n",
    "Null Hypothesis: (H0: pMV = pGP) The null hypothesis would be that there is no difference in the Clearance Clothing sales recorded during holiday from the general population.\n",
    "\n",
    "Alternate Hypothesis: (HA: pMV != pGP) The alternative hypothesis would be that there is a difference.\n",
    "\n",
    "### 3.2.4.1 Mean Estimation - Clearance Clothing Sales\n",
    "Let us estimate the means of Clearance Clothing Sales for holiday period and the means for the entire population"
   ]
  },
  {
   "cell_type": "code",
   "execution_count": 24,
   "metadata": {
    "collapsed": false
   },
   "outputs": [
    {
     "name": "stdout",
     "output_type": "stream",
     "text": [
      "The mean Clearance Clothing Sales during holiday period is: 7315.417675213643\n",
      "The mean Clearance Clothing Sales for the entire population is: 7607.392772894041\n"
     ]
    }
   ],
   "source": [
    "# Let's compare the means of Clearance Clothing Sales for holiday period and the means for the entire population\n",
    "Clearance_Clothing_Sales_for_holiday_period = df_master[df_master['IsHoliday']==1]['Clearance_Clothings'].mean()\n",
    "Clearance_Clothing_Sales_for_population = df_master['Clearance_Clothings'].mean()\n",
    "\n",
    "print('The mean Clearance Clothing Sales during holiday period is: ' + str(Clearance_Clothing_Sales_for_holiday_period))\n",
    "print('The mean Clearance Clothing Sales for the entire population is: ' + str(Clearance_Clothing_Sales_for_population))"
   ]
  },
  {
   "cell_type": "markdown",
   "metadata": {},
   "source": [
    "#### 3.2.4.2 T-Test - Clearance Clothing Sales\n",
    "Let's conduct a t-test at 95% confidence level and see if it correctly rejects the null hypothesis that the sample does not come from the same distribution as the store population. To conduct a one sample t-test, we can use the stats.ttest_1samp() function:"
   ]
  },
  {
   "cell_type": "code",
   "execution_count": 25,
   "metadata": {
    "collapsed": false
   },
   "outputs": [
    {
     "data": {
      "text/plain": [
       "Ttest_1sampResult(statistic=5.2428242532919205, pvalue=1.6208631849271012e-07)"
      ]
     },
     "execution_count": 25,
     "metadata": {},
     "output_type": "execute_result"
    }
   ],
   "source": [
    "import scipy.stats as stats\n",
    "stats.ttest_1samp(a=  df_master['Clearance_Clothings'], # Sample of Clearance Clothings sales \n",
    "                  popmean = Clearance_Clothing_Sales_for_holiday_period)  # means of Clearance Clothings Sales for holiday period"
   ]
  },
  {
   "cell_type": "markdown",
   "metadata": {},
   "source": [
    "#### 3.2.4.3 T-Test Result - Clearance Clothing Sales\n",
    "The test result shows the test statistic \"t\" is equal to 5.24. This test statistic tells us how much the sample mean deviates from the null hypothesis. If the t-statistic lies inside the quantiles of the t-distribution corresponding to our confidence level and degrees of freedom, we accept the null hypothesis. We can check the quantiles with stats.t.ppf():\n",
    "\n",
    "##### 3.2.4.4 T-Test Quantile - Clearance Clothing Sales\n",
    "If the t-statistic value we calculated above (5.24) is outside the quantiles, then we can reject the null hypothesis"
   ]
  },
  {
   "cell_type": "code",
   "execution_count": 26,
   "metadata": {
    "collapsed": false
   },
   "outputs": [
    {
     "name": "stdout",
     "output_type": "stream",
     "text": [
      "The t-distribution left quartile range is: -1.96402740931\n",
      "The t-distribution right quartile range is: 1.96402740931\n"
     ]
    }
   ],
   "source": [
    "degree_freedom = len(df_master[df_master['IsHoliday']==1])\n",
    "\n",
    "LQ = stats.t.ppf(0.025,degree_freedom)  # Left Quartile\n",
    "\n",
    "RQ = stats.t.ppf(0.975,degree_freedom)  # Right Quartile\n",
    "\n",
    "print ('The t-distribution left quartile range is: ' + str(LQ))\n",
    "print ('The t-distribution right quartile range is: ' + str(RQ))"
   ]
  },
  {
   "cell_type": "markdown",
   "metadata": {},
   "source": [
    "#### 3.2.4.5 One-Sample T-Test Summary - Clearance Clothing Sales\n",
    "T-Test = 5.24 | P-Value = 1.6208631849271012e-07 | Reject Null Hypothesis; Reject the null hypothesis because:\n",
    "\n",
    "T-Test score is outside the quantiles and P-value is lower than confidence level of 5%\n",
    "\n",
    "If the P-value is higher than (or equal to) α, accept the null hypothesis. Based on the statistical analysis of a one sample t-test, there seems to be significant difference between the mean of the IsHoliday Clearance Clothing Sales and the population mean. The P-value of 1.6208631849271012e-07 at a 5% confidence level is a good indicator to reject the null hypothesis."
   ]
  },
  {
   "cell_type": "markdown",
   "metadata": {},
   "source": [
    "### 3.2.5 Video Games Sales\n",
    "Hypothesis Testing: Is there significant difference in the means of the Video Games sales on holiday period and those of the general population?\n",
    "\n",
    "Null Hypothesis: (H0: pMV = pGP) The null hypothesis would be that there is no difference in the Video Games sales recorded during holiday from the general population.\n",
    "\n",
    "Alternate Hypothesis: (HA: pMV != pGP) The alternative hypothesis would be that there is a difference.\n",
    "\n",
    "#### 3.2.5.1 Mean Estimation - Video Games Sales\n",
    "Let us estimate the means of Video Games Sales for holiday period and the mean for the entire population"
   ]
  },
  {
   "cell_type": "code",
   "execution_count": 27,
   "metadata": {
    "collapsed": false
   },
   "outputs": [
    {
     "name": "stdout",
     "output_type": "stream",
     "text": [
      "The mean Video Games Sales during holiday period is: 24575.281760683654\n",
      "The mean Video Games Sales for the entire population is: 24108.858239316476\n"
     ]
    }
   ],
   "source": [
    "# Let's compare the means of Video Games Sales for holiday period and the means for the entire population\n",
    "Video_Games_Sales_for_holiday_period = df_master[df_master['IsHoliday']==1]['Video_Games'].mean()\n",
    "Video_Games_Sales_for_population = df_master['Video_Games'].mean()\n",
    "\n",
    "print('The mean Video Games Sales during holiday period is: ' + str(Video_Games_Sales_for_holiday_period))\n",
    "print('The mean Video Games Sales for the entire population is: ' + str(Video_Games_Sales_for_population))"
   ]
  },
  {
   "cell_type": "markdown",
   "metadata": {},
   "source": [
    "#### 3.2.5.2 T-Test - Video Games Sales\n",
    "Let's conduct a t-test at 95% confidence level and see if it correctly rejects the null hypothesis that the sample does not come from the same distribution as the store population. To conduct a one sample t-test, we can use the stats.ttest_1samp() function:"
   ]
  },
  {
   "cell_type": "code",
   "execution_count": 28,
   "metadata": {
    "collapsed": false
   },
   "outputs": [
    {
     "data": {
      "text/plain": [
       "Ttest_1sampResult(statistic=-1.6619010942794092, pvalue=0.096570882415821027)"
      ]
     },
     "execution_count": 28,
     "metadata": {},
     "output_type": "execute_result"
    }
   ],
   "source": [
    "import scipy.stats as stats\n",
    "stats.ttest_1samp(a=  df_master['Video_Games'], # Sample of Video Games sales \n",
    "                  popmean = Video_Games_Sales_for_holiday_period)  # means of Video Games Sales for holiday period"
   ]
  },
  {
   "cell_type": "markdown",
   "metadata": {},
   "source": [
    "#### 3.2.5.3 T-Test Result - Video Games Sales\n",
    "The test result shows the test statistic \"t\" is equal to -1.66. This test statistic tells us how much the sample mean deviates from the null hypothesis. If the t-statistic lies inside the quantiles of the t-distribution corresponding to our confidence level and degrees of freedom, we accept the null hypothesis. We can check the quantiles with stats.t.ppf():\n",
    "\n",
    "##### 3.2.5.4 T-Test Quantile - Video Games Sales\n",
    "If the t-statistic value we calculated above (-1.66) is outside the quantiles, then we can reject the null hypothesis"
   ]
  },
  {
   "cell_type": "code",
   "execution_count": 29,
   "metadata": {
    "collapsed": false
   },
   "outputs": [
    {
     "name": "stdout",
     "output_type": "stream",
     "text": [
      "The t-distribution left quartile range is: -1.96402740931\n",
      "The t-distribution right quartile range is: 1.96402740931\n"
     ]
    }
   ],
   "source": [
    "degree_freedom = len(df_master[df_master['IsHoliday']==1])\n",
    "\n",
    "LQ = stats.t.ppf(0.025,degree_freedom)  # Left Quartile\n",
    "\n",
    "RQ = stats.t.ppf(0.975,degree_freedom)  # Right Quartile\n",
    "\n",
    "print ('The t-distribution left quartile range is: ' + str(LQ))\n",
    "print ('The t-distribution right quartile range is: ' + str(RQ))"
   ]
  },
  {
   "cell_type": "markdown",
   "metadata": {},
   "source": [
    "#### 3.2.5.5 One-Sample T-Test Summary - Video Games Sales\n",
    "T-Test = -1.66 | P-Value = 0.09 | Accept Null Hypothesis; Accept the null hypothesis because:\n",
    "\n",
    "T-Test score is inside the quantiles. Based on the statistical analysis of a one sample t-test, there seems to be no significant difference between the mean of the IsHoliday Video Games Sales and the population mean. "
   ]
  },
  {
   "cell_type": "markdown",
   "metadata": {},
   "source": [
    "## 3.3 Test Hypothesis that the difference between MarkDowns recorded on holidays and those recorded on non-holiday weeks is statitically significant\n",
    "\n",
    "### 3.3.1 MarkDown 1\n",
    "\n",
    "Hypothesis Testing: Is there significant difference in the means of Markdown 1 on holiday period and those of the general population?\n",
    "\n",
    "Null Hypothesis: (H0: pMV = pGP) The null hypothesis would be that there is no difference in Markdown 1 recorded during holiday from the general population.\n",
    "\n",
    "Alternate Hypothesis: (HA: pMV != pGP) The alternative hypothesis would be that there is a difference.\n",
    "\n",
    "#### 3.3.1.1 Mean Estimation - Markdown 1\n",
    "Let us estimate the means of Markdown 1 for holiday period and the means for the entire population"
   ]
  },
  {
   "cell_type": "code",
   "execution_count": 30,
   "metadata": {
    "collapsed": false
   },
   "outputs": [
    {
     "name": "stdout",
     "output_type": "stream",
     "text": [
      "The mean of MarkDown1 during holiday period is: 11338.814940170949\n",
      "The mean of MarkDown1 for the entire population is: 8887.617797313967\n"
     ]
    }
   ],
   "source": [
    "# Let's compare the means of Markdown 1 for holiday period and the means for the entire population\n",
    "MarkDown1_for_holiday_period = df_master[df_master['IsHoliday']==1]['MarkDown1'].mean()\n",
    "MarkDown1_for_population = df_master['MarkDown1'].mean()\n",
    "\n",
    "print('The mean of MarkDown1 during holiday period is: ' + str(MarkDown1_for_holiday_period))\n",
    "print('The mean of MarkDown1 for the entire population is: ' + str(MarkDown1_for_population))"
   ]
  },
  {
   "cell_type": "markdown",
   "metadata": {},
   "source": [
    "#### 3.3.1.2 T-Test - MarkDown1\n",
    "Let's conduct a t-test at 95% confidence level and see if it correctly rejects the null hypothesis that the sample does not come from the same distribution as the store population. To conduct a one sample t-test, we can use the stats.ttest_1samp() function:"
   ]
  },
  {
   "cell_type": "code",
   "execution_count": 31,
   "metadata": {
    "collapsed": false
   },
   "outputs": [
    {
     "data": {
      "text/plain": [
       "Ttest_1sampResult(statistic=-24.164318122881514, pvalue=1.1327427015673317e-124)"
      ]
     },
     "execution_count": 31,
     "metadata": {},
     "output_type": "execute_result"
    }
   ],
   "source": [
    "import scipy.stats as stats\n",
    "stats.ttest_1samp(a=  df_master['MarkDown1'], # Sample of MarkDown1 \n",
    "                  popmean = MarkDown1_for_holiday_period)  # means of MarkDown1 for holiday period"
   ]
  },
  {
   "cell_type": "markdown",
   "metadata": {},
   "source": [
    "#### 3.3.1.3 T-Test Result - MarkDown1\n",
    "The test result shows the test statistic \"t\" is equal to -24.16. This test statistic tells us how much the sample mean deviates from the null hypothesis. If the t-statistic lies inside the quantiles of the t-distribution corresponding to our confidence level and degrees of freedom, we accept the null hypothesis. We can check the quantiles with stats.t.ppf():\n",
    "\n",
    "#### 3.3.1.4 T-Test Quantile - MarkDown1\n",
    "If the t-statistic value we calculated above (-24.16) is outside the quantiles, then we can reject the null hypothesis"
   ]
  },
  {
   "cell_type": "code",
   "execution_count": 32,
   "metadata": {
    "collapsed": false
   },
   "outputs": [
    {
     "name": "stdout",
     "output_type": "stream",
     "text": [
      "The t-distribution left quartile range is: -1.96402740931\n",
      "The t-distribution right quartile range is: 1.96402740931\n"
     ]
    }
   ],
   "source": [
    "degree_freedom = len(df_master[df_master['IsHoliday']==1])\n",
    "\n",
    "LQ = stats.t.ppf(0.025,degree_freedom)  # Left Quartile\n",
    "\n",
    "RQ = stats.t.ppf(0.975,degree_freedom)  # Right Quartile\n",
    "\n",
    "print ('The t-distribution left quartile range is: ' + str(LQ))\n",
    "print ('The t-distribution right quartile range is: ' + str(RQ))"
   ]
  },
  {
   "cell_type": "markdown",
   "metadata": {},
   "source": [
    "#### 3.3.1.5 One-Sample T-Test Summary - MarkDown1\n",
    "T-Test = -24.16| P-Value = 1.1327427015673317e-124 | Reject Null Hypothesis; Reject the null hypothesis because:\n",
    "\n",
    "T-Test score is outside the quantiles and P-value is lower than confidence level of 5%\n",
    "\n",
    "If the P-value is higher than (or equal to) α, accept the null hypothesis. Based on the statistical analysis of a one sample t-test, there seems to be significant difference between the mean of the IsHoliday MarkDown1 and the population mean. The P-value of 1.1327427015673317e-124 at a 5% confidence level is a good indicator to reject the null hypothesis."
   ]
  },
  {
   "cell_type": "markdown",
   "metadata": {},
   "source": [
    "### 3.3.2 MarkDown 2\n",
    "Hypothesis Testing: Is there significant difference in the means of Markdown 2 on holiday period and those of the general population?\n",
    "\n",
    "Null Hypothesis: (H0: pMV = pGP) The null hypothesis would be that there is no difference in Markdown 2 recorded during holiday from the general population.\n",
    "\n",
    "Alternate Hypothesis: (HA: pMV != pGP) The alternative hypothesis would be that there is a difference.\n",
    "\n",
    "#### 3.3.2.1 Mean Estimation - Markdown 2\n",
    "Let us estimate the means of Markdown 2 for holiday period and the means for the entire population"
   ]
  },
  {
   "cell_type": "code",
   "execution_count": 33,
   "metadata": {
    "collapsed": false
   },
   "outputs": [
    {
     "name": "stdout",
     "output_type": "stream",
     "text": [
      "The mean of MarkDown2 during holiday period is: 9794.434051282047\n",
      "The mean of MarkDown2 for the entire population is: 6107.224317460187\n"
     ]
    }
   ],
   "source": [
    "# Let's compare the means of Markdown 1 for holiday period and the means for the entire population\n",
    "MarkDown2_for_holiday_period = df_master[df_master['IsHoliday']==1]['MarkDown2'].mean()\n",
    "MarkDown2_for_population = df_master['MarkDown2'].mean()\n",
    "\n",
    "print('The mean of MarkDown2 during holiday period is: ' + str(MarkDown2_for_holiday_period))\n",
    "print('The mean of MarkDown2 for the entire population is: ' + str(MarkDown2_for_population))"
   ]
  },
  {
   "cell_type": "markdown",
   "metadata": {},
   "source": [
    "#### 3.3.2.2 T-Test - MarkDown2\n",
    "Let's conduct a t-test at 95% confidence level and see if it correctly rejects the null hypothesis that the sample does not come from the same distribution as the store population. To conduct a one sample t-test, we can use the stats.ttest_1samp() function:"
   ]
  },
  {
   "cell_type": "code",
   "execution_count": 34,
   "metadata": {
    "collapsed": false
   },
   "outputs": [
    {
     "data": {
      "text/plain": [
       "Ttest_1sampResult(statistic=-37.240603802737347, pvalue=1.4303499102667072e-280)"
      ]
     },
     "execution_count": 34,
     "metadata": {},
     "output_type": "execute_result"
    }
   ],
   "source": [
    "import scipy.stats as stats\n",
    "stats.ttest_1samp(a=  df_master['MarkDown2'], # Sample of MarkDown1 \n",
    "                  popmean = MarkDown2_for_holiday_period)  # means of MarkDown1 for holiday period"
   ]
  },
  {
   "cell_type": "markdown",
   "metadata": {},
   "source": [
    "#### 3.3.2.3 T-Test Result - MarkDown2\n",
    "The test result shows the test statistic \"t\" is equal to -37.24. This test statistic tells us how much the sample mean deviates from the null hypothesis. If the t-statistic lies inside the quantiles of the t-distribution corresponding to our confidence level and degrees of freedom, we accept the null hypothesis. We can check the quantiles with stats.t.ppf():\n",
    "\n",
    "#### 3.3.2.4 T-Test Quantile - MarkDown2\n",
    "If the t-statistic value we calculated above (-37.24) is outside the quantiles, then we can reject the null hypothesis"
   ]
  },
  {
   "cell_type": "code",
   "execution_count": 35,
   "metadata": {
    "collapsed": false
   },
   "outputs": [
    {
     "name": "stdout",
     "output_type": "stream",
     "text": [
      "The t-distribution left quartile range is: -1.96402740931\n",
      "The t-distribution right quartile range is: 1.96402740931\n"
     ]
    }
   ],
   "source": [
    "degree_freedom = len(df_master[df_master['IsHoliday']==1])\n",
    "\n",
    "LQ = stats.t.ppf(0.025,degree_freedom)  # Left Quartile\n",
    "\n",
    "RQ = stats.t.ppf(0.975,degree_freedom)  # Right Quartile\n",
    "\n",
    "print ('The t-distribution left quartile range is: ' + str(LQ))\n",
    "print ('The t-distribution right quartile range is: ' + str(RQ))"
   ]
  },
  {
   "cell_type": "markdown",
   "metadata": {},
   "source": [
    "#### 3.3.2.5 One-Sample T-Test Summary - MarkDown2\n",
    "T-Test = -37.24| P-Value = 1.4303499102667072e-280 | Reject Null Hypothesis; Reject the null hypothesis because:\n",
    "\n",
    "T-Test score is outside the quantiles and P-value is lower than confidence level of 5%\n",
    "\n",
    "If the P-value is higher than (or equal to) α, accept the null hypothesis. Based on the statistical analysis of a one sample t-test, there seems to be significant difference between the mean of the IsHoliday MarkDown2 and the population mean. The P-value of 1.4303499102667072e-280 at a 5% confidence level is a good indicator to reject the null hypothesis."
   ]
  },
  {
   "cell_type": "markdown",
   "metadata": {},
   "source": [
    "### 3.3.3 MarkDown 3\n",
    "Hypothesis Testing: Is there significant difference in the means of Markdown 3 on holiday period and those of the general population?\n",
    "\n",
    "Null Hypothesis: (H0: pMV = pGP) The null hypothesis would be that there is no difference in Markdown 3 recorded during holiday from the general population.\n",
    "\n",
    "Alternate Hypothesis: (HA: pMV != pGP) The alternative hypothesis would be that there is a difference.\n",
    "\n",
    "#### 3.3.3.1 Mean Estimation - Markdown 3\n",
    "Let us estimate the means of Markdown 3 for holiday period and the means for the entire population"
   ]
  },
  {
   "cell_type": "code",
   "execution_count": 36,
   "metadata": {
    "collapsed": false
   },
   "outputs": [
    {
     "name": "stdout",
     "output_type": "stream",
     "text": [
      "The mean of MarkDown3 during holiday period is: 9578.540598290585\n",
      "The mean of MarkDown3 for the entire population is: 928.7852197802101\n"
     ]
    }
   ],
   "source": [
    "# Let's compare the means of Markdown 3 for holiday period and the means for the entire population\n",
    "MarkDown3_for_holiday_period = df_master[df_master['IsHoliday']==1]['MarkDown3'].mean()\n",
    "MarkDown3_for_population = df_master['MarkDown3'].mean()\n",
    "\n",
    "print('The mean of MarkDown3 during holiday period is: ' + str(MarkDown3_for_holiday_period))\n",
    "print('The mean of MarkDown3 for the entire population is: ' + str(MarkDown3_for_population))"
   ]
  },
  {
   "cell_type": "markdown",
   "metadata": {},
   "source": [
    "#### 3.3.3.2 T-Test - MarkDown3\n",
    "Let's conduct a t-test at 95% confidence level and see if it correctly rejects the null hypothesis that the sample does not come from the same distribution as the store population. To conduct a one sample t-test, we can use the stats.ttest_1samp() function:"
   ]
  },
  {
   "cell_type": "code",
   "execution_count": 37,
   "metadata": {
    "collapsed": false
   },
   "outputs": [
    {
     "data": {
      "text/plain": [
       "Ttest_1sampResult(statistic=-103.98200072690143, pvalue=0.0)"
      ]
     },
     "execution_count": 37,
     "metadata": {},
     "output_type": "execute_result"
    }
   ],
   "source": [
    "import scipy.stats as stats\n",
    "stats.ttest_1samp(a=  df_master['MarkDown3'], # Sample of MarkDown3 \n",
    "                  popmean = MarkDown3_for_holiday_period)  # means of MarkDown3 for holiday period"
   ]
  },
  {
   "cell_type": "markdown",
   "metadata": {},
   "source": [
    "#### 3.3.3.3 T-Test Result - MarkDown3\n",
    "The test result shows the test statistic \"t\" is equal to -103.98. This test statistic tells us how much the sample mean deviates from the null hypothesis. If the t-statistic lies inside the quantiles of the t-distribution corresponding to our confidence level and degrees of freedom, we accept the null hypothesis. We can check the quantiles with stats.t.ppf():\n",
    "\n",
    "#### 3.3.3.4 T-Test Quantile - MarkDown3\n",
    "If the t-statistic value we calculated above (-103.98) is outside the quantiles, then we can reject the null hypothesis"
   ]
  },
  {
   "cell_type": "code",
   "execution_count": 38,
   "metadata": {
    "collapsed": false
   },
   "outputs": [
    {
     "name": "stdout",
     "output_type": "stream",
     "text": [
      "The t-distribution left quartile range is: -1.96402740931\n",
      "The t-distribution right quartile range is: 1.96402740931\n"
     ]
    }
   ],
   "source": [
    "degree_freedom = len(df_master[df_master['IsHoliday']==1])\n",
    "\n",
    "LQ = stats.t.ppf(0.025,degree_freedom)  # Left Quartile\n",
    "\n",
    "RQ = stats.t.ppf(0.975,degree_freedom)  # Right Quartile\n",
    "\n",
    "print ('The t-distribution left quartile range is: ' + str(LQ))\n",
    "print ('The t-distribution right quartile range is: ' + str(RQ))"
   ]
  },
  {
   "cell_type": "markdown",
   "metadata": {},
   "source": [
    "#### 3.3.3.5 One-Sample T-Test Summary - MarkDown3\n",
    "T-Test = -103.98| P-Value = 0 | Reject Null Hypothesis; Reject the null hypothesis because:\n",
    "\n",
    "T-Test score is outside the quantiles and P-value is lower than confidence level of 5%\n",
    "\n",
    "If the P-value is higher than (or equal to) α, accept the null hypothesis. Based on the statistical analysis of a one sample t-test, there seems to be significant difference between the mean of the IsHoliday MarkDown3 and the population mean. The P-value of 0 at a 5% confidence level is a good indicator to reject the null hypothesis."
   ]
  },
  {
   "cell_type": "markdown",
   "metadata": {
    "collapsed": true
   },
   "source": [
    "### 3.3.4 MarkDown 4\n",
    "Hypothesis Testing: Is there significant difference in the means of Markdown 4 on holiday period and those of the general population?\n",
    "\n",
    "Null Hypothesis: (H0: pMV = pGP) The null hypothesis would be that there is no difference in Markdown 4 recorded during holiday from the general population.\n",
    "\n",
    "Alternate Hypothesis: (HA: pMV != pGP) The alternative hypothesis would be that there is a difference.\n",
    "\n",
    "#### 3.3.4.1 Mean Estimation - Markdown 4\n",
    "Let us estimate the means of Markdown 4 for holiday period and the means for the entire population"
   ]
  },
  {
   "cell_type": "code",
   "execution_count": 39,
   "metadata": {
    "collapsed": false
   },
   "outputs": [
    {
     "name": "stdout",
     "output_type": "stream",
     "text": [
      "The mean of MarkDown4 during holiday period is: 4658.832564102572\n",
      "The mean of MarkDown4 for the entire population is: 3130.1765555554607\n"
     ]
    }
   ],
   "source": [
    "# Let's compare the means of Markdown 4 for holiday period and the means for the entire population\n",
    "MarkDown4_for_holiday_period = df_master[df_master['IsHoliday']==1]['MarkDown4'].mean()\n",
    "MarkDown4_for_population = df_master['MarkDown4'].mean()\n",
    "\n",
    "print('The mean of MarkDown4 during holiday period is: ' + str(MarkDown4_for_holiday_period))\n",
    "print('The mean of MarkDown4 for the entire population is: ' + str(MarkDown4_for_population))"
   ]
  },
  {
   "cell_type": "markdown",
   "metadata": {},
   "source": [
    "#### 3.3.4.2 T-Test - MarkDown4\n",
    "Let's conduct a t-test at 95% confidence level and see if it correctly rejects the null hypothesis that the sample does not come from the same distribution as the store population. To conduct a one sample t-test, we can use the stats.ttest_1samp() function:"
   ]
  },
  {
   "cell_type": "code",
   "execution_count": 40,
   "metadata": {
    "collapsed": false
   },
   "outputs": [
    {
     "data": {
      "text/plain": [
       "Ttest_1sampResult(statistic=-26.687306347499145, pvalue=1.5752096957048749e-150)"
      ]
     },
     "execution_count": 40,
     "metadata": {},
     "output_type": "execute_result"
    }
   ],
   "source": [
    "import scipy.stats as stats\n",
    "stats.ttest_1samp(a=  df_master['MarkDown4'], # Sample of MarkDown4 \n",
    "                  popmean = MarkDown4_for_holiday_period)  # means of MarkDown4 for holiday period"
   ]
  },
  {
   "cell_type": "markdown",
   "metadata": {},
   "source": [
    "#### 3.3.4.3 T-Test Result - MarkDown4\n",
    "The test result shows the test statistic \"t\" is equal to -26.69. This test statistic tells us how much the sample mean deviates from the null hypothesis. If the t-statistic lies inside the quantiles of the t-distribution corresponding to our confidence level and degrees of freedom, we accept the null hypothesis. We can check the quantiles with stats.t.ppf():\n",
    "\n",
    "#### 3.3.4.4 T-Test Quantile - MarkDown4\n",
    "If the t-statistic value we calculated above (-26.68) is outside the quantiles, then we can reject the null hypothesis"
   ]
  },
  {
   "cell_type": "code",
   "execution_count": 41,
   "metadata": {
    "collapsed": false
   },
   "outputs": [
    {
     "name": "stdout",
     "output_type": "stream",
     "text": [
      "The t-distribution left quartile range is: -1.96402740931\n",
      "The t-distribution right quartile range is: 1.96402740931\n"
     ]
    }
   ],
   "source": [
    "degree_freedom = len(df_master[df_master['IsHoliday']==1])\n",
    "\n",
    "LQ = stats.t.ppf(0.025,degree_freedom)  # Left Quartile\n",
    "\n",
    "RQ = stats.t.ppf(0.975,degree_freedom)  # Right Quartile\n",
    "\n",
    "print ('The t-distribution left quartile range is: ' + str(LQ))\n",
    "print ('The t-distribution right quartile range is: ' + str(RQ))"
   ]
  },
  {
   "cell_type": "markdown",
   "metadata": {},
   "source": [
    "#### 3.3.4.5 One-Sample T-Test Summary - MarkDown4\n",
    "T-Test = -26.68| P-Value = 1.5752096957048749e-150 | Reject Null Hypothesis; Reject the null hypothesis because:\n",
    "\n",
    "T-Test score is outside the quantiles and P-value is lower than confidence level of 5%\n",
    "\n",
    "If the P-value is higher than (or equal to) α, accept the null hypothesis. Based on the statistical analysis of a one sample t-test, there seems to be significant difference between the mean of the IsHoliday MarkDown4 and the population mean. The P-value of 0 at a 5% confidence level is a good indicator to reject the null hypothesis."
   ]
  },
  {
   "cell_type": "markdown",
   "metadata": {},
   "source": [
    "### 3.3.5 MarkDown 5\n",
    "Hypothesis Testing: Is there significant difference in the means of Markdown 5 on holiday period and those of the general population?\n",
    "\n",
    "Null Hypothesis: (H0: pMV = pGP) The null hypothesis would be that there is no difference in Markdown 5 recorded during holiday from the general population.\n",
    "\n",
    "Alternate Hypothesis: (HA: pMV != pGP) The alternative hypothesis would be that there is a difference.\n",
    "\n",
    "#### 3.3.5.1 Mean Estimation - Markdown 5\n",
    "Let us estimate the means of Markdown 5 for holiday period and the means for the entire population"
   ]
  },
  {
   "cell_type": "code",
   "execution_count": 42,
   "metadata": {
    "collapsed": false
   },
   "outputs": [
    {
     "name": "stdout",
     "output_type": "stream",
     "text": [
      "The mean of MarkDown5 during holiday period is: 3910.6670769230823\n",
      "The mean of MarkDown5 for the entire population is: 4544.031686202577\n"
     ]
    }
   ],
   "source": [
    "# Let's compare the means of Markdown 5 for holiday period and the means for the entire population\n",
    "MarkDown5_for_holiday_period = df_master[df_master['IsHoliday']==1]['MarkDown5'].mean()\n",
    "MarkDown5_for_population = df_master['MarkDown5'].mean()\n",
    "\n",
    "print('The mean of MarkDown5 during holiday period is: ' + str(MarkDown5_for_holiday_period))\n",
    "print('The mean of MarkDown5 for the entire population is: ' + str(MarkDown5_for_population))"
   ]
  },
  {
   "cell_type": "markdown",
   "metadata": {},
   "source": [
    "#### 3.3.5.2 T-Test - MarkDown5\n",
    "Let's conduct a t-test at 95% confidence level and see if it correctly rejects the null hypothesis that the sample does not come from the same distribution as the store population. To conduct a one sample t-test, we can use the stats.ttest_1samp() function:"
   ]
  },
  {
   "cell_type": "code",
   "execution_count": 43,
   "metadata": {
    "collapsed": false
   },
   "outputs": [
    {
     "data": {
      "text/plain": [
       "Ttest_1sampResult(statistic=5.9215134513376873, pvalue=3.3185785770162059e-09)"
      ]
     },
     "execution_count": 43,
     "metadata": {},
     "output_type": "execute_result"
    }
   ],
   "source": [
    "import scipy.stats as stats\n",
    "stats.ttest_1samp(a=  df_master['MarkDown5'], # Sample of MarkDown5 \n",
    "                  popmean = MarkDown5_for_holiday_period)  # means of MarkDown5 for holiday period"
   ]
  },
  {
   "cell_type": "markdown",
   "metadata": {},
   "source": [
    "#### 3.3.5.3 T-Test Result - MarkDown5\n",
    "The test result shows the test statistic \"t\" is equal to 5.92. This test statistic tells us how much the sample mean deviates from the null hypothesis. If the t-statistic lies inside the quantiles of the t-distribution corresponding to our confidence level and degrees of freedom, we accept the null hypothesis. We can check the quantiles with stats.t.ppf():\n",
    "\n",
    "#### 3.3.5.4 T-Test Quantile - MarkDown5\n",
    "If the t-statistic value we calculated above (5.92) is outside the quantiles, then we can reject the null hypothesis"
   ]
  },
  {
   "cell_type": "code",
   "execution_count": 44,
   "metadata": {
    "collapsed": false
   },
   "outputs": [
    {
     "name": "stdout",
     "output_type": "stream",
     "text": [
      "The t-distribution left quartile range is: -1.96402740931\n",
      "The t-distribution right quartile range is: 1.96402740931\n"
     ]
    }
   ],
   "source": [
    "degree_freedom = len(df_master[df_master['IsHoliday']==1])\n",
    "\n",
    "LQ = stats.t.ppf(0.025,degree_freedom)  # Left Quartile\n",
    "\n",
    "RQ = stats.t.ppf(0.975,degree_freedom)  # Right Quartile\n",
    "\n",
    "print ('The t-distribution left quartile range is: ' + str(LQ))\n",
    "print ('The t-distribution right quartile range is: ' + str(RQ))"
   ]
  },
  {
   "cell_type": "markdown",
   "metadata": {},
   "source": [
    "#### 3.3.5.5 One-Sample T-Test Summary - MarkDown5\n",
    "T-Test = 5.92| P-Value = 3.3185785770162059e-09 | Reject Null Hypothesis; Reject the null hypothesis because:\n",
    "\n",
    "T-Test score is outside the quantiles and P-value is lower than confidence level of 5%\n",
    "\n",
    "If the P-value is higher than (or equal to) α, accept the null hypothesis. Based on the statistical analysis of a one sample t-test, there seems to be significant difference between the mean of the IsHoliday MarkDown5 and the population mean. The P-value of 0 at a 5% confidence level is a good indicator to reject the null hypothesis."
   ]
  },
  {
   "cell_type": "markdown",
   "metadata": {},
   "source": [
    "## 3.4 Test Hypothesis that the difference in Markdowns for each Store Type is statistically significant\n",
    "\n",
    "### 3.4.1 Markdowns for Store A\n",
    "Assign 1 to store A and 0 to all others "
   ]
  },
  {
   "cell_type": "code",
   "execution_count": 45,
   "metadata": {
    "collapsed": true
   },
   "outputs": [],
   "source": [
    "import pandas as pd\n",
    "\n",
    "def Stores (c):\n",
    "    if c['Store'] == 'A':\n",
    "        return 1\n",
    "    elif c['Store'] == 'B':\n",
    "        return 2\n",
    "    elif c['Store'] == 'C':\n",
    "        return 3\n",
    "    else:\n",
    "        return 0"
   ]
  },
  {
   "cell_type": "markdown",
   "metadata": {},
   "source": [
    "Hypothesis Testing: Is there significant difference in the means of the markdowns in Store A and those of the general population?\n",
    "\n",
    "Null Hypothesis: (H0: pMV = pGP) The null hypothesis would be that there is no difference in the Markdowns in Store A from the general population.\n",
    "\n",
    "Alternate Hypothesis: (HA: pMV != pGP) The alternative hypothesis would be that there is a difference.\n",
    "\n",
    "### 3.4.1.1 Mean Estimation - Store A Markdowns\n",
    "Let us estimate the means of the Markdowns for store A and the means for the entire population"
   ]
  },
  {
   "cell_type": "code",
   "execution_count": 46,
   "metadata": {
    "collapsed": false
   },
   "outputs": [
    {
     "name": "stdout",
     "output_type": "stream",
     "text": [
      "The mean of MarkDown1 for Store A is: 9469.89093406594\n",
      "The mean of MarkDown1 for the entire population is: 8887.617797313967\n",
      "The mean of MarkDown2 for Store A is: 5361.7748351648315\n",
      "The mean of MarkDown2 for the entire population is: 6107.224317460187\n",
      "The mean of MarkDown3 for Store A is: 926.8147802197802\n",
      "The mean of MarkDown3 for the entire population is: 928.7852197802101\n",
      "The mean of MarkDown4 for Store A is: 3023.2740109890105\n",
      "The mean of MarkDown4 for the entire population is: 3130.1765555554607\n",
      "The mean of MarkDown5 for Store A is: 5501.529285714284\n",
      "The mean of MarkDown5 for the entire population is: 4544.031686202577\n"
     ]
    }
   ],
   "source": [
    "# Let's compare the means of the Markdowns for Store A and the means for the entire population\n",
    "MarkDown1_for_Store_A = df_master[df_master['Store']==1]['MarkDown1'].mean()\n",
    "MarkDown1_for_population = df_master['MarkDown1'].mean()\n",
    "MarkDown2_for_Store_A = df_master[df_master['Store']==1]['MarkDown2'].mean()\n",
    "MarkDown2_for_population = df_master['MarkDown2'].mean()\n",
    "MarkDown3_for_Store_A = df_master[df_master['Store']==1]['MarkDown3'].mean()\n",
    "MarkDown3_for_population = df_master['MarkDown3'].mean()\n",
    "MarkDown4_for_Store_A = df_master[df_master['Store']==1]['MarkDown4'].mean()\n",
    "MarkDown4_for_population = df_master['MarkDown4'].mean()\n",
    "MarkDown5_for_Store_A = df_master[df_master['Store']==1]['MarkDown5'].mean()\n",
    "MarkDown5_for_population = df_master['MarkDown5'].mean()\n",
    "\n",
    "print('The mean of MarkDown1 for Store A is: ' + str(MarkDown1_for_Store_A))\n",
    "print('The mean of MarkDown1 for the entire population is: ' + str(MarkDown1_for_population))\n",
    "print('The mean of MarkDown2 for Store A is: ' + str(MarkDown2_for_Store_A))\n",
    "print('The mean of MarkDown2 for the entire population is: ' + str(MarkDown2_for_population))\n",
    "print('The mean of MarkDown3 for Store A is: ' + str(MarkDown3_for_Store_A))\n",
    "print('The mean of MarkDown3 for the entire population is: ' + str(MarkDown3_for_population))\n",
    "print('The mean of MarkDown4 for Store A is: ' + str(MarkDown4_for_Store_A))\n",
    "print('The mean of MarkDown4 for the entire population is: ' + str(MarkDown4_for_population))\n",
    "print('The mean of MarkDown5 for Store A is: ' + str(MarkDown5_for_Store_A))\n",
    "print('The mean of MarkDown5 for the entire population is: ' + str(MarkDown5_for_population))"
   ]
  },
  {
   "cell_type": "markdown",
   "metadata": {},
   "source": [
    "#### 3.4.1.2 T-Test - Store A MarkDowns\n",
    "Let's conduct a t-test at 95% confidence level and see if it correctly rejects the null hypothesis that the sample does not come from the same distribution as the store population. To conduct a one sample t-test, we can use the stats.ttest_1samp() function:"
   ]
  },
  {
   "cell_type": "code",
   "execution_count": 47,
   "metadata": {
    "collapsed": false
   },
   "outputs": [
    {
     "data": {
      "text/plain": [
       "Ttest_1sampResult(statistic=-5.7401475649920171, pvalue=9.7967258063166012e-09)"
      ]
     },
     "execution_count": 47,
     "metadata": {},
     "output_type": "execute_result"
    }
   ],
   "source": [
    "# markdown 1\n",
    "import scipy.stats as stats\n",
    "stats.ttest_1samp(a=  df_master['MarkDown1'], # Sample of MarkDown1 \n",
    "                  popmean = MarkDown1_for_Store_A)  # means of MarkDown1 Store A"
   ]
  },
  {
   "cell_type": "code",
   "execution_count": 48,
   "metadata": {
    "collapsed": false
   },
   "outputs": [
    {
     "data": {
      "text/plain": [
       "Ttest_1sampResult(statistic=7.5289964035617958, pvalue=5.6569836311209549e-14)"
      ]
     },
     "execution_count": 48,
     "metadata": {},
     "output_type": "execute_result"
    }
   ],
   "source": [
    "# markdown 2\n",
    "import scipy.stats as stats\n",
    "stats.ttest_1samp(a=  df_master['MarkDown2'], # Sample of MarkDown2 \n",
    "                  popmean = MarkDown2_for_Store_A)  # means of MarkDown2 Store A"
   ]
  },
  {
   "cell_type": "code",
   "execution_count": 49,
   "metadata": {
    "collapsed": false
   },
   "outputs": [
    {
     "data": {
      "text/plain": [
       "Ttest_1sampResult(statistic=0.023687403728779081, pvalue=0.9811025306972202)"
      ]
     },
     "execution_count": 49,
     "metadata": {},
     "output_type": "execute_result"
    }
   ],
   "source": [
    "# markdown 3\n",
    "import scipy.stats as stats\n",
    "stats.ttest_1samp(a=  df_master['MarkDown3'], # Sample of MarkDown3 \n",
    "                  popmean = MarkDown3_for_Store_A)  # means of MarkDown3 Store A"
   ]
  },
  {
   "cell_type": "code",
   "execution_count": 50,
   "metadata": {
    "collapsed": false
   },
   "outputs": [
    {
     "data": {
      "text/plain": [
       "Ttest_1sampResult(statistic=1.8663067035508349, pvalue=0.062034184503743747)"
      ]
     },
     "execution_count": 50,
     "metadata": {},
     "output_type": "execute_result"
    }
   ],
   "source": [
    "# markdown 4\n",
    "import scipy.stats as stats\n",
    "stats.ttest_1samp(a=  df_master['MarkDown4'], # Sample of MarkDown4 \n",
    "                  popmean = MarkDown4_for_Store_A)  # means of MarkDown4 Store A"
   ]
  },
  {
   "cell_type": "code",
   "execution_count": 51,
   "metadata": {
    "collapsed": false
   },
   "outputs": [
    {
     "data": {
      "text/plain": [
       "Ttest_1sampResult(statistic=-8.9519288448724676, pvalue=4.2650574456801189e-19)"
      ]
     },
     "execution_count": 51,
     "metadata": {},
     "output_type": "execute_result"
    }
   ],
   "source": [
    "# markdown 5\n",
    "import scipy.stats as stats\n",
    "stats.ttest_1samp(a=  df_master['MarkDown5'], # Sample of MarkDown5 \n",
    "                  popmean = MarkDown5_for_Store_A)  # means of MarkDown5 Store A"
   ]
  },
  {
   "cell_type": "markdown",
   "metadata": {},
   "source": [
    "#### 3.4.1.3 T-Test Result - Store A MarkDowns\n",
    "The test result shows the test statistic \"t\" for each of the markdowns equals:\n",
    "* MarkDown1 - 5.74\n",
    "* MarkDown2 - 7.53\n",
    "* MarkDown3 - 0.024\n",
    "* MarkDown4 - 1.866\n",
    "* MarkDown5 - -8.95\n",
    "\n",
    "This test statistic tells us how much the sample mean deviates from the null hypothesis. If the t-statistic lies inside the quantiles of the t-distribution corresponding to our confidence level and degrees of freedom, we accept the null hypothesis. We can check the quantiles with stats.t.ppf():\n",
    "\n",
    "#### 3.4.1.4 T-Test Quantile - Store A MarkDowns\n",
    "If the t-statistic value we calculated above is outside the quantiles, then we can reject the null hypothesis"
   ]
  },
  {
   "cell_type": "markdown",
   "metadata": {},
   "source": [
    "#### 3.4.1.5 One-Sample T-Test Summary - Store A MarkDowns\n",
    "For MarkDown1, MarkDown2 and MarkDown5, Reject the null hypothesis because: T-Test score is outside the quartiles and P-value is lower than confidence level of 5%.\n",
    "\n",
    "For MarkDown3 and MarkDown4, Accept the null hypothesis because the t-test score is inside the quartiles."
   ]
  },
  {
   "cell_type": "markdown",
   "metadata": {},
   "source": [
    "### 3.4.2 Markdowns for Store B\n",
    "Assign 2 to store B"
   ]
  },
  {
   "cell_type": "markdown",
   "metadata": {},
   "source": [
    "Hypothesis Testing: Is there significant difference in the means of the markdowns in Store B and those of the general population?\n",
    "\n",
    "Null Hypothesis: (H0: pMV = pGP) The null hypothesis would be that there is no difference in the Markdowns in Store B from the general population.\n",
    "\n",
    "Alternate Hypothesis: (HA: pMV != pGP) The alternative hypothesis would be that there is a difference.\n",
    "\n",
    "### 3.4.2.1 Mean Estimation - Store B Markdowns\n",
    "Let us estimate the means of the Markdowns for store B and the means for the entire population"
   ]
  },
  {
   "cell_type": "code",
   "execution_count": 52,
   "metadata": {
    "collapsed": false
   },
   "outputs": [
    {
     "name": "stdout",
     "output_type": "stream",
     "text": [
      "The mean of MarkDown1 for Store B is: 10598.933736263738\n",
      "The mean of MarkDown1 for the entire population is: 8887.617797313967\n",
      "The mean of MarkDown2 for Store B is: 12464.842087912071\n",
      "The mean of MarkDown2 for the entire population is: 6107.224317460187\n",
      "The mean of MarkDown3 for Store B is: 1356.4093406593408\n",
      "The mean of MarkDown3 for the entire population is: 928.7852197802101\n",
      "The mean of MarkDown4 for Store B is: 4577.387802197806\n",
      "The mean of MarkDown4 for the entire population is: 3130.1765555554607\n",
      "The mean of MarkDown5 for Store B is: 5367.723681318676\n",
      "The mean of MarkDown5 for the entire population is: 4544.031686202577\n"
     ]
    }
   ],
   "source": [
    "# Let's compare the means of the Markdowns for Store B and the means for the entire population\n",
    "MarkDown1_for_Store_B = df_master[df_master['Store']==2]['MarkDown1'].mean()\n",
    "MarkDown1_for_population = df_master['MarkDown1'].mean()\n",
    "MarkDown2_for_Store_B = df_master[df_master['Store']==2]['MarkDown2'].mean()\n",
    "MarkDown2_for_population = df_master['MarkDown2'].mean()\n",
    "MarkDown3_for_Store_B = df_master[df_master['Store']==2]['MarkDown3'].mean()\n",
    "MarkDown3_for_population = df_master['MarkDown3'].mean()\n",
    "MarkDown4_for_Store_B = df_master[df_master['Store']==2]['MarkDown4'].mean()\n",
    "MarkDown4_for_population = df_master['MarkDown4'].mean()\n",
    "MarkDown5_for_Store_B = df_master[df_master['Store']==2]['MarkDown5'].mean()\n",
    "MarkDown5_for_population = df_master['MarkDown5'].mean()\n",
    "\n",
    "print('The mean of MarkDown1 for Store B is: ' + str(MarkDown1_for_Store_B))\n",
    "print('The mean of MarkDown1 for the entire population is: ' + str(MarkDown1_for_population))\n",
    "print('The mean of MarkDown2 for Store B is: ' + str(MarkDown2_for_Store_B))\n",
    "print('The mean of MarkDown2 for the entire population is: ' + str(MarkDown2_for_population))\n",
    "print('The mean of MarkDown3 for Store B is: ' + str(MarkDown3_for_Store_B))\n",
    "print('The mean of MarkDown3 for the entire population is: ' + str(MarkDown3_for_population))\n",
    "print('The mean of MarkDown4 for Store B is: ' + str(MarkDown4_for_Store_B))\n",
    "print('The mean of MarkDown4 for the entire population is: ' + str(MarkDown4_for_population))\n",
    "print('The mean of MarkDown5 for Store B is: ' + str(MarkDown5_for_Store_B))\n",
    "print('The mean of MarkDown5 for the entire population is: ' + str(MarkDown5_for_population))"
   ]
  },
  {
   "cell_type": "markdown",
   "metadata": {},
   "source": [
    "#### 3.4.2.2 T-Test - Store B MarkDowns\n",
    "Let's conduct a t-test at 95% confidence level and see if it correctly rejects the null hypothesis that the sample does not come from the same distribution as the store population. To conduct a one sample t-test, we can use the stats.ttest_1samp() function:"
   ]
  },
  {
   "cell_type": "code",
   "execution_count": 53,
   "metadata": {
    "collapsed": false
   },
   "outputs": [
    {
     "data": {
      "text/plain": [
       "Ttest_1sampResult(statistic=-16.870443439462662, pvalue=8.4676092868986007e-63)"
      ]
     },
     "execution_count": 53,
     "metadata": {},
     "output_type": "execute_result"
    }
   ],
   "source": [
    "# markdown 1\n",
    "import scipy.stats as stats\n",
    "stats.ttest_1samp(a=  df_master['MarkDown1'], # Sample of MarkDown1 \n",
    "                  popmean = MarkDown1_for_Store_B)  # means of MarkDown1 Store B"
   ]
  },
  {
   "cell_type": "code",
   "execution_count": 54,
   "metadata": {
    "collapsed": false
   },
   "outputs": [
    {
     "data": {
      "text/plain": [
       "Ttest_1sampResult(statistic=-64.21156961777622, pvalue=0.0)"
      ]
     },
     "execution_count": 54,
     "metadata": {},
     "output_type": "execute_result"
    }
   ],
   "source": [
    "# markdown 2\n",
    "import scipy.stats as stats\n",
    "stats.ttest_1samp(a=  df_master['MarkDown2'], # Sample of MarkDown2 \n",
    "                  popmean = MarkDown2_for_Store_B)  # means of MarkDown2 Store B"
   ]
  },
  {
   "cell_type": "code",
   "execution_count": 55,
   "metadata": {
    "collapsed": false
   },
   "outputs": [
    {
     "data": {
      "text/plain": [
       "Ttest_1sampResult(statistic=-5.1406322725106941, pvalue=2.8014733958824994e-07)"
      ]
     },
     "execution_count": 55,
     "metadata": {},
     "output_type": "execute_result"
    }
   ],
   "source": [
    "# markdown 3\n",
    "import scipy.stats as stats\n",
    "stats.ttest_1samp(a=  df_master['MarkDown3'], # Sample of MarkDown3 \n",
    "                  popmean = MarkDown3_for_Store_B)  # means of MarkDown3 Store B"
   ]
  },
  {
   "cell_type": "code",
   "execution_count": 56,
   "metadata": {
    "collapsed": false
   },
   "outputs": [
    {
     "data": {
      "text/plain": [
       "Ttest_1sampResult(statistic=-25.265442109110051, pvalue=1.0913592773713057e-135)"
      ]
     },
     "execution_count": 56,
     "metadata": {},
     "output_type": "execute_result"
    }
   ],
   "source": [
    "# markdown 4\n",
    "import scipy.stats as stats\n",
    "stats.ttest_1samp(a=  df_master['MarkDown4'], # Sample of MarkDown4 \n",
    "                  popmean = MarkDown4_for_Store_B)  # means of MarkDown4 Store B"
   ]
  },
  {
   "cell_type": "code",
   "execution_count": 57,
   "metadata": {
    "collapsed": false
   },
   "outputs": [
    {
     "data": {
      "text/plain": [
       "Ttest_1sampResult(statistic=-7.7009405915278952, pvalue=1.5083947683751122e-14)"
      ]
     },
     "execution_count": 57,
     "metadata": {},
     "output_type": "execute_result"
    }
   ],
   "source": [
    "# markdown 5\n",
    "import scipy.stats as stats\n",
    "stats.ttest_1samp(a=  df_master['MarkDown5'], # Sample of MarkDown5 \n",
    "                  popmean = MarkDown5_for_Store_B)  # means of MarkDown5 Store B"
   ]
  },
  {
   "cell_type": "markdown",
   "metadata": {},
   "source": [
    "#### 3.4.2.3 T-Test Result - Store B MarkDowns\n",
    "The test statistic tell us how much the sample mean deviates from the null hypothesis. If the t-statistic lies inside the quantiles of the t-distribution corresponding to our confidence level and degrees of freedom, we accept the null hypothesis. We can check the quantiles with stats.t.ppf():\n",
    "\n",
    "#### 3.4.2.4 T-Test Quantile - Store B MarkDowns\n",
    "If the t-statistic value we calculated above is outside the quantiles, then we can reject the null hypothesis"
   ]
  },
  {
   "cell_type": "code",
   "execution_count": 58,
   "metadata": {
    "collapsed": false
   },
   "outputs": [
    {
     "name": "stdout",
     "output_type": "stream",
     "text": [
      "The t-distribution left quartile range is: -1.96402740931\n",
      "The t-distribution right quartile range is: 1.96402740931\n"
     ]
    }
   ],
   "source": [
    "degree_freedom = len(df_master[df_master['IsHoliday']==1])\n",
    "\n",
    "LQ = stats.t.ppf(0.025,degree_freedom)  # Left Quartile\n",
    "\n",
    "RQ = stats.t.ppf(0.975,degree_freedom)  # Right Quartile\n",
    "\n",
    "print ('The t-distribution left quartile range is: ' + str(LQ))\n",
    "print ('The t-distribution right quartile range is: ' + str(RQ))"
   ]
  },
  {
   "cell_type": "markdown",
   "metadata": {},
   "source": [
    "#### 3.4.2.5 One-Sample T-Test Summary - Store B MarkDowns\n",
    "For all the markdowns reject the null hypothesis because the t-test scores are outside the quartiles and P-value is lower than confidence level of 5%"
   ]
  },
  {
   "cell_type": "markdown",
   "metadata": {},
   "source": [
    "### 3.4.3 Markdowns for Store C\n",
    "For this analysis, 3 has already been assigned to store C:\n",
    "\n",
    "Hypothesis Testing: Is there significant difference in the means of the markdowns for Store C and those of the general population?\n",
    "\n",
    "Null Hypothesis: (H0: pMV = pGP) The null hypothesis would be that there is no difference in the Markdowns for Store C from the general population.\n",
    "\n",
    "Alternate Hypothesis: (HA: pMV != pGP) The alternative hypothesis would be that there is a difference.\n",
    "\n",
    "### 3.4.3.1 Mean Estimation - Store C Markdowns\n",
    "Let us estimate the means of the Markdowns for store C and the means for the entire population"
   ]
  },
  {
   "cell_type": "code",
   "execution_count": 59,
   "metadata": {
    "collapsed": false
   },
   "outputs": [
    {
     "name": "stdout",
     "output_type": "stream",
     "text": [
      "The mean of MarkDown1 for Store C is: 6037.801373626369\n",
      "The mean of MarkDown1 for the entire population is: 8887.617797313967\n",
      "The mean of MarkDown2 for Store C is: 1762.144835164834\n",
      "The mean of MarkDown2 for the entire population is: 6107.224317460187\n",
      "The mean of MarkDown3 for Store C is: 646.6121428571429\n",
      "The mean of MarkDown3 for the entire population is: 928.7852197802101\n",
      "The mean of MarkDown4 for Store C is: 663.3780769230764\n",
      "The mean of MarkDown4 for the entire population is: 3130.1765555554607\n",
      "The mean of MarkDown5 for Store C is: 1078.5266483516493\n",
      "The mean of MarkDown5 for the entire population is: 4544.031686202577\n"
     ]
    }
   ],
   "source": [
    "# Let's compare the means of the Markdowns for Store C and the means for the entire population\n",
    "MarkDown1_for_Store_C = df_master[df_master['Store']==3]['MarkDown1'].mean()\n",
    "MarkDown1_for_population = df_master['MarkDown1'].mean()\n",
    "MarkDown2_for_Store_C = df_master[df_master['Store']==3]['MarkDown2'].mean()\n",
    "MarkDown2_for_population = df_master['MarkDown2'].mean()\n",
    "MarkDown3_for_Store_C = df_master[df_master['Store']==3]['MarkDown3'].mean()\n",
    "MarkDown3_for_population = df_master['MarkDown3'].mean()\n",
    "MarkDown4_for_Store_C = df_master[df_master['Store']==3]['MarkDown4'].mean()\n",
    "MarkDown4_for_population = df_master['MarkDown4'].mean()\n",
    "MarkDown5_for_Store_C = df_master[df_master['Store']==3]['MarkDown5'].mean()\n",
    "MarkDown5_for_population = df_master['MarkDown5'].mean()\n",
    "\n",
    "print('The mean of MarkDown1 for Store C is: ' + str(MarkDown1_for_Store_C))\n",
    "print('The mean of MarkDown1 for the entire population is: ' + str(MarkDown1_for_population))\n",
    "print('The mean of MarkDown2 for Store C is: ' + str(MarkDown2_for_Store_C))\n",
    "print('The mean of MarkDown2 for the entire population is: ' + str(MarkDown2_for_population))\n",
    "print('The mean of MarkDown3 for Store C is: ' + str(MarkDown3_for_Store_C))\n",
    "print('The mean of MarkDown3 for the entire population is: ' + str(MarkDown3_for_population))\n",
    "print('The mean of MarkDown4 for Store C is: ' + str(MarkDown4_for_Store_C))\n",
    "print('The mean of MarkDown4 for the entire population is: ' + str(MarkDown4_for_population))\n",
    "print('The mean of MarkDown5 for Store C is: ' + str(MarkDown5_for_Store_C))\n",
    "print('The mean of MarkDown5 for the entire population is: ' + str(MarkDown5_for_population))"
   ]
  },
  {
   "cell_type": "markdown",
   "metadata": {},
   "source": [
    "#### 3.4.3.2 T-Test - Store C MarkDowns\n",
    "Let's conduct a t-test at 95% confidence level and see if it correctly rejects the null hypothesis that the sample does not come from the same distribution as the store population. To conduct a one sample t-test, we can use the stats.ttest_1samp() function:"
   ]
  },
  {
   "cell_type": "code",
   "execution_count": 60,
   "metadata": {
    "collapsed": false
   },
   "outputs": [
    {
     "data": {
      "text/plain": [
       "Ttest_1sampResult(statistic=28.093974756158012, pvalue=7.0617790617063055e-166)"
      ]
     },
     "execution_count": 60,
     "metadata": {},
     "output_type": "execute_result"
    }
   ],
   "source": [
    "# markdown 1\n",
    "import scipy.stats as stats\n",
    "stats.ttest_1samp(a=  df_master['MarkDown1'], # Sample of MarkDown1 \n",
    "                  popmean = MarkDown1_for_Store_C)  # means of MarkDown1 Store C"
   ]
  },
  {
   "cell_type": "code",
   "execution_count": 61,
   "metadata": {
    "collapsed": false
   },
   "outputs": [
    {
     "data": {
      "text/plain": [
       "Ttest_1sampResult(statistic=43.885049989779773, pvalue=0.0)"
      ]
     },
     "execution_count": 61,
     "metadata": {},
     "output_type": "execute_result"
    }
   ],
   "source": [
    "# markdown 2\n",
    "import scipy.stats as stats\n",
    "stats.ttest_1samp(a=  df_master['MarkDown2'], # Sample of MarkDown2 \n",
    "                  popmean = MarkDown2_for_Store_C)  # means of MarkDown2 Store C"
   ]
  },
  {
   "cell_type": "code",
   "execution_count": 62,
   "metadata": {
    "collapsed": false
   },
   "outputs": [
    {
     "data": {
      "text/plain": [
       "Ttest_1sampResult(statistic=3.3921099274810258, pvalue=0.00069684929907546408)"
      ]
     },
     "execution_count": 62,
     "metadata": {},
     "output_type": "execute_result"
    }
   ],
   "source": [
    "# markdown 3\n",
    "import scipy.stats as stats\n",
    "stats.ttest_1samp(a=  df_master['MarkDown3'], # Sample of MarkDown3 \n",
    "                  popmean = MarkDown3_for_Store_C)  # means of MarkDown3 Store C"
   ]
  },
  {
   "cell_type": "code",
   "execution_count": 63,
   "metadata": {
    "collapsed": false
   },
   "outputs": [
    {
     "data": {
      "text/plain": [
       "Ttest_1sampResult(statistic=43.065415848123415, pvalue=0.0)"
      ]
     },
     "execution_count": 63,
     "metadata": {},
     "output_type": "execute_result"
    }
   ],
   "source": [
    "# markdown 4\n",
    "import scipy.stats as stats\n",
    "stats.ttest_1samp(a=  df_master['MarkDown4'], # Sample of MarkDown4 \n",
    "                  popmean = MarkDown4_for_Store_C)  # means of MarkDown4 Store C"
   ]
  },
  {
   "cell_type": "code",
   "execution_count": 64,
   "metadata": {
    "collapsed": false
   },
   "outputs": [
    {
     "data": {
      "text/plain": [
       "Ttest_1sampResult(statistic=32.400033719367876, pvalue=8.616019228573662e-217)"
      ]
     },
     "execution_count": 64,
     "metadata": {},
     "output_type": "execute_result"
    }
   ],
   "source": [
    "# markdown 5\n",
    "import scipy.stats as stats\n",
    "stats.ttest_1samp(a=  df_master['MarkDown5'], # Sample of MarkDown5 \n",
    "                  popmean = MarkDown5_for_Store_C)  # means of MarkDown5 Store C"
   ]
  },
  {
   "cell_type": "markdown",
   "metadata": {},
   "source": [
    "#### 3.4.3.3 T-Test Result - Store C MarkDowns\n",
    "The test statistic tell us how much the sample mean deviates from the null hypothesis. If the t-statistic lies inside the quantiles of the t-distribution corresponding to our confidence level and degrees of freedom, we accept the null hypothesis. We can check the quantiles with stats.t.ppf():\n",
    "\n",
    "#### 3.4.3.4 T-Test Quantile - Store C MarkDowns\n",
    "If the t-statistic value we calculated above is outside the quantiles, then we can reject the null hypothesis"
   ]
  },
  {
   "cell_type": "code",
   "execution_count": 65,
   "metadata": {
    "collapsed": false
   },
   "outputs": [
    {
     "name": "stdout",
     "output_type": "stream",
     "text": [
      "The t-distribution left quartile range is: -1.96402740931\n",
      "The t-distribution right quartile range is: 1.96402740931\n"
     ]
    }
   ],
   "source": [
    "degree_freedom = len(df_master[df_master['IsHoliday']==1])\n",
    "\n",
    "LQ = stats.t.ppf(0.025,degree_freedom)  # Left Quartile\n",
    "\n",
    "RQ = stats.t.ppf(0.975,degree_freedom)  # Right Quartile\n",
    "\n",
    "print ('The t-distribution left quartile range is: ' + str(LQ))\n",
    "print ('The t-distribution right quartile range is: ' + str(RQ))"
   ]
  },
  {
   "cell_type": "markdown",
   "metadata": {},
   "source": [
    "#### 3.4.3.5 One-Sample T-Test Summary - Store C MarkDowns\n",
    "For all the markdowns reject the null hypothesis because the t-test scores are outside the quartiles and P-value is lower than confidence level of 5%"
   ]
  },
  {
   "cell_type": "markdown",
   "metadata": {},
   "source": [
    "## 3.5 Test Hypothesis that the difference in Sales of Selected Gift Items for each Store Type is statistically significant\n",
    "\n",
    "### 3.5.1 Sales of Selected Gift Items for Store A\n",
    "Hypothesis Testing: Is there significant difference in the means of sales of selected gift items for Store A and those of the general population?\n",
    "\n",
    "Null Hypothesis: (H0: pMV = pGP) The null hypothesis would be that there is no difference in the sales of selected gift items for Store A from the general population.\n",
    "\n",
    "Alternate Hypothesis: (HA: pMV != pGP) The alternative hypothesis would be that there is a difference.\n",
    "\n",
    "### 3.5.1.1 Mean Estimation - Store A (Sales of Selected Gift Items)\n",
    "Let us estimate the means of sales of selected gift items for store A and the means for the entire population"
   ]
  },
  {
   "cell_type": "code",
   "execution_count": 66,
   "metadata": {
    "collapsed": false
   },
   "outputs": [
    {
     "name": "stdout",
     "output_type": "stream",
     "text": [
      "The mean of Jewelry sale for Store A is: 24342.963956043957\n",
      "The mean of Jewelry sale for the entire population is: 18548.270426130683\n",
      "The mean of Cell Phones sale for Store A is: 38867.23269230766\n",
      "The mean of Cell Phones sale for the entire population is: 25469.003758239905\n",
      "The mean of Floral sale for Store A is: 10055.947252747248\n",
      "The mean of Floral sale for the entire population is: 10297.530998779794\n",
      "The mean of Clearance Clothings sale for Store A is: 7485.268736263736\n",
      "The mean of Clearance Clothings sale for the entire population is: 7607.392772894041\n",
      "The mean of Video Games sale for Store A is: 64384.87785714291\n",
      "The mean of Video Games sale for the entire population is: 24108.858239316476\n"
     ]
    }
   ],
   "source": [
    "# Let's compare the means of sales of selected gift items for Store A and the means for the entire population\n",
    "Jewelry_sale_for_Store_A = df_master[df_master['Store']==1]['Jewelry'].mean()\n",
    "Jewelry_sale_for_population = df_master['Jewelry'].mean()\n",
    "Cell_Phones_sale_for_Store_A = df_master[df_master['Store']==1]['Cell_Phones'].mean()\n",
    "Cell_Phones_sale_for_population = df_master['Cell_Phones'].mean()\n",
    "Floral_sale_for_Store_A = df_master[df_master['Store']==1]['Floral'].mean()\n",
    "Floral_sale_for_population = df_master['Floral'].mean()\n",
    "Clearance_Clothings_sale_for_Store_A = df_master[df_master['Store']==1]['Clearance_Clothings'].mean()\n",
    "Clearance_Clothings_sale_for_population = df_master['Clearance_Clothings'].mean()\n",
    "Video_Games_sale_for_Store_A = df_master[df_master['Store']==1]['Video_Games'].mean()\n",
    "Video_Games_sale_for_population = df_master['Video_Games'].mean()\n",
    "\n",
    "print('The mean of Jewelry sale for Store A is: ' + str(Jewelry_sale_for_Store_A))\n",
    "print('The mean of Jewelry sale for the entire population is: ' + str(Jewelry_sale_for_population))\n",
    "print('The mean of Cell Phones sale for Store A is: ' + str(Cell_Phones_sale_for_Store_A))\n",
    "print('The mean of Cell Phones sale for the entire population is: ' + str(Cell_Phones_sale_for_population))\n",
    "print('The mean of Floral sale for Store A is: ' + str(Floral_sale_for_Store_A))\n",
    "print('The mean of Floral sale for the entire population is: ' + str(Floral_sale_for_population))\n",
    "print('The mean of Clearance Clothings sale for Store A is: ' + str(Clearance_Clothings_sale_for_Store_A))\n",
    "print('The mean of Clearance Clothings sale for the entire population is: ' + str(Clearance_Clothings_sale_for_population))\n",
    "print('The mean of Video Games sale for Store A is: ' + str(Video_Games_sale_for_Store_A))\n",
    "print('The mean of Video Games sale for the entire population is: ' + str(Video_Games_sale_for_population))"
   ]
  },
  {
   "cell_type": "markdown",
   "metadata": {
    "collapsed": true
   },
   "source": [
    "#### 3.5.1.2 T-Test - Store A - Selected Gift Items\n",
    "Let's conduct a t-test at 95% confidence level and see if it correctly rejects the null hypothesis that the sample does not come from the same distribution as the store population. To conduct a one sample t-test, we can use the stats.ttest_1samp() function:"
   ]
  },
  {
   "cell_type": "code",
   "execution_count": 67,
   "metadata": {
    "collapsed": false
   },
   "outputs": [
    {
     "data": {
      "text/plain": [
       "Ttest_1sampResult(statistic=-38.998204161385814, pvalue=2.6785830883097366e-305)"
      ]
     },
     "execution_count": 67,
     "metadata": {},
     "output_type": "execute_result"
    }
   ],
   "source": [
    "# Jewelry Sale\n",
    "import scipy.stats as stats\n",
    "stats.ttest_1samp(a=  df_master['Jewelry'], # Sample of Jewelry Sale \n",
    "                  popmean = Jewelry_sale_for_Store_A)  # means of Jewelry Sale Store A"
   ]
  },
  {
   "cell_type": "code",
   "execution_count": 68,
   "metadata": {
    "collapsed": false
   },
   "outputs": [
    {
     "data": {
      "text/plain": [
       "Ttest_1sampResult(statistic=-102.80516300446031, pvalue=0.0)"
      ]
     },
     "execution_count": 68,
     "metadata": {},
     "output_type": "execute_result"
    }
   ],
   "source": [
    "# Cell Phone Sale\n",
    "import scipy.stats as stats\n",
    "stats.ttest_1samp(a=  df_master['Cell_Phones'], # Sample of Cell Phone Sale \n",
    "                  popmean = Cell_Phones_sale_for_Store_A)  # means of Cell Phone Sale Store A"
   ]
  },
  {
   "cell_type": "code",
   "execution_count": 69,
   "metadata": {
    "collapsed": false
   },
   "outputs": [
    {
     "data": {
      "text/plain": [
       "Ttest_1sampResult(statistic=3.3137089940174946, pvalue=0.00092466839545339748)"
      ]
     },
     "execution_count": 69,
     "metadata": {},
     "output_type": "execute_result"
    }
   ],
   "source": [
    "# Floral Sale\n",
    "import scipy.stats as stats\n",
    "stats.ttest_1samp(a=  df_master['Floral'], # Sample of Floral Sale \n",
    "                  popmean = Floral_sale_for_Store_A)  # means of Floral Sale Store A"
   ]
  },
  {
   "cell_type": "code",
   "execution_count": 70,
   "metadata": {
    "collapsed": false
   },
   "outputs": [
    {
     "data": {
      "text/plain": [
       "Ttest_1sampResult(statistic=2.1929091427355707, pvalue=0.028341953506761615)"
      ]
     },
     "execution_count": 70,
     "metadata": {},
     "output_type": "execute_result"
    }
   ],
   "source": [
    "# Clearance Clothing Sale\n",
    "import scipy.stats as stats\n",
    "stats.ttest_1samp(a=  df_master['Clearance_Clothings'], # Sample of Clearance Clothing Sale \n",
    "                  popmean = Clearance_Clothings_sale_for_Store_A)  # means of Clearance Clothing Sale Store A"
   ]
  },
  {
   "cell_type": "code",
   "execution_count": 71,
   "metadata": {
    "collapsed": false
   },
   "outputs": [
    {
     "data": {
      "text/plain": [
       "Ttest_1sampResult(statistic=-143.50640139213462, pvalue=0.0)"
      ]
     },
     "execution_count": 71,
     "metadata": {},
     "output_type": "execute_result"
    }
   ],
   "source": [
    "# Video Games Sale\n",
    "import scipy.stats as stats\n",
    "stats.ttest_1samp(a=  df_master['Video_Games'], # Sample of Video Games Sale \n",
    "                  popmean = Video_Games_sale_for_Store_A)  # means of Video Games Sale Store A"
   ]
  },
  {
   "cell_type": "markdown",
   "metadata": {},
   "source": [
    "#### 3.5.1.3 T-Test Results - Store A - Selected Gift Items\n",
    "| Items    | t-test statistic    | pvalue    |  \n",
    "| ------   | :---------------:   | ------:   |\n",
    "| Jewelry Sales  | -38.998   |2.68e-305     |  \n",
    "| Cell Phone Sales  | -102.80   | 0.0  |    \n",
    "| Floral Sales  | 3.31   | 0.0009  |    \n",
    "| Clearance Clothings Sales  | 2.19   | 0.028   |    \n",
    "| Video Games Sales  |   -143.50  |  0.0   |   "
   ]
  },
  {
   "cell_type": "code",
   "execution_count": 72,
   "metadata": {
    "collapsed": false
   },
   "outputs": [
    {
     "name": "stdout",
     "output_type": "stream",
     "text": [
      "The t-distribution left quartile range is: -1.96402740931\n",
      "The t-distribution right quartile range is: 1.96402740931\n"
     ]
    }
   ],
   "source": [
    "degree_freedom = len(df_master[df_master['IsHoliday']==1])\n",
    "\n",
    "LQ = stats.t.ppf(0.025,degree_freedom)  # Left Quartile\n",
    "\n",
    "RQ = stats.t.ppf(0.975,degree_freedom)  # Right Quartile\n",
    "\n",
    "print ('The t-distribution left quartile range is: ' + str(LQ))\n",
    "print ('The t-distribution right quartile range is: ' + str(RQ))"
   ]
  },
  {
   "cell_type": "markdown",
   "metadata": {},
   "source": [
    "#### 3.5.1.4 T-Test Summary - Store A - Selected Gift Items\n",
    "For all the selected gift items we will reject the null hypothesis that there is no significant difference in their means with respect to Store A sales and those of the general population because the t-test scores are outside the quantiles and P-values are lower than confidence level of 5%"
   ]
  },
  {
   "cell_type": "markdown",
   "metadata": {},
   "source": [
    "### 3.5.2 Sales of Selected Gift Items for Store B\n",
    "Hypothesis Testing: Is there significant difference in the means of sales of selected gift items for Store B and those of the general population?\n",
    "\n",
    "Null Hypothesis: (H0: pMV = pGP) The null hypothesis would be that there is no difference in the sales of selected gift items for Store B from the general population.\n",
    "\n",
    "Alternate Hypothesis: (HA: pMV != pGP) The alternative hypothesis would be that there is a difference.\n",
    "\n",
    "#### 3.5.2.1 Mean Estimation - Store B (Sales of Selected Gift Items)\n",
    "Let us estimate the means of sales of selected gift items for store B and the means for the entire population"
   ]
  },
  {
   "cell_type": "code",
   "execution_count": 73,
   "metadata": {
    "collapsed": false
   },
   "outputs": [
    {
     "name": "stdout",
     "output_type": "stream",
     "text": [
      "The mean of Jewelry sale for Store B is: 20354.11967032968\n",
      "The mean of Jewelry sale for the entire population is: 18548.270426130683\n",
      "The mean of Cell Phones sale for Store B is: 29440.757142857132\n",
      "The mean of Cell Phones sale for the entire population is: 25469.003758239905\n",
      "The mean of Floral sale for Store B is: 9130.248351648353\n",
      "The mean of Floral sale for the entire population is: 10297.530998779794\n",
      "The mean of Clearance Clothings sale for Store B is: 6417.711263736265\n",
      "The mean of Clearance Clothings sale for the entire population is: 7607.392772894041\n",
      "The mean of Video Games sale for Store B is: 40636.21818681316\n",
      "The mean of Video Games sale for the entire population is: 24108.858239316476\n"
     ]
    }
   ],
   "source": [
    "# Let's compare the means of sales of selected gift items for Store B and the means for the entire population\n",
    "Jewelry_sale_for_Store_B = df_master[df_master['Store']==2]['Jewelry'].mean()\n",
    "Jewelry_sale_for_population = df_master['Jewelry'].mean()\n",
    "Cell_Phones_sale_for_Store_B = df_master[df_master['Store']==2]['Cell_Phones'].mean()\n",
    "Cell_Phones_sale_for_population = df_master['Cell_Phones'].mean()\n",
    "Floral_sale_for_Store_B = df_master[df_master['Store']==2]['Floral'].mean()\n",
    "Floral_sale_for_population = df_master['Floral'].mean()\n",
    "Clearance_Clothings_sale_for_Store_B = df_master[df_master['Store']==2]['Clearance_Clothings'].mean()\n",
    "Clearance_Clothings_sale_for_population = df_master['Clearance_Clothings'].mean()\n",
    "Video_Games_sale_for_Store_B = df_master[df_master['Store']==2]['Video_Games'].mean()\n",
    "Video_Games_sale_for_population = df_master['Video_Games'].mean()\n",
    "\n",
    "print('The mean of Jewelry sale for Store B is: ' + str(Jewelry_sale_for_Store_B))\n",
    "print('The mean of Jewelry sale for the entire population is: ' + str(Jewelry_sale_for_population))\n",
    "print('The mean of Cell Phones sale for Store B is: ' + str(Cell_Phones_sale_for_Store_B))\n",
    "print('The mean of Cell Phones sale for the entire population is: ' + str(Cell_Phones_sale_for_population))\n",
    "print('The mean of Floral sale for Store B is: ' + str(Floral_sale_for_Store_B))\n",
    "print('The mean of Floral sale for the entire population is: ' + str(Floral_sale_for_population))\n",
    "print('The mean of Clearance Clothings sale for Store B is: ' + str(Clearance_Clothings_sale_for_Store_B))\n",
    "print('The mean of Clearance Clothings sale for the entire population is: ' + str(Clearance_Clothings_sale_for_population))\n",
    "print('The mean of Video Games sale for Store B is: ' + str(Video_Games_sale_for_Store_B))\n",
    "print('The mean of Video Games sale for the entire population is: ' + str(Video_Games_sale_for_population))"
   ]
  },
  {
   "cell_type": "markdown",
   "metadata": {},
   "source": [
    "#### 3.5.2.2 T-Test - Store B - Selected Gift Items\n",
    "Let's conduct a t-test at 95% confidence level and see if it correctly rejects the null hypothesis that the sample does not come from the same distribution as the store population. To conduct a one sample t-test, we can use the stats.ttest_1samp() function:"
   ]
  },
  {
   "cell_type": "code",
   "execution_count": 74,
   "metadata": {
    "collapsed": false
   },
   "outputs": [
    {
     "data": {
      "text/plain": [
       "Ttest_1sampResult(statistic=-12.153339455562994, pvalue=1.0729987820738569e-33)"
      ]
     },
     "execution_count": 74,
     "metadata": {},
     "output_type": "execute_result"
    }
   ],
   "source": [
    "# Jewelry Sale\n",
    "import scipy.stats as stats\n",
    "stats.ttest_1samp(a=  df_master['Jewelry'], # Sample of Jewelry Sale \n",
    "                  popmean = Jewelry_sale_for_Store_B)  # means of Jewelry Sale Store B "
   ]
  },
  {
   "cell_type": "code",
   "execution_count": 75,
   "metadata": {
    "collapsed": false
   },
   "outputs": [
    {
     "data": {
      "text/plain": [
       "Ttest_1sampResult(statistic=-30.475427470919499, pvalue=2.5363389345099327e-193)"
      ]
     },
     "execution_count": 75,
     "metadata": {},
     "output_type": "execute_result"
    }
   ],
   "source": [
    "import scipy.stats as stats\n",
    "stats.ttest_1samp(a=  df_master['Cell_Phones'], # Sample of Cell Phone Sale \n",
    "                  popmean = Cell_Phones_sale_for_Store_B)  # means of Cell Phone Sale Store B"
   ]
  },
  {
   "cell_type": "code",
   "execution_count": 76,
   "metadata": {
    "collapsed": false
   },
   "outputs": [
    {
     "data": {
      "text/plain": [
       "Ttest_1sampResult(statistic=16.011155840960438, pvalue=7.741865209723941e-57)"
      ]
     },
     "execution_count": 76,
     "metadata": {},
     "output_type": "execute_result"
    }
   ],
   "source": [
    "# Floral Sale\n",
    "import scipy.stats as stats\n",
    "stats.ttest_1samp(a=  df_master['Floral'], # Sample of Floral Sale \n",
    "                  popmean = Floral_sale_for_Store_B)  # means of Floral Sale Store B"
   ]
  },
  {
   "cell_type": "code",
   "execution_count": 77,
   "metadata": {
    "collapsed": false
   },
   "outputs": [
    {
     "data": {
      "text/plain": [
       "Ttest_1sampResult(statistic=21.36240768292198, pvalue=1.4129529453060602e-98)"
      ]
     },
     "execution_count": 77,
     "metadata": {},
     "output_type": "execute_result"
    }
   ],
   "source": [
    "# Clearance Clothing Sale\n",
    "import scipy.stats as stats\n",
    "stats.ttest_1samp(a=  df_master['Clearance_Clothings'], # Sample of Clearance Clothing Sale \n",
    "                  popmean = Clearance_Clothings_sale_for_Store_B)  # means of Clearance Clothing Sale Store B"
   ]
  },
  {
   "cell_type": "code",
   "execution_count": 78,
   "metadata": {
    "collapsed": false
   },
   "outputs": [
    {
     "data": {
      "text/plain": [
       "Ttest_1sampResult(statistic=-58.88819136258445, pvalue=0.0)"
      ]
     },
     "execution_count": 78,
     "metadata": {},
     "output_type": "execute_result"
    }
   ],
   "source": [
    "# Video Games Sale\n",
    "import scipy.stats as stats\n",
    "stats.ttest_1samp(a=  df_master['Video_Games'], # Sample of Video Games Sale \n",
    "                  popmean = Video_Games_sale_for_Store_B)  # means of Video Games Sale Store B"
   ]
  },
  {
   "cell_type": "markdown",
   "metadata": {},
   "source": [
    "#### 3.5.2.3 T-Test Results - Store B - Selected Gift Items\n",
    "| Items    | t-test statistic    | pvalue    |  \n",
    "| ------   | :---------------:   | ------:   |\n",
    "| Jewelry Sales  | -12.15   |2.68e-305     |  \n",
    "| Cell Phone Sales  | -30.48   | 2.54e-193  |    \n",
    "| Floral Sales  | 16.01   | 7.74e-57  |    \n",
    "| Clearance Clothings Sales  | 21.36   |1.41e-98   |    \n",
    "| Video Games Sales  |   -58.89  |  0.0   |   "
   ]
  },
  {
   "cell_type": "code",
   "execution_count": 79,
   "metadata": {
    "collapsed": false
   },
   "outputs": [
    {
     "name": "stdout",
     "output_type": "stream",
     "text": [
      "The t-distribution left quartile range is: -1.96402740931\n",
      "The t-distribution right quartile range is: 1.96402740931\n"
     ]
    }
   ],
   "source": [
    "degree_freedom = len(df_master[df_master['IsHoliday']==1])\n",
    "\n",
    "LQ = stats.t.ppf(0.025,degree_freedom)  # Left Quartile\n",
    "\n",
    "RQ = stats.t.ppf(0.975,degree_freedom)  # Right Quartile\n",
    "\n",
    "print ('The t-distribution left quartile range is: ' + str(LQ))\n",
    "print ('The t-distribution right quartile range is: ' + str(RQ))"
   ]
  },
  {
   "cell_type": "markdown",
   "metadata": {},
   "source": [
    "#### 3.5.2.4 T-Test Summary - Store B - Selected Gift Items\n",
    "For all the selected gift items we will reject the null hypothesis that there is no significant difference in their means with respect to Store B sales and those of the general population because the t-test scores are outside the quantiles and P-values are lower than confidence level of 5%"
   ]
  },
  {
   "cell_type": "markdown",
   "metadata": {},
   "source": [
    "### 3.5.3 Sales of Selected Gift Items for Store C\n",
    "Hypothesis Testing: Is there significant difference in the means of sales of selected gift items for Store C and those of the general population?\n",
    "\n",
    "Null Hypothesis: (H0: pMV = pGP) The null hypothesis would be that there is no difference in the sales of selected gift items for Store C from the general population.\n",
    "\n",
    "Alternate Hypothesis: (HA: pMV != pGP) The alternative hypothesis would be that there is a difference.\n",
    "\n",
    "#### 3.5.3.1 Mean Estimation - Store C (Sales of Selected Gift Items)\n",
    "Let us estimate the means of sales of selected gift items for store C and the means for the entire population"
   ]
  },
  {
   "cell_type": "code",
   "execution_count": 80,
   "metadata": {
    "collapsed": false
   },
   "outputs": [
    {
     "name": "stdout",
     "output_type": "stream",
     "text": [
      "The mean of Jewelry sale for Store C is: 26851.18153846154\n",
      "The mean of Jewelry sale for the entire population is: 18548.270426130683\n",
      "The mean of Cell Phones sale for Store C is: 39208.43071428571\n",
      "The mean of Cell Phones sale for the entire population is: 25469.003758239905\n",
      "The mean of Floral sale for Store C is: 11191.472252747253\n",
      "The mean of Floral sale for the entire population is: 10297.530998779794\n",
      "The mean of Clearance Clothings sale for Store C is: 12887.638131868132\n",
      "The mean of Clearance Clothings sale for the entire population is: 7607.392772894041\n",
      "The mean of Video Games sale for Store C is: 42788.43835164836\n",
      "The mean of Video Games sale for the entire population is: 24108.858239316476\n"
     ]
    }
   ],
   "source": [
    "# Let's compare the means of sales of selected gift items for Store C and the means for the entire population\n",
    "Jewelry_sale_for_Store_C = df_master[df_master['Store']==3]['Jewelry'].mean()\n",
    "Jewelry_sale_for_population = df_master['Jewelry'].mean()\n",
    "Cell_Phones_sale_for_Store_C = df_master[df_master['Store']==3]['Cell_Phones'].mean()\n",
    "Cell_Phones_sale_for_population = df_master['Cell_Phones'].mean()\n",
    "Floral_sale_for_Store_C = df_master[df_master['Store']==3]['Floral'].mean()\n",
    "Floral_sale_for_population = df_master['Floral'].mean()\n",
    "Clearance_Clothings_sale_for_Store_C = df_master[df_master['Store']==3]['Clearance_Clothings'].mean()\n",
    "Clearance_Clothings_sale_for_population = df_master['Clearance_Clothings'].mean()\n",
    "Video_Games_sale_for_Store_C = df_master[df_master['Store']==3]['Video_Games'].mean()\n",
    "Video_Games_sale_for_population = df_master['Video_Games'].mean()\n",
    "\n",
    "print('The mean of Jewelry sale for Store C is: ' + str(Jewelry_sale_for_Store_C))\n",
    "print('The mean of Jewelry sale for the entire population is: ' + str(Jewelry_sale_for_population))\n",
    "print('The mean of Cell Phones sale for Store C is: ' + str(Cell_Phones_sale_for_Store_C))\n",
    "print('The mean of Cell Phones sale for the entire population is: ' + str(Cell_Phones_sale_for_population))\n",
    "print('The mean of Floral sale for Store C is: ' + str(Floral_sale_for_Store_C))\n",
    "print('The mean of Floral sale for the entire population is: ' + str(Floral_sale_for_population))\n",
    "print('The mean of Clearance Clothings sale for Store C is: ' + str(Clearance_Clothings_sale_for_Store_C))\n",
    "print('The mean of Clearance Clothings sale for the entire population is: ' + str(Clearance_Clothings_sale_for_population))\n",
    "print('The mean of Video Games sale for Store C is: ' + str(Video_Games_sale_for_Store_C))\n",
    "print('The mean of Video Games sale for the entire population is: ' + str(Video_Games_sale_for_population))"
   ]
  },
  {
   "cell_type": "markdown",
   "metadata": {},
   "source": [
    "#### 3.5.3.2 T-Test - Store C - Selected Gift Items\n",
    "Let's conduct a t-test at 95% confidence level and see if it correctly rejects the null hypothesis that the sample does not come from the same distribution as the store population. To conduct a one sample t-test, we can use the stats.ttest_1samp() function:"
   ]
  },
  {
   "cell_type": "code",
   "execution_count": 81,
   "metadata": {
    "collapsed": false
   },
   "outputs": [
    {
     "data": {
      "text/plain": [
       "Ttest_1sampResult(statistic=-55.878472437064779, pvalue=0.0)"
      ]
     },
     "execution_count": 81,
     "metadata": {},
     "output_type": "execute_result"
    }
   ],
   "source": [
    "# Jewelry Sale\n",
    "import scipy.stats as stats\n",
    "stats.ttest_1samp(a=  df_master['Jewelry'], # Sample of Jewelry Sale \n",
    "                  popmean = Jewelry_sale_for_Store_C)  # means of Jewelry Sale Store C"
   ]
  },
  {
   "cell_type": "code",
   "execution_count": 82,
   "metadata": {
    "collapsed": false
   },
   "outputs": [
    {
     "data": {
      "text/plain": [
       "Ttest_1sampResult(statistic=-105.42318949429487, pvalue=0.0)"
      ]
     },
     "execution_count": 82,
     "metadata": {},
     "output_type": "execute_result"
    }
   ],
   "source": [
    "import scipy.stats as stats\n",
    "stats.ttest_1samp(a=  df_master['Cell_Phones'], # Sample of Cell Phone Sale \n",
    "                  popmean = Cell_Phones_sale_for_Store_C)  # means of Cell Phone Sale Store C"
   ]
  },
  {
   "cell_type": "code",
   "execution_count": 83,
   "metadata": {
    "collapsed": false
   },
   "outputs": [
    {
     "data": {
      "text/plain": [
       "Ttest_1sampResult(statistic=-12.261839722480998, pvalue=2.8967101621342553e-34)"
      ]
     },
     "execution_count": 83,
     "metadata": {},
     "output_type": "execute_result"
    }
   ],
   "source": [
    "# Floral Sale\n",
    "import scipy.stats as stats\n",
    "stats.ttest_1samp(a=  df_master['Floral'], # Sample of Floral Sale \n",
    "                  popmean = Floral_sale_for_Store_C)  # means of Floral Sale Store C"
   ]
  },
  {
   "cell_type": "code",
   "execution_count": 84,
   "metadata": {
    "collapsed": false
   },
   "outputs": [
    {
     "data": {
      "text/plain": [
       "Ttest_1sampResult(statistic=-94.814244952119338, pvalue=0.0)"
      ]
     },
     "execution_count": 84,
     "metadata": {},
     "output_type": "execute_result"
    }
   ],
   "source": [
    "# Clearance Clothing Sale\n",
    "import scipy.stats as stats\n",
    "stats.ttest_1samp(a=  df_master['Clearance_Clothings'], # Sample of Clearance Clothing Sale \n",
    "                  popmean = Clearance_Clothings_sale_for_Store_C)  # means of Clearance Clothing Sale Store C"
   ]
  },
  {
   "cell_type": "code",
   "execution_count": 85,
   "metadata": {
    "collapsed": false
   },
   "outputs": [
    {
     "data": {
      "text/plain": [
       "Ttest_1sampResult(statistic=-66.556709100677466, pvalue=0.0)"
      ]
     },
     "execution_count": 85,
     "metadata": {},
     "output_type": "execute_result"
    }
   ],
   "source": [
    "# Video Games Sale\n",
    "import scipy.stats as stats\n",
    "stats.ttest_1samp(a=  df_master['Video_Games'], # Sample of Video Games Sale \n",
    "                  popmean = Video_Games_sale_for_Store_C)  # means of Video Games Sale Store C"
   ]
  },
  {
   "cell_type": "markdown",
   "metadata": {},
   "source": [
    "#### 3.5.1.3 T-Test Results - Store A - Selected Gift Items\n",
    "| Items    | t-test statistic    | pvalue    |  \n",
    "| ------   | :---------------:   | ------:   |\n",
    "| Jewelry Sales  | -55.88   |0.0     |  \n",
    "| Cell Phone Sales  | -105.42   | 0.0  |    \n",
    "| Floral Sales  | -12.26   | 2.89e-34  |    \n",
    "| Clearance Clothings Sales  | -94.81   | 0.0   |    \n",
    "| Video Games Sales  |   -66.56  |  0.0   |   "
   ]
  },
  {
   "cell_type": "code",
   "execution_count": 86,
   "metadata": {
    "collapsed": false
   },
   "outputs": [
    {
     "name": "stdout",
     "output_type": "stream",
     "text": [
      "The t-distribution left quartile range is: -1.96402740931\n",
      "The t-distribution right quartile range is: 1.96402740931\n"
     ]
    }
   ],
   "source": [
    "degree_freedom = len(df_master[df_master['IsHoliday']==1])\n",
    "\n",
    "LQ = stats.t.ppf(0.025,degree_freedom)  # Left Quartile\n",
    "\n",
    "RQ = stats.t.ppf(0.975,degree_freedom)  # Right Quartile\n",
    "\n",
    "print ('The t-distribution left quartile range is: ' + str(LQ))\n",
    "print ('The t-distribution right quartile range is: ' + str(RQ))"
   ]
  },
  {
   "cell_type": "markdown",
   "metadata": {},
   "source": [
    "#### 3.5.3.4 T-Test Summary - Store C - Selected Gift Items\n",
    "For all the selected gift items we will reject the null hypothesis that there is no significant difference in their means with respect to Store C sales and those of the general population because the t-test scores are outside the quantiles and P-values are lower than confidence level of 5%"
   ]
  },
  {
   "cell_type": "markdown",
   "metadata": {},
   "source": [
    "## 3.6 Test Hypothesis that the difference in Store Size for each Store Type is statistically significant¶\n",
    "\n",
    "Hypothesis Testing: Is there significant difference in the means of the store zizes for each store type and those of the general population?\n",
    "\n",
    "Null Hypothesis: (H0: pMV = pGP) The null hypothesis would be that there is no difference in the Markdowns in Store A from the general population.\n",
    "\n",
    "Alternate Hypothesis: (HA: pMV != pGP) The alternative hypothesis would be that there is a difference.\n",
    "\n",
    "### 3.6.1 Mean Estimation - Store Sizes w.r.t Store Type¶\n",
    "Let us estimate the means of the store sizes with respect to store type and the means for the entire population"
   ]
  },
  {
   "cell_type": "code",
   "execution_count": 87,
   "metadata": {
    "collapsed": false
   },
   "outputs": [
    {
     "name": "stdout",
     "output_type": "stream",
     "text": [
      "The mean of store size for Store A is: 151315.0\n",
      "The mean of store size for the entire population is: 130287.6\n",
      "The mean of store size for Store B is: 202307.0\n",
      "The mean of store size for the entire population is: 130287.6\n",
      "The mean of store size for Store C is: 37392.0\n",
      "The mean of store size for the entire population is: 130287.6\n"
     ]
    }
   ],
   "source": [
    "# Let's compare the means of store sizes for each store type and the means for the entire population\n",
    "Size_for_Store_A = df_master[df_master['Store']==1]['Size'].mean()\n",
    "Size_for_population = df_master['Size'].mean()\n",
    "Size_for_Store_B = df_master[df_master['Store']==2]['Size'].mean()\n",
    "Size_for_population = df_master['Size'].mean()\n",
    "Size_for_Store_C = df_master[df_master['Store']==3]['Size'].mean()\n",
    "Size_for_population = df_master['Size'].mean()\n",
    "\n",
    "print('The mean of store size for Store A is: ' + str(Size_for_Store_A))\n",
    "print('The mean of store size for the entire population is: ' + str(Size_for_population))\n",
    "print('The mean of store size for Store B is: ' + str(Size_for_Store_B))\n",
    "print('The mean of store size for the entire population is: ' + str(Size_for_population))\n",
    "print('The mean of store size for Store C is: ' + str(Size_for_Store_C))\n",
    "print('The mean of store size for the entire population is: ' + str(Size_for_population))"
   ]
  },
  {
   "cell_type": "markdown",
   "metadata": {},
   "source": [
    "### 3.6.2 T-Test - Store Sizes w.r.t Store Type\n",
    "Let's conduct a t-test at 95% confidence level and see if it correctly rejects the null hypothesis that the sample does not come from the same distribution as the store population. To conduct a one sample t-test, we can use the stats.ttest_1samp() function:"
   ]
  },
  {
   "cell_type": "code",
   "execution_count": 88,
   "metadata": {
    "collapsed": false
   },
   "outputs": [
    {
     "name": "stdout",
     "output_type": "stream",
     "text": [
      "The t-test statistsic and p value for Store A are: Ttest_1sampResult(statistic=-30.150065242291078, pvalue=1.8177534113729897e-189)\n",
      "The t-test statistsic and p value for Store B are: Ttest_1sampResult(statistic=-103.26476923969004, pvalue=0.0)\n",
      "The t-test statistsic and p value for Store C are: Ttest_1sampResult(statistic=133.19803688148681, pvalue=0.0)\n"
     ]
    }
   ],
   "source": [
    "# Store Sizes w.r.t Store Type\n",
    "import scipy.stats as stats\n",
    "Statistic_storeA = stats.ttest_1samp(a= df_master['Size'], # Sample of population size \n",
    "                  popmean = Size_for_Store_A)  # means of size for Store A\n",
    "Statistic_storeB = stats.ttest_1samp(a= df_master['Size'], # Sample of population size \n",
    "                  popmean = Size_for_Store_B)  # means of size for Store B\n",
    "Statistic_storeC = stats.ttest_1samp(a= df_master['Size'], # Sample of population size \n",
    "                  popmean = Size_for_Store_C)  # means of size for Store C\n",
    "print('The t-test statistsic and p value for Store A are: ' + str(Statistic_storeA))\n",
    "print('The t-test statistsic and p value for Store B are: ' + str(Statistic_storeB))\n",
    "print('The t-test statistsic and p value for Store C are: ' + str(Statistic_storeC))"
   ]
  },
  {
   "cell_type": "markdown",
   "metadata": {},
   "source": [
    "### 3.6.3 T-Test Results - Store Sizes w.r.t Store Type\n",
    "| Items    | t-test statistic    | pvalue    |  \n",
    "| ------   | :---------------:   | ------:   |\n",
    "| Store A Size  | -30.15   | 1.82e-189     |  \n",
    "| Store B Size  | -103.26   | 0.0  |    \n",
    "| Store C Size | 133.198  | 0.0  |    \n"
   ]
  },
  {
   "cell_type": "code",
   "execution_count": 89,
   "metadata": {
    "collapsed": false
   },
   "outputs": [
    {
     "name": "stdout",
     "output_type": "stream",
     "text": [
      "The t-distribution left quartile range is: -1.96402740931\n",
      "The t-distribution right quartile range is: 1.96402740931\n"
     ]
    }
   ],
   "source": [
    "degree_freedom = len(df_master[df_master['IsHoliday']==1])\n",
    "\n",
    "LQ = stats.t.ppf(0.025,degree_freedom)  # Left Quartile\n",
    "\n",
    "RQ = stats.t.ppf(0.975,degree_freedom)  # Right Quartile\n",
    "\n",
    "print ('The t-distribution left quartile range is: ' + str(LQ))\n",
    "print ('The t-distribution right quartile range is: ' + str(RQ))"
   ]
  },
  {
   "cell_type": "markdown",
   "metadata": {},
   "source": [
    "### 3.6.4 T-Test Summary - Store Sizes w.r.t Store Type\n",
    "We will reject the null hypothesis that there is no significant difference in the means of the store sizes with respect to Store Type and those of the general population because the t-test scores are outside the quantiles and P-values are lower than confidence level of 5%"
   ]
  },
  {
   "cell_type": "markdown",
   "metadata": {},
   "source": [
    "## 3.7 Test Hypothesis that Store size has impact on Sales of Gift Items\n",
    "\n",
    "Based on the means of sizes calculated in section 3.6.1 we can cartegorize the store sizes into 3:\n",
    "* Small - <= 37392.0\n",
    "* Medium - >37392.0 and <=130287.6\n",
    "* Large - > 130287.6\n",
    "\n",
    "We will now test the hypothesis that the store size does not have any impact on the sales of selected gift items.\n",
    "\n",
    "### 3.7.1 Impact of size on sales of Selected Gift Items\n",
    "Hypothesis Testing: Is there significant difference in the means of the sales of selected gift items wrt size and those of the general population?\n",
    "\n",
    "Null Hypothesis: (H0: pMV = pGP) The null hypothesis would be that there is no difference.\n",
    "\n",
    "Alternate Hypothesis: (HA: pMV != pGP) The alternative hypothesis would be that there is a difference.\n",
    "\n",
    "### 3.7.2 Mean Estimation - Size (Sales of Selected Gift Items)\n",
    "Let us estimate the means of sales of selected gift items with respect to size and the means for the entire population\n",
    "    "
   ]
  },
  {
   "cell_type": "code",
   "execution_count": 90,
   "metadata": {
    "collapsed": false
   },
   "outputs": [],
   "source": [
    "import pandas as pd\n",
    "\n",
    "def Size (c):\n",
    "    if c['Size'] <= 37392.0:\n",
    "        return 1\n",
    "    elif c['Size'] > 37392.0 & c['Size'] <= 130287.6:\n",
    "        return 2\n",
    "    elif c['Size'] > 130287.6:\n",
    "        return 3\n",
    "    else:\n",
    "        return 0"
   ]
  },
  {
   "cell_type": "code",
   "execution_count": 91,
   "metadata": {
    "collapsed": false
   },
   "outputs": [
    {
     "name": "stdout",
     "output_type": "stream",
     "text": [
      "SMALL SIZE STORE MEAN\n",
      "The mean of Jewelry sale for small sized store is: 23217.55057692306\n",
      "The mean of Jewelry sale for the entire population is: 18548.270426130683\n",
      "The mean of Cell Phones sale for small sized storeB is: 33792.770219780235\n",
      "The mean of Cell Phones sale for the entire population is: 25469.003758239905\n",
      "The mean of Floral sale for small sized store is: 12242.874450549445\n",
      "The mean of Floral sale for the entire population is: 10297.530998779794\n",
      "The mean of Clearance Clothings sale for small sized store is: 9923.779368131867\n",
      "The mean of Clearance Clothings sale for the entire population is: 7607.392772894041\n",
      "The mean of Video Games sale for small sized store is: 36324.51060439562\n",
      "The mean of Video Games sale for the entire population is: 24108.858239316476\n",
      "MEDIUM SIZE STORE MEAN\n",
      "The mean of Jewelry sale for medium sized store is: 18041.006688311838\n",
      "The mean of Jewelry sale for the entire population is: 18548.270426130683\n",
      "The mean of Cell Phones sale for medium  sized storeB is: 24072.31620629569\n",
      "The mean of Cell Phones sale for the entire population is: 25469.003758239905\n",
      "The mean of Floral sale for medium  sized store is: 10175.52004745205\n",
      "The mean of Floral sale for the entire population is: 10297.530998779794\n",
      "The mean of Clearance Clothings sale for medium  sized store is: 7941.236418581762\n",
      "The mean of Clearance Clothings sale for the entire population is: 7607.392772894041\n",
      "The mean of Video Games sale for medium sized store is: 18397.11705544493\n",
      "The mean of Video Games sale for the entire population is: 24108.858239316476\n",
      "LARGE SIZE STORE MEAN\n",
      "The mean of Jewelry sale for large sized store is: 18634.99623233938\n",
      "The mean of Jewelry sale for the entire population is: 18548.270426130683\n",
      "The mean of Cell Phones sale for large  sized storeB is: 26139.460578232258\n",
      "The mean of Cell Phones sale for the entire population is: 25469.003758239905\n",
      "The mean of Floral sale for large sized store is: 10240.081190475741\n",
      "The mean of Floral sale for the entire population is: 10297.530998779794\n",
      "The mean of Clearance Clothings sale for large sized store is: 7037.043563579456\n",
      "The mean of Clearance Clothings sale for the entire population is: 7607.392772894041\n",
      "The mean of Video Games sale for large sized store is: 28929.191635269683\n",
      "The mean of Video Games sale for the entire population is: 24108.858239316476\n"
     ]
    }
   ],
   "source": [
    "# Let's compare the means of sales of selected gift items for different size cartegories and the means for the entire population\n",
    "Jewelry_sale_for_small_sized_store = df_master[df_master['Size']<= 37392.0]['Jewelry'].mean()\n",
    "Jewelry_sale_for_population = df_master['Jewelry'].mean()\n",
    "Cell_Phones_sale_for_small_sized_store = df_master[df_master['Size']<= 37392.0]['Cell_Phones'].mean()\n",
    "Cell_Phones_sale_for_population = df_master['Cell_Phones'].mean()\n",
    "Floral_sale_for_small_sized_store = df_master[df_master['Size']<= 37392.0]['Floral'].mean()\n",
    "Floral_sale_for_population = df_master['Floral'].mean()\n",
    "Clearance_Clothings_sale_for_small_sized_store = df_master[df_master['Size']<= 37392.0]['Clearance_Clothings'].mean()\n",
    "Clearance_Clothings_sale_for_population = df_master['Clearance_Clothings'].mean()\n",
    "Video_Games_sale_for_small_sized_store = df_master[df_master['Size']<= 37392.0]['Video_Games'].mean()\n",
    "Video_Games_sale_for_population = df_master['Video_Games'].mean()\n",
    "\n",
    "\n",
    "Jewelry_sale_for_medium_sized_store = df_master[(df_master['Size'] >37392.0)  & (df_master['Size']<=130287.6)]['Jewelry'].mean()\n",
    "Jewelry_sale_for_population = df_master['Jewelry'].mean()\n",
    "Cell_Phones_sale_for_medium_sized_store = df_master[(df_master['Size'] >37392.0)  & (df_master['Size']<=130287.6)]['Cell_Phones'].mean()\n",
    "Cell_Phones_sale_for_population = df_master['Cell_Phones'].mean()\n",
    "Floral_sale_for_medium_sized_store = df_master[(df_master['Size'] >37392.0)  & (df_master['Size']<=130287.6)]['Floral'].mean()\n",
    "Floral_sale_for_population = df_master['Floral'].mean()\n",
    "Clearance_Clothings_sale_for_medium_sized_store = df_master[(df_master['Size'] >37392.0)  & (df_master['Size']<=130287.6)]['Clearance_Clothings'].mean()\n",
    "Clearance_Clothings_sale_for_population = df_master['Clearance_Clothings'].mean()\n",
    "Video_Games_sale_for_medium_sized_store = df_master[(df_master['Size'] >37392.0)  & (df_master['Size']<=130287.6)]['Video_Games'].mean()\n",
    "Video_Games_sale_for_population = df_master['Video_Games'].mean()\n",
    "\n",
    "Jewelry_sale_for_large_sized_store = df_master[df_master['Size']>130287.6]['Jewelry'].mean()\n",
    "Jewelry_sale_for_population = df_master['Jewelry'].mean()\n",
    "Cell_Phones_sale_for_large_sized_store = df_master[df_master['Size']>130287.6]['Cell_Phones'].mean()\n",
    "Cell_Phones_sale_for_population = df_master['Cell_Phones'].mean()\n",
    "Floral_sale_for_large_sized_store = df_master[df_master['Size']>130287.6]['Floral'].mean()\n",
    "Floral_sale_for_population = df_master['Floral'].mean()\n",
    "Clearance_Clothings_sale_for_large_sized_store = df_master[df_master['Size']>130287.6]['Clearance_Clothings'].mean()\n",
    "Clearance_Clothings_sale_for_population = df_master['Clearance_Clothings'].mean()\n",
    "Video_Games_sale_for_large_sized_store = df_master[df_master['Size']>130287.6]['Video_Games'].mean()\n",
    "Video_Games_sale_for_population = df_master['Video_Games'].mean()\n",
    "\n",
    "print('SMALL SIZE STORE MEAN')\n",
    "print('The mean of Jewelry sale for small sized store is: ' + str(Jewelry_sale_for_small_sized_store))\n",
    "print('The mean of Jewelry sale for the entire population is: ' + str(Jewelry_sale_for_population))\n",
    "print('The mean of Cell Phones sale for small sized storeB is: ' + str(Cell_Phones_sale_for_small_sized_store))\n",
    "print('The mean of Cell Phones sale for the entire population is: ' + str(Cell_Phones_sale_for_population))\n",
    "print('The mean of Floral sale for small sized store is: ' + str(Floral_sale_for_small_sized_store))\n",
    "print('The mean of Floral sale for the entire population is: ' + str(Floral_sale_for_population))\n",
    "print('The mean of Clearance Clothings sale for small sized store is: ' + str(Clearance_Clothings_sale_for_small_sized_store))\n",
    "print('The mean of Clearance Clothings sale for the entire population is: ' + str(Clearance_Clothings_sale_for_population))\n",
    "print('The mean of Video Games sale for small sized store is: ' + str(Video_Games_sale_for_small_sized_store))\n",
    "print('The mean of Video Games sale for the entire population is: ' + str(Video_Games_sale_for_population))\n",
    "\n",
    "print('MEDIUM SIZE STORE MEAN')\n",
    "print('The mean of Jewelry sale for medium sized store is: ' + str(Jewelry_sale_for_medium_sized_store))\n",
    "print('The mean of Jewelry sale for the entire population is: ' + str(Jewelry_sale_for_population))\n",
    "print('The mean of Cell Phones sale for medium  sized storeB is: ' + str(Cell_Phones_sale_for_medium_sized_store))\n",
    "print('The mean of Cell Phones sale for the entire population is: ' + str(Cell_Phones_sale_for_population))\n",
    "print('The mean of Floral sale for medium  sized store is: ' + str(Floral_sale_for_medium_sized_store))\n",
    "print('The mean of Floral sale for the entire population is: ' + str(Floral_sale_for_population))\n",
    "print('The mean of Clearance Clothings sale for medium  sized store is: ' + str(Clearance_Clothings_sale_for_medium_sized_store))\n",
    "print('The mean of Clearance Clothings sale for the entire population is: ' + str(Clearance_Clothings_sale_for_population))\n",
    "print('The mean of Video Games sale for medium sized store is: ' + str(Video_Games_sale_for_medium_sized_store))\n",
    "print('The mean of Video Games sale for the entire population is: ' + str(Video_Games_sale_for_population))\n",
    "\n",
    "print('LARGE SIZE STORE MEAN')\n",
    "print('The mean of Jewelry sale for large sized store is: ' + str(Jewelry_sale_for_large_sized_store))\n",
    "print('The mean of Jewelry sale for the entire population is: ' + str(Jewelry_sale_for_population))\n",
    "print('The mean of Cell Phones sale for large  sized storeB is: ' + str(Cell_Phones_sale_for_large_sized_store))\n",
    "print('The mean of Cell Phones sale for the entire population is: ' + str(Cell_Phones_sale_for_population))\n",
    "print('The mean of Floral sale for large sized store is: ' + str(Floral_sale_for_large_sized_store))\n",
    "print('The mean of Floral sale for the entire population is: ' + str(Floral_sale_for_population))\n",
    "print('The mean of Clearance Clothings sale for large sized store is: ' + str(Clearance_Clothings_sale_for_large_sized_store))\n",
    "print('The mean of Clearance Clothings sale for the entire population is: ' + str(Clearance_Clothings_sale_for_population))\n",
    "print('The mean of Video Games sale for large sized store is: ' + str(Video_Games_sale_for_large_sized_store))\n",
    "print('The mean of Video Games sale for the entire population is: ' + str(Video_Games_sale_for_population))"
   ]
  },
  {
   "cell_type": "markdown",
   "metadata": {},
   "source": [
    "### 3.7.3 T-Test - Size (Sales of Selected Gift Items)\n",
    "Let's conduct a t-test at 95% confidence level and see if it correctly rejects the null hypothesis that the sample does not come from the same distribution as the store population. To conduct a one sample t-test, we can use the stats.ttest_1samp() function:"
   ]
  },
  {
   "cell_type": "code",
   "execution_count": 92,
   "metadata": {
    "collapsed": false
   },
   "outputs": [
    {
     "name": "stdout",
     "output_type": "stream",
     "text": [
      "SMALL SIZE STORE TEST STATISTIC\n",
      "The t-test statistsic and p value for Jewelry Sales Small Sized Store are: Ttest_1sampResult(statistic=153.52202248500055, pvalue=0.0)\n",
      "The t-test statistsic and p value for Cell Phones Sales Small Sized Store are: Ttest_1sampResult(statistic=138.3587801353186, pvalue=0.0)\n",
      "The t-test statistsic and p value for Floral Sales Small Sized Store are: Ttest_1sampResult(statistic=169.25802414108639, pvalue=0.0)\n",
      "The t-test statistsic and p value for Clearance Clothing Sales Small Sized Store are: Ttest_1sampResult(statistic=172.58325065686893, pvalue=0.0)\n",
      "The t-test statistsic and p value for Video Games Sales Small Sized Store are: Ttest_1sampResult(statistic=134.72865288360433, pvalue=0.0)\n",
      "MEDIUM SIZE STORE TEST STATISTIC\n",
      "The t-test statistsic and p value for Jewelry Sales Medium Sized Store are: Ttest_1sampResult(statistic=160.94439215368101, pvalue=0.0)\n",
      "The t-test statistsic and p value for Cell Phones Sales Medium Sized Store are: Ttest_1sampResult(statistic=152.29641972420023, pvalue=0.0)\n",
      "The t-test statistsic and p value for Floral Sales Small Medium Store are: Ttest_1sampResult(statistic=172.22229314877748, pvalue=0.0)\n",
      "The t-test statistsic and p value for Clearance Clothing Sales Medium Sized Store are: Ttest_1sampResult(statistic=175.42591305329361, pvalue=0.0)\n",
      "The t-test statistsic and p value for Video Games Sales Medium Sized Store are: Ttest_1sampResult(statistic=160.43378452732117, pvalue=0.0)\n",
      "LARGE SIZE STORE TEST STATISTIC\n",
      "The t-test statistsic and p value for Jewelry Sales Large Sized Store are: Ttest_1sampResult(statistic=160.09270228685634, pvalue=0.0)\n",
      "The t-test statistsic and p value for Cell Phones Sales Large Sized Store are: Ttest_1sampResult(statistic=149.33245186896741, pvalue=0.0)\n",
      "The t-test statistsic and p value for Floral Sales Small Large Store are: Ttest_1sampResult(statistic=172.12972237567757, pvalue=0.0)\n",
      "The t-test statistsic and p value for Clearance Clothing Sales Large Sized Store are: Ttest_1sampResult(statistic=176.72238687173683, pvalue=0.0)\n",
      "The t-test statistsic and p value for Video Games Sales Large Sized Store are: Ttest_1sampResult(statistic=145.33240557802682, pvalue=0.0)\n"
     ]
    }
   ],
   "source": [
    "# Store Sizes w.r.t Sales of selected gift items\n",
    "import scipy.stats as stats\n",
    "Statistic_Jewelry_Small_Size_Store = stats.ttest_1samp(a= df_master['Size'], # Sample of population size \n",
    "                  popmean = Jewelry_sale_for_small_sized_store)  # means of size for Jewelry Sales in small size Store \n",
    "Statistic_Cell_Phone_Small_Size_Store = stats.ttest_1samp(a= df_master['Size'], # Sample of population size \n",
    "                  popmean = Cell_Phones_sale_for_small_sized_store)  # means of size for Cell Phone Sales in small size Store \n",
    "Statistic_Floral_Small_Size_Store = stats.ttest_1samp(a= df_master['Size'], # Sample of population size \n",
    "                  popmean = Floral_sale_for_small_sized_store)  # means of size for Floral Sales in small size Store \n",
    "Statistic_Clearance_Clothing_Small_Size_Store = stats.ttest_1samp(a= df_master['Size'], # Sample of population size \n",
    "                  popmean = Clearance_Clothings_sale_for_small_sized_store)  # means of size for Clearance clothing Sales in small size Store\n",
    "Statistic_Video_games_Small_Size_Store = stats.ttest_1samp(a= df_master['Size'], # Sample of population size \n",
    "                  popmean = Video_Games_sale_for_small_sized_store)  # means of size for Video Games Sales in small size Store \n",
    "\n",
    "Statistic_Jewelry_Medium_Size_Store = stats.ttest_1samp(a= df_master['Size'], # Sample of population size \n",
    "                  popmean = Jewelry_sale_for_medium_sized_store)  # means of size for Jewelry Sales in medium size Store \n",
    "Statistic_Cell_Phone_Medium_Size_Store = stats.ttest_1samp(a= df_master['Size'], # Sample of population size \n",
    "                  popmean = Cell_Phones_sale_for_medium_sized_store)  # means of size for Cell Phone Sales in medium size Store \n",
    "Statistic_Floral_Medium_Size_Store = stats.ttest_1samp(a= df_master['Size'], # Sample of population size \n",
    "                  popmean = Floral_sale_for_medium_sized_store)  # means of size for Floral Sales in medium size Store \n",
    "Statistic_Clearance_Clothing_Medium_Size_Store = stats.ttest_1samp(a= df_master['Size'], # Sample of population size \n",
    "                  popmean = Clearance_Clothings_sale_for_medium_sized_store)  # means of size for Clearance clothing Sales in medium size Store\n",
    "Statistic_Video_games_Medium_Size_Store = stats.ttest_1samp(a= df_master['Size'], # Sample of population size \n",
    "                  popmean = Video_Games_sale_for_medium_sized_store)  # means of size for Video Games Sales in medium size Store\n",
    "\n",
    "Statistic_Jewelry_Large_Size_Store = stats.ttest_1samp(a= df_master['Size'], # Sample of population size \n",
    "                  popmean = Jewelry_sale_for_large_sized_store)  # means of size for Jewelry Sales in large size Store \n",
    "Statistic_Cell_Phone_Large_Size_Store = stats.ttest_1samp(a= df_master['Size'], # Sample of population size \n",
    "                  popmean = Cell_Phones_sale_for_large_sized_store)  # means of size for Cell Phone Sales in large size Store \n",
    "Statistic_Floral_Large_Size_Store = stats.ttest_1samp(a= df_master['Size'], # Sample of population size \n",
    "                  popmean = Floral_sale_for_large_sized_store)  # means of size for Floral Sales in large size Store \n",
    "Statistic_Clearance_Clothing_Large_Size_Store = stats.ttest_1samp(a= df_master['Size'], # Sample of population size \n",
    "                  popmean = Clearance_Clothings_sale_for_large_sized_store)  # means of size for Clearance clothing Sales in large size Store\n",
    "Statistic_Video_games_Large_Size_Store = stats.ttest_1samp(a= df_master['Size'], # Sample of population size \n",
    "                  popmean = Video_Games_sale_for_large_sized_store)  # means of size for Video Games Sales in large size Store \n",
    "\n",
    "print('SMALL SIZE STORE TEST STATISTIC')\n",
    "print('The t-test statistsic and p value for Jewelry Sales Small Sized Store are: ' + str(Statistic_Jewelry_Small_Size_Store))\n",
    "print('The t-test statistsic and p value for Cell Phones Sales Small Sized Store are: ' + str(Statistic_Cell_Phone_Small_Size_Store))\n",
    "print('The t-test statistsic and p value for Floral Sales Small Sized Store are: ' + str(Statistic_Floral_Small_Size_Store))\n",
    "print('The t-test statistsic and p value for Clearance Clothing Sales Small Sized Store are: ' + str(Statistic_Clearance_Clothing_Small_Size_Store))\n",
    "print('The t-test statistsic and p value for Video Games Sales Small Sized Store are: ' + str(Statistic_Video_games_Small_Size_Store))\n",
    "\n",
    "print('MEDIUM SIZE STORE TEST STATISTIC')\n",
    "print('The t-test statistsic and p value for Jewelry Sales Medium Sized Store are: ' + str(Statistic_Jewelry_Medium_Size_Store))\n",
    "print('The t-test statistsic and p value for Cell Phones Sales Medium Sized Store are: ' + str(Statistic_Cell_Phone_Medium_Size_Store))\n",
    "print('The t-test statistsic and p value for Floral Sales Small Medium Store are: ' + str(Statistic_Floral_Medium_Size_Store))\n",
    "print('The t-test statistsic and p value for Clearance Clothing Sales Medium Sized Store are: ' + str(Statistic_Clearance_Clothing_Medium_Size_Store))\n",
    "print('The t-test statistsic and p value for Video Games Sales Medium Sized Store are: ' + str(Statistic_Video_games_Medium_Size_Store))\n",
    "\n",
    "print('LARGE SIZE STORE TEST STATISTIC')\n",
    "print('The t-test statistsic and p value for Jewelry Sales Large Sized Store are: ' + str(Statistic_Jewelry_Large_Size_Store))\n",
    "print('The t-test statistsic and p value for Cell Phones Sales Large Sized Store are: ' + str(Statistic_Cell_Phone_Large_Size_Store))\n",
    "print('The t-test statistsic and p value for Floral Sales Small Large Store are: ' + str(Statistic_Floral_Large_Size_Store))\n",
    "print('The t-test statistsic and p value for Clearance Clothing Sales Large Sized Store are: ' + str(Statistic_Clearance_Clothing_Large_Size_Store))\n",
    "print('The t-test statistsic and p value for Video Games Sales Large Sized Store are: ' + str(Statistic_Video_games_Large_Size_Store))"
   ]
  },
  {
   "cell_type": "markdown",
   "metadata": {},
   "source": [
    "## 3.8 Difference in MarkDown for different sizes\n",
    "\n",
    "### 3.8.1 Mean Estimation - MarkDowns w.r.t Store Size"
   ]
  },
  {
   "cell_type": "code",
   "execution_count": 93,
   "metadata": {
    "collapsed": false
   },
   "outputs": [
    {
     "name": "stdout",
     "output_type": "stream",
     "text": [
      "MARKDOWN 1 MEAN\n",
      "The mean of MarkDown1 for small sized store is: 4518.781813186804\n",
      "The mean of MarkDown1 for medium sized store is: 6027.216341158869\n",
      "The mean of MarkDown1 for large sized store is: 12300.308464154952\n",
      "The mean of MarkDown1 for population is: 8887.617797313967\n"
     ]
    }
   ],
   "source": [
    "# Let's compare the means of MarkDown 1 w.r.t Store Size\n",
    "MarkDown1_for_small_sized_store = df_master[df_master['Size']<= 37392.0]['MarkDown1'].mean()\n",
    "MarkDown1_for_medium_sized_store = df_master[(df_master['Size'] >37392.0) & (df_master['Size']<=130287.6)]['MarkDown1'].mean()\n",
    "MarkDown1_for_large_sized_store = df_master[df_master['Size']>130287.6]['MarkDown1'].mean()\n",
    "MarkDown1_for_population = df_master['MarkDown1'].mean()\n",
    "\n",
    "print('MARKDOWN 1 MEAN')\n",
    "print('The mean of MarkDown1 for small sized store is: ' + str(MarkDown1_for_small_sized_store))\n",
    "print('The mean of MarkDown1 for medium sized store is: ' + str(MarkDown1_for_medium_sized_store))\n",
    "print('The mean of MarkDown1 for large sized store is: ' + str(MarkDown1_for_large_sized_store))\n",
    "print('The mean of MarkDown1 for population is: ' + str(MarkDown1_for_population))"
   ]
  },
  {
   "cell_type": "code",
   "execution_count": 94,
   "metadata": {
    "collapsed": false
   },
   "outputs": [
    {
     "name": "stdout",
     "output_type": "stream",
     "text": [
      "MARKDOWN2 MEAN\n",
      "The mean of MarkDown2 for small sized store is: 1776.0314285714303\n",
      "The mean of MarkDown2 for medium sized store is: 3887.289722777181\n",
      "The mean of MarkDown2 for large sized store is: 8845.364644165227\n",
      "The mean of MarkDown2 for population is: 6107.224317460187\n"
     ]
    }
   ],
   "source": [
    "# Let's compare the means of MarkDown 2 w.r.t Store Size\n",
    "MarkDown2_for_small_sized_store = df_master[df_master['Size']<= 37392.0]['MarkDown2'].mean()\n",
    "MarkDown2_for_medium_sized_store = df_master[(df_master['Size'] >37392.0) & (df_master['Size']<=130287.6)]['MarkDown2'].mean()\n",
    "MarkDown2_for_large_sized_store = df_master[df_master['Size']>130287.6]['MarkDown2'].mean()\n",
    "MarkDown2_for_population = df_master['MarkDown2'].mean()\n",
    "\n",
    "print('MARKDOWN2 MEAN')\n",
    "print('The mean of MarkDown2 for small sized store is: ' + str(MarkDown2_for_small_sized_store))\n",
    "print('The mean of MarkDown2 for medium sized store is: ' + str(MarkDown2_for_medium_sized_store))\n",
    "print('The mean of MarkDown2 for large sized store is: ' + str(MarkDown2_for_large_sized_store))\n",
    "print('The mean of MarkDown2 for population is: ' + str(MarkDown2_for_population))"
   ]
  },
  {
   "cell_type": "code",
   "execution_count": 95,
   "metadata": {
    "collapsed": false
   },
   "outputs": [
    {
     "name": "stdout",
     "output_type": "stream",
     "text": [
      "MARKDOWN3 MEAN\n",
      "The mean of MarkDown3 for small sized store is: 559.6821978021975\n",
      "The mean of MarkDown3 for medium sized store is: 703.2078946054048\n",
      "The mean of MarkDown3 for large sized store is: 1200.2569911041387\n",
      "The mean of MarkDown3 for population is: 928.7852197802101\n"
     ]
    }
   ],
   "source": [
    "# Let's compare the means of MarkDown 2 w.r.t Store Size\n",
    "MarkDown3_for_small_sized_store = df_master[df_master['Size']<= 37392.0]['MarkDown3'].mean()\n",
    "MarkDown3_for_medium_sized_store = df_master[(df_master['Size'] >37392.0) & (df_master['Size']<=130287.6)]['MarkDown3'].mean()\n",
    "MarkDown3_for_large_sized_store = df_master[df_master['Size']>130287.6]['MarkDown3'].mean()\n",
    "MarkDown3_for_population = df_master['MarkDown3'].mean()\n",
    "\n",
    "print('MARKDOWN3 MEAN')\n",
    "print('The mean of MarkDown3 for small sized store is: ' + str(MarkDown3_for_small_sized_store))\n",
    "print('The mean of MarkDown3 for medium sized store is: ' + str(MarkDown3_for_medium_sized_store))\n",
    "print('The mean of MarkDown3 for large sized store is: ' + str(MarkDown3_for_large_sized_store))\n",
    "print('The mean of MarkDown3 for population is: ' + str(MarkDown3_for_population))"
   ]
  },
  {
   "cell_type": "code",
   "execution_count": 96,
   "metadata": {
    "collapsed": false
   },
   "outputs": [
    {
     "name": "stdout",
     "output_type": "stream",
     "text": [
      "MARKDOWN4 MEAN\n",
      "The mean of MarkDown4 for small sized store is: 776.683653846151\n",
      "The mean of MarkDown4 for medium sized store is: 2038.2756843157442\n",
      "The mean of MarkDown4 for large sized store is: 4498.214887493456\n",
      "The mean of MarkDown4 for population is: 3130.1765555554607\n"
     ]
    }
   ],
   "source": [
    "# Let's compare the means of MarkDown 2 w.r.t Store Size\n",
    "MarkDown4_for_small_sized_store = df_master[df_master['Size']<= 37392.0]['MarkDown4'].mean()\n",
    "MarkDown4_for_medium_sized_store = df_master[(df_master['Size'] >37392.0) & (df_master['Size']<=130287.6)]['MarkDown4'].mean()\n",
    "MarkDown4_for_large_sized_store = df_master[df_master['Size']>130287.6]['MarkDown4'].mean()\n",
    "MarkDown4_for_population = df_master['MarkDown4'].mean()\n",
    "\n",
    "print('MARKDOWN4 MEAN')\n",
    "print('The mean of MarkDown4 for small sized store is: ' + str(MarkDown4_for_small_sized_store))\n",
    "print('The mean of MarkDown4 for medium sized store is: ' + str(MarkDown4_for_medium_sized_store))\n",
    "print('The mean of MarkDown4 for large sized store is: ' + str(MarkDown4_for_large_sized_store))\n",
    "print('The mean of MarkDown4 for population is: ' + str(MarkDown4_for_population))"
   ]
  },
  {
   "cell_type": "code",
   "execution_count": 97,
   "metadata": {
    "collapsed": false
   },
   "outputs": [
    {
     "name": "stdout",
     "output_type": "stream",
     "text": [
      "MARKDOWN5 MEAN\n",
      "The mean of MarkDown5 for small sized store is: 1347.6482417582422\n",
      "The mean of MarkDown5 for medium sized store is: 3410.1435589411017\n",
      "The mean of MarkDown5 for large sized store is: 6036.331957090524\n",
      "The mean of MarkDown5 for population is: 4544.031686202577\n"
     ]
    }
   ],
   "source": [
    "# Let's compare the means of MarkDown 2 w.r.t Store Size\n",
    "MarkDown5_for_small_sized_store = df_master[df_master['Size']<= 37392.0]['MarkDown5'].mean()\n",
    "MarkDown5_for_medium_sized_store = df_master[(df_master['Size'] >37392.0) & (df_master['Size']<=130287.6)]['MarkDown5'].mean()\n",
    "MarkDown5_for_large_sized_store = df_master[df_master['Size']>130287.6]['MarkDown5'].mean()\n",
    "MarkDown5_for_population = df_master['MarkDown5'].mean()\n",
    "\n",
    "print('MARKDOWN5 MEAN')\n",
    "print('The mean of MarkDown5 for small sized store is: ' + str(MarkDown5_for_small_sized_store))\n",
    "print('The mean of MarkDown5 for medium sized store is: ' + str(MarkDown5_for_medium_sized_store))\n",
    "print('The mean of MarkDown5 for large sized store is: ' + str(MarkDown5_for_large_sized_store))\n",
    "print('The mean of MarkDown5 for population is: ' + str(MarkDown5_for_population))"
   ]
  },
  {
   "cell_type": "code",
   "execution_count": 98,
   "metadata": {
    "collapsed": false
   },
   "outputs": [
    {
     "name": "stdout",
     "output_type": "stream",
     "text": [
      "Difference between the sizes for MarkDown 5\n",
      "t-statistic is: Ttest_1sampResult(statistic=-26.845741585206824, pvalue=3.1417518221657581e-88)\n",
      "t-statistic is: Ttest_1sampResult(statistic=-61.028594997492647, pvalue=6.1015328547630221e-193)\n",
      "t-statistic is: Ttest_1sampResult(statistic=-37.236937663773894, pvalue=7.2653377698265106e-261)\n",
      "Difference between the sizes for MarkDown 5 and the entire population\n",
      "t-statistic is: Ttest_1sampResult(statistic=29.883936179255624, pvalue=2.4458007490587093e-186)\n",
      "t-statistic is: Ttest_1sampResult(statistic=10.601056168150174, pvalue=4.3467574978202645e-26)\n",
      "t-statistic is: Ttest_1sampResult(statistic=-13.951957526562992, pvalue=9.6715051517016997e-44)\n"
     ]
    }
   ],
   "source": [
    "import scipy.stats as stats\n",
    "print('Difference between the sizes for MarkDown 5')\n",
    "Statistic_MarkDown5_Small_vs_Medium_Size_Stores = stats.ttest_1samp(a= df_master[df_master['Size']<= 37392.0]['MarkDown5'], # Sample of population size \n",
    "                  popmean = MarkDown5_for_medium_sized_store)  # means of size for Jewelry Sales in small size Store \n",
    "print('t-statistic is: ' + str(Statistic_MarkDown5_Small_vs_Medium_Size_Stores))\n",
    "\n",
    "Statistic_MarkDown5_Small_vs_Large_Size_Stores = stats.ttest_1samp(a= df_master[df_master['Size']<= 37392.0]['MarkDown5'], # Sample of population size \n",
    "                  popmean = MarkDown5_for_large_sized_store)  # means of size for Jewelry Sales in small size Store \n",
    "print('t-statistic is: ' + str(Statistic_MarkDown5_Small_vs_Large_Size_Stores))\n",
    "\n",
    "Statistic_MarkDown5_Medium_vs_Large_Size_Stores = stats.ttest_1samp(a= df_master[(df_master['Size'] >37392.0) & (df_master['Size']<=130287.6)]['MarkDown5'], # Sample of population size \n",
    "                  popmean = MarkDown5_for_large_sized_store)  # means of size for Jewelry Sales in small size Store \n",
    "print('t-statistic is: ' + str(Statistic_MarkDown5_Medium_vs_Large_Size_Stores))\n",
    "\n",
    "print('Difference between the sizes for MarkDown 5 and the entire population')\n",
    "Statistic_MarkDown5_Small_vs_Entire_Population = stats.ttest_1samp(a= df_master['MarkDown5'], # Sample of population size \n",
    "                  popmean = MarkDown5_for_small_sized_store)  # means of size for Jewelry Sales in small size Store \n",
    "print('t-statistic is: ' + str(Statistic_MarkDown5_Small_vs_Entire_Population))\n",
    "\n",
    "Statistic_MarkDown5_Medium_vs_Entire_Population = stats.ttest_1samp(a= df_master['MarkDown5'], # Sample of population size \n",
    "                  popmean = MarkDown5_for_medium_sized_store)  # means of size for Jewelry Sales in small size Store \n",
    "print('t-statistic is: ' + str(Statistic_MarkDown5_Medium_vs_Entire_Population))\n",
    "\n",
    "Statistic_MarkDown5_Large_vs_Entire_Population = stats.ttest_1samp(a= df_master['MarkDown5'], # Sample of population size \n",
    "                  popmean = MarkDown5_for_large_sized_store)  # means of size for Jewelry Sales in small size Store \n",
    "print('t-statistic is: ' + str(Statistic_MarkDown5_Large_vs_Entire_Population))"
   ]
  },
  {
   "cell_type": "code",
   "execution_count": null,
   "metadata": {
    "collapsed": true
   },
   "outputs": [],
   "source": []
  }
 ],
 "metadata": {
  "kernelspec": {
   "display_name": "Python 3",
   "language": "python",
   "name": "python3"
  },
  "language_info": {
   "codemirror_mode": {
    "name": "ipython",
    "version": 3
   },
   "file_extension": ".py",
   "mimetype": "text/x-python",
   "name": "python",
   "nbconvert_exporter": "python",
   "pygments_lexer": "ipython3",
   "version": "3.6.0"
  }
 },
 "nbformat": 4,
 "nbformat_minor": 2
}
