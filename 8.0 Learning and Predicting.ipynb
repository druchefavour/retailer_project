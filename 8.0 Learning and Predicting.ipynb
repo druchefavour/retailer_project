{
 "cells": [
  {
   "cell_type": "markdown",
   "metadata": {},
   "source": [
    "### 8.0.1 Support Vector Classification\n",
    "In the case of our retail dataset, the task is to predict, Weekly Sales, which the MarkDowns represent. We have samples of each of the 5 markdowns on which we fit an estimator to be able to predict the classes to which unseen samples belong. \n",
    "\n",
    "We are going to derive an estimator for classification which is a Python object that implements the methods fit(X, y) and predict(T). The estimator we are using is the class sklearn.svm.SVC that implements support vector classification."
   ]
  },
  {
   "cell_type": "code",
   "execution_count": 1,
   "metadata": {
    "collapsed": true
   },
   "outputs": [],
   "source": [
    "from sklearn import svm"
   ]
  },
  {
   "cell_type": "code",
   "execution_count": 2,
   "metadata": {
    "collapsed": true
   },
   "outputs": [],
   "source": [
    "clf = svm.SVC(gamma=0.001, C=100.)"
   ]
  },
  {
   "cell_type": "markdown",
   "metadata": {},
   "source": [
    "#### 8.0.1.1 Choosing the parameters of the model\n",
    "The constructor of the estimator in 8.0.1 takes as arguments the parameters of the model.\n",
    "\n",
    "##### 8.0.1.1.1 Manual Setting of Gamma\n",
    "First we set the value of gamma manually. The estimator instance clf (which is a classifier) is fitted to the model, that is, we let it learn from the model."
   ]
  },
  {
   "cell_type": "code",
   "execution_count": 3,
   "metadata": {
    "collapsed": true
   },
   "outputs": [],
   "source": [
    "# libraries\n",
    "#%matplotlib notebook\n",
    "\n",
    "import pandas as pd\n",
    "import numpy as np\n",
    "\n",
    "import matplotlib\n",
    "import seaborn\n",
    "import matplotlib.dates as md\n",
    "from matplotlib import pyplot as plt\n",
    "\n",
    "from sklearn import preprocessing\n",
    "from sklearn.decomposition import PCA\n",
    "from sklearn.cluster import KMeans\n",
    "from sklearn.covariance import EllipticEnvelope\n",
    "from pyemma import msm\n",
    "from sklearn.ensemble import IsolationForest\n",
    "from sklearn.svm import OneClassSVM"
   ]
  },
  {
   "cell_type": "code",
   "execution_count": 4,
   "metadata": {
    "collapsed": true
   },
   "outputs": [],
   "source": [
    "# load the master_dataset.xls\n",
    "df = pd.read_excel('master_dataset.xlsx', sheetname='Sheet1')"
   ]
  },
  {
   "cell_type": "code",
   "execution_count": 5,
   "metadata": {
    "collapsed": false
   },
   "outputs": [
    {
     "name": "stdout",
     "output_type": "stream",
     "text": [
      "<class 'pandas.core.frame.DataFrame'>\n",
      "Int64Index: 8190 entries, 0 to 8189\n",
      "Data columns (total 95 columns):\n",
      "Store                     8190 non-null int64\n",
      "Date                      8190 non-null datetime64[ns]\n",
      "Temperature               8190 non-null float64\n",
      "Fuel_Price                8190 non-null float64\n",
      "MarkDown1                 8190 non-null float64\n",
      "MarkDown2                 8190 non-null float64\n",
      "MarkDown3                 8190 non-null float64\n",
      "MarkDown4                 8190 non-null float64\n",
      "MarkDown5                 8190 non-null float64\n",
      "CPI                       8190 non-null float64\n",
      "Unemployment              8190 non-null float64\n",
      "IsHoliday                 8190 non-null bool\n",
      "Type                      8190 non-null object\n",
      "Size                      8190 non-null int64\n",
      "Jewelry                   8190 non-null float64\n",
      "Pets                      8190 non-null float64\n",
      "TV_Video                  8190 non-null float64\n",
      "Cell_Phones               8190 non-null float64\n",
      "Pharmaceutical            8190 non-null float64\n",
      "Health_beauty             8190 non-null float64\n",
      "Toy                       8190 non-null float64\n",
      "Home_others               8190 non-null float64\n",
      "Kitchen                   8190 non-null float64\n",
      "Bedding                   8190 non-null float64\n",
      "Bathroom                  8190 non-null float64\n",
      "Office_supplies           8190 non-null float64\n",
      "School_Supplies           8190 non-null float64\n",
      "Home_Office               8190 non-null float64\n",
      "Craft_general             8190 non-null float64\n",
      "Floral                    8190 non-null float64\n",
      "Beading                   8190 non-null float64\n",
      "Paint                     8190 non-null float64\n",
      "Framing                   8190 non-null float64\n",
      "outdoor                   8190 non-null float64\n",
      "Auto                      8190 non-null float64\n",
      "School_Uniforms           8190 non-null float64\n",
      "Baby_Toddlers_Clothing    8190 non-null float64\n",
      "Baby_Kids_Shoes           8190 non-null float64\n",
      "Clearance_Clothings       8190 non-null float64\n",
      "Boys_Clothing             8190 non-null float64\n",
      "Girls_Clothing            8190 non-null float64\n",
      "Women_Clothing            8190 non-null float64\n",
      "Intimates_Sleepwears      8190 non-null float64\n",
      "Men_Clothings             8190 non-null float64\n",
      "Precious_Metals           8190 non-null float64\n",
      "Active_Wear               8190 non-null float64\n",
      "Adult_Shoes               8190 non-null float64\n",
      "Bags_Accessories          8190 non-null float64\n",
      "Sportswear                8190 non-null float64\n",
      "Computer                  8190 non-null float64\n",
      "Music                     8190 non-null float64\n",
      "Luggage                   8190 non-null float64\n",
      "Food                      8190 non-null float64\n",
      "Fruit                     8190 non-null float64\n",
      "Grocery                   8190 non-null float64\n",
      "Laundry                   8190 non-null float64\n",
      "IPad_Tablets              8190 non-null float64\n",
      "Heating_Cooling           8190 non-null float64\n",
      "Swim_Shop                 8190 non-null float64\n",
      "Gift_cards                8190 non-null float64\n",
      "Baby_Essentials           8190 non-null float64\n",
      "Cribs                     8190 non-null float64\n",
      "Car_Seats                 8190 non-null float64\n",
      "Strollers                 8190 non-null float64\n",
      "Bikes                     8190 non-null float64\n",
      "Photo                     8190 non-null float64\n",
      "Household_Essentials      8190 non-null float64\n",
      "Air_Quality               8190 non-null float64\n",
      "Light_bulbs               8190 non-null float64\n",
      "Gardening                 8190 non-null float64\n",
      "Building_Materials        8190 non-null float64\n",
      "Hardware                  8190 non-null float64\n",
      "Electrical                8190 non-null float64\n",
      "Home_Safety               8190 non-null float64\n",
      "Tools                     8190 non-null float64\n",
      "Teen_Room                 8190 non-null float64\n",
      "Kids_Room                 8190 non-null float64\n",
      "Lighting                  8190 non-null float64\n",
      "Home_Decor                8190 non-null float64\n",
      "Mattresses                8190 non-null float64\n",
      "Furniture                 8190 non-null float64\n",
      "Storage                   8190 non-null float64\n",
      "Appliances                8190 non-null float64\n",
      "Pioneer_Woman             8190 non-null float64\n",
      "Computer_Software         8190 non-null float64\n",
      "Books                     8190 non-null float64\n",
      "Musical_Instruments       8190 non-null float64\n",
      "Star_Wars                 8190 non-null float64\n",
      "Movies_TV                 8190 non-null float64\n",
      "Video_Games               8190 non-null float64\n",
      "Portable_Audios           8190 non-null float64\n",
      "Cameras_Camcoders         8190 non-null float64\n",
      "Auto_Electronics          8190 non-null float64\n",
      "Wearable_Tech             8190 non-null float64\n",
      "Smart_homes               8190 non-null float64\n",
      "dtypes: bool(1), datetime64[ns](1), float64(90), int64(2), object(1)\n",
      "memory usage: 5.9+ MB\n",
      "None\n"
     ]
    }
   ],
   "source": [
    "print(df.info())"
   ]
  },
  {
   "cell_type": "markdown",
   "metadata": {},
   "source": [
    "#### MarkDown 1 Prediction\n",
    "Here we predict the behavior of MarkDown 1 using the sales of other materials and other parameters."
   ]
  },
  {
   "cell_type": "code",
   "execution_count": 6,
   "metadata": {
    "collapsed": false
   },
   "outputs": [],
   "source": [
    "# Use MarkDown1 sales as a target for prediction. \n",
    "df_MarkDown1 = df['MarkDown1']"
   ]
  },
  {
   "cell_type": "markdown",
   "metadata": {},
   "source": [
    "Split Markdown1 into Low-Low Sales represented by the number 0, Low Sales represented by the number 1,  Average Sales represented by the number 2, Above Average Sales represented by the number 3 and High Sales represented by the number 4 / LLS, LS, AS, AAS, HS"
   ]
  },
  {
   "cell_type": "code",
   "execution_count": 7,
   "metadata": {
    "collapsed": true
   },
   "outputs": [],
   "source": [
    "def MarkDown1_Split(x):\n",
    "    if x < 4444:\n",
    "        return 0\n",
    "    elif 4444< x < 8888:\n",
    "        return 1\n",
    "    elif 8888< x < 13332:\n",
    "        return 2\n",
    "    elif 13332 < x < 17776:\n",
    "        return 3\n",
    "    else: return 4"
   ]
  },
  {
   "cell_type": "code",
   "execution_count": 8,
   "metadata": {
    "collapsed": false
   },
   "outputs": [
    {
     "name": "stderr",
     "output_type": "stream",
     "text": [
      "C:\\Users\\Angus\\Anaconda3\\lib\\site-packages\\ipykernel\\__main__.py:2: SettingWithCopyWarning: \n",
      "A value is trying to be set on a copy of a slice from a DataFrame\n",
      "\n",
      "See the caveats in the documentation: http://pandas.pydata.org/pandas-docs/stable/indexing.html#indexing-view-versus-copy\n",
      "  from ipykernel import kernelapp as app\n"
     ]
    }
   ],
   "source": [
    "# Descritize MarkDown_Score\n",
    "df_MarkDown1[\"MarkDown_Score\"] = df_MarkDown1.apply(MarkDown1_Split)"
   ]
  },
  {
   "cell_type": "code",
   "execution_count": 9,
   "metadata": {
    "collapsed": false
   },
   "outputs": [
    {
     "name": "stdout",
     "output_type": "stream",
     "text": [
      "0    2\n",
      "1    2\n",
      "2    2\n",
      "3    2\n",
      "4    2\n",
      "Name: MarkDown1, dtype: int64\n"
     ]
    }
   ],
   "source": [
    "print (df_MarkDown1[\"MarkDown_Score\"].head())"
   ]
  },
  {
   "cell_type": "code",
   "execution_count": 10,
   "metadata": {
    "collapsed": false
   },
   "outputs": [],
   "source": [
    "#Drop none-float columns and the MarkDowns that would be used for prediction\n",
    "df.drop(['Store', 'Date', 'IsHoliday', 'Type', 'MarkDown1', 'MarkDown2', 'MarkDown3', 'MarkDown4', 'MarkDown5'], axis=1, inplace=True)"
   ]
  },
  {
   "cell_type": "markdown",
   "metadata": {},
   "source": [
    "As a training set, we would use all the values of our dataset apart from the last one. We select this training set with the [:-1] Python syntax, which produces a new array that contains all but the last entry of digits.data"
   ]
  },
  {
   "cell_type": "code",
   "execution_count": 11,
   "metadata": {
    "collapsed": false
   },
   "outputs": [
    {
     "data": {
      "text/plain": [
       "SVC(C=100.0, cache_size=200, class_weight=None, coef0=0.0,\n",
       "  decision_function_shape=None, degree=3, gamma=0.001, kernel='rbf',\n",
       "  max_iter=-1, probability=False, random_state=None, shrinking=True,\n",
       "  tol=0.001, verbose=False)"
      ]
     },
     "execution_count": 11,
     "metadata": {},
     "output_type": "execute_result"
    }
   ],
   "source": [
    "clf.fit(df[:-1], df_MarkDown1[\"MarkDown_Score\"][:-1])"
   ]
  },
  {
   "cell_type": "markdown",
   "metadata": {},
   "source": [
    "Now we can predict new values, in particular, we will ask to the classifier what is the value of our last data point in the retail dataset, which we have not used to train the classifier:"
   ]
  },
  {
   "cell_type": "code",
   "execution_count": 12,
   "metadata": {
    "collapsed": false
   },
   "outputs": [
    {
     "data": {
      "text/plain": [
       "array([1], dtype=int64)"
      ]
     },
     "execution_count": 12,
     "metadata": {},
     "output_type": "execute_result"
    }
   ],
   "source": [
    "clf.predict(df[-1:])"
   ]
  },
  {
   "cell_type": "markdown",
   "metadata": {},
   "source": [
    "This has equivalent of Low MarkDown1 Sale."
   ]
  },
  {
   "cell_type": "markdown",
   "metadata": {},
   "source": [
    "##### 8.0.1.1.2 Automatic Setting of Gamma¶\n",
    "It is possible to automatically find good values for the parameters. In order to do this, we will be using tools such as grid search and cross validation."
   ]
  },
  {
   "cell_type": "code",
   "execution_count": null,
   "metadata": {
    "collapsed": true
   },
   "outputs": [],
   "source": []
  }
 ],
 "metadata": {
  "kernelspec": {
   "display_name": "Python 3",
   "language": "python",
   "name": "python3"
  },
  "language_info": {
   "codemirror_mode": {
    "name": "ipython",
    "version": 3
   },
   "file_extension": ".py",
   "mimetype": "text/x-python",
   "name": "python",
   "nbconvert_exporter": "python",
   "pygments_lexer": "ipython3",
   "version": "3.6.0"
  }
 },
 "nbformat": 4,
 "nbformat_minor": 2
}
