{
 "cells": [
  {
   "cell_type": "markdown",
   "metadata": {},
   "source": [
    "This example is meant to illustrate situations where k-means will produce unintuitive and possibly unexpected clusters. In the first three plots, the input data does not conform to some implicit assumption that k-means makes and undesirable clusters are produced as a result. In the last plot, k-means returns intuitive clusters despite unevenly sized blobs."
   ]
  },
  {
   "cell_type": "code",
   "execution_count": 1,
   "metadata": {
    "collapsed": false
   },
   "outputs": [
    {
     "name": "stdout",
     "output_type": "stream",
     "text": [
      "Automatically created module for IPython interactive environment\n"
     ]
    }
   ],
   "source": [
    "print(__doc__)"
   ]
  },
  {
   "cell_type": "markdown",
   "metadata": {},
   "source": [
    "Import useful libraries"
   ]
  },
  {
   "cell_type": "code",
   "execution_count": 2,
   "metadata": {
    "collapsed": true
   },
   "outputs": [],
   "source": [
    "import numpy as np\n",
    "import pandas as pd\n",
    "import matplotlib.pyplot as plt\n",
    "\n",
    "from sklearn.cluster import KMeans\n",
    "from sklearn.datasets import make_blobs"
   ]
  },
  {
   "cell_type": "markdown",
   "metadata": {},
   "source": [
    "#### Data Import"
   ]
  },
  {
   "cell_type": "code",
   "execution_count": 3,
   "metadata": {
    "collapsed": false
   },
   "outputs": [],
   "source": [
    "# Read the file 'master_dataset.xlsx' into a DataFrame df using the read_xls() function.\n",
    "df = pd.read_excel('feature_data_class.xlsx', sheetname='Sheet1')"
   ]
  },
  {
   "cell_type": "code",
   "execution_count": 4,
   "metadata": {
    "collapsed": false
   },
   "outputs": [
    {
     "data": {
      "text/html": [
       "<div>\n",
       "<table border=\"1\" class=\"dataframe\">\n",
       "  <thead>\n",
       "    <tr style=\"text-align: right;\">\n",
       "      <th></th>\n",
       "      <th>Temperature</th>\n",
       "      <th>Fuel_Price</th>\n",
       "      <th>MarkDown1</th>\n",
       "      <th>MarkDown2</th>\n",
       "      <th>MarkDown3</th>\n",
       "      <th>MarkDown4</th>\n",
       "      <th>MarkDown5</th>\n",
       "      <th>CPI</th>\n",
       "      <th>Unemployment</th>\n",
       "      <th>Jewelry</th>\n",
       "      <th>...</th>\n",
       "      <th>Computer_Software</th>\n",
       "      <th>Books</th>\n",
       "      <th>Musical_Instruments</th>\n",
       "      <th>Star_Wars</th>\n",
       "      <th>Movies_TV</th>\n",
       "      <th>Video_Games</th>\n",
       "      <th>Portable_Audios</th>\n",
       "      <th>Cameras_Camcoders</th>\n",
       "      <th>Auto_Electronics</th>\n",
       "      <th>Wearable_Tech</th>\n",
       "    </tr>\n",
       "  </thead>\n",
       "  <tbody>\n",
       "    <tr>\n",
       "      <th>0</th>\n",
       "      <td>42.31</td>\n",
       "      <td>2.572</td>\n",
       "      <td>10382.9</td>\n",
       "      <td>6115.67</td>\n",
       "      <td>215.07</td>\n",
       "      <td>2406.62</td>\n",
       "      <td>6551.42</td>\n",
       "      <td>211.096358</td>\n",
       "      <td>8.106</td>\n",
       "      <td>20094.19</td>\n",
       "      <td>...</td>\n",
       "      <td>46866.41</td>\n",
       "      <td>73315.81</td>\n",
       "      <td>57022.45</td>\n",
       "      <td>118966.90</td>\n",
       "      <td>58034.24</td>\n",
       "      <td>56157.83</td>\n",
       "      <td>113009.41</td>\n",
       "      <td>27930.71</td>\n",
       "      <td>32954.82</td>\n",
       "      <td>10344.16</td>\n",
       "    </tr>\n",
       "    <tr>\n",
       "      <th>1</th>\n",
       "      <td>38.51</td>\n",
       "      <td>2.548</td>\n",
       "      <td>10382.9</td>\n",
       "      <td>6115.67</td>\n",
       "      <td>215.07</td>\n",
       "      <td>2406.62</td>\n",
       "      <td>6551.42</td>\n",
       "      <td>211.242170</td>\n",
       "      <td>8.106</td>\n",
       "      <td>57258.43</td>\n",
       "      <td>...</td>\n",
       "      <td>32893.64</td>\n",
       "      <td>77280.42</td>\n",
       "      <td>57845.36</td>\n",
       "      <td>126907.41</td>\n",
       "      <td>63245.00</td>\n",
       "      <td>66172.11</td>\n",
       "      <td>111466.37</td>\n",
       "      <td>5265.09</td>\n",
       "      <td>30149.20</td>\n",
       "      <td>14740.14</td>\n",
       "    </tr>\n",
       "    <tr>\n",
       "      <th>2</th>\n",
       "      <td>39.93</td>\n",
       "      <td>2.514</td>\n",
       "      <td>10382.9</td>\n",
       "      <td>6115.67</td>\n",
       "      <td>215.07</td>\n",
       "      <td>2406.62</td>\n",
       "      <td>6551.42</td>\n",
       "      <td>211.289143</td>\n",
       "      <td>8.106</td>\n",
       "      <td>16333.14</td>\n",
       "      <td>...</td>\n",
       "      <td>42866.79</td>\n",
       "      <td>78602.71</td>\n",
       "      <td>59462.22</td>\n",
       "      <td>122267.65</td>\n",
       "      <td>69962.56</td>\n",
       "      <td>62795.87</td>\n",
       "      <td>124821.44</td>\n",
       "      <td>5265.09</td>\n",
       "      <td>33726.13</td>\n",
       "      <td>10139.42</td>\n",
       "    </tr>\n",
       "    <tr>\n",
       "      <th>3</th>\n",
       "      <td>46.63</td>\n",
       "      <td>2.561</td>\n",
       "      <td>10382.9</td>\n",
       "      <td>6115.67</td>\n",
       "      <td>215.07</td>\n",
       "      <td>2406.62</td>\n",
       "      <td>6551.42</td>\n",
       "      <td>211.319643</td>\n",
       "      <td>8.106</td>\n",
       "      <td>41595.55</td>\n",
       "      <td>...</td>\n",
       "      <td>33593.80</td>\n",
       "      <td>76091.36</td>\n",
       "      <td>63011.44</td>\n",
       "      <td>135066.75</td>\n",
       "      <td>62581.64</td>\n",
       "      <td>72212.32</td>\n",
       "      <td>107952.07</td>\n",
       "      <td>28420.73</td>\n",
       "      <td>31585.78</td>\n",
       "      <td>12087.95</td>\n",
       "    </tr>\n",
       "    <tr>\n",
       "      <th>4</th>\n",
       "      <td>46.50</td>\n",
       "      <td>2.625</td>\n",
       "      <td>10382.9</td>\n",
       "      <td>6115.67</td>\n",
       "      <td>215.07</td>\n",
       "      <td>2406.62</td>\n",
       "      <td>6551.42</td>\n",
       "      <td>211.350143</td>\n",
       "      <td>8.106</td>\n",
       "      <td>19403.54</td>\n",
       "      <td>...</td>\n",
       "      <td>32299.49</td>\n",
       "      <td>71718.48</td>\n",
       "      <td>57335.17</td>\n",
       "      <td>125048.08</td>\n",
       "      <td>57630.02</td>\n",
       "      <td>55501.07</td>\n",
       "      <td>103652.58</td>\n",
       "      <td>28420.73</td>\n",
       "      <td>28457.31</td>\n",
       "      <td>10871.74</td>\n",
       "    </tr>\n",
       "  </tbody>\n",
       "</table>\n",
       "<p>5 rows × 89 columns</p>\n",
       "</div>"
      ],
      "text/plain": [
       "   Temperature  Fuel_Price  MarkDown1  MarkDown2  MarkDown3  MarkDown4  \\\n",
       "0        42.31       2.572    10382.9    6115.67     215.07    2406.62   \n",
       "1        38.51       2.548    10382.9    6115.67     215.07    2406.62   \n",
       "2        39.93       2.514    10382.9    6115.67     215.07    2406.62   \n",
       "3        46.63       2.561    10382.9    6115.67     215.07    2406.62   \n",
       "4        46.50       2.625    10382.9    6115.67     215.07    2406.62   \n",
       "\n",
       "   MarkDown5         CPI  Unemployment   Jewelry      ...        \\\n",
       "0    6551.42  211.096358         8.106  20094.19      ...         \n",
       "1    6551.42  211.242170         8.106  57258.43      ...         \n",
       "2    6551.42  211.289143         8.106  16333.14      ...         \n",
       "3    6551.42  211.319643         8.106  41595.55      ...         \n",
       "4    6551.42  211.350143         8.106  19403.54      ...         \n",
       "\n",
       "   Computer_Software     Books  Musical_Instruments  Star_Wars  Movies_TV  \\\n",
       "0           46866.41  73315.81             57022.45  118966.90   58034.24   \n",
       "1           32893.64  77280.42             57845.36  126907.41   63245.00   \n",
       "2           42866.79  78602.71             59462.22  122267.65   69962.56   \n",
       "3           33593.80  76091.36             63011.44  135066.75   62581.64   \n",
       "4           32299.49  71718.48             57335.17  125048.08   57630.02   \n",
       "\n",
       "   Video_Games  Portable_Audios  Cameras_Camcoders  Auto_Electronics  \\\n",
       "0     56157.83        113009.41           27930.71          32954.82   \n",
       "1     66172.11        111466.37            5265.09          30149.20   \n",
       "2     62795.87        124821.44            5265.09          33726.13   \n",
       "3     72212.32        107952.07           28420.73          31585.78   \n",
       "4     55501.07        103652.58           28420.73          28457.31   \n",
       "\n",
       "   Wearable_Tech  \n",
       "0       10344.16  \n",
       "1       14740.14  \n",
       "2       10139.42  \n",
       "3       12087.95  \n",
       "4       10871.74  \n",
       "\n",
       "[5 rows x 89 columns]"
      ]
     },
     "execution_count": 4,
     "metadata": {},
     "output_type": "execute_result"
    }
   ],
   "source": [
    "# Select the features and call the new dataframe 'feature_df'\n",
    "feature_df = df.iloc[:,2:91]\n",
    "feature_df.head()"
   ]
  },
  {
   "cell_type": "code",
   "execution_count": 5,
   "metadata": {
    "collapsed": false
   },
   "outputs": [
    {
     "data": {
      "text/plain": [
       "array([[  4.23100000e+01,   2.57200000e+00,   1.03829000e+04, ...,\n",
       "          2.79307100e+04,   3.29548200e+04,   1.03441600e+04],\n",
       "       [  3.85100000e+01,   2.54800000e+00,   1.03829000e+04, ...,\n",
       "          5.26509000e+03,   3.01492000e+04,   1.47401400e+04],\n",
       "       [  3.99300000e+01,   2.51400000e+00,   1.03829000e+04, ...,\n",
       "          5.26509000e+03,   3.37261300e+04,   1.01394200e+04],\n",
       "       ..., \n",
       "       [  7.93700000e+01,   3.61400000e+00,   3.78994000e+03, ...,\n",
       "          2.94000000e+00,   6.46332000e+03,   1.06102000e+03],\n",
       "       [  8.28400000e+01,   3.73700000e+00,   2.96149000e+03, ...,\n",
       "          2.94000000e+00,   6.46332000e+03,   1.06102000e+03],\n",
       "       [  7.60600000e+01,   3.80400000e+00,   2.12020000e+02, ...,\n",
       "          2.94000000e+00,   6.46332000e+03,   1.06102000e+03]])"
      ]
     },
     "execution_count": 5,
     "metadata": {},
     "output_type": "execute_result"
    }
   ],
   "source": [
    "# convert df_sales to numpy array\n",
    "# convert df['Type'] - the target to numpy array\n",
    "feature_df.values"
   ]
  },
  {
   "cell_type": "code",
   "execution_count": 6,
   "metadata": {
    "collapsed": false
   },
   "outputs": [
    {
     "data": {
      "text/plain": [
       "array([0, 0, 0, ..., 1, 1, 1], dtype=int64)"
      ]
     },
     "execution_count": 6,
     "metadata": {},
     "output_type": "execute_result"
    }
   ],
   "source": [
    "df['Typ_STAT'].values"
   ]
  },
  {
   "cell_type": "code",
   "execution_count": 7,
   "metadata": {
    "collapsed": true
   },
   "outputs": [],
   "source": [
    "# Assign X and y to the features and target data respectively\n",
    "X = feature_df.values\n",
    "y = df['Typ_STAT'].values"
   ]
  },
  {
   "cell_type": "markdown",
   "metadata": {},
   "source": [
    "#### Create Plots"
   ]
  },
  {
   "cell_type": "code",
   "execution_count": 8,
   "metadata": {
    "collapsed": false
   },
   "outputs": [
    {
     "data": {
      "text/plain": [
       "<matplotlib.figure.Figure at 0xb640080>"
      ]
     },
     "execution_count": 8,
     "metadata": {},
     "output_type": "execute_result"
    }
   ],
   "source": [
    "plt.figure(figsize=(12, 12))"
   ]
  },
  {
   "cell_type": "code",
   "execution_count": 10,
   "metadata": {
    "collapsed": false
   },
   "outputs": [],
   "source": [
    "# Incorrect number of clusters\n",
    "random_state = 170\n",
    "y_pred = KMeans(n_clusters=2, random_state=random_state).fit_predict(X)"
   ]
  },
  {
   "cell_type": "code",
   "execution_count": 11,
   "metadata": {
    "collapsed": false
   },
   "outputs": [
    {
     "data": {
      "text/plain": [
       "<matplotlib.text.Text at 0xe87eb38>"
      ]
     },
     "execution_count": 11,
     "metadata": {},
     "output_type": "execute_result"
    }
   ],
   "source": [
    "plt.subplot(221)\n",
    "plt.scatter(X[:, 0], X[:, 1], c=y_pred)\n",
    "plt.title(\"Incorrect Number of Blobs\")"
   ]
  },
  {
   "cell_type": "code",
   "execution_count": 17,
   "metadata": {
    "collapsed": false
   },
   "outputs": [
    {
     "ename": "ValueError",
     "evalue": "shapes (8190,89) and (1,1) not aligned: 89 (dim 1) != 1 (dim 0)",
     "output_type": "error",
     "traceback": [
      "\u001b[0;31m---------------------------------------------------------------------------\u001b[0m",
      "\u001b[0;31mValueError\u001b[0m                                Traceback (most recent call last)",
      "\u001b[0;32m<ipython-input-17-e320f0b71ee1>\u001b[0m in \u001b[0;36m<module>\u001b[0;34m()\u001b[0m\n\u001b[1;32m      1\u001b[0m \u001b[1;31m# Anisotropicly distributed data\u001b[0m\u001b[1;33m\u001b[0m\u001b[1;33m\u001b[0m\u001b[0m\n\u001b[1;32m      2\u001b[0m \u001b[0mtransformation\u001b[0m \u001b[1;33m=\u001b[0m \u001b[1;33m[\u001b[0m\u001b[1;33m[\u001b[0m\u001b[1;36m0.60834549\u001b[0m\u001b[1;33m]\u001b[0m\u001b[1;33m]\u001b[0m\u001b[1;33m\u001b[0m\u001b[0m\n\u001b[0;32m----> 3\u001b[0;31m \u001b[0mX_aniso\u001b[0m \u001b[1;33m=\u001b[0m \u001b[0mnp\u001b[0m\u001b[1;33m.\u001b[0m\u001b[0mdot\u001b[0m\u001b[1;33m(\u001b[0m\u001b[0mX\u001b[0m\u001b[1;33m,\u001b[0m \u001b[0mtransformation\u001b[0m\u001b[1;33m)\u001b[0m\u001b[1;33m\u001b[0m\u001b[0m\n\u001b[0m\u001b[1;32m      4\u001b[0m \u001b[0my_pred\u001b[0m \u001b[1;33m=\u001b[0m \u001b[0mKMeans\u001b[0m\u001b[1;33m(\u001b[0m\u001b[0mn_clusters\u001b[0m\u001b[1;33m=\u001b[0m\u001b[1;36m3\u001b[0m\u001b[1;33m,\u001b[0m \u001b[0mrandom_state\u001b[0m\u001b[1;33m=\u001b[0m\u001b[0mrandom_state\u001b[0m\u001b[1;33m)\u001b[0m\u001b[1;33m.\u001b[0m\u001b[0mfit_predict\u001b[0m\u001b[1;33m(\u001b[0m\u001b[0mX_aniso\u001b[0m\u001b[1;33m)\u001b[0m\u001b[1;33m\u001b[0m\u001b[0m\n\u001b[1;32m      5\u001b[0m \u001b[1;33m\u001b[0m\u001b[0m\n",
      "\u001b[0;31mValueError\u001b[0m: shapes (8190,89) and (1,1) not aligned: 89 (dim 1) != 1 (dim 0)"
     ]
    }
   ],
   "source": [
    "# Anisotropicly distributed data\n",
    "transformation = [[0.60834549]]\n",
    "X_aniso = np.dot(X, transformation)\n",
    "y_pred = KMeans(n_clusters=3, random_state=random_state).fit_predict(X_aniso)\n",
    "\n",
    "plt.subplot(222)\n",
    "plt.scatter(X_aniso[:, 0], X_aniso[:, 1], c=y_pred)\n",
    "plt.title(\"Anisotropicly Distributed Blobs\")"
   ]
  },
  {
   "cell_type": "code",
   "execution_count": 11,
   "metadata": {
    "collapsed": false
   },
   "outputs": [
    {
     "data": {
      "text/plain": [
       "MeanShift(bandwidth=84268.265872391261, bin_seeding=True, cluster_all=True,\n",
       "     min_bin_freq=1, n_jobs=1, seeds=None)"
      ]
     },
     "execution_count": 11,
     "metadata": {},
     "output_type": "execute_result"
    }
   ],
   "source": [
    "ms.fit(X)"
   ]
  },
  {
   "cell_type": "code",
   "execution_count": 12,
   "metadata": {
    "collapsed": true
   },
   "outputs": [],
   "source": [
    "labels = ms.labels_"
   ]
  },
  {
   "cell_type": "code",
   "execution_count": 13,
   "metadata": {
    "collapsed": true
   },
   "outputs": [],
   "source": [
    "cluster_centers = ms.cluster_centers_"
   ]
  },
  {
   "cell_type": "code",
   "execution_count": 14,
   "metadata": {
    "collapsed": true
   },
   "outputs": [],
   "source": [
    "labels_unique = np.unique(labels)"
   ]
  },
  {
   "cell_type": "code",
   "execution_count": 15,
   "metadata": {
    "collapsed": true
   },
   "outputs": [],
   "source": [
    "n_clusters_ = len(labels_unique)"
   ]
  },
  {
   "cell_type": "code",
   "execution_count": 16,
   "metadata": {
    "collapsed": false
   },
   "outputs": [
    {
     "name": "stdout",
     "output_type": "stream",
     "text": [
      "number of estimated clusters : 1\n"
     ]
    }
   ],
   "source": [
    "print(\"number of estimated clusters : %d\" % n_clusters_)"
   ]
  },
  {
   "cell_type": "code",
   "execution_count": 17,
   "metadata": {
    "collapsed": false
   },
   "outputs": [
    {
     "data": {
      "image/png": "[encoded data removed]",
      "text/plain": [
       "<matplotlib.figure.Figure at 0xa001780>"
      ]
     },
     "metadata": {},
     "output_type": "display_data"
    }
   ],
   "source": [
    "# #############################################################################\n",
    "# Plot result\n",
    "import matplotlib.pyplot as plt\n",
    "from itertools import cycle\n",
    "\n",
    "plt.figure(1)\n",
    "plt.clf()\n",
    "\n",
    "colors = cycle('bgrcmykbgrcmykbgrcmykbgrcmyk')\n",
    "for k, col in zip(range(n_clusters_), colors):\n",
    "    my_members = labels == k\n",
    "    cluster_center = cluster_centers[k]\n",
    "    plt.plot(X[my_members, 0], X[my_members, 1], col + '.')\n",
    "    plt.plot(cluster_center[0], cluster_center[1], 'o', markerfacecolor=col,\n",
    "             markeredgecolor='k', markersize=14)\n",
    "plt.title('Estimated number of clusters: %d' % n_clusters_)\n",
    "plt.show()"
   ]
  },
  {
   "cell_type": "code",
   "execution_count": null,
   "metadata": {
    "collapsed": true
   },
   "outputs": [],
   "source": []
  }
 ],
 "metadata": {
  "kernelspec": {
   "display_name": "Python 3",
   "language": "python",
   "name": "python3"
  },
  "language_info": {
   "codemirror_mode": {
    "name": "ipython",
    "version": 3
   },
   "file_extension": ".py",
   "mimetype": "text/x-python",
   "name": "python",
   "nbconvert_exporter": "python",
   "pygments_lexer": "ipython3",
   "version": "3.6.0"
  }
 },
 "nbformat": 4,
 "nbformat_minor": 2
}
